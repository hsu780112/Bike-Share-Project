{
 "cells": [
  {
   "cell_type": "markdown",
   "id": "8fe7c5eb-f1fe-4f10-925f-172a267fac2f",
   "metadata": {},
   "source": [
    "# (Re-sampled) Feature Engineering - Bike Share System in the SF Bay Area"
   ]
  },
  {
   "cell_type": "markdown",
   "id": "d1a56392-7140-494d-9d80-4d1f1c795ee6",
   "metadata": {},
   "source": [
    "Author: Owen Hsu"
   ]
  },
  {
   "cell_type": "markdown",
   "id": "260b3ea0-0f4b-4848-8e20-4719bf2aa6e9",
   "metadata": {},
   "source": [
    "**Note:**<br/>\n",
    "Due to the computational limitations of the local machine and Google Colab, I resampled the dataset for this project. We can consider fitting the original dataset in the future when sufficient computational resources are available. Please refer to the revised version titled \"(Re-sampled) Feature Engineering - Bike Share System in the SF Bay Area.\""
   ]
  },
  {
   "cell_type": "markdown",
   "id": "d01755aa-666c-43f5-85b9-8f675b7db8ce",
   "metadata": {},
   "source": [
    "## Table of content"
   ]
  },
  {
   "cell_type": "markdown",
   "id": "6d7a2f3f-fab2-4510-94fb-7aea456b8fe8",
   "metadata": {},
   "source": [
    "1. Feature Overview\n",
    "2. Loading and Setup\n",
    "3. Assessment\n",
    "4. Categorical Variables\n",
    "5. Scaling and Train/Test Split"
   ]
  },
  {
   "cell_type": "markdown",
   "id": "3bc155ce-a2c9-4e64-bb7c-1d8d00f6714d",
   "metadata": {},
   "source": [
    "## Feature Overview"
   ]
  },
  {
   "cell_type": "markdown",
   "id": "08f3b5c2-173e-44e2-b466-14bc74281239",
   "metadata": {},
   "source": [
    "| Columns                    | Description                                                        |\n",
    "|:---------------------------|:------------------------------------------------------------------:|\n",
    "| Time                       | Recorded Date and Time                                             |\n",
    "| Station ID                 | Station ID                                                         |\n",
    "| Dock Number                | The number of docks at the station                                 |\n",
    "| Mean Dew Point             | The average dew point of the date                                  |\n",
    "| Mean Humidity              | The average humidity of the date                                   |\n",
    "| Mean Sea Level Pressure    | The average sea level pressure of the date                         |\n",
    "| Mean Visibility            | The average visibility of the date                                 |\n",
    "| Mean Wind Speed            | The average wind speed of the date                                 |\n",
    "| Precipitation Inches       | Determine whether the date of each record has precipitation        |\n",
    "| Cloud Cover                | The fraction of the sky covered by clouds on given date            |\n",
    "| Zip Code                   | The zip code for the weather record                                |\n",
    "| Usage Rate Category        | Usage Rate Category of the station                                 |\n",
    "| Holiday                    | Determine whether the date of each record is a holiday or not      |\n",
    "| Weekend                    | Determine whether the date of each record is a weekend or not      |\n",
    "| Hour                       | Recorded Time (Hour)                                               |\n"
   ]
  },
  {
   "cell_type": "markdown",
   "id": "a4288420-586b-45ea-a7a0-cb26dad5d6d2",
   "metadata": {},
   "source": [
    "## Loading and Setup"
   ]
  },
  {
   "cell_type": "code",
   "execution_count": 1,
   "id": "e801bbfe-b97c-43a9-ac9c-e38f55512384",
   "metadata": {
    "tags": []
   },
   "outputs": [
    {
     "name": "stderr",
     "output_type": "stream",
     "text": [
      "/Users/chih-kanghsu/anaconda3/lib/python3.11/site-packages/pandas/core/arrays/masked.py:60: UserWarning: Pandas requires version '1.3.6' or newer of 'bottleneck' (version '1.3.5' currently installed).\n",
      "  from pandas.core import (\n"
     ]
    }
   ],
   "source": [
    "# Import necessary libraries\n",
    "import pandas as pd\n",
    "import numpy as np\n",
    "import matplotlib.pyplot as plt\n",
    "import seaborn as sns\n",
    "import scipy.stats as stats\n",
    "from sklearn.model_selection import train_test_split\n",
    "from sklearn.feature_selection import SelectKBest, chi2, f_classif\n",
    "from sklearn.preprocessing import OneHotEncoder, MinMaxScaler\n",
    "from sklearn.linear_model import LogisticRegression\n",
    "from sklearn.model_selection import cross_val_score, StratifiedKFold\n",
    "from sklearn.metrics import accuracy_score, confusion_matrix, classification_report\n",
    "from sklearn.svm import SVC\n",
    "from sklearn.ensemble import RandomForestClassifier\n",
    "from imblearn.over_sampling import SMOTE\n",
    "from sklearn.preprocessing import StandardScaler \n",
    "# Filter warnings\n",
    "from warnings import filterwarnings\n",
    "filterwarnings('ignore')"
   ]
  },
  {
   "cell_type": "code",
   "execution_count": 2,
   "id": "0bc51233-efc1-4b39-8a27-b80fd3b36230",
   "metadata": {
    "tags": []
   },
   "outputs": [],
   "source": [
    "# Load the dataset\n",
    "df = pd.read_parquet('data/BikeData_after_EDA.parquet')"
   ]
  },
  {
   "cell_type": "markdown",
   "id": "3ff4a72b-98d3-44a2-980e-6753a44da137",
   "metadata": {},
   "source": [
    "## Assessment"
   ]
  },
  {
   "cell_type": "code",
   "execution_count": 3,
   "id": "ba13733b-2f17-47a6-a89f-4edfaba49e07",
   "metadata": {
    "tags": []
   },
   "outputs": [],
   "source": [
    "# Set display options to show all columns and rows\n",
    "pd.set_option('display.max_columns', None)\n",
    "pd.set_option('display.max_rows', None)"
   ]
  },
  {
   "cell_type": "code",
   "execution_count": 4,
   "id": "71dcdeec-4b68-43d9-b8fa-1c6162978344",
   "metadata": {
    "tags": []
   },
   "outputs": [
    {
     "data": {
      "text/plain": [
       "(7337194, 15)"
      ]
     },
     "execution_count": 4,
     "metadata": {},
     "output_type": "execute_result"
    }
   ],
   "source": [
    "# Print the shape of the data\n",
    "df.shape"
   ]
  },
  {
   "cell_type": "code",
   "execution_count": 5,
   "id": "2886c845-2c43-4bd5-bd1d-10ccd67d8902",
   "metadata": {
    "tags": []
   },
   "outputs": [
    {
     "data": {
      "text/html": [
       "<div>\n",
       "<style scoped>\n",
       "    .dataframe tbody tr th:only-of-type {\n",
       "        vertical-align: middle;\n",
       "    }\n",
       "\n",
       "    .dataframe tbody tr th {\n",
       "        vertical-align: top;\n",
       "    }\n",
       "\n",
       "    .dataframe thead th {\n",
       "        text-align: right;\n",
       "    }\n",
       "</style>\n",
       "<table border=\"1\" class=\"dataframe\">\n",
       "  <thead>\n",
       "    <tr style=\"text-align: right;\">\n",
       "      <th></th>\n",
       "      <th>time</th>\n",
       "      <th>station_id</th>\n",
       "      <th>dock_count</th>\n",
       "      <th>mean_dew_point_f</th>\n",
       "      <th>mean_humidity</th>\n",
       "      <th>mean_sea_level_pressure_inches</th>\n",
       "      <th>mean_visibility_miles</th>\n",
       "      <th>mean_wind_speed_mph</th>\n",
       "      <th>precipitation_inches</th>\n",
       "      <th>cloud_cover</th>\n",
       "      <th>zip_code</th>\n",
       "      <th>usage_rate_category</th>\n",
       "      <th>weekend</th>\n",
       "      <th>holiday</th>\n",
       "      <th>hour</th>\n",
       "    </tr>\n",
       "  </thead>\n",
       "  <tbody>\n",
       "    <tr>\n",
       "      <th>0</th>\n",
       "      <td>2014-05-01 00:00:00</td>\n",
       "      <td>2</td>\n",
       "      <td>27</td>\n",
       "      <td>45.0</td>\n",
       "      <td>41.0</td>\n",
       "      <td>30.06</td>\n",
       "      <td>10.0</td>\n",
       "      <td>6.0</td>\n",
       "      <td>0</td>\n",
       "      <td>3.0</td>\n",
       "      <td>95113</td>\n",
       "      <td>Median</td>\n",
       "      <td>0</td>\n",
       "      <td>0</td>\n",
       "      <td>0</td>\n",
       "    </tr>\n",
       "    <tr>\n",
       "      <th>1</th>\n",
       "      <td>2014-05-01 00:05:00</td>\n",
       "      <td>2</td>\n",
       "      <td>27</td>\n",
       "      <td>45.0</td>\n",
       "      <td>41.0</td>\n",
       "      <td>30.06</td>\n",
       "      <td>10.0</td>\n",
       "      <td>6.0</td>\n",
       "      <td>0</td>\n",
       "      <td>3.0</td>\n",
       "      <td>95113</td>\n",
       "      <td>Median</td>\n",
       "      <td>0</td>\n",
       "      <td>0</td>\n",
       "      <td>0</td>\n",
       "    </tr>\n",
       "    <tr>\n",
       "      <th>2</th>\n",
       "      <td>2014-05-01 00:10:00</td>\n",
       "      <td>2</td>\n",
       "      <td>27</td>\n",
       "      <td>45.0</td>\n",
       "      <td>41.0</td>\n",
       "      <td>30.06</td>\n",
       "      <td>10.0</td>\n",
       "      <td>6.0</td>\n",
       "      <td>0</td>\n",
       "      <td>3.0</td>\n",
       "      <td>95113</td>\n",
       "      <td>Median</td>\n",
       "      <td>0</td>\n",
       "      <td>0</td>\n",
       "      <td>0</td>\n",
       "    </tr>\n",
       "    <tr>\n",
       "      <th>3</th>\n",
       "      <td>2014-05-01 00:15:00</td>\n",
       "      <td>2</td>\n",
       "      <td>27</td>\n",
       "      <td>45.0</td>\n",
       "      <td>41.0</td>\n",
       "      <td>30.06</td>\n",
       "      <td>10.0</td>\n",
       "      <td>6.0</td>\n",
       "      <td>0</td>\n",
       "      <td>3.0</td>\n",
       "      <td>95113</td>\n",
       "      <td>Median</td>\n",
       "      <td>0</td>\n",
       "      <td>0</td>\n",
       "      <td>0</td>\n",
       "    </tr>\n",
       "    <tr>\n",
       "      <th>4</th>\n",
       "      <td>2014-05-01 00:20:00</td>\n",
       "      <td>2</td>\n",
       "      <td>27</td>\n",
       "      <td>45.0</td>\n",
       "      <td>41.0</td>\n",
       "      <td>30.06</td>\n",
       "      <td>10.0</td>\n",
       "      <td>6.0</td>\n",
       "      <td>0</td>\n",
       "      <td>3.0</td>\n",
       "      <td>95113</td>\n",
       "      <td>Median</td>\n",
       "      <td>0</td>\n",
       "      <td>0</td>\n",
       "      <td>0</td>\n",
       "    </tr>\n",
       "  </tbody>\n",
       "</table>\n",
       "</div>"
      ],
      "text/plain": [
       "                 time  station_id  dock_count  mean_dew_point_f  \\\n",
       "0 2014-05-01 00:00:00           2          27              45.0   \n",
       "1 2014-05-01 00:05:00           2          27              45.0   \n",
       "2 2014-05-01 00:10:00           2          27              45.0   \n",
       "3 2014-05-01 00:15:00           2          27              45.0   \n",
       "4 2014-05-01 00:20:00           2          27              45.0   \n",
       "\n",
       "   mean_humidity  mean_sea_level_pressure_inches  mean_visibility_miles  \\\n",
       "0           41.0                           30.06                   10.0   \n",
       "1           41.0                           30.06                   10.0   \n",
       "2           41.0                           30.06                   10.0   \n",
       "3           41.0                           30.06                   10.0   \n",
       "4           41.0                           30.06                   10.0   \n",
       "\n",
       "   mean_wind_speed_mph  precipitation_inches  cloud_cover  zip_code  \\\n",
       "0                  6.0                     0          3.0     95113   \n",
       "1                  6.0                     0          3.0     95113   \n",
       "2                  6.0                     0          3.0     95113   \n",
       "3                  6.0                     0          3.0     95113   \n",
       "4                  6.0                     0          3.0     95113   \n",
       "\n",
       "  usage_rate_category  weekend  holiday  hour  \n",
       "0              Median        0        0     0  \n",
       "1              Median        0        0     0  \n",
       "2              Median        0        0     0  \n",
       "3              Median        0        0     0  \n",
       "4              Median        0        0     0  "
      ]
     },
     "execution_count": 5,
     "metadata": {},
     "output_type": "execute_result"
    }
   ],
   "source": [
    "# Look at the first 5 rows\n",
    "df.head()"
   ]
  },
  {
   "cell_type": "code",
   "execution_count": 6,
   "id": "2c5a9009-ff14-4987-9e38-89a538abe359",
   "metadata": {
    "tags": []
   },
   "outputs": [
    {
     "name": "stdout",
     "output_type": "stream",
     "text": [
      "<class 'pandas.core.frame.DataFrame'>\n",
      "RangeIndex: 7337194 entries, 0 to 7337193\n",
      "Data columns (total 15 columns):\n",
      " #   Column                          Dtype         \n",
      "---  ------                          -----         \n",
      " 0   time                            datetime64[ns]\n",
      " 1   station_id                      int64         \n",
      " 2   dock_count                      int64         \n",
      " 3   mean_dew_point_f                float64       \n",
      " 4   mean_humidity                   float64       \n",
      " 5   mean_sea_level_pressure_inches  float64       \n",
      " 6   mean_visibility_miles           float64       \n",
      " 7   mean_wind_speed_mph             float64       \n",
      " 8   precipitation_inches            int64         \n",
      " 9   cloud_cover                     float64       \n",
      " 10  zip_code                        int64         \n",
      " 11  usage_rate_category             object        \n",
      " 12  weekend                         int64         \n",
      " 13  holiday                         int64         \n",
      " 14  hour                            int32         \n",
      "dtypes: datetime64[ns](1), float64(6), int32(1), int64(6), object(1)\n",
      "memory usage: 811.7+ MB\n"
     ]
    }
   ],
   "source": [
    "# Get a quick overview of dataset variables\n",
    "df.info()"
   ]
  },
  {
   "cell_type": "code",
   "execution_count": 7,
   "id": "d545488d-8485-4b5d-a747-5c475de10887",
   "metadata": {
    "tags": []
   },
   "outputs": [
    {
     "data": {
      "text/plain": [
       "time                              0\n",
       "station_id                        0\n",
       "dock_count                        0\n",
       "mean_dew_point_f                  0\n",
       "mean_humidity                     0\n",
       "mean_sea_level_pressure_inches    0\n",
       "mean_visibility_miles             0\n",
       "mean_wind_speed_mph               0\n",
       "precipitation_inches              0\n",
       "cloud_cover                       0\n",
       "zip_code                          0\n",
       "usage_rate_category               0\n",
       "weekend                           0\n",
       "holiday                           0\n",
       "hour                              0\n",
       "dtype: int64"
      ]
     },
     "execution_count": 7,
     "metadata": {},
     "output_type": "execute_result"
    }
   ],
   "source": [
    "# Sanity check to make sure we don't have any NAs\n",
    "df.isna().sum()"
   ]
  },
  {
   "cell_type": "code",
   "execution_count": 8,
   "id": "c902c840-d080-45b9-ad47-9f14878e92bb",
   "metadata": {
    "tags": []
   },
   "outputs": [
    {
     "data": {
      "text/html": [
       "<div>\n",
       "<style scoped>\n",
       "    .dataframe tbody tr th:only-of-type {\n",
       "        vertical-align: middle;\n",
       "    }\n",
       "\n",
       "    .dataframe tbody tr th {\n",
       "        vertical-align: top;\n",
       "    }\n",
       "\n",
       "    .dataframe thead th {\n",
       "        text-align: right;\n",
       "    }\n",
       "</style>\n",
       "<table border=\"1\" class=\"dataframe\">\n",
       "  <thead>\n",
       "    <tr style=\"text-align: right;\">\n",
       "      <th></th>\n",
       "      <th>time</th>\n",
       "      <th>station_id</th>\n",
       "      <th>dock_count</th>\n",
       "      <th>mean_dew_point_f</th>\n",
       "      <th>mean_humidity</th>\n",
       "      <th>mean_sea_level_pressure_inches</th>\n",
       "      <th>mean_visibility_miles</th>\n",
       "      <th>mean_wind_speed_mph</th>\n",
       "      <th>precipitation_inches</th>\n",
       "      <th>cloud_cover</th>\n",
       "      <th>zip_code</th>\n",
       "      <th>weekend</th>\n",
       "      <th>holiday</th>\n",
       "      <th>hour</th>\n",
       "    </tr>\n",
       "  </thead>\n",
       "  <tbody>\n",
       "    <tr>\n",
       "      <th>count</th>\n",
       "      <td>7337194</td>\n",
       "      <td>7.337194e+06</td>\n",
       "      <td>7.337194e+06</td>\n",
       "      <td>7.337194e+06</td>\n",
       "      <td>7.337194e+06</td>\n",
       "      <td>7.337194e+06</td>\n",
       "      <td>7.337194e+06</td>\n",
       "      <td>7.337194e+06</td>\n",
       "      <td>7.337194e+06</td>\n",
       "      <td>7.337194e+06</td>\n",
       "      <td>7.337194e+06</td>\n",
       "      <td>7.337194e+06</td>\n",
       "      <td>7.337194e+06</td>\n",
       "      <td>7.337194e+06</td>\n",
       "    </tr>\n",
       "    <tr>\n",
       "      <th>mean</th>\n",
       "      <td>2014-10-30 13:33:29.071412224</td>\n",
       "      <td>4.299356e+01</td>\n",
       "      <td>1.765689e+01</td>\n",
       "      <td>4.968303e+01</td>\n",
       "      <td>6.859634e+01</td>\n",
       "      <td>3.001985e+01</td>\n",
       "      <td>9.598144e+00</td>\n",
       "      <td>6.647163e+00</td>\n",
       "      <td>1.599805e-01</td>\n",
       "      <td>3.262926e+00</td>\n",
       "      <td>9.433987e+04</td>\n",
       "      <td>2.853681e-01</td>\n",
       "      <td>2.747494e-02</td>\n",
       "      <td>1.150000e+01</td>\n",
       "    </tr>\n",
       "    <tr>\n",
       "      <th>min</th>\n",
       "      <td>2014-05-01 00:00:00</td>\n",
       "      <td>2.000000e+00</td>\n",
       "      <td>1.100000e+01</td>\n",
       "      <td>1.300000e+01</td>\n",
       "      <td>2.400000e+01</td>\n",
       "      <td>2.963000e+01</td>\n",
       "      <td>4.000000e+00</td>\n",
       "      <td>0.000000e+00</td>\n",
       "      <td>0.000000e+00</td>\n",
       "      <td>0.000000e+00</td>\n",
       "      <td>9.404100e+04</td>\n",
       "      <td>0.000000e+00</td>\n",
       "      <td>0.000000e+00</td>\n",
       "      <td>0.000000e+00</td>\n",
       "    </tr>\n",
       "    <tr>\n",
       "      <th>25%</th>\n",
       "      <td>2014-07-31 01:55:00</td>\n",
       "      <td>2.400000e+01</td>\n",
       "      <td>1.500000e+01</td>\n",
       "      <td>4.600000e+01</td>\n",
       "      <td>6.300000e+01</td>\n",
       "      <td>2.993000e+01</td>\n",
       "      <td>1.000000e+01</td>\n",
       "      <td>4.000000e+00</td>\n",
       "      <td>0.000000e+00</td>\n",
       "      <td>1.000000e+00</td>\n",
       "      <td>9.410700e+04</td>\n",
       "      <td>0.000000e+00</td>\n",
       "      <td>0.000000e+00</td>\n",
       "      <td>6.000000e+00</td>\n",
       "    </tr>\n",
       "    <tr>\n",
       "      <th>50%</th>\n",
       "      <td>2014-10-30 20:45:00</td>\n",
       "      <td>4.200000e+01</td>\n",
       "      <td>1.500000e+01</td>\n",
       "      <td>5.000000e+01</td>\n",
       "      <td>6.900000e+01</td>\n",
       "      <td>3.000000e+01</td>\n",
       "      <td>1.000000e+01</td>\n",
       "      <td>6.000000e+00</td>\n",
       "      <td>0.000000e+00</td>\n",
       "      <td>3.000000e+00</td>\n",
       "      <td>9.410700e+04</td>\n",
       "      <td>0.000000e+00</td>\n",
       "      <td>0.000000e+00</td>\n",
       "      <td>1.100000e+01</td>\n",
       "    </tr>\n",
       "    <tr>\n",
       "      <th>75%</th>\n",
       "      <td>2015-01-29 20:30:00</td>\n",
       "      <td>6.400000e+01</td>\n",
       "      <td>1.900000e+01</td>\n",
       "      <td>5.500000e+01</td>\n",
       "      <td>7.500000e+01</td>\n",
       "      <td>3.011000e+01</td>\n",
       "      <td>1.000000e+01</td>\n",
       "      <td>9.000000e+00</td>\n",
       "      <td>0.000000e+00</td>\n",
       "      <td>5.000000e+00</td>\n",
       "      <td>9.430100e+04</td>\n",
       "      <td>1.000000e+00</td>\n",
       "      <td>0.000000e+00</td>\n",
       "      <td>1.700000e+01</td>\n",
       "    </tr>\n",
       "    <tr>\n",
       "      <th>max</th>\n",
       "      <td>2015-04-30 23:55:00</td>\n",
       "      <td>8.400000e+01</td>\n",
       "      <td>2.700000e+01</td>\n",
       "      <td>6.500000e+01</td>\n",
       "      <td>9.600000e+01</td>\n",
       "      <td>3.041000e+01</td>\n",
       "      <td>2.000000e+01</td>\n",
       "      <td>2.300000e+01</td>\n",
       "      <td>1.000000e+00</td>\n",
       "      <td>8.000000e+00</td>\n",
       "      <td>9.511300e+04</td>\n",
       "      <td>1.000000e+00</td>\n",
       "      <td>1.000000e+00</td>\n",
       "      <td>2.300000e+01</td>\n",
       "    </tr>\n",
       "    <tr>\n",
       "      <th>std</th>\n",
       "      <td>NaN</td>\n",
       "      <td>2.399402e+01</td>\n",
       "      <td>3.982221e+00</td>\n",
       "      <td>6.848807e+00</td>\n",
       "      <td>1.073235e+01</td>\n",
       "      <td>1.291384e-01</td>\n",
       "      <td>1.313508e+00</td>\n",
       "      <td>3.303102e+00</td>\n",
       "      <td>3.665880e-01</td>\n",
       "      <td>2.229327e+00</td>\n",
       "      <td>4.248337e+02</td>\n",
       "      <td>4.515896e-01</td>\n",
       "      <td>1.634628e-01</td>\n",
       "      <td>6.920271e+00</td>\n",
       "    </tr>\n",
       "  </tbody>\n",
       "</table>\n",
       "</div>"
      ],
      "text/plain": [
       "                                time    station_id    dock_count  \\\n",
       "count                        7337194  7.337194e+06  7.337194e+06   \n",
       "mean   2014-10-30 13:33:29.071412224  4.299356e+01  1.765689e+01   \n",
       "min              2014-05-01 00:00:00  2.000000e+00  1.100000e+01   \n",
       "25%              2014-07-31 01:55:00  2.400000e+01  1.500000e+01   \n",
       "50%              2014-10-30 20:45:00  4.200000e+01  1.500000e+01   \n",
       "75%              2015-01-29 20:30:00  6.400000e+01  1.900000e+01   \n",
       "max              2015-04-30 23:55:00  8.400000e+01  2.700000e+01   \n",
       "std                              NaN  2.399402e+01  3.982221e+00   \n",
       "\n",
       "       mean_dew_point_f  mean_humidity  mean_sea_level_pressure_inches  \\\n",
       "count      7.337194e+06   7.337194e+06                    7.337194e+06   \n",
       "mean       4.968303e+01   6.859634e+01                    3.001985e+01   \n",
       "min        1.300000e+01   2.400000e+01                    2.963000e+01   \n",
       "25%        4.600000e+01   6.300000e+01                    2.993000e+01   \n",
       "50%        5.000000e+01   6.900000e+01                    3.000000e+01   \n",
       "75%        5.500000e+01   7.500000e+01                    3.011000e+01   \n",
       "max        6.500000e+01   9.600000e+01                    3.041000e+01   \n",
       "std        6.848807e+00   1.073235e+01                    1.291384e-01   \n",
       "\n",
       "       mean_visibility_miles  mean_wind_speed_mph  precipitation_inches  \\\n",
       "count           7.337194e+06         7.337194e+06          7.337194e+06   \n",
       "mean            9.598144e+00         6.647163e+00          1.599805e-01   \n",
       "min             4.000000e+00         0.000000e+00          0.000000e+00   \n",
       "25%             1.000000e+01         4.000000e+00          0.000000e+00   \n",
       "50%             1.000000e+01         6.000000e+00          0.000000e+00   \n",
       "75%             1.000000e+01         9.000000e+00          0.000000e+00   \n",
       "max             2.000000e+01         2.300000e+01          1.000000e+00   \n",
       "std             1.313508e+00         3.303102e+00          3.665880e-01   \n",
       "\n",
       "        cloud_cover      zip_code       weekend       holiday          hour  \n",
       "count  7.337194e+06  7.337194e+06  7.337194e+06  7.337194e+06  7.337194e+06  \n",
       "mean   3.262926e+00  9.433987e+04  2.853681e-01  2.747494e-02  1.150000e+01  \n",
       "min    0.000000e+00  9.404100e+04  0.000000e+00  0.000000e+00  0.000000e+00  \n",
       "25%    1.000000e+00  9.410700e+04  0.000000e+00  0.000000e+00  6.000000e+00  \n",
       "50%    3.000000e+00  9.410700e+04  0.000000e+00  0.000000e+00  1.100000e+01  \n",
       "75%    5.000000e+00  9.430100e+04  1.000000e+00  0.000000e+00  1.700000e+01  \n",
       "max    8.000000e+00  9.511300e+04  1.000000e+00  1.000000e+00  2.300000e+01  \n",
       "std    2.229327e+00  4.248337e+02  4.515896e-01  1.634628e-01  6.920271e+00  "
      ]
     },
     "execution_count": 8,
     "metadata": {},
     "output_type": "execute_result"
    }
   ],
   "source": [
    "# Get a statistical summary of the dataset\n",
    "df.describe()"
   ]
  },
  {
   "cell_type": "markdown",
   "id": "88470cad-6b48-4398-a5c7-dae679389093",
   "metadata": {},
   "source": [
    "#### Numerical Features"
   ]
  },
  {
   "cell_type": "code",
   "execution_count": 9,
   "id": "03876153-9a15-4ecc-a6c4-d02a67fec03d",
   "metadata": {
    "tags": []
   },
   "outputs": [
    {
     "data": {
      "text/plain": [
       "['station_id',\n",
       " 'dock_count',\n",
       " 'mean_dew_point_f',\n",
       " 'mean_humidity',\n",
       " 'mean_sea_level_pressure_inches',\n",
       " 'mean_visibility_miles',\n",
       " 'mean_wind_speed_mph',\n",
       " 'precipitation_inches',\n",
       " 'cloud_cover',\n",
       " 'zip_code',\n",
       " 'weekend',\n",
       " 'holiday',\n",
       " 'hour']"
      ]
     },
     "execution_count": 9,
     "metadata": {},
     "output_type": "execute_result"
    }
   ],
   "source": [
    "# Identify the numerical columns\n",
    "num_cols = df.select_dtypes(include=['number']).columns.tolist()\n",
    "\n",
    "# Show the list of numerical columns\n",
    "num_cols"
   ]
  },
  {
   "cell_type": "code",
   "execution_count": 10,
   "id": "78a6941a-ef93-4b42-89f7-59d739988937",
   "metadata": {
    "tags": []
   },
   "outputs": [
    {
     "name": "stdout",
     "output_type": "stream",
     "text": [
      "Number of numerical columns: 13\n"
     ]
    }
   ],
   "source": [
    "# Count the number of numerical columns\n",
    "print(f'Number of numerical columns: {len(num_cols)}')"
   ]
  },
  {
   "cell_type": "markdown",
   "id": "9d46f862-cbcd-4748-96c2-dacd2f30886c",
   "metadata": {},
   "source": [
    "#### Categorical Features"
   ]
  },
  {
   "cell_type": "code",
   "execution_count": 11,
   "id": "3373b57d-5f2c-453f-b97e-f4078d305639",
   "metadata": {
    "tags": []
   },
   "outputs": [
    {
     "data": {
      "text/plain": [
       "['usage_rate_category']"
      ]
     },
     "execution_count": 11,
     "metadata": {},
     "output_type": "execute_result"
    }
   ],
   "source": [
    "# Identify the categorical columns\n",
    "cate_cols = df.select_dtypes(include='object').columns.tolist()\n",
    "\n",
    "# Show the list of categorical columns\n",
    "cate_cols"
   ]
  },
  {
   "cell_type": "code",
   "execution_count": 12,
   "id": "14cfe273-5c75-4365-ac4a-7bdf8110c641",
   "metadata": {
    "tags": []
   },
   "outputs": [
    {
     "name": "stdout",
     "output_type": "stream",
     "text": [
      "Number of numerical columns: 1\n"
     ]
    }
   ],
   "source": [
    "# Count the number of categorical columns\n",
    "print(f'Number of numerical columns: {len(cate_cols)}')"
   ]
  },
  {
   "cell_type": "markdown",
   "id": "f60dadc1-8479-4613-9731-b47d338dc909",
   "metadata": {},
   "source": [
    "#### Datetime Features"
   ]
  },
  {
   "cell_type": "code",
   "execution_count": 13,
   "id": "061eaa0b-3abe-4dff-a0e7-3ea3d7c80475",
   "metadata": {
    "tags": []
   },
   "outputs": [
    {
     "data": {
      "text/plain": [
       "['time']"
      ]
     },
     "execution_count": 13,
     "metadata": {},
     "output_type": "execute_result"
    }
   ],
   "source": [
    "# Identify the datetime columns\n",
    "dat_cols = df.select_dtypes(include=['datetime']).columns.tolist()\n",
    "\n",
    "# Show the list of numerical columns\n",
    "dat_cols"
   ]
  },
  {
   "cell_type": "code",
   "execution_count": 14,
   "id": "7c9e843d-751d-45bb-8e61-74efa97cef2f",
   "metadata": {
    "tags": []
   },
   "outputs": [
    {
     "name": "stdout",
     "output_type": "stream",
     "text": [
      "Number of datetime columns: 1\n"
     ]
    }
   ],
   "source": [
    "# Count the number of datetime columns\n",
    "print(f'Number of datetime columns: {len(dat_cols)}')"
   ]
  },
  {
   "cell_type": "markdown",
   "id": "d39b0f4a-89f5-4ed5-9fdc-2212790f3709",
   "metadata": {},
   "source": [
    "## Categorical Variables"
   ]
  },
  {
   "cell_type": "markdown",
   "id": "86d7d863-dbc2-4ad8-8347-09d18ec0ca9c",
   "metadata": {},
   "source": [
    "#### Mapping the target variable to numerical values"
   ]
  },
  {
   "cell_type": "markdown",
   "id": "72f82f0b-951d-4c6d-8d90-3b85d0a7ce9b",
   "metadata": {},
   "source": [
    "We only have one categorical variable in our dataset. Let's proceed with manually encoding this variable."
   ]
  },
  {
   "cell_type": "code",
   "execution_count": 15,
   "id": "faa81622-7ad7-4fb2-b8ad-497824a0c626",
   "metadata": {
    "tags": []
   },
   "outputs": [
    {
     "data": {
      "text/plain": [
       "array(['Median', 'High', 'Low'], dtype=object)"
      ]
     },
     "execution_count": 15,
     "metadata": {},
     "output_type": "execute_result"
    }
   ],
   "source": [
    "# Get the unique values in the 'usage_rate_category' column\n",
    "df['usage_rate_category'].unique()"
   ]
  },
  {
   "cell_type": "markdown",
   "id": "b977bce4-5dc7-43e3-82f3-a3f77a3dd9bf",
   "metadata": {},
   "source": [
    "We will convert column 'usage_rate_category' into a numerical one, where 1 represents low usage, 2 represents median usage, and 3 represents high usage."
   ]
  },
  {
   "cell_type": "code",
   "execution_count": 16,
   "id": "626534d2-fce1-47e7-90e7-7f00e0c18693",
   "metadata": {
    "tags": []
   },
   "outputs": [
    {
     "data": {
      "text/html": [
       "<div>\n",
       "<style scoped>\n",
       "    .dataframe tbody tr th:only-of-type {\n",
       "        vertical-align: middle;\n",
       "    }\n",
       "\n",
       "    .dataframe tbody tr th {\n",
       "        vertical-align: top;\n",
       "    }\n",
       "\n",
       "    .dataframe thead th {\n",
       "        text-align: right;\n",
       "    }\n",
       "</style>\n",
       "<table border=\"1\" class=\"dataframe\">\n",
       "  <thead>\n",
       "    <tr style=\"text-align: right;\">\n",
       "      <th></th>\n",
       "      <th>time</th>\n",
       "      <th>station_id</th>\n",
       "      <th>dock_count</th>\n",
       "      <th>mean_dew_point_f</th>\n",
       "      <th>mean_humidity</th>\n",
       "      <th>mean_sea_level_pressure_inches</th>\n",
       "      <th>mean_visibility_miles</th>\n",
       "      <th>mean_wind_speed_mph</th>\n",
       "      <th>precipitation_inches</th>\n",
       "      <th>cloud_cover</th>\n",
       "      <th>zip_code</th>\n",
       "      <th>usage_rate_category</th>\n",
       "      <th>weekend</th>\n",
       "      <th>holiday</th>\n",
       "      <th>hour</th>\n",
       "    </tr>\n",
       "  </thead>\n",
       "  <tbody>\n",
       "    <tr>\n",
       "      <th>756310</th>\n",
       "      <td>2014-10-12 12:25:00</td>\n",
       "      <td>80</td>\n",
       "      <td>15</td>\n",
       "      <td>43.0</td>\n",
       "      <td>53.0</td>\n",
       "      <td>29.94</td>\n",
       "      <td>10.0</td>\n",
       "      <td>5.0</td>\n",
       "      <td>0</td>\n",
       "      <td>0.0</td>\n",
       "      <td>95113</td>\n",
       "      <td>1</td>\n",
       "      <td>1</td>\n",
       "      <td>0</td>\n",
       "      <td>12</td>\n",
       "    </tr>\n",
       "    <tr>\n",
       "      <th>5188609</th>\n",
       "      <td>2014-09-29 12:50:00</td>\n",
       "      <td>67</td>\n",
       "      <td>27</td>\n",
       "      <td>56.0</td>\n",
       "      <td>77.0</td>\n",
       "      <td>29.99</td>\n",
       "      <td>10.0</td>\n",
       "      <td>8.0</td>\n",
       "      <td>0</td>\n",
       "      <td>5.0</td>\n",
       "      <td>94107</td>\n",
       "      <td>1</td>\n",
       "      <td>0</td>\n",
       "      <td>0</td>\n",
       "      <td>12</td>\n",
       "    </tr>\n",
       "    <tr>\n",
       "      <th>123711</th>\n",
       "      <td>2014-05-27 13:15:00</td>\n",
       "      <td>16</td>\n",
       "      <td>15</td>\n",
       "      <td>46.0</td>\n",
       "      <td>59.0</td>\n",
       "      <td>30.03</td>\n",
       "      <td>10.0</td>\n",
       "      <td>8.0</td>\n",
       "      <td>0</td>\n",
       "      <td>0.0</td>\n",
       "      <td>95113</td>\n",
       "      <td>1</td>\n",
       "      <td>0</td>\n",
       "      <td>0</td>\n",
       "      <td>13</td>\n",
       "    </tr>\n",
       "    <tr>\n",
       "      <th>5001871</th>\n",
       "      <td>2014-09-10 06:45:00</td>\n",
       "      <td>57</td>\n",
       "      <td>15</td>\n",
       "      <td>56.0</td>\n",
       "      <td>66.0</td>\n",
       "      <td>29.90</td>\n",
       "      <td>9.0</td>\n",
       "      <td>5.0</td>\n",
       "      <td>0</td>\n",
       "      <td>1.0</td>\n",
       "      <td>94107</td>\n",
       "      <td>0</td>\n",
       "      <td>0</td>\n",
       "      <td>0</td>\n",
       "      <td>6</td>\n",
       "    </tr>\n",
       "    <tr>\n",
       "      <th>2518889</th>\n",
       "      <td>2014-06-23 12:05:00</td>\n",
       "      <td>28</td>\n",
       "      <td>23</td>\n",
       "      <td>52.0</td>\n",
       "      <td>68.0</td>\n",
       "      <td>29.96</td>\n",
       "      <td>10.0</td>\n",
       "      <td>7.0</td>\n",
       "      <td>0</td>\n",
       "      <td>2.0</td>\n",
       "      <td>94041</td>\n",
       "      <td>1</td>\n",
       "      <td>0</td>\n",
       "      <td>0</td>\n",
       "      <td>12</td>\n",
       "    </tr>\n",
       "    <tr>\n",
       "      <th>3903372</th>\n",
       "      <td>2014-05-24 13:20:00</td>\n",
       "      <td>50</td>\n",
       "      <td>23</td>\n",
       "      <td>51.0</td>\n",
       "      <td>71.0</td>\n",
       "      <td>29.99</td>\n",
       "      <td>10.0</td>\n",
       "      <td>10.0</td>\n",
       "      <td>0</td>\n",
       "      <td>3.0</td>\n",
       "      <td>94107</td>\n",
       "      <td>1</td>\n",
       "      <td>1</td>\n",
       "      <td>0</td>\n",
       "      <td>13</td>\n",
       "    </tr>\n",
       "    <tr>\n",
       "      <th>177950</th>\n",
       "      <td>2014-06-08 21:10:00</td>\n",
       "      <td>11</td>\n",
       "      <td>19</td>\n",
       "      <td>53.0</td>\n",
       "      <td>55.0</td>\n",
       "      <td>29.77</td>\n",
       "      <td>10.0</td>\n",
       "      <td>5.0</td>\n",
       "      <td>0</td>\n",
       "      <td>0.0</td>\n",
       "      <td>95113</td>\n",
       "      <td>0</td>\n",
       "      <td>1</td>\n",
       "      <td>0</td>\n",
       "      <td>21</td>\n",
       "    </tr>\n",
       "    <tr>\n",
       "      <th>2485491</th>\n",
       "      <td>2014-06-06 12:55:00</td>\n",
       "      <td>31</td>\n",
       "      <td>15</td>\n",
       "      <td>54.0</td>\n",
       "      <td>70.0</td>\n",
       "      <td>29.84</td>\n",
       "      <td>10.0</td>\n",
       "      <td>7.0</td>\n",
       "      <td>0</td>\n",
       "      <td>2.0</td>\n",
       "      <td>94041</td>\n",
       "      <td>1</td>\n",
       "      <td>0</td>\n",
       "      <td>0</td>\n",
       "      <td>12</td>\n",
       "    </tr>\n",
       "    <tr>\n",
       "      <th>3108476</th>\n",
       "      <td>2015-04-12 10:35:00</td>\n",
       "      <td>30</td>\n",
       "      <td>15</td>\n",
       "      <td>47.0</td>\n",
       "      <td>58.0</td>\n",
       "      <td>30.03</td>\n",
       "      <td>10.0</td>\n",
       "      <td>5.0</td>\n",
       "      <td>0</td>\n",
       "      <td>0.0</td>\n",
       "      <td>94041</td>\n",
       "      <td>1</td>\n",
       "      <td>1</td>\n",
       "      <td>0</td>\n",
       "      <td>10</td>\n",
       "    </tr>\n",
       "    <tr>\n",
       "      <th>2459067</th>\n",
       "      <td>2014-05-24 18:55:00</td>\n",
       "      <td>30</td>\n",
       "      <td>15</td>\n",
       "      <td>53.0</td>\n",
       "      <td>73.0</td>\n",
       "      <td>29.99</td>\n",
       "      <td>10.0</td>\n",
       "      <td>8.0</td>\n",
       "      <td>0</td>\n",
       "      <td>0.0</td>\n",
       "      <td>94041</td>\n",
       "      <td>1</td>\n",
       "      <td>1</td>\n",
       "      <td>0</td>\n",
       "      <td>18</td>\n",
       "    </tr>\n",
       "  </tbody>\n",
       "</table>\n",
       "</div>"
      ],
      "text/plain": [
       "                       time  station_id  dock_count  mean_dew_point_f  \\\n",
       "756310  2014-10-12 12:25:00          80          15              43.0   \n",
       "5188609 2014-09-29 12:50:00          67          27              56.0   \n",
       "123711  2014-05-27 13:15:00          16          15              46.0   \n",
       "5001871 2014-09-10 06:45:00          57          15              56.0   \n",
       "2518889 2014-06-23 12:05:00          28          23              52.0   \n",
       "3903372 2014-05-24 13:20:00          50          23              51.0   \n",
       "177950  2014-06-08 21:10:00          11          19              53.0   \n",
       "2485491 2014-06-06 12:55:00          31          15              54.0   \n",
       "3108476 2015-04-12 10:35:00          30          15              47.0   \n",
       "2459067 2014-05-24 18:55:00          30          15              53.0   \n",
       "\n",
       "         mean_humidity  mean_sea_level_pressure_inches  mean_visibility_miles  \\\n",
       "756310            53.0                           29.94                   10.0   \n",
       "5188609           77.0                           29.99                   10.0   \n",
       "123711            59.0                           30.03                   10.0   \n",
       "5001871           66.0                           29.90                    9.0   \n",
       "2518889           68.0                           29.96                   10.0   \n",
       "3903372           71.0                           29.99                   10.0   \n",
       "177950            55.0                           29.77                   10.0   \n",
       "2485491           70.0                           29.84                   10.0   \n",
       "3108476           58.0                           30.03                   10.0   \n",
       "2459067           73.0                           29.99                   10.0   \n",
       "\n",
       "         mean_wind_speed_mph  precipitation_inches  cloud_cover  zip_code  \\\n",
       "756310                   5.0                     0          0.0     95113   \n",
       "5188609                  8.0                     0          5.0     94107   \n",
       "123711                   8.0                     0          0.0     95113   \n",
       "5001871                  5.0                     0          1.0     94107   \n",
       "2518889                  7.0                     0          2.0     94041   \n",
       "3903372                 10.0                     0          3.0     94107   \n",
       "177950                   5.0                     0          0.0     95113   \n",
       "2485491                  7.0                     0          2.0     94041   \n",
       "3108476                  5.0                     0          0.0     94041   \n",
       "2459067                  8.0                     0          0.0     94041   \n",
       "\n",
       "         usage_rate_category  weekend  holiday  hour  \n",
       "756310                     1        1        0    12  \n",
       "5188609                    1        0        0    12  \n",
       "123711                     1        0        0    13  \n",
       "5001871                    0        0        0     6  \n",
       "2518889                    1        0        0    12  \n",
       "3903372                    1        1        0    13  \n",
       "177950                     0        1        0    21  \n",
       "2485491                    1        0        0    12  \n",
       "3108476                    1        1        0    10  \n",
       "2459067                    1        1        0    18  "
      ]
     },
     "execution_count": 16,
     "metadata": {},
     "output_type": "execute_result"
    }
   ],
   "source": [
    "# Convert the 'usage_rate_category' column to a numerical one\n",
    "df['usage_rate_category'] = df['usage_rate_category'].replace({'Low': 0, 'Median': 1, 'High': 2}).astype(int)\n",
    "\n",
    "# Verify the conversion\n",
    "df.sample(10)"
   ]
  },
  {
   "cell_type": "code",
   "execution_count": 17,
   "id": "7e5987d9-6fc0-4de8-9c68-2cb872454684",
   "metadata": {
    "tags": []
   },
   "outputs": [
    {
     "data": {
      "text/plain": [
       "Index([], dtype='object')"
      ]
     },
     "execution_count": 17,
     "metadata": {},
     "output_type": "execute_result"
    }
   ],
   "source": [
    "# Verify if there is any remaining categorical columns in the dataset\n",
    "df.select_dtypes(['object']).columns"
   ]
  },
  {
   "cell_type": "markdown",
   "id": "9b68ea94-1f8f-4c49-bd47-fad157a71f08",
   "metadata": {},
   "source": [
    "## Datetime Variables"
   ]
  },
  {
   "cell_type": "markdown",
   "id": "bcbe8613-342f-4c7f-96fb-2d8d7a78ac81",
   "metadata": {},
   "source": [
    "#### Extracting datetime variables"
   ]
  },
  {
   "cell_type": "markdown",
   "id": "569e386a-1b8a-4815-8a7f-6650d0248193",
   "metadata": {},
   "source": [
    "We have one datetime variable. Let's extract useful date/time components such as year, month, day, and minute. Since we already have the 'hour' column, we will drop it first to ensure the date/time information is organized in the following order in our dataframe: year, month, day, hour, minute."
   ]
  },
  {
   "cell_type": "code",
   "execution_count": 18,
   "id": "b8a5681c-0167-40b4-8749-c915d21f5206",
   "metadata": {
    "tags": []
   },
   "outputs": [
    {
     "data": {
      "text/html": [
       "<div>\n",
       "<style scoped>\n",
       "    .dataframe tbody tr th:only-of-type {\n",
       "        vertical-align: middle;\n",
       "    }\n",
       "\n",
       "    .dataframe tbody tr th {\n",
       "        vertical-align: top;\n",
       "    }\n",
       "\n",
       "    .dataframe thead th {\n",
       "        text-align: right;\n",
       "    }\n",
       "</style>\n",
       "<table border=\"1\" class=\"dataframe\">\n",
       "  <thead>\n",
       "    <tr style=\"text-align: right;\">\n",
       "      <th></th>\n",
       "      <th>time</th>\n",
       "      <th>station_id</th>\n",
       "      <th>dock_count</th>\n",
       "      <th>mean_dew_point_f</th>\n",
       "      <th>mean_humidity</th>\n",
       "      <th>mean_sea_level_pressure_inches</th>\n",
       "      <th>mean_visibility_miles</th>\n",
       "      <th>mean_wind_speed_mph</th>\n",
       "      <th>precipitation_inches</th>\n",
       "      <th>cloud_cover</th>\n",
       "      <th>zip_code</th>\n",
       "      <th>usage_rate_category</th>\n",
       "      <th>weekend</th>\n",
       "      <th>holiday</th>\n",
       "      <th>month</th>\n",
       "      <th>day</th>\n",
       "      <th>hour</th>\n",
       "      <th>minute</th>\n",
       "    </tr>\n",
       "  </thead>\n",
       "  <tbody>\n",
       "    <tr>\n",
       "      <th>1793336</th>\n",
       "      <td>2014-06-27 21:05:00</td>\n",
       "      <td>23</td>\n",
       "      <td>15</td>\n",
       "      <td>55.0</td>\n",
       "      <td>77.0</td>\n",
       "      <td>29.98</td>\n",
       "      <td>10.0</td>\n",
       "      <td>6.0</td>\n",
       "      <td>0</td>\n",
       "      <td>1.0</td>\n",
       "      <td>94063</td>\n",
       "      <td>1</td>\n",
       "      <td>0</td>\n",
       "      <td>0</td>\n",
       "      <td>6</td>\n",
       "      <td>27</td>\n",
       "      <td>21</td>\n",
       "      <td>5</td>\n",
       "    </tr>\n",
       "    <tr>\n",
       "      <th>3226223</th>\n",
       "      <td>2014-06-25 20:50:00</td>\n",
       "      <td>38</td>\n",
       "      <td>15</td>\n",
       "      <td>58.0</td>\n",
       "      <td>71.0</td>\n",
       "      <td>29.99</td>\n",
       "      <td>14.0</td>\n",
       "      <td>7.0</td>\n",
       "      <td>0</td>\n",
       "      <td>5.0</td>\n",
       "      <td>94301</td>\n",
       "      <td>1</td>\n",
       "      <td>0</td>\n",
       "      <td>0</td>\n",
       "      <td>6</td>\n",
       "      <td>25</td>\n",
       "      <td>20</td>\n",
       "      <td>50</td>\n",
       "    </tr>\n",
       "    <tr>\n",
       "      <th>635075</th>\n",
       "      <td>2014-09-15 06:50:00</td>\n",
       "      <td>16</td>\n",
       "      <td>15</td>\n",
       "      <td>56.0</td>\n",
       "      <td>67.0</td>\n",
       "      <td>29.89</td>\n",
       "      <td>10.0</td>\n",
       "      <td>7.0</td>\n",
       "      <td>0</td>\n",
       "      <td>2.0</td>\n",
       "      <td>95113</td>\n",
       "      <td>0</td>\n",
       "      <td>0</td>\n",
       "      <td>0</td>\n",
       "      <td>9</td>\n",
       "      <td>15</td>\n",
       "      <td>6</td>\n",
       "      <td>50</td>\n",
       "    </tr>\n",
       "    <tr>\n",
       "      <th>6952696</th>\n",
       "      <td>2015-03-23 07:05:00</td>\n",
       "      <td>69</td>\n",
       "      <td>23</td>\n",
       "      <td>49.0</td>\n",
       "      <td>71.0</td>\n",
       "      <td>30.25</td>\n",
       "      <td>10.0</td>\n",
       "      <td>10.0</td>\n",
       "      <td>1</td>\n",
       "      <td>6.0</td>\n",
       "      <td>94107</td>\n",
       "      <td>0</td>\n",
       "      <td>0</td>\n",
       "      <td>0</td>\n",
       "      <td>3</td>\n",
       "      <td>23</td>\n",
       "      <td>7</td>\n",
       "      <td>5</td>\n",
       "    </tr>\n",
       "    <tr>\n",
       "      <th>6231978</th>\n",
       "      <td>2015-01-11 08:15:00</td>\n",
       "      <td>48</td>\n",
       "      <td>15</td>\n",
       "      <td>46.0</td>\n",
       "      <td>87.0</td>\n",
       "      <td>30.09</td>\n",
       "      <td>6.0</td>\n",
       "      <td>3.0</td>\n",
       "      <td>0</td>\n",
       "      <td>5.0</td>\n",
       "      <td>94107</td>\n",
       "      <td>1</td>\n",
       "      <td>1</td>\n",
       "      <td>0</td>\n",
       "      <td>1</td>\n",
       "      <td>11</td>\n",
       "      <td>8</td>\n",
       "      <td>15</td>\n",
       "    </tr>\n",
       "    <tr>\n",
       "      <th>7009691</th>\n",
       "      <td>2015-03-29 04:40:00</td>\n",
       "      <td>57</td>\n",
       "      <td>15</td>\n",
       "      <td>49.0</td>\n",
       "      <td>67.0</td>\n",
       "      <td>30.08</td>\n",
       "      <td>10.0</td>\n",
       "      <td>6.0</td>\n",
       "      <td>0</td>\n",
       "      <td>1.0</td>\n",
       "      <td>94107</td>\n",
       "      <td>1</td>\n",
       "      <td>1</td>\n",
       "      <td>0</td>\n",
       "      <td>3</td>\n",
       "      <td>29</td>\n",
       "      <td>4</td>\n",
       "      <td>40</td>\n",
       "    </tr>\n",
       "    <tr>\n",
       "      <th>4523221</th>\n",
       "      <td>2014-07-24 07:30:00</td>\n",
       "      <td>73</td>\n",
       "      <td>15</td>\n",
       "      <td>57.0</td>\n",
       "      <td>63.0</td>\n",
       "      <td>29.96</td>\n",
       "      <td>10.0</td>\n",
       "      <td>7.0</td>\n",
       "      <td>0</td>\n",
       "      <td>2.0</td>\n",
       "      <td>94107</td>\n",
       "      <td>1</td>\n",
       "      <td>0</td>\n",
       "      <td>0</td>\n",
       "      <td>7</td>\n",
       "      <td>24</td>\n",
       "      <td>7</td>\n",
       "      <td>30</td>\n",
       "    </tr>\n",
       "    <tr>\n",
       "      <th>3439268</th>\n",
       "      <td>2014-11-21 10:40:00</td>\n",
       "      <td>37</td>\n",
       "      <td>11</td>\n",
       "      <td>53.0</td>\n",
       "      <td>77.0</td>\n",
       "      <td>30.09</td>\n",
       "      <td>8.0</td>\n",
       "      <td>4.0</td>\n",
       "      <td>0</td>\n",
       "      <td>6.0</td>\n",
       "      <td>94301</td>\n",
       "      <td>1</td>\n",
       "      <td>0</td>\n",
       "      <td>0</td>\n",
       "      <td>11</td>\n",
       "      <td>21</td>\n",
       "      <td>10</td>\n",
       "      <td>40</td>\n",
       "    </tr>\n",
       "    <tr>\n",
       "      <th>5400722</th>\n",
       "      <td>2014-10-20 00:55:00</td>\n",
       "      <td>69</td>\n",
       "      <td>23</td>\n",
       "      <td>55.0</td>\n",
       "      <td>68.0</td>\n",
       "      <td>29.97</td>\n",
       "      <td>9.0</td>\n",
       "      <td>9.0</td>\n",
       "      <td>1</td>\n",
       "      <td>5.0</td>\n",
       "      <td>94107</td>\n",
       "      <td>0</td>\n",
       "      <td>0</td>\n",
       "      <td>0</td>\n",
       "      <td>10</td>\n",
       "      <td>20</td>\n",
       "      <td>0</td>\n",
       "      <td>55</td>\n",
       "    </tr>\n",
       "    <tr>\n",
       "      <th>4438272</th>\n",
       "      <td>2014-07-16 08:25:00</td>\n",
       "      <td>58</td>\n",
       "      <td>19</td>\n",
       "      <td>57.0</td>\n",
       "      <td>74.0</td>\n",
       "      <td>30.00</td>\n",
       "      <td>10.0</td>\n",
       "      <td>14.0</td>\n",
       "      <td>0</td>\n",
       "      <td>6.0</td>\n",
       "      <td>94107</td>\n",
       "      <td>1</td>\n",
       "      <td>0</td>\n",
       "      <td>0</td>\n",
       "      <td>7</td>\n",
       "      <td>16</td>\n",
       "      <td>8</td>\n",
       "      <td>25</td>\n",
       "    </tr>\n",
       "    <tr>\n",
       "      <th>3771384</th>\n",
       "      <td>2014-05-11 20:40:00</td>\n",
       "      <td>45</td>\n",
       "      <td>15</td>\n",
       "      <td>41.0</td>\n",
       "      <td>45.0</td>\n",
       "      <td>30.07</td>\n",
       "      <td>10.0</td>\n",
       "      <td>10.0</td>\n",
       "      <td>0</td>\n",
       "      <td>1.0</td>\n",
       "      <td>94107</td>\n",
       "      <td>1</td>\n",
       "      <td>1</td>\n",
       "      <td>0</td>\n",
       "      <td>5</td>\n",
       "      <td>11</td>\n",
       "      <td>20</td>\n",
       "      <td>40</td>\n",
       "    </tr>\n",
       "    <tr>\n",
       "      <th>5590380</th>\n",
       "      <td>2014-11-08 13:45:00</td>\n",
       "      <td>62</td>\n",
       "      <td>19</td>\n",
       "      <td>53.0</td>\n",
       "      <td>79.0</td>\n",
       "      <td>30.08</td>\n",
       "      <td>7.0</td>\n",
       "      <td>2.0</td>\n",
       "      <td>0</td>\n",
       "      <td>3.0</td>\n",
       "      <td>94107</td>\n",
       "      <td>1</td>\n",
       "      <td>1</td>\n",
       "      <td>0</td>\n",
       "      <td>11</td>\n",
       "      <td>8</td>\n",
       "      <td>13</td>\n",
       "      <td>45</td>\n",
       "    </tr>\n",
       "    <tr>\n",
       "      <th>4692220</th>\n",
       "      <td>2014-08-10 02:45:00</td>\n",
       "      <td>65</td>\n",
       "      <td>15</td>\n",
       "      <td>55.0</td>\n",
       "      <td>71.0</td>\n",
       "      <td>29.98</td>\n",
       "      <td>10.0</td>\n",
       "      <td>9.0</td>\n",
       "      <td>1</td>\n",
       "      <td>6.0</td>\n",
       "      <td>94107</td>\n",
       "      <td>1</td>\n",
       "      <td>1</td>\n",
       "      <td>0</td>\n",
       "      <td>8</td>\n",
       "      <td>10</td>\n",
       "      <td>2</td>\n",
       "      <td>45</td>\n",
       "    </tr>\n",
       "    <tr>\n",
       "      <th>2468126</th>\n",
       "      <td>2014-05-29 05:50:00</td>\n",
       "      <td>27</td>\n",
       "      <td>15</td>\n",
       "      <td>46.0</td>\n",
       "      <td>50.0</td>\n",
       "      <td>29.94</td>\n",
       "      <td>10.0</td>\n",
       "      <td>7.0</td>\n",
       "      <td>0</td>\n",
       "      <td>0.0</td>\n",
       "      <td>94041</td>\n",
       "      <td>1</td>\n",
       "      <td>0</td>\n",
       "      <td>0</td>\n",
       "      <td>5</td>\n",
       "      <td>29</td>\n",
       "      <td>5</td>\n",
       "      <td>50</td>\n",
       "    </tr>\n",
       "    <tr>\n",
       "      <th>6611513</th>\n",
       "      <td>2015-02-17 04:10:00</td>\n",
       "      <td>73</td>\n",
       "      <td>15</td>\n",
       "      <td>49.0</td>\n",
       "      <td>80.0</td>\n",
       "      <td>30.13</td>\n",
       "      <td>8.0</td>\n",
       "      <td>6.0</td>\n",
       "      <td>1</td>\n",
       "      <td>8.0</td>\n",
       "      <td>94107</td>\n",
       "      <td>1</td>\n",
       "      <td>0</td>\n",
       "      <td>0</td>\n",
       "      <td>2</td>\n",
       "      <td>17</td>\n",
       "      <td>4</td>\n",
       "      <td>10</td>\n",
       "    </tr>\n",
       "  </tbody>\n",
       "</table>\n",
       "</div>"
      ],
      "text/plain": [
       "                       time  station_id  dock_count  mean_dew_point_f  \\\n",
       "1793336 2014-06-27 21:05:00          23          15              55.0   \n",
       "3226223 2014-06-25 20:50:00          38          15              58.0   \n",
       "635075  2014-09-15 06:50:00          16          15              56.0   \n",
       "6952696 2015-03-23 07:05:00          69          23              49.0   \n",
       "6231978 2015-01-11 08:15:00          48          15              46.0   \n",
       "7009691 2015-03-29 04:40:00          57          15              49.0   \n",
       "4523221 2014-07-24 07:30:00          73          15              57.0   \n",
       "3439268 2014-11-21 10:40:00          37          11              53.0   \n",
       "5400722 2014-10-20 00:55:00          69          23              55.0   \n",
       "4438272 2014-07-16 08:25:00          58          19              57.0   \n",
       "3771384 2014-05-11 20:40:00          45          15              41.0   \n",
       "5590380 2014-11-08 13:45:00          62          19              53.0   \n",
       "4692220 2014-08-10 02:45:00          65          15              55.0   \n",
       "2468126 2014-05-29 05:50:00          27          15              46.0   \n",
       "6611513 2015-02-17 04:10:00          73          15              49.0   \n",
       "\n",
       "         mean_humidity  mean_sea_level_pressure_inches  mean_visibility_miles  \\\n",
       "1793336           77.0                           29.98                   10.0   \n",
       "3226223           71.0                           29.99                   14.0   \n",
       "635075            67.0                           29.89                   10.0   \n",
       "6952696           71.0                           30.25                   10.0   \n",
       "6231978           87.0                           30.09                    6.0   \n",
       "7009691           67.0                           30.08                   10.0   \n",
       "4523221           63.0                           29.96                   10.0   \n",
       "3439268           77.0                           30.09                    8.0   \n",
       "5400722           68.0                           29.97                    9.0   \n",
       "4438272           74.0                           30.00                   10.0   \n",
       "3771384           45.0                           30.07                   10.0   \n",
       "5590380           79.0                           30.08                    7.0   \n",
       "4692220           71.0                           29.98                   10.0   \n",
       "2468126           50.0                           29.94                   10.0   \n",
       "6611513           80.0                           30.13                    8.0   \n",
       "\n",
       "         mean_wind_speed_mph  precipitation_inches  cloud_cover  zip_code  \\\n",
       "1793336                  6.0                     0          1.0     94063   \n",
       "3226223                  7.0                     0          5.0     94301   \n",
       "635075                   7.0                     0          2.0     95113   \n",
       "6952696                 10.0                     1          6.0     94107   \n",
       "6231978                  3.0                     0          5.0     94107   \n",
       "7009691                  6.0                     0          1.0     94107   \n",
       "4523221                  7.0                     0          2.0     94107   \n",
       "3439268                  4.0                     0          6.0     94301   \n",
       "5400722                  9.0                     1          5.0     94107   \n",
       "4438272                 14.0                     0          6.0     94107   \n",
       "3771384                 10.0                     0          1.0     94107   \n",
       "5590380                  2.0                     0          3.0     94107   \n",
       "4692220                  9.0                     1          6.0     94107   \n",
       "2468126                  7.0                     0          0.0     94041   \n",
       "6611513                  6.0                     1          8.0     94107   \n",
       "\n",
       "         usage_rate_category  weekend  holiday  month  day  hour  minute  \n",
       "1793336                    1        0        0      6   27    21       5  \n",
       "3226223                    1        0        0      6   25    20      50  \n",
       "635075                     0        0        0      9   15     6      50  \n",
       "6952696                    0        0        0      3   23     7       5  \n",
       "6231978                    1        1        0      1   11     8      15  \n",
       "7009691                    1        1        0      3   29     4      40  \n",
       "4523221                    1        0        0      7   24     7      30  \n",
       "3439268                    1        0        0     11   21    10      40  \n",
       "5400722                    0        0        0     10   20     0      55  \n",
       "4438272                    1        0        0      7   16     8      25  \n",
       "3771384                    1        1        0      5   11    20      40  \n",
       "5590380                    1        1        0     11    8    13      45  \n",
       "4692220                    1        1        0      8   10     2      45  \n",
       "2468126                    1        0        0      5   29     5      50  \n",
       "6611513                    1        0        0      2   17     4      10  "
      ]
     },
     "execution_count": 18,
     "metadata": {},
     "output_type": "execute_result"
    }
   ],
   "source": [
    "# Drop the column 'hour'\n",
    "df = df.drop('hour', axis=1)\n",
    "\n",
    "# Extract datetime components and create new columns\n",
    "df['month'] = df['time'].dt.month\n",
    "df['day'] = df['time'].dt.day\n",
    "df['hour'] = df['time'].dt.hour\n",
    "df['minute'] = df['time'].dt.minute\n",
    "\n",
    "# Verify the conversion\n",
    "df.sample(15)"
   ]
  },
  {
   "cell_type": "code",
   "execution_count": 19,
   "id": "343fbcdb-cd0e-45b2-8fe8-fe66b34d0dab",
   "metadata": {
    "tags": []
   },
   "outputs": [],
   "source": [
    "# Drop the column 'time'\n",
    "df = df.drop('time', axis=1)"
   ]
  },
  {
   "cell_type": "code",
   "execution_count": 20,
   "id": "1ce697dc-09a5-4fba-a4ea-03bb74eb24b6",
   "metadata": {
    "tags": []
   },
   "outputs": [
    {
     "data": {
      "text/html": [
       "<div>\n",
       "<style scoped>\n",
       "    .dataframe tbody tr th:only-of-type {\n",
       "        vertical-align: middle;\n",
       "    }\n",
       "\n",
       "    .dataframe tbody tr th {\n",
       "        vertical-align: top;\n",
       "    }\n",
       "\n",
       "    .dataframe thead th {\n",
       "        text-align: right;\n",
       "    }\n",
       "</style>\n",
       "<table border=\"1\" class=\"dataframe\">\n",
       "  <thead>\n",
       "    <tr style=\"text-align: right;\">\n",
       "      <th></th>\n",
       "      <th>station_id</th>\n",
       "      <th>dock_count</th>\n",
       "      <th>mean_dew_point_f</th>\n",
       "      <th>mean_humidity</th>\n",
       "      <th>mean_sea_level_pressure_inches</th>\n",
       "      <th>mean_visibility_miles</th>\n",
       "      <th>mean_wind_speed_mph</th>\n",
       "      <th>precipitation_inches</th>\n",
       "      <th>cloud_cover</th>\n",
       "      <th>zip_code</th>\n",
       "      <th>usage_rate_category</th>\n",
       "      <th>weekend</th>\n",
       "      <th>holiday</th>\n",
       "      <th>month</th>\n",
       "      <th>day</th>\n",
       "      <th>hour</th>\n",
       "      <th>minute</th>\n",
       "    </tr>\n",
       "  </thead>\n",
       "  <tbody>\n",
       "    <tr>\n",
       "      <th>0</th>\n",
       "      <td>2</td>\n",
       "      <td>27</td>\n",
       "      <td>45.0</td>\n",
       "      <td>41.0</td>\n",
       "      <td>30.06</td>\n",
       "      <td>10.0</td>\n",
       "      <td>6.0</td>\n",
       "      <td>0</td>\n",
       "      <td>3.0</td>\n",
       "      <td>95113</td>\n",
       "      <td>1</td>\n",
       "      <td>0</td>\n",
       "      <td>0</td>\n",
       "      <td>5</td>\n",
       "      <td>1</td>\n",
       "      <td>0</td>\n",
       "      <td>0</td>\n",
       "    </tr>\n",
       "    <tr>\n",
       "      <th>1</th>\n",
       "      <td>2</td>\n",
       "      <td>27</td>\n",
       "      <td>45.0</td>\n",
       "      <td>41.0</td>\n",
       "      <td>30.06</td>\n",
       "      <td>10.0</td>\n",
       "      <td>6.0</td>\n",
       "      <td>0</td>\n",
       "      <td>3.0</td>\n",
       "      <td>95113</td>\n",
       "      <td>1</td>\n",
       "      <td>0</td>\n",
       "      <td>0</td>\n",
       "      <td>5</td>\n",
       "      <td>1</td>\n",
       "      <td>0</td>\n",
       "      <td>5</td>\n",
       "    </tr>\n",
       "    <tr>\n",
       "      <th>2</th>\n",
       "      <td>2</td>\n",
       "      <td>27</td>\n",
       "      <td>45.0</td>\n",
       "      <td>41.0</td>\n",
       "      <td>30.06</td>\n",
       "      <td>10.0</td>\n",
       "      <td>6.0</td>\n",
       "      <td>0</td>\n",
       "      <td>3.0</td>\n",
       "      <td>95113</td>\n",
       "      <td>1</td>\n",
       "      <td>0</td>\n",
       "      <td>0</td>\n",
       "      <td>5</td>\n",
       "      <td>1</td>\n",
       "      <td>0</td>\n",
       "      <td>10</td>\n",
       "    </tr>\n",
       "    <tr>\n",
       "      <th>3</th>\n",
       "      <td>2</td>\n",
       "      <td>27</td>\n",
       "      <td>45.0</td>\n",
       "      <td>41.0</td>\n",
       "      <td>30.06</td>\n",
       "      <td>10.0</td>\n",
       "      <td>6.0</td>\n",
       "      <td>0</td>\n",
       "      <td>3.0</td>\n",
       "      <td>95113</td>\n",
       "      <td>1</td>\n",
       "      <td>0</td>\n",
       "      <td>0</td>\n",
       "      <td>5</td>\n",
       "      <td>1</td>\n",
       "      <td>0</td>\n",
       "      <td>15</td>\n",
       "    </tr>\n",
       "    <tr>\n",
       "      <th>4</th>\n",
       "      <td>2</td>\n",
       "      <td>27</td>\n",
       "      <td>45.0</td>\n",
       "      <td>41.0</td>\n",
       "      <td>30.06</td>\n",
       "      <td>10.0</td>\n",
       "      <td>6.0</td>\n",
       "      <td>0</td>\n",
       "      <td>3.0</td>\n",
       "      <td>95113</td>\n",
       "      <td>1</td>\n",
       "      <td>0</td>\n",
       "      <td>0</td>\n",
       "      <td>5</td>\n",
       "      <td>1</td>\n",
       "      <td>0</td>\n",
       "      <td>20</td>\n",
       "    </tr>\n",
       "  </tbody>\n",
       "</table>\n",
       "</div>"
      ],
      "text/plain": [
       "   station_id  dock_count  mean_dew_point_f  mean_humidity  \\\n",
       "0           2          27              45.0           41.0   \n",
       "1           2          27              45.0           41.0   \n",
       "2           2          27              45.0           41.0   \n",
       "3           2          27              45.0           41.0   \n",
       "4           2          27              45.0           41.0   \n",
       "\n",
       "   mean_sea_level_pressure_inches  mean_visibility_miles  mean_wind_speed_mph  \\\n",
       "0                           30.06                   10.0                  6.0   \n",
       "1                           30.06                   10.0                  6.0   \n",
       "2                           30.06                   10.0                  6.0   \n",
       "3                           30.06                   10.0                  6.0   \n",
       "4                           30.06                   10.0                  6.0   \n",
       "\n",
       "   precipitation_inches  cloud_cover  zip_code  usage_rate_category  weekend  \\\n",
       "0                     0          3.0     95113                    1        0   \n",
       "1                     0          3.0     95113                    1        0   \n",
       "2                     0          3.0     95113                    1        0   \n",
       "3                     0          3.0     95113                    1        0   \n",
       "4                     0          3.0     95113                    1        0   \n",
       "\n",
       "   holiday  month  day  hour  minute  \n",
       "0        0      5    1     0       0  \n",
       "1        0      5    1     0       5  \n",
       "2        0      5    1     0      10  \n",
       "3        0      5    1     0      15  \n",
       "4        0      5    1     0      20  "
      ]
     },
     "execution_count": 20,
     "metadata": {},
     "output_type": "execute_result"
    }
   ],
   "source": [
    "# Look at the first 5 rows\n",
    "df.head()"
   ]
  },
  {
   "cell_type": "code",
   "execution_count": 21,
   "id": "88f134e9-e4a3-4e30-a43c-68cda36f9c49",
   "metadata": {
    "tags": []
   },
   "outputs": [
    {
     "data": {
      "text/plain": [
       "Index([], dtype='object')"
      ]
     },
     "execution_count": 21,
     "metadata": {},
     "output_type": "execute_result"
    }
   ],
   "source": [
    "# Verify if there is any remaining datetime columns in the dataset\n",
    "df.select_dtypes(['datetime']).columns"
   ]
  },
  {
   "cell_type": "code",
   "execution_count": 22,
   "id": "747d722a-a169-458b-8dc6-f780ebdcc76f",
   "metadata": {
    "tags": []
   },
   "outputs": [
    {
     "data": {
      "text/plain": [
       "(7337194, 17)"
      ]
     },
     "execution_count": 22,
     "metadata": {},
     "output_type": "execute_result"
    }
   ],
   "source": [
    "# Check the shape of the dataset\n",
    "df.shape"
   ]
  },
  {
   "cell_type": "code",
   "execution_count": 23,
   "id": "382aca59-c9c3-41fe-ad53-e2a533f24bb0",
   "metadata": {
    "tags": []
   },
   "outputs": [
    {
     "name": "stdout",
     "output_type": "stream",
     "text": [
      "<class 'pandas.core.frame.DataFrame'>\n",
      "RangeIndex: 7337194 entries, 0 to 7337193\n",
      "Data columns (total 17 columns):\n",
      " #   Column                          Dtype  \n",
      "---  ------                          -----  \n",
      " 0   station_id                      int64  \n",
      " 1   dock_count                      int64  \n",
      " 2   mean_dew_point_f                float64\n",
      " 3   mean_humidity                   float64\n",
      " 4   mean_sea_level_pressure_inches  float64\n",
      " 5   mean_visibility_miles           float64\n",
      " 6   mean_wind_speed_mph             float64\n",
      " 7   precipitation_inches            int64  \n",
      " 8   cloud_cover                     float64\n",
      " 9   zip_code                        int64  \n",
      " 10  usage_rate_category             int64  \n",
      " 11  weekend                         int64  \n",
      " 12  holiday                         int64  \n",
      " 13  month                           int32  \n",
      " 14  day                             int32  \n",
      " 15  hour                            int32  \n",
      " 16  minute                          int32  \n",
      "dtypes: float64(6), int32(4), int64(7)\n",
      "memory usage: 839.7 MB\n"
     ]
    }
   ],
   "source": [
    "# Get a quick overview of dataset variables\n",
    "df.info()"
   ]
  },
  {
   "cell_type": "code",
   "execution_count": null,
   "id": "e9f6b38e-4171-4ed5-b228-1be77e567a1c",
   "metadata": {},
   "outputs": [],
   "source": []
  },
  {
   "cell_type": "code",
   "execution_count": null,
   "id": "13e9a4e3-b467-4488-8b8b-8d3edcef10ef",
   "metadata": {},
   "outputs": [],
   "source": []
  },
  {
   "cell_type": "markdown",
   "id": "b168b69b-26a0-4b7f-a917-5ed039a280ea",
   "metadata": {},
   "source": [
    "Our current dataset contains 7,337,194 rows. If we apply SMOTE methods to address imbalanced classes, it will result in over 12 million rows. To manage the computational workload more efficiently, we have decided to resample our data to 30-minute intervals."
   ]
  },
  {
   "cell_type": "code",
   "execution_count": 29,
   "id": "c2a3c45e-9476-426e-bba1-86eddb16352e",
   "metadata": {
    "tags": []
   },
   "outputs": [],
   "source": [
    "# Resampling our data to 30-minute intervals\n",
    "resampled_df = df[df['minute'].isin([0, 30])]"
   ]
  },
  {
   "cell_type": "code",
   "execution_count": 30,
   "id": "7fad4325-237c-4b93-bc1c-735a959e5155",
   "metadata": {
    "tags": []
   },
   "outputs": [
    {
     "data": {
      "text/plain": [
       "(1222903, 17)"
      ]
     },
     "execution_count": 30,
     "metadata": {},
     "output_type": "execute_result"
    }
   ],
   "source": [
    "# Check the shape of the dataset before train/test split\n",
    "resampled_df.shape"
   ]
  },
  {
   "cell_type": "code",
   "execution_count": 48,
   "id": "ee5de450-a8e7-4904-8944-0a8c6d99b69f",
   "metadata": {
    "tags": []
   },
   "outputs": [
    {
     "name": "stdout",
     "output_type": "stream",
     "text": [
      "<class 'pandas.core.frame.DataFrame'>\n",
      "Index: 1222903 entries, 0 to 7337188\n",
      "Data columns (total 17 columns):\n",
      " #   Column                          Non-Null Count    Dtype  \n",
      "---  ------                          --------------    -----  \n",
      " 0   station_id                      1222903 non-null  int64  \n",
      " 1   dock_count                      1222903 non-null  int64  \n",
      " 2   mean_dew_point_f                1222903 non-null  float64\n",
      " 3   mean_humidity                   1222903 non-null  float64\n",
      " 4   mean_sea_level_pressure_inches  1222903 non-null  float64\n",
      " 5   mean_visibility_miles           1222903 non-null  float64\n",
      " 6   mean_wind_speed_mph             1222903 non-null  float64\n",
      " 7   precipitation_inches            1222903 non-null  int64  \n",
      " 8   cloud_cover                     1222903 non-null  float64\n",
      " 9   zip_code                        1222903 non-null  int64  \n",
      " 10  usage_rate_category             1222903 non-null  int64  \n",
      " 11  weekend                         1222903 non-null  int64  \n",
      " 12  holiday                         1222903 non-null  int64  \n",
      " 13  month                           1222903 non-null  int32  \n",
      " 14  day                             1222903 non-null  int32  \n",
      " 15  hour                            1222903 non-null  int32  \n",
      " 16  minute                          1222903 non-null  int32  \n",
      "dtypes: float64(6), int32(4), int64(7)\n",
      "memory usage: 149.3 MB\n"
     ]
    }
   ],
   "source": [
    "# Get a quick overview of dataset variables\n",
    "resampled_df.info()"
   ]
  },
  {
   "cell_type": "code",
   "execution_count": 31,
   "id": "a31953b2-b537-44c3-9ae5-c7ca61787f05",
   "metadata": {
    "tags": []
   },
   "outputs": [
    {
     "data": {
      "text/html": [
       "<div>\n",
       "<style scoped>\n",
       "    .dataframe tbody tr th:only-of-type {\n",
       "        vertical-align: middle;\n",
       "    }\n",
       "\n",
       "    .dataframe tbody tr th {\n",
       "        vertical-align: top;\n",
       "    }\n",
       "\n",
       "    .dataframe thead th {\n",
       "        text-align: right;\n",
       "    }\n",
       "</style>\n",
       "<table border=\"1\" class=\"dataframe\">\n",
       "  <thead>\n",
       "    <tr style=\"text-align: right;\">\n",
       "      <th></th>\n",
       "      <th>station_id</th>\n",
       "      <th>dock_count</th>\n",
       "      <th>mean_dew_point_f</th>\n",
       "      <th>mean_humidity</th>\n",
       "      <th>mean_sea_level_pressure_inches</th>\n",
       "      <th>mean_visibility_miles</th>\n",
       "      <th>mean_wind_speed_mph</th>\n",
       "      <th>precipitation_inches</th>\n",
       "      <th>cloud_cover</th>\n",
       "      <th>zip_code</th>\n",
       "      <th>usage_rate_category</th>\n",
       "      <th>weekend</th>\n",
       "      <th>holiday</th>\n",
       "      <th>month</th>\n",
       "      <th>day</th>\n",
       "      <th>hour</th>\n",
       "      <th>minute</th>\n",
       "    </tr>\n",
       "  </thead>\n",
       "  <tbody>\n",
       "    <tr>\n",
       "      <th>7121907</th>\n",
       "      <td>61</td>\n",
       "      <td>27</td>\n",
       "      <td>43.0</td>\n",
       "      <td>63.0</td>\n",
       "      <td>30.02</td>\n",
       "      <td>10.0</td>\n",
       "      <td>6.0</td>\n",
       "      <td>0</td>\n",
       "      <td>4.0</td>\n",
       "      <td>94107</td>\n",
       "      <td>1</td>\n",
       "      <td>0</td>\n",
       "      <td>0</td>\n",
       "      <td>4</td>\n",
       "      <td>9</td>\n",
       "      <td>20</td>\n",
       "      <td>0</td>\n",
       "    </tr>\n",
       "    <tr>\n",
       "      <th>975786</th>\n",
       "      <td>10</td>\n",
       "      <td>15</td>\n",
       "      <td>52.0</td>\n",
       "      <td>86.0</td>\n",
       "      <td>29.83</td>\n",
       "      <td>9.0</td>\n",
       "      <td>7.0</td>\n",
       "      <td>1</td>\n",
       "      <td>7.0</td>\n",
       "      <td>95113</td>\n",
       "      <td>1</td>\n",
       "      <td>1</td>\n",
       "      <td>0</td>\n",
       "      <td>11</td>\n",
       "      <td>29</td>\n",
       "      <td>22</td>\n",
       "      <td>30</td>\n",
       "    </tr>\n",
       "    <tr>\n",
       "      <th>6910221</th>\n",
       "      <td>61</td>\n",
       "      <td>27</td>\n",
       "      <td>49.0</td>\n",
       "      <td>64.0</td>\n",
       "      <td>30.05</td>\n",
       "      <td>10.0</td>\n",
       "      <td>6.0</td>\n",
       "      <td>0</td>\n",
       "      <td>2.0</td>\n",
       "      <td>94107</td>\n",
       "      <td>1</td>\n",
       "      <td>0</td>\n",
       "      <td>0</td>\n",
       "      <td>3</td>\n",
       "      <td>19</td>\n",
       "      <td>19</td>\n",
       "      <td>30</td>\n",
       "    </tr>\n",
       "    <tr>\n",
       "      <th>668105</th>\n",
       "      <td>14</td>\n",
       "      <td>19</td>\n",
       "      <td>59.0</td>\n",
       "      <td>70.0</td>\n",
       "      <td>29.97</td>\n",
       "      <td>10.0</td>\n",
       "      <td>6.0</td>\n",
       "      <td>0</td>\n",
       "      <td>4.0</td>\n",
       "      <td>95113</td>\n",
       "      <td>1</td>\n",
       "      <td>0</td>\n",
       "      <td>0</td>\n",
       "      <td>9</td>\n",
       "      <td>23</td>\n",
       "      <td>6</td>\n",
       "      <td>0</td>\n",
       "    </tr>\n",
       "    <tr>\n",
       "      <th>450355</th>\n",
       "      <td>13</td>\n",
       "      <td>15</td>\n",
       "      <td>60.0</td>\n",
       "      <td>65.0</td>\n",
       "      <td>29.99</td>\n",
       "      <td>10.0</td>\n",
       "      <td>7.0</td>\n",
       "      <td>1</td>\n",
       "      <td>4.0</td>\n",
       "      <td>95113</td>\n",
       "      <td>0</td>\n",
       "      <td>0</td>\n",
       "      <td>0</td>\n",
       "      <td>8</td>\n",
       "      <td>6</td>\n",
       "      <td>21</td>\n",
       "      <td>30</td>\n",
       "    </tr>\n",
       "    <tr>\n",
       "      <th>5286345</th>\n",
       "      <td>56</td>\n",
       "      <td>19</td>\n",
       "      <td>55.0</td>\n",
       "      <td>80.0</td>\n",
       "      <td>29.96</td>\n",
       "      <td>10.0</td>\n",
       "      <td>9.0</td>\n",
       "      <td>0</td>\n",
       "      <td>4.0</td>\n",
       "      <td>94107</td>\n",
       "      <td>1</td>\n",
       "      <td>0</td>\n",
       "      <td>0</td>\n",
       "      <td>10</td>\n",
       "      <td>9</td>\n",
       "      <td>21</td>\n",
       "      <td>30</td>\n",
       "    </tr>\n",
       "    <tr>\n",
       "      <th>206466</th>\n",
       "      <td>14</td>\n",
       "      <td>19</td>\n",
       "      <td>49.0</td>\n",
       "      <td>48.0</td>\n",
       "      <td>29.89</td>\n",
       "      <td>10.0</td>\n",
       "      <td>6.0</td>\n",
       "      <td>0</td>\n",
       "      <td>2.0</td>\n",
       "      <td>95113</td>\n",
       "      <td>1</td>\n",
       "      <td>1</td>\n",
       "      <td>0</td>\n",
       "      <td>6</td>\n",
       "      <td>14</td>\n",
       "      <td>21</td>\n",
       "      <td>30</td>\n",
       "    </tr>\n",
       "    <tr>\n",
       "      <th>2723981</th>\n",
       "      <td>32</td>\n",
       "      <td>11</td>\n",
       "      <td>48.0</td>\n",
       "      <td>39.0</td>\n",
       "      <td>30.05</td>\n",
       "      <td>10.0</td>\n",
       "      <td>3.0</td>\n",
       "      <td>0</td>\n",
       "      <td>0.0</td>\n",
       "      <td>94041</td>\n",
       "      <td>1</td>\n",
       "      <td>0</td>\n",
       "      <td>0</td>\n",
       "      <td>10</td>\n",
       "      <td>3</td>\n",
       "      <td>0</td>\n",
       "      <td>0</td>\n",
       "    </tr>\n",
       "    <tr>\n",
       "      <th>5764923</th>\n",
       "      <td>73</td>\n",
       "      <td>15</td>\n",
       "      <td>44.0</td>\n",
       "      <td>71.0</td>\n",
       "      <td>30.40</td>\n",
       "      <td>10.0</td>\n",
       "      <td>4.0</td>\n",
       "      <td>0</td>\n",
       "      <td>1.0</td>\n",
       "      <td>94107</td>\n",
       "      <td>1</td>\n",
       "      <td>0</td>\n",
       "      <td>0</td>\n",
       "      <td>11</td>\n",
       "      <td>25</td>\n",
       "      <td>15</td>\n",
       "      <td>0</td>\n",
       "    </tr>\n",
       "    <tr>\n",
       "      <th>3851300</th>\n",
       "      <td>42</td>\n",
       "      <td>15</td>\n",
       "      <td>49.0</td>\n",
       "      <td>65.0</td>\n",
       "      <td>29.96</td>\n",
       "      <td>10.0</td>\n",
       "      <td>16.0</td>\n",
       "      <td>0</td>\n",
       "      <td>5.0</td>\n",
       "      <td>94107</td>\n",
       "      <td>1</td>\n",
       "      <td>0</td>\n",
       "      <td>0</td>\n",
       "      <td>5</td>\n",
       "      <td>19</td>\n",
       "      <td>18</td>\n",
       "      <td>0</td>\n",
       "    </tr>\n",
       "  </tbody>\n",
       "</table>\n",
       "</div>"
      ],
      "text/plain": [
       "         station_id  dock_count  mean_dew_point_f  mean_humidity  \\\n",
       "7121907          61          27              43.0           63.0   \n",
       "975786           10          15              52.0           86.0   \n",
       "6910221          61          27              49.0           64.0   \n",
       "668105           14          19              59.0           70.0   \n",
       "450355           13          15              60.0           65.0   \n",
       "5286345          56          19              55.0           80.0   \n",
       "206466           14          19              49.0           48.0   \n",
       "2723981          32          11              48.0           39.0   \n",
       "5764923          73          15              44.0           71.0   \n",
       "3851300          42          15              49.0           65.0   \n",
       "\n",
       "         mean_sea_level_pressure_inches  mean_visibility_miles  \\\n",
       "7121907                           30.02                   10.0   \n",
       "975786                            29.83                    9.0   \n",
       "6910221                           30.05                   10.0   \n",
       "668105                            29.97                   10.0   \n",
       "450355                            29.99                   10.0   \n",
       "5286345                           29.96                   10.0   \n",
       "206466                            29.89                   10.0   \n",
       "2723981                           30.05                   10.0   \n",
       "5764923                           30.40                   10.0   \n",
       "3851300                           29.96                   10.0   \n",
       "\n",
       "         mean_wind_speed_mph  precipitation_inches  cloud_cover  zip_code  \\\n",
       "7121907                  6.0                     0          4.0     94107   \n",
       "975786                   7.0                     1          7.0     95113   \n",
       "6910221                  6.0                     0          2.0     94107   \n",
       "668105                   6.0                     0          4.0     95113   \n",
       "450355                   7.0                     1          4.0     95113   \n",
       "5286345                  9.0                     0          4.0     94107   \n",
       "206466                   6.0                     0          2.0     95113   \n",
       "2723981                  3.0                     0          0.0     94041   \n",
       "5764923                  4.0                     0          1.0     94107   \n",
       "3851300                 16.0                     0          5.0     94107   \n",
       "\n",
       "         usage_rate_category  weekend  holiday  month  day  hour  minute  \n",
       "7121907                    1        0        0      4    9    20       0  \n",
       "975786                     1        1        0     11   29    22      30  \n",
       "6910221                    1        0        0      3   19    19      30  \n",
       "668105                     1        0        0      9   23     6       0  \n",
       "450355                     0        0        0      8    6    21      30  \n",
       "5286345                    1        0        0     10    9    21      30  \n",
       "206466                     1        1        0      6   14    21      30  \n",
       "2723981                    1        0        0     10    3     0       0  \n",
       "5764923                    1        0        0     11   25    15       0  \n",
       "3851300                    1        0        0      5   19    18       0  "
      ]
     },
     "execution_count": 31,
     "metadata": {},
     "output_type": "execute_result"
    }
   ],
   "source": [
    "# Verify the data selection\n",
    "resampled_df.sample(10)"
   ]
  },
  {
   "cell_type": "markdown",
   "id": "9e976ba5-3ee7-4811-8ac2-c45e9673827d",
   "metadata": {},
   "source": [
    "## Train/Test Split and Scaling"
   ]
  },
  {
   "cell_type": "markdown",
   "id": "23175c69-76f9-4f02-9579-b66770f5cdee",
   "metadata": {},
   "source": [
    "#### Train/Test Split"
   ]
  },
  {
   "cell_type": "markdown",
   "id": "ace2d23f-654b-4bbb-bd25-93fc45ce395d",
   "metadata": {},
   "source": [
    "First, let's split the data into train and test sets by using the train_test_split function."
   ]
  },
  {
   "cell_type": "code",
   "execution_count": 32,
   "id": "0a543b4b-2a9c-4168-baae-6477c0b34cc5",
   "metadata": {
    "tags": []
   },
   "outputs": [],
   "source": [
    "# Define the features and target variable\n",
    "X = resampled_df.drop(columns='usage_rate_category')\n",
    "y = resampled_df['usage_rate_category']\n",
    "\n",
    "# Split the data so the test set contains 20% of the points, \n",
    "# (the training set will contain the rest of the points)\n",
    "X_train, X_test, y_train, y_test = train_test_split(X, y, test_size=0.2, random_state=42)"
   ]
  },
  {
   "cell_type": "code",
   "execution_count": 33,
   "id": "5dd89bf8-c3bb-4672-80b7-a98111954167",
   "metadata": {
    "tags": []
   },
   "outputs": [
    {
     "name": "stdout",
     "output_type": "stream",
     "text": [
      "(978322, 16) (244581, 16) (978322,) (244581,)\n"
     ]
    }
   ],
   "source": [
    "# Show the shape of train and test sets\n",
    "print(X_train.shape, X_test.shape, y_train.shape, y_test.shape)"
   ]
  },
  {
   "cell_type": "markdown",
   "id": "90a33c9a-82bd-4815-9a10-4b8377dfa5cf",
   "metadata": {},
   "source": [
    "#### Scaling Data"
   ]
  },
  {
   "cell_type": "code",
   "execution_count": 34,
   "id": "ecc8d96e-564f-4a04-87b4-2d2e44c0a155",
   "metadata": {
    "tags": []
   },
   "outputs": [],
   "source": [
    "# Initialize a scaler\n",
    "my_standard_scaler = StandardScaler()\n",
    "\n",
    "# Fit the scaler on train data and then transform the train data\n",
    "X_scaled_train = my_standard_scaler.fit_transform(X_train)\n",
    "\n",
    "# Transform test data using the same scaler\n",
    "X_scaled_test = my_standard_scaler.transform(X_test)"
   ]
  },
  {
   "cell_type": "markdown",
   "id": "20974fd9-dfb3-447d-9af4-f3efcf8f3a42",
   "metadata": {},
   "source": [
    "#### Handling Imbalanced Datasets"
   ]
  },
  {
   "cell_type": "markdown",
   "id": "a506d9ad-1eda-4236-98d2-9abde211959b",
   "metadata": {},
   "source": [
    "Let's take a look at our traget variables. "
   ]
  },
  {
   "cell_type": "code",
   "execution_count": 35,
   "id": "7960a4c7-abcd-4a22-a7bd-0bbb496afdf5",
   "metadata": {},
   "outputs": [
    {
     "data": {
      "text/plain": [
       "usage_rate_category\n",
       "1    67.185051\n",
       "2    19.953749\n",
       "0    12.861200\n",
       "Name: count, dtype: float64"
      ]
     },
     "execution_count": 35,
     "metadata": {},
     "output_type": "execute_result"
    }
   ],
   "source": [
    "# Get the percentage of each unique value in 'usage_rate_category' column\n",
    "resampled_df['usage_rate_category'].value_counts() / len(resampled_df) * 100"
   ]
  },
  {
   "cell_type": "markdown",
   "id": "874406ec-5bd1-40b2-a305-4ff78f31ed69",
   "metadata": {},
   "source": [
    "The data is imbalanced, with the majority of the usage rate category falling in class 2 (67%), followed by class 3 (20%), and class 1 (13%). \n",
    "\n",
    "We will apply SMOTE to the training set to address this issue since SMOTE can generate synthetic samples for the minority class."
   ]
  },
  {
   "cell_type": "code",
   "execution_count": 36,
   "id": "ddb15d10-619f-4c98-8463-67f59f623b11",
   "metadata": {
    "tags": []
   },
   "outputs": [],
   "source": [
    "# Initialize SMOTE\n",
    "smote = SMOTE(random_state=42)\n",
    "\n",
    "# Apply SMOTE to the X_scaled_train set\n",
    "X_sm_train, y_sm_train = smote.fit_resample(X_scaled_train, y_train)"
   ]
  },
  {
   "cell_type": "code",
   "execution_count": 37,
   "id": "eedf7d37-56f0-491a-83ba-254b57ceb954",
   "metadata": {
    "tags": []
   },
   "outputs": [
    {
     "name": "stdout",
     "output_type": "stream",
     "text": [
      "(1971942, 16)\n"
     ]
    }
   ],
   "source": [
    "# Print the shape of the new X_train dataset\n",
    "print(X_sm_train.shape)"
   ]
  },
  {
   "cell_type": "code",
   "execution_count": 38,
   "id": "b74dc9e9-f0bd-45e2-842a-1a5831cbfaac",
   "metadata": {
    "tags": []
   },
   "outputs": [
    {
     "name": "stdout",
     "output_type": "stream",
     "text": [
      "(1971942,)\n"
     ]
    }
   ],
   "source": [
    "# Print the shape of the new y_train dataset\n",
    "print(y_sm_train.shape)"
   ]
  },
  {
   "cell_type": "code",
   "execution_count": 39,
   "id": "ceaf0b57-bed0-4a81-96af-4821e231d818",
   "metadata": {
    "tags": []
   },
   "outputs": [
    {
     "name": "stdout",
     "output_type": "stream",
     "text": [
      "Original Class Distribution:\n"
     ]
    },
    {
     "data": {
      "text/plain": [
       "usage_rate_category\n",
       "0    125794\n",
       "1    657314\n",
       "2    195214\n",
       "Name: count, dtype: int64"
      ]
     },
     "metadata": {},
     "output_type": "display_data"
    },
    {
     "name": "stdout",
     "output_type": "stream",
     "text": [
      "\n",
      "Resampled Class Distribution:\n"
     ]
    },
    {
     "data": {
      "text/plain": [
       "usage_rate_category\n",
       "0    657314\n",
       "1    657314\n",
       "2    657314\n",
       "Name: count, dtype: int64"
      ]
     },
     "metadata": {},
     "output_type": "display_data"
    }
   ],
   "source": [
    "# Compare the original class distribution with resampled class distribution\n",
    "print('Original Class Distribution:')\n",
    "display(pd.Series(y_train).value_counts().sort_index())\n",
    "\n",
    "print('\\nResampled Class Distribution:')\n",
    "display(pd.Series(y_sm_train).value_counts().sort_index())"
   ]
  },
  {
   "cell_type": "markdown",
   "id": "07828db3-582e-4ec6-8636-3d1da799daa2",
   "metadata": {},
   "source": [
    "#### Converting the Data into DataFrames"
   ]
  },
  {
   "cell_type": "markdown",
   "id": "63a13d4d-3921-4801-a168-8cdb4ae51a29",
   "metadata": {},
   "source": [
    "Since we have scaled and resampled our training and testing datasets, we can now proceed to convert them into training and testing DataFrames."
   ]
  },
  {
   "cell_type": "code",
   "execution_count": 40,
   "id": "495bf862-4b8b-4ae3-bb92-390c8e7255be",
   "metadata": {
    "tags": []
   },
   "outputs": [],
   "source": [
    "# Convert the resampled data (X_train_resampled and y_train_resampled) into a DataFrame\n",
    "train_df = pd.DataFrame(np.column_stack((X_sm_train, y_sm_train)), columns=df.drop('usage_rate_category', axis=1).columns.tolist() + ['usage_rate_category'])\n",
    "\n",
    "# Convert the test data (X_test and y_test) into a DataFrame\n",
    "test_df = pd.DataFrame(np.column_stack((X_scaled_test, y_test)), columns=df.drop('usage_rate_category', axis=1).columns.tolist() + ['usage_rate_category'])"
   ]
  },
  {
   "cell_type": "markdown",
   "id": "7766a4ac-4a20-40e4-a65a-88b594aaf544",
   "metadata": {},
   "source": [
    "#### Train Data"
   ]
  },
  {
   "cell_type": "code",
   "execution_count": 41,
   "id": "eb8ec2bf-cc5a-4036-b631-99931d017429",
   "metadata": {
    "tags": []
   },
   "outputs": [
    {
     "data": {
      "text/html": [
       "<div>\n",
       "<style scoped>\n",
       "    .dataframe tbody tr th:only-of-type {\n",
       "        vertical-align: middle;\n",
       "    }\n",
       "\n",
       "    .dataframe tbody tr th {\n",
       "        vertical-align: top;\n",
       "    }\n",
       "\n",
       "    .dataframe thead th {\n",
       "        text-align: right;\n",
       "    }\n",
       "</style>\n",
       "<table border=\"1\" class=\"dataframe\">\n",
       "  <thead>\n",
       "    <tr style=\"text-align: right;\">\n",
       "      <th></th>\n",
       "      <th>station_id</th>\n",
       "      <th>dock_count</th>\n",
       "      <th>mean_dew_point_f</th>\n",
       "      <th>mean_humidity</th>\n",
       "      <th>mean_sea_level_pressure_inches</th>\n",
       "      <th>mean_visibility_miles</th>\n",
       "      <th>mean_wind_speed_mph</th>\n",
       "      <th>precipitation_inches</th>\n",
       "      <th>cloud_cover</th>\n",
       "      <th>zip_code</th>\n",
       "      <th>weekend</th>\n",
       "      <th>holiday</th>\n",
       "      <th>month</th>\n",
       "      <th>day</th>\n",
       "      <th>hour</th>\n",
       "      <th>minute</th>\n",
       "      <th>usage_rate_category</th>\n",
       "    </tr>\n",
       "  </thead>\n",
       "  <tbody>\n",
       "    <tr>\n",
       "      <th>0</th>\n",
       "      <td>-0.915834</td>\n",
       "      <td>-0.666910</td>\n",
       "      <td>-0.392057</td>\n",
       "      <td>1.249166</td>\n",
       "      <td>1.007851</td>\n",
       "      <td>-1.217929</td>\n",
       "      <td>-1.710234</td>\n",
       "      <td>-0.436715</td>\n",
       "      <td>-0.566383</td>\n",
       "      <td>-0.651909</td>\n",
       "      <td>-0.631934</td>\n",
       "      <td>-0.167764</td>\n",
       "      <td>-1.310991</td>\n",
       "      <td>-1.557247</td>\n",
       "      <td>0.649982</td>\n",
       "      <td>-1.000258</td>\n",
       "      <td>1.0</td>\n",
       "    </tr>\n",
       "    <tr>\n",
       "      <th>1</th>\n",
       "      <td>-0.040825</td>\n",
       "      <td>-0.666910</td>\n",
       "      <td>0.775875</td>\n",
       "      <td>0.130813</td>\n",
       "      <td>-0.927883</td>\n",
       "      <td>0.305910</td>\n",
       "      <td>0.712170</td>\n",
       "      <td>-0.436715</td>\n",
       "      <td>-0.117856</td>\n",
       "      <td>-0.548370</td>\n",
       "      <td>-0.631934</td>\n",
       "      <td>-0.167764</td>\n",
       "      <td>0.138593</td>\n",
       "      <td>-0.194967</td>\n",
       "      <td>-1.372796</td>\n",
       "      <td>-1.000258</td>\n",
       "      <td>2.0</td>\n",
       "    </tr>\n",
       "    <tr>\n",
       "      <th>2</th>\n",
       "      <td>0.542515</td>\n",
       "      <td>0.337471</td>\n",
       "      <td>0.483892</td>\n",
       "      <td>-0.241972</td>\n",
       "      <td>-1.237600</td>\n",
       "      <td>0.305910</td>\n",
       "      <td>1.620572</td>\n",
       "      <td>-0.436715</td>\n",
       "      <td>0.779197</td>\n",
       "      <td>-0.548370</td>\n",
       "      <td>-0.631934</td>\n",
       "      <td>-0.167764</td>\n",
       "      <td>-0.151324</td>\n",
       "      <td>-0.535537</td>\n",
       "      <td>0.072046</td>\n",
       "      <td>-1.000258</td>\n",
       "      <td>1.0</td>\n",
       "    </tr>\n",
       "    <tr>\n",
       "      <th>3</th>\n",
       "      <td>-1.415840</td>\n",
       "      <td>-0.666910</td>\n",
       "      <td>-1.559990</td>\n",
       "      <td>-0.894344</td>\n",
       "      <td>1.085281</td>\n",
       "      <td>0.305910</td>\n",
       "      <td>-1.104633</td>\n",
       "      <td>-0.436715</td>\n",
       "      <td>-1.463436</td>\n",
       "      <td>1.818895</td>\n",
       "      <td>1.582445</td>\n",
       "      <td>-0.167764</td>\n",
       "      <td>-1.600907</td>\n",
       "      <td>0.940267</td>\n",
       "      <td>-1.372796</td>\n",
       "      <td>-1.000258</td>\n",
       "      <td>1.0</td>\n",
       "    </tr>\n",
       "    <tr>\n",
       "      <th>4</th>\n",
       "      <td>1.542526</td>\n",
       "      <td>-0.666910</td>\n",
       "      <td>0.629884</td>\n",
       "      <td>0.130813</td>\n",
       "      <td>-1.160171</td>\n",
       "      <td>0.305910</td>\n",
       "      <td>-0.196231</td>\n",
       "      <td>-0.436715</td>\n",
       "      <td>-0.117856</td>\n",
       "      <td>1.818895</td>\n",
       "      <td>1.582445</td>\n",
       "      <td>-0.167764</td>\n",
       "      <td>0.718426</td>\n",
       "      <td>-0.989630</td>\n",
       "      <td>-1.083828</td>\n",
       "      <td>-1.000258</td>\n",
       "      <td>1.0</td>\n",
       "    </tr>\n",
       "  </tbody>\n",
       "</table>\n",
       "</div>"
      ],
      "text/plain": [
       "   station_id  dock_count  mean_dew_point_f  mean_humidity  \\\n",
       "0   -0.915834   -0.666910         -0.392057       1.249166   \n",
       "1   -0.040825   -0.666910          0.775875       0.130813   \n",
       "2    0.542515    0.337471          0.483892      -0.241972   \n",
       "3   -1.415840   -0.666910         -1.559990      -0.894344   \n",
       "4    1.542526   -0.666910          0.629884       0.130813   \n",
       "\n",
       "   mean_sea_level_pressure_inches  mean_visibility_miles  mean_wind_speed_mph  \\\n",
       "0                        1.007851              -1.217929            -1.710234   \n",
       "1                       -0.927883               0.305910             0.712170   \n",
       "2                       -1.237600               0.305910             1.620572   \n",
       "3                        1.085281               0.305910            -1.104633   \n",
       "4                       -1.160171               0.305910            -0.196231   \n",
       "\n",
       "   precipitation_inches  cloud_cover  zip_code   weekend   holiday     month  \\\n",
       "0             -0.436715    -0.566383 -0.651909 -0.631934 -0.167764 -1.310991   \n",
       "1             -0.436715    -0.117856 -0.548370 -0.631934 -0.167764  0.138593   \n",
       "2             -0.436715     0.779197 -0.548370 -0.631934 -0.167764 -0.151324   \n",
       "3             -0.436715    -1.463436  1.818895  1.582445 -0.167764 -1.600907   \n",
       "4             -0.436715    -0.117856  1.818895  1.582445 -0.167764  0.718426   \n",
       "\n",
       "        day      hour    minute  usage_rate_category  \n",
       "0 -1.557247  0.649982 -1.000258                  1.0  \n",
       "1 -0.194967 -1.372796 -1.000258                  2.0  \n",
       "2 -0.535537  0.072046 -1.000258                  1.0  \n",
       "3  0.940267 -1.372796 -1.000258                  1.0  \n",
       "4 -0.989630 -1.083828 -1.000258                  1.0  "
      ]
     },
     "execution_count": 41,
     "metadata": {},
     "output_type": "execute_result"
    }
   ],
   "source": [
    "# Look at the first 5 rows of the final train dataset\n",
    "train_df.head()"
   ]
  },
  {
   "cell_type": "code",
   "execution_count": 42,
   "id": "d663416c-b5fb-47a4-b936-aa535ef74f2a",
   "metadata": {
    "tags": []
   },
   "outputs": [
    {
     "data": {
      "text/plain": [
       "(1971942, 17)"
      ]
     },
     "execution_count": 42,
     "metadata": {},
     "output_type": "execute_result"
    }
   ],
   "source": [
    "# Print the shape of the train data\n",
    "train_df.shape"
   ]
  },
  {
   "cell_type": "code",
   "execution_count": 43,
   "id": "51faaebb-5ed7-4b0a-ae81-29348ae3e06e",
   "metadata": {
    "tags": []
   },
   "outputs": [
    {
     "data": {
      "text/plain": [
       "station_id                        0\n",
       "dock_count                        0\n",
       "mean_dew_point_f                  0\n",
       "mean_humidity                     0\n",
       "mean_sea_level_pressure_inches    0\n",
       "mean_visibility_miles             0\n",
       "mean_wind_speed_mph               0\n",
       "precipitation_inches              0\n",
       "cloud_cover                       0\n",
       "zip_code                          0\n",
       "weekend                           0\n",
       "holiday                           0\n",
       "month                             0\n",
       "day                               0\n",
       "hour                              0\n",
       "minute                            0\n",
       "usage_rate_category               0\n",
       "dtype: int64"
      ]
     },
     "execution_count": 43,
     "metadata": {},
     "output_type": "execute_result"
    }
   ],
   "source": [
    "# Sanity check to make sure we don't have any NAs\n",
    "train_df.isna().sum()"
   ]
  },
  {
   "cell_type": "markdown",
   "id": "820b4d0b-c672-4045-8af3-a66f62586727",
   "metadata": {},
   "source": [
    "#### Test Data"
   ]
  },
  {
   "cell_type": "code",
   "execution_count": 44,
   "id": "2f330acd-aee7-4a6e-b6cb-3e561d21ac1b",
   "metadata": {
    "tags": []
   },
   "outputs": [
    {
     "data": {
      "text/html": [
       "<div>\n",
       "<style scoped>\n",
       "    .dataframe tbody tr th:only-of-type {\n",
       "        vertical-align: middle;\n",
       "    }\n",
       "\n",
       "    .dataframe tbody tr th {\n",
       "        vertical-align: top;\n",
       "    }\n",
       "\n",
       "    .dataframe thead th {\n",
       "        text-align: right;\n",
       "    }\n",
       "</style>\n",
       "<table border=\"1\" class=\"dataframe\">\n",
       "  <thead>\n",
       "    <tr style=\"text-align: right;\">\n",
       "      <th></th>\n",
       "      <th>station_id</th>\n",
       "      <th>dock_count</th>\n",
       "      <th>mean_dew_point_f</th>\n",
       "      <th>mean_humidity</th>\n",
       "      <th>mean_sea_level_pressure_inches</th>\n",
       "      <th>mean_visibility_miles</th>\n",
       "      <th>mean_wind_speed_mph</th>\n",
       "      <th>precipitation_inches</th>\n",
       "      <th>cloud_cover</th>\n",
       "      <th>zip_code</th>\n",
       "      <th>weekend</th>\n",
       "      <th>holiday</th>\n",
       "      <th>month</th>\n",
       "      <th>day</th>\n",
       "      <th>hour</th>\n",
       "      <th>minute</th>\n",
       "      <th>usage_rate_category</th>\n",
       "    </tr>\n",
       "  </thead>\n",
       "  <tbody>\n",
       "    <tr>\n",
       "      <th>0</th>\n",
       "      <td>-0.707499</td>\n",
       "      <td>-0.666910</td>\n",
       "      <td>0.921867</td>\n",
       "      <td>0.969578</td>\n",
       "      <td>-0.927883</td>\n",
       "      <td>0.305910</td>\n",
       "      <td>-1.104633</td>\n",
       "      <td>-0.436715</td>\n",
       "      <td>-0.117856</td>\n",
       "      <td>-0.651909</td>\n",
       "      <td>1.582445</td>\n",
       "      <td>-0.167764</td>\n",
       "      <td>0.718426</td>\n",
       "      <td>1.394360</td>\n",
       "      <td>-0.072439</td>\n",
       "      <td>-1.000258</td>\n",
       "      <td>1.0</td>\n",
       "    </tr>\n",
       "    <tr>\n",
       "      <th>1</th>\n",
       "      <td>-0.457496</td>\n",
       "      <td>-1.671291</td>\n",
       "      <td>1.067858</td>\n",
       "      <td>0.596793</td>\n",
       "      <td>0.156128</td>\n",
       "      <td>-0.456009</td>\n",
       "      <td>0.106569</td>\n",
       "      <td>2.289821</td>\n",
       "      <td>0.330670</td>\n",
       "      <td>-0.703678</td>\n",
       "      <td>1.582445</td>\n",
       "      <td>-0.167764</td>\n",
       "      <td>1.008343</td>\n",
       "      <td>1.053790</td>\n",
       "      <td>1.083435</td>\n",
       "      <td>0.999742</td>\n",
       "      <td>1.0</td>\n",
       "    </tr>\n",
       "    <tr>\n",
       "      <th>2</th>\n",
       "      <td>0.125844</td>\n",
       "      <td>-0.666910</td>\n",
       "      <td>-0.684040</td>\n",
       "      <td>-0.987540</td>\n",
       "      <td>-0.773024</td>\n",
       "      <td>0.305910</td>\n",
       "      <td>1.317772</td>\n",
       "      <td>-0.436715</td>\n",
       "      <td>-1.014910</td>\n",
       "      <td>-0.548370</td>\n",
       "      <td>-0.631934</td>\n",
       "      <td>-0.167764</td>\n",
       "      <td>-0.441240</td>\n",
       "      <td>-1.103154</td>\n",
       "      <td>-1.372796</td>\n",
       "      <td>-1.000258</td>\n",
       "      <td>0.0</td>\n",
       "    </tr>\n",
       "    <tr>\n",
       "      <th>3</th>\n",
       "      <td>0.167511</td>\n",
       "      <td>0.337471</td>\n",
       "      <td>0.337901</td>\n",
       "      <td>1.249166</td>\n",
       "      <td>0.930422</td>\n",
       "      <td>0.305910</td>\n",
       "      <td>0.712170</td>\n",
       "      <td>-0.436715</td>\n",
       "      <td>-0.566383</td>\n",
       "      <td>-0.548370</td>\n",
       "      <td>-0.631934</td>\n",
       "      <td>-0.167764</td>\n",
       "      <td>-1.021074</td>\n",
       "      <td>1.280837</td>\n",
       "      <td>-0.650375</td>\n",
       "      <td>0.999742</td>\n",
       "      <td>2.0</td>\n",
       "    </tr>\n",
       "    <tr>\n",
       "      <th>4</th>\n",
       "      <td>0.459181</td>\n",
       "      <td>-0.666910</td>\n",
       "      <td>-0.246066</td>\n",
       "      <td>0.224009</td>\n",
       "      <td>0.233558</td>\n",
       "      <td>0.305910</td>\n",
       "      <td>-0.196231</td>\n",
       "      <td>-0.436715</td>\n",
       "      <td>-1.014910</td>\n",
       "      <td>-0.548370</td>\n",
       "      <td>-0.631934</td>\n",
       "      <td>-0.167764</td>\n",
       "      <td>-1.021074</td>\n",
       "      <td>0.259127</td>\n",
       "      <td>1.083435</td>\n",
       "      <td>-1.000258</td>\n",
       "      <td>0.0</td>\n",
       "    </tr>\n",
       "  </tbody>\n",
       "</table>\n",
       "</div>"
      ],
      "text/plain": [
       "   station_id  dock_count  mean_dew_point_f  mean_humidity  \\\n",
       "0   -0.707499   -0.666910          0.921867       0.969578   \n",
       "1   -0.457496   -1.671291          1.067858       0.596793   \n",
       "2    0.125844   -0.666910         -0.684040      -0.987540   \n",
       "3    0.167511    0.337471          0.337901       1.249166   \n",
       "4    0.459181   -0.666910         -0.246066       0.224009   \n",
       "\n",
       "   mean_sea_level_pressure_inches  mean_visibility_miles  mean_wind_speed_mph  \\\n",
       "0                       -0.927883               0.305910            -1.104633   \n",
       "1                        0.156128              -0.456009             0.106569   \n",
       "2                       -0.773024               0.305910             1.317772   \n",
       "3                        0.930422               0.305910             0.712170   \n",
       "4                        0.233558               0.305910            -0.196231   \n",
       "\n",
       "   precipitation_inches  cloud_cover  zip_code   weekend   holiday     month  \\\n",
       "0             -0.436715    -0.117856 -0.651909  1.582445 -0.167764  0.718426   \n",
       "1              2.289821     0.330670 -0.703678  1.582445 -0.167764  1.008343   \n",
       "2             -0.436715    -1.014910 -0.548370 -0.631934 -0.167764 -0.441240   \n",
       "3             -0.436715    -0.566383 -0.548370 -0.631934 -0.167764 -1.021074   \n",
       "4             -0.436715    -1.014910 -0.548370 -0.631934 -0.167764 -1.021074   \n",
       "\n",
       "        day      hour    minute  usage_rate_category  \n",
       "0  1.394360 -0.072439 -1.000258                  1.0  \n",
       "1  1.053790  1.083435  0.999742                  1.0  \n",
       "2 -1.103154 -1.372796 -1.000258                  0.0  \n",
       "3  1.280837 -0.650375  0.999742                  2.0  \n",
       "4  0.259127  1.083435 -1.000258                  0.0  "
      ]
     },
     "execution_count": 44,
     "metadata": {},
     "output_type": "execute_result"
    }
   ],
   "source": [
    "# Look at the first 5 rows of the final test dataset\n",
    "test_df.head()"
   ]
  },
  {
   "cell_type": "code",
   "execution_count": 45,
   "id": "8892f45d-2488-4727-8000-88eebb8e40b8",
   "metadata": {
    "tags": []
   },
   "outputs": [
    {
     "data": {
      "text/plain": [
       "(244581, 17)"
      ]
     },
     "execution_count": 45,
     "metadata": {},
     "output_type": "execute_result"
    }
   ],
   "source": [
    "# Print the shape of the test data\n",
    "test_df.shape"
   ]
  },
  {
   "cell_type": "code",
   "execution_count": 46,
   "id": "60ecca34-622f-4df2-b8dc-1322d327e786",
   "metadata": {
    "tags": []
   },
   "outputs": [
    {
     "data": {
      "text/plain": [
       "station_id                        0\n",
       "dock_count                        0\n",
       "mean_dew_point_f                  0\n",
       "mean_humidity                     0\n",
       "mean_sea_level_pressure_inches    0\n",
       "mean_visibility_miles             0\n",
       "mean_wind_speed_mph               0\n",
       "precipitation_inches              0\n",
       "cloud_cover                       0\n",
       "zip_code                          0\n",
       "weekend                           0\n",
       "holiday                           0\n",
       "month                             0\n",
       "day                               0\n",
       "hour                              0\n",
       "minute                            0\n",
       "usage_rate_category               0\n",
       "dtype: int64"
      ]
     },
     "execution_count": 46,
     "metadata": {},
     "output_type": "execute_result"
    }
   ],
   "source": [
    "# Sanity check to make sure we don't have any NAs\n",
    "test_df.isna().sum()"
   ]
  },
  {
   "cell_type": "code",
   "execution_count": 47,
   "id": "a90bb782-8007-491b-8d44-5bad4e3279b9",
   "metadata": {
    "tags": []
   },
   "outputs": [],
   "source": [
    "# Save the final train and test datasets to Parquet format\n",
    "train_df.to_parquet('data/resampled_train_dataset.parquet', index=False)\n",
    "test_df.to_parquet('data/resampled_test_dataset.parquet', index=False)"
   ]
  }
 ],
 "metadata": {
  "kernelspec": {
   "display_name": "Python 3 (ipykernel)",
   "language": "python",
   "name": "python3"
  },
  "language_info": {
   "codemirror_mode": {
    "name": "ipython",
    "version": 3
   },
   "file_extension": ".py",
   "mimetype": "text/x-python",
   "name": "python",
   "nbconvert_exporter": "python",
   "pygments_lexer": "ipython3",
   "version": "3.11.5"
  }
 },
 "nbformat": 4,
 "nbformat_minor": 5
}
