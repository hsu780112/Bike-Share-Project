{
 "cells": [
  {
   "cell_type": "markdown",
   "id": "8fe7c5eb-f1fe-4f10-925f-172a267fac2f",
   "metadata": {},
   "source": [
    "# Feature Engineering - Bike Share System in the SF Bay Area"
   ]
  },
  {
   "cell_type": "markdown",
   "id": "d1a56392-7140-494d-9d80-4d1f1c795ee6",
   "metadata": {},
   "source": [
    "Author: Owen Hsu"
   ]
  },
  {
   "cell_type": "markdown",
   "id": "d01755aa-666c-43f5-85b9-8f675b7db8ce",
   "metadata": {},
   "source": [
    "## Table of content"
   ]
  },
  {
   "cell_type": "markdown",
   "id": "6d7a2f3f-fab2-4510-94fb-7aea456b8fe8",
   "metadata": {},
   "source": [
    "1. Feature Overview\n",
    "2. Loading and Setup\n",
    "3. Assessment\n",
    "4. Categorical Variables\n",
    "5. Scaling and Train/Test Split"
   ]
  },
  {
   "cell_type": "markdown",
   "id": "3bc155ce-a2c9-4e64-bb7c-1d8d00f6714d",
   "metadata": {},
   "source": [
    "## Feature Overview"
   ]
  },
  {
   "cell_type": "markdown",
   "id": "08f3b5c2-173e-44e2-b466-14bc74281239",
   "metadata": {},
   "source": [
    "| Columns                    | Description                                                        |\n",
    "|:---------------------------|:------------------------------------------------------------------:|\n",
    "| Time                       | Recorded Date and Time                                             |\n",
    "| Station ID                 | Station ID                                                         |\n",
    "| Dock Number                | The number of docks at the station                                 |\n",
    "| Mean Dew Point             | The average dew point of the date                                  |\n",
    "| Mean Humidity              | The average humidity of the date                                   |\n",
    "| Mean Sea Level Pressure    | The average sea level pressure of the date                         |\n",
    "| Mean Visibility            | The average visibility of the date                                 |\n",
    "| Mean Wind Speed            | The average wind speed of the date                                 |\n",
    "| Precipitation Inches       | Determine whether the date of each record has precipitation        |\n",
    "| Cloud Cover                | The fraction of the sky covered by clouds on given date            |\n",
    "| Zip Code                   | The zip code for the weather record                                |\n",
    "| Usage Rate Category        | Usage Rate Category of the station                                 |\n",
    "| Holiday                    | Determine whether the date of each record is a holiday or not      |\n",
    "| Weekend                    | Determine whether the date of each record is a weekend or not      |\n",
    "| Hour                       | Recorded Time (Hour)                                               |\n"
   ]
  },
  {
   "cell_type": "markdown",
   "id": "a4288420-586b-45ea-a7a0-cb26dad5d6d2",
   "metadata": {},
   "source": [
    "## Loading and Setup"
   ]
  },
  {
   "cell_type": "code",
   "execution_count": 1,
   "id": "e801bbfe-b97c-43a9-ac9c-e38f55512384",
   "metadata": {
    "tags": []
   },
   "outputs": [
    {
     "name": "stderr",
     "output_type": "stream",
     "text": [
      "/Users/chih-kanghsu/anaconda3/lib/python3.11/site-packages/pandas/core/arrays/masked.py:60: UserWarning: Pandas requires version '1.3.6' or newer of 'bottleneck' (version '1.3.5' currently installed).\n",
      "  from pandas.core import (\n"
     ]
    }
   ],
   "source": [
    "# Import necessary libraries\n",
    "import pandas as pd\n",
    "import numpy as np\n",
    "import matplotlib.pyplot as plt\n",
    "import seaborn as sns\n",
    "import scipy.stats as stats\n",
    "from sklearn.model_selection import train_test_split\n",
    "from sklearn.feature_selection import SelectKBest, chi2, f_classif\n",
    "from sklearn.preprocessing import OneHotEncoder, MinMaxScaler\n",
    "from sklearn.linear_model import LogisticRegression\n",
    "from sklearn.model_selection import cross_val_score, StratifiedKFold\n",
    "from sklearn.metrics import accuracy_score, confusion_matrix, classification_report\n",
    "from sklearn.svm import SVC\n",
    "from sklearn.ensemble import RandomForestClassifier\n",
    "from imblearn.over_sampling import SMOTE\n",
    "from sklearn.preprocessing import StandardScaler \n",
    "# Filter warnings\n",
    "from warnings import filterwarnings\n",
    "filterwarnings('ignore')"
   ]
  },
  {
   "cell_type": "code",
   "execution_count": 2,
   "id": "0bc51233-efc1-4b39-8a27-b80fd3b36230",
   "metadata": {
    "tags": []
   },
   "outputs": [],
   "source": [
    "# Load the dataset\n",
    "df = pd.read_parquet('data/BikeData_after_EDA.parquet')"
   ]
  },
  {
   "cell_type": "markdown",
   "id": "3ff4a72b-98d3-44a2-980e-6753a44da137",
   "metadata": {},
   "source": [
    "## Assessment"
   ]
  },
  {
   "cell_type": "code",
   "execution_count": 3,
   "id": "ba13733b-2f17-47a6-a89f-4edfaba49e07",
   "metadata": {
    "tags": []
   },
   "outputs": [],
   "source": [
    "# Set display options to show all columns and rows\n",
    "pd.set_option('display.max_columns', None)\n",
    "pd.set_option('display.max_rows', None)"
   ]
  },
  {
   "cell_type": "code",
   "execution_count": 4,
   "id": "71dcdeec-4b68-43d9-b8fa-1c6162978344",
   "metadata": {
    "tags": []
   },
   "outputs": [
    {
     "data": {
      "text/plain": [
       "(7337194, 15)"
      ]
     },
     "execution_count": 4,
     "metadata": {},
     "output_type": "execute_result"
    }
   ],
   "source": [
    "# Print the shape of the data\n",
    "df.shape"
   ]
  },
  {
   "cell_type": "code",
   "execution_count": 5,
   "id": "2886c845-2c43-4bd5-bd1d-10ccd67d8902",
   "metadata": {
    "tags": []
   },
   "outputs": [
    {
     "data": {
      "text/html": [
       "<div>\n",
       "<style scoped>\n",
       "    .dataframe tbody tr th:only-of-type {\n",
       "        vertical-align: middle;\n",
       "    }\n",
       "\n",
       "    .dataframe tbody tr th {\n",
       "        vertical-align: top;\n",
       "    }\n",
       "\n",
       "    .dataframe thead th {\n",
       "        text-align: right;\n",
       "    }\n",
       "</style>\n",
       "<table border=\"1\" class=\"dataframe\">\n",
       "  <thead>\n",
       "    <tr style=\"text-align: right;\">\n",
       "      <th></th>\n",
       "      <th>time</th>\n",
       "      <th>station_id</th>\n",
       "      <th>dock_count</th>\n",
       "      <th>mean_dew_point_f</th>\n",
       "      <th>mean_humidity</th>\n",
       "      <th>mean_sea_level_pressure_inches</th>\n",
       "      <th>mean_visibility_miles</th>\n",
       "      <th>mean_wind_speed_mph</th>\n",
       "      <th>precipitation_inches</th>\n",
       "      <th>cloud_cover</th>\n",
       "      <th>zip_code</th>\n",
       "      <th>usage_rate_category</th>\n",
       "      <th>weekend</th>\n",
       "      <th>holiday</th>\n",
       "      <th>hour</th>\n",
       "    </tr>\n",
       "  </thead>\n",
       "  <tbody>\n",
       "    <tr>\n",
       "      <th>0</th>\n",
       "      <td>2014-05-01 00:00:00</td>\n",
       "      <td>2</td>\n",
       "      <td>27</td>\n",
       "      <td>45.0</td>\n",
       "      <td>41.0</td>\n",
       "      <td>30.06</td>\n",
       "      <td>10.0</td>\n",
       "      <td>6.0</td>\n",
       "      <td>0</td>\n",
       "      <td>3.0</td>\n",
       "      <td>95113</td>\n",
       "      <td>Median</td>\n",
       "      <td>0</td>\n",
       "      <td>0</td>\n",
       "      <td>0</td>\n",
       "    </tr>\n",
       "    <tr>\n",
       "      <th>1</th>\n",
       "      <td>2014-05-01 00:05:00</td>\n",
       "      <td>2</td>\n",
       "      <td>27</td>\n",
       "      <td>45.0</td>\n",
       "      <td>41.0</td>\n",
       "      <td>30.06</td>\n",
       "      <td>10.0</td>\n",
       "      <td>6.0</td>\n",
       "      <td>0</td>\n",
       "      <td>3.0</td>\n",
       "      <td>95113</td>\n",
       "      <td>Median</td>\n",
       "      <td>0</td>\n",
       "      <td>0</td>\n",
       "      <td>0</td>\n",
       "    </tr>\n",
       "    <tr>\n",
       "      <th>2</th>\n",
       "      <td>2014-05-01 00:10:00</td>\n",
       "      <td>2</td>\n",
       "      <td>27</td>\n",
       "      <td>45.0</td>\n",
       "      <td>41.0</td>\n",
       "      <td>30.06</td>\n",
       "      <td>10.0</td>\n",
       "      <td>6.0</td>\n",
       "      <td>0</td>\n",
       "      <td>3.0</td>\n",
       "      <td>95113</td>\n",
       "      <td>Median</td>\n",
       "      <td>0</td>\n",
       "      <td>0</td>\n",
       "      <td>0</td>\n",
       "    </tr>\n",
       "    <tr>\n",
       "      <th>3</th>\n",
       "      <td>2014-05-01 00:15:00</td>\n",
       "      <td>2</td>\n",
       "      <td>27</td>\n",
       "      <td>45.0</td>\n",
       "      <td>41.0</td>\n",
       "      <td>30.06</td>\n",
       "      <td>10.0</td>\n",
       "      <td>6.0</td>\n",
       "      <td>0</td>\n",
       "      <td>3.0</td>\n",
       "      <td>95113</td>\n",
       "      <td>Median</td>\n",
       "      <td>0</td>\n",
       "      <td>0</td>\n",
       "      <td>0</td>\n",
       "    </tr>\n",
       "    <tr>\n",
       "      <th>4</th>\n",
       "      <td>2014-05-01 00:20:00</td>\n",
       "      <td>2</td>\n",
       "      <td>27</td>\n",
       "      <td>45.0</td>\n",
       "      <td>41.0</td>\n",
       "      <td>30.06</td>\n",
       "      <td>10.0</td>\n",
       "      <td>6.0</td>\n",
       "      <td>0</td>\n",
       "      <td>3.0</td>\n",
       "      <td>95113</td>\n",
       "      <td>Median</td>\n",
       "      <td>0</td>\n",
       "      <td>0</td>\n",
       "      <td>0</td>\n",
       "    </tr>\n",
       "  </tbody>\n",
       "</table>\n",
       "</div>"
      ],
      "text/plain": [
       "                 time  station_id  dock_count  mean_dew_point_f  \\\n",
       "0 2014-05-01 00:00:00           2          27              45.0   \n",
       "1 2014-05-01 00:05:00           2          27              45.0   \n",
       "2 2014-05-01 00:10:00           2          27              45.0   \n",
       "3 2014-05-01 00:15:00           2          27              45.0   \n",
       "4 2014-05-01 00:20:00           2          27              45.0   \n",
       "\n",
       "   mean_humidity  mean_sea_level_pressure_inches  mean_visibility_miles  \\\n",
       "0           41.0                           30.06                   10.0   \n",
       "1           41.0                           30.06                   10.0   \n",
       "2           41.0                           30.06                   10.0   \n",
       "3           41.0                           30.06                   10.0   \n",
       "4           41.0                           30.06                   10.0   \n",
       "\n",
       "   mean_wind_speed_mph  precipitation_inches  cloud_cover  zip_code  \\\n",
       "0                  6.0                     0          3.0     95113   \n",
       "1                  6.0                     0          3.0     95113   \n",
       "2                  6.0                     0          3.0     95113   \n",
       "3                  6.0                     0          3.0     95113   \n",
       "4                  6.0                     0          3.0     95113   \n",
       "\n",
       "  usage_rate_category  weekend  holiday  hour  \n",
       "0              Median        0        0     0  \n",
       "1              Median        0        0     0  \n",
       "2              Median        0        0     0  \n",
       "3              Median        0        0     0  \n",
       "4              Median        0        0     0  "
      ]
     },
     "execution_count": 5,
     "metadata": {},
     "output_type": "execute_result"
    }
   ],
   "source": [
    "# Look at the first 5 rows\n",
    "df.head()"
   ]
  },
  {
   "cell_type": "code",
   "execution_count": 6,
   "id": "2c5a9009-ff14-4987-9e38-89a538abe359",
   "metadata": {
    "tags": []
   },
   "outputs": [
    {
     "name": "stdout",
     "output_type": "stream",
     "text": [
      "<class 'pandas.core.frame.DataFrame'>\n",
      "RangeIndex: 7337194 entries, 0 to 7337193\n",
      "Data columns (total 15 columns):\n",
      " #   Column                          Dtype         \n",
      "---  ------                          -----         \n",
      " 0   time                            datetime64[ns]\n",
      " 1   station_id                      int64         \n",
      " 2   dock_count                      int64         \n",
      " 3   mean_dew_point_f                float64       \n",
      " 4   mean_humidity                   float64       \n",
      " 5   mean_sea_level_pressure_inches  float64       \n",
      " 6   mean_visibility_miles           float64       \n",
      " 7   mean_wind_speed_mph             float64       \n",
      " 8   precipitation_inches            int64         \n",
      " 9   cloud_cover                     float64       \n",
      " 10  zip_code                        int64         \n",
      " 11  usage_rate_category             object        \n",
      " 12  weekend                         int64         \n",
      " 13  holiday                         int64         \n",
      " 14  hour                            int32         \n",
      "dtypes: datetime64[ns](1), float64(6), int32(1), int64(6), object(1)\n",
      "memory usage: 811.7+ MB\n"
     ]
    }
   ],
   "source": [
    "# Get a quick overview of dataset variables\n",
    "df.info()"
   ]
  },
  {
   "cell_type": "code",
   "execution_count": 7,
   "id": "d545488d-8485-4b5d-a747-5c475de10887",
   "metadata": {
    "tags": []
   },
   "outputs": [
    {
     "data": {
      "text/plain": [
       "time                              0\n",
       "station_id                        0\n",
       "dock_count                        0\n",
       "mean_dew_point_f                  0\n",
       "mean_humidity                     0\n",
       "mean_sea_level_pressure_inches    0\n",
       "mean_visibility_miles             0\n",
       "mean_wind_speed_mph               0\n",
       "precipitation_inches              0\n",
       "cloud_cover                       0\n",
       "zip_code                          0\n",
       "usage_rate_category               0\n",
       "weekend                           0\n",
       "holiday                           0\n",
       "hour                              0\n",
       "dtype: int64"
      ]
     },
     "execution_count": 7,
     "metadata": {},
     "output_type": "execute_result"
    }
   ],
   "source": [
    "# Sanity check to make sure we don't have any NAs\n",
    "df.isna().sum()"
   ]
  },
  {
   "cell_type": "code",
   "execution_count": 8,
   "id": "c902c840-d080-45b9-ad47-9f14878e92bb",
   "metadata": {
    "tags": []
   },
   "outputs": [
    {
     "data": {
      "text/html": [
       "<div>\n",
       "<style scoped>\n",
       "    .dataframe tbody tr th:only-of-type {\n",
       "        vertical-align: middle;\n",
       "    }\n",
       "\n",
       "    .dataframe tbody tr th {\n",
       "        vertical-align: top;\n",
       "    }\n",
       "\n",
       "    .dataframe thead th {\n",
       "        text-align: right;\n",
       "    }\n",
       "</style>\n",
       "<table border=\"1\" class=\"dataframe\">\n",
       "  <thead>\n",
       "    <tr style=\"text-align: right;\">\n",
       "      <th></th>\n",
       "      <th>time</th>\n",
       "      <th>station_id</th>\n",
       "      <th>dock_count</th>\n",
       "      <th>mean_dew_point_f</th>\n",
       "      <th>mean_humidity</th>\n",
       "      <th>mean_sea_level_pressure_inches</th>\n",
       "      <th>mean_visibility_miles</th>\n",
       "      <th>mean_wind_speed_mph</th>\n",
       "      <th>precipitation_inches</th>\n",
       "      <th>cloud_cover</th>\n",
       "      <th>zip_code</th>\n",
       "      <th>weekend</th>\n",
       "      <th>holiday</th>\n",
       "      <th>hour</th>\n",
       "    </tr>\n",
       "  </thead>\n",
       "  <tbody>\n",
       "    <tr>\n",
       "      <th>count</th>\n",
       "      <td>7337194</td>\n",
       "      <td>7.337194e+06</td>\n",
       "      <td>7.337194e+06</td>\n",
       "      <td>7.337194e+06</td>\n",
       "      <td>7.337194e+06</td>\n",
       "      <td>7.337194e+06</td>\n",
       "      <td>7.337194e+06</td>\n",
       "      <td>7.337194e+06</td>\n",
       "      <td>7.337194e+06</td>\n",
       "      <td>7.337194e+06</td>\n",
       "      <td>7.337194e+06</td>\n",
       "      <td>7.337194e+06</td>\n",
       "      <td>7.337194e+06</td>\n",
       "      <td>7.337194e+06</td>\n",
       "    </tr>\n",
       "    <tr>\n",
       "      <th>mean</th>\n",
       "      <td>2014-10-30 13:33:29.071412224</td>\n",
       "      <td>4.299356e+01</td>\n",
       "      <td>1.765689e+01</td>\n",
       "      <td>4.968303e+01</td>\n",
       "      <td>6.859634e+01</td>\n",
       "      <td>3.001985e+01</td>\n",
       "      <td>9.598144e+00</td>\n",
       "      <td>6.647163e+00</td>\n",
       "      <td>1.599805e-01</td>\n",
       "      <td>3.262926e+00</td>\n",
       "      <td>9.433987e+04</td>\n",
       "      <td>2.853681e-01</td>\n",
       "      <td>2.747494e-02</td>\n",
       "      <td>1.150000e+01</td>\n",
       "    </tr>\n",
       "    <tr>\n",
       "      <th>min</th>\n",
       "      <td>2014-05-01 00:00:00</td>\n",
       "      <td>2.000000e+00</td>\n",
       "      <td>1.100000e+01</td>\n",
       "      <td>1.300000e+01</td>\n",
       "      <td>2.400000e+01</td>\n",
       "      <td>2.963000e+01</td>\n",
       "      <td>4.000000e+00</td>\n",
       "      <td>0.000000e+00</td>\n",
       "      <td>0.000000e+00</td>\n",
       "      <td>0.000000e+00</td>\n",
       "      <td>9.404100e+04</td>\n",
       "      <td>0.000000e+00</td>\n",
       "      <td>0.000000e+00</td>\n",
       "      <td>0.000000e+00</td>\n",
       "    </tr>\n",
       "    <tr>\n",
       "      <th>25%</th>\n",
       "      <td>2014-07-31 01:55:00</td>\n",
       "      <td>2.400000e+01</td>\n",
       "      <td>1.500000e+01</td>\n",
       "      <td>4.600000e+01</td>\n",
       "      <td>6.300000e+01</td>\n",
       "      <td>2.993000e+01</td>\n",
       "      <td>1.000000e+01</td>\n",
       "      <td>4.000000e+00</td>\n",
       "      <td>0.000000e+00</td>\n",
       "      <td>1.000000e+00</td>\n",
       "      <td>9.410700e+04</td>\n",
       "      <td>0.000000e+00</td>\n",
       "      <td>0.000000e+00</td>\n",
       "      <td>6.000000e+00</td>\n",
       "    </tr>\n",
       "    <tr>\n",
       "      <th>50%</th>\n",
       "      <td>2014-10-30 20:45:00</td>\n",
       "      <td>4.200000e+01</td>\n",
       "      <td>1.500000e+01</td>\n",
       "      <td>5.000000e+01</td>\n",
       "      <td>6.900000e+01</td>\n",
       "      <td>3.000000e+01</td>\n",
       "      <td>1.000000e+01</td>\n",
       "      <td>6.000000e+00</td>\n",
       "      <td>0.000000e+00</td>\n",
       "      <td>3.000000e+00</td>\n",
       "      <td>9.410700e+04</td>\n",
       "      <td>0.000000e+00</td>\n",
       "      <td>0.000000e+00</td>\n",
       "      <td>1.100000e+01</td>\n",
       "    </tr>\n",
       "    <tr>\n",
       "      <th>75%</th>\n",
       "      <td>2015-01-29 20:30:00</td>\n",
       "      <td>6.400000e+01</td>\n",
       "      <td>1.900000e+01</td>\n",
       "      <td>5.500000e+01</td>\n",
       "      <td>7.500000e+01</td>\n",
       "      <td>3.011000e+01</td>\n",
       "      <td>1.000000e+01</td>\n",
       "      <td>9.000000e+00</td>\n",
       "      <td>0.000000e+00</td>\n",
       "      <td>5.000000e+00</td>\n",
       "      <td>9.430100e+04</td>\n",
       "      <td>1.000000e+00</td>\n",
       "      <td>0.000000e+00</td>\n",
       "      <td>1.700000e+01</td>\n",
       "    </tr>\n",
       "    <tr>\n",
       "      <th>max</th>\n",
       "      <td>2015-04-30 23:55:00</td>\n",
       "      <td>8.400000e+01</td>\n",
       "      <td>2.700000e+01</td>\n",
       "      <td>6.500000e+01</td>\n",
       "      <td>9.600000e+01</td>\n",
       "      <td>3.041000e+01</td>\n",
       "      <td>2.000000e+01</td>\n",
       "      <td>2.300000e+01</td>\n",
       "      <td>1.000000e+00</td>\n",
       "      <td>8.000000e+00</td>\n",
       "      <td>9.511300e+04</td>\n",
       "      <td>1.000000e+00</td>\n",
       "      <td>1.000000e+00</td>\n",
       "      <td>2.300000e+01</td>\n",
       "    </tr>\n",
       "    <tr>\n",
       "      <th>std</th>\n",
       "      <td>NaN</td>\n",
       "      <td>2.399402e+01</td>\n",
       "      <td>3.982221e+00</td>\n",
       "      <td>6.848807e+00</td>\n",
       "      <td>1.073235e+01</td>\n",
       "      <td>1.291384e-01</td>\n",
       "      <td>1.313508e+00</td>\n",
       "      <td>3.303102e+00</td>\n",
       "      <td>3.665880e-01</td>\n",
       "      <td>2.229327e+00</td>\n",
       "      <td>4.248337e+02</td>\n",
       "      <td>4.515896e-01</td>\n",
       "      <td>1.634628e-01</td>\n",
       "      <td>6.920271e+00</td>\n",
       "    </tr>\n",
       "  </tbody>\n",
       "</table>\n",
       "</div>"
      ],
      "text/plain": [
       "                                time    station_id    dock_count  \\\n",
       "count                        7337194  7.337194e+06  7.337194e+06   \n",
       "mean   2014-10-30 13:33:29.071412224  4.299356e+01  1.765689e+01   \n",
       "min              2014-05-01 00:00:00  2.000000e+00  1.100000e+01   \n",
       "25%              2014-07-31 01:55:00  2.400000e+01  1.500000e+01   \n",
       "50%              2014-10-30 20:45:00  4.200000e+01  1.500000e+01   \n",
       "75%              2015-01-29 20:30:00  6.400000e+01  1.900000e+01   \n",
       "max              2015-04-30 23:55:00  8.400000e+01  2.700000e+01   \n",
       "std                              NaN  2.399402e+01  3.982221e+00   \n",
       "\n",
       "       mean_dew_point_f  mean_humidity  mean_sea_level_pressure_inches  \\\n",
       "count      7.337194e+06   7.337194e+06                    7.337194e+06   \n",
       "mean       4.968303e+01   6.859634e+01                    3.001985e+01   \n",
       "min        1.300000e+01   2.400000e+01                    2.963000e+01   \n",
       "25%        4.600000e+01   6.300000e+01                    2.993000e+01   \n",
       "50%        5.000000e+01   6.900000e+01                    3.000000e+01   \n",
       "75%        5.500000e+01   7.500000e+01                    3.011000e+01   \n",
       "max        6.500000e+01   9.600000e+01                    3.041000e+01   \n",
       "std        6.848807e+00   1.073235e+01                    1.291384e-01   \n",
       "\n",
       "       mean_visibility_miles  mean_wind_speed_mph  precipitation_inches  \\\n",
       "count           7.337194e+06         7.337194e+06          7.337194e+06   \n",
       "mean            9.598144e+00         6.647163e+00          1.599805e-01   \n",
       "min             4.000000e+00         0.000000e+00          0.000000e+00   \n",
       "25%             1.000000e+01         4.000000e+00          0.000000e+00   \n",
       "50%             1.000000e+01         6.000000e+00          0.000000e+00   \n",
       "75%             1.000000e+01         9.000000e+00          0.000000e+00   \n",
       "max             2.000000e+01         2.300000e+01          1.000000e+00   \n",
       "std             1.313508e+00         3.303102e+00          3.665880e-01   \n",
       "\n",
       "        cloud_cover      zip_code       weekend       holiday          hour  \n",
       "count  7.337194e+06  7.337194e+06  7.337194e+06  7.337194e+06  7.337194e+06  \n",
       "mean   3.262926e+00  9.433987e+04  2.853681e-01  2.747494e-02  1.150000e+01  \n",
       "min    0.000000e+00  9.404100e+04  0.000000e+00  0.000000e+00  0.000000e+00  \n",
       "25%    1.000000e+00  9.410700e+04  0.000000e+00  0.000000e+00  6.000000e+00  \n",
       "50%    3.000000e+00  9.410700e+04  0.000000e+00  0.000000e+00  1.100000e+01  \n",
       "75%    5.000000e+00  9.430100e+04  1.000000e+00  0.000000e+00  1.700000e+01  \n",
       "max    8.000000e+00  9.511300e+04  1.000000e+00  1.000000e+00  2.300000e+01  \n",
       "std    2.229327e+00  4.248337e+02  4.515896e-01  1.634628e-01  6.920271e+00  "
      ]
     },
     "execution_count": 8,
     "metadata": {},
     "output_type": "execute_result"
    }
   ],
   "source": [
    "# Get a statistical summary of the dataset\n",
    "df.describe()"
   ]
  },
  {
   "cell_type": "markdown",
   "id": "88470cad-6b48-4398-a5c7-dae679389093",
   "metadata": {},
   "source": [
    "#### Numerical Features"
   ]
  },
  {
   "cell_type": "code",
   "execution_count": 9,
   "id": "03876153-9a15-4ecc-a6c4-d02a67fec03d",
   "metadata": {
    "tags": []
   },
   "outputs": [
    {
     "data": {
      "text/plain": [
       "['station_id',\n",
       " 'dock_count',\n",
       " 'mean_dew_point_f',\n",
       " 'mean_humidity',\n",
       " 'mean_sea_level_pressure_inches',\n",
       " 'mean_visibility_miles',\n",
       " 'mean_wind_speed_mph',\n",
       " 'precipitation_inches',\n",
       " 'cloud_cover',\n",
       " 'zip_code',\n",
       " 'weekend',\n",
       " 'holiday',\n",
       " 'hour']"
      ]
     },
     "execution_count": 9,
     "metadata": {},
     "output_type": "execute_result"
    }
   ],
   "source": [
    "# Identify the numerical columns\n",
    "num_cols = df.select_dtypes(include=['number']).columns.tolist()\n",
    "\n",
    "# Show the list of numerical columns\n",
    "num_cols"
   ]
  },
  {
   "cell_type": "code",
   "execution_count": 10,
   "id": "78a6941a-ef93-4b42-89f7-59d739988937",
   "metadata": {
    "tags": []
   },
   "outputs": [
    {
     "name": "stdout",
     "output_type": "stream",
     "text": [
      "Number of numerical columns: 13\n"
     ]
    }
   ],
   "source": [
    "# Count the number of numerical columns\n",
    "print(f'Number of numerical columns: {len(num_cols)}')"
   ]
  },
  {
   "cell_type": "markdown",
   "id": "9d46f862-cbcd-4748-96c2-dacd2f30886c",
   "metadata": {},
   "source": [
    "#### Categorical Features"
   ]
  },
  {
   "cell_type": "code",
   "execution_count": 11,
   "id": "3373b57d-5f2c-453f-b97e-f4078d305639",
   "metadata": {
    "tags": []
   },
   "outputs": [
    {
     "data": {
      "text/plain": [
       "['usage_rate_category']"
      ]
     },
     "execution_count": 11,
     "metadata": {},
     "output_type": "execute_result"
    }
   ],
   "source": [
    "# Identify the categorical columns\n",
    "cate_cols = df.select_dtypes(include='object').columns.tolist()\n",
    "\n",
    "# Show the list of categorical columns\n",
    "cate_cols"
   ]
  },
  {
   "cell_type": "code",
   "execution_count": 12,
   "id": "14cfe273-5c75-4365-ac4a-7bdf8110c641",
   "metadata": {
    "tags": []
   },
   "outputs": [
    {
     "name": "stdout",
     "output_type": "stream",
     "text": [
      "Number of numerical columns: 1\n"
     ]
    }
   ],
   "source": [
    "# Count the number of categorical columns\n",
    "print(f'Number of numerical columns: {len(cate_cols)}')"
   ]
  },
  {
   "cell_type": "markdown",
   "id": "f60dadc1-8479-4613-9731-b47d338dc909",
   "metadata": {},
   "source": [
    "#### Datetime Features"
   ]
  },
  {
   "cell_type": "code",
   "execution_count": 13,
   "id": "061eaa0b-3abe-4dff-a0e7-3ea3d7c80475",
   "metadata": {
    "tags": []
   },
   "outputs": [
    {
     "data": {
      "text/plain": [
       "['time']"
      ]
     },
     "execution_count": 13,
     "metadata": {},
     "output_type": "execute_result"
    }
   ],
   "source": [
    "# Identify the datetime columns\n",
    "dat_cols = df.select_dtypes(include=['datetime']).columns.tolist()\n",
    "\n",
    "# Show the list of numerical columns\n",
    "dat_cols"
   ]
  },
  {
   "cell_type": "code",
   "execution_count": 14,
   "id": "7c9e843d-751d-45bb-8e61-74efa97cef2f",
   "metadata": {
    "tags": []
   },
   "outputs": [
    {
     "name": "stdout",
     "output_type": "stream",
     "text": [
      "Number of datetime columns: 1\n"
     ]
    }
   ],
   "source": [
    "# Count the number of datetime columns\n",
    "print(f'Number of datetime columns: {len(dat_cols)}')"
   ]
  },
  {
   "cell_type": "markdown",
   "id": "d39b0f4a-89f5-4ed5-9fdc-2212790f3709",
   "metadata": {},
   "source": [
    "## Categorical Variables"
   ]
  },
  {
   "cell_type": "markdown",
   "id": "86d7d863-dbc2-4ad8-8347-09d18ec0ca9c",
   "metadata": {},
   "source": [
    "#### Mapping the target variable to numerical values"
   ]
  },
  {
   "cell_type": "markdown",
   "id": "72f82f0b-951d-4c6d-8d90-3b85d0a7ce9b",
   "metadata": {},
   "source": [
    "We only have one categorical variable in our dataset. Let's proceed with manually encoding this variable."
   ]
  },
  {
   "cell_type": "code",
   "execution_count": 15,
   "id": "faa81622-7ad7-4fb2-b8ad-497824a0c626",
   "metadata": {
    "tags": []
   },
   "outputs": [
    {
     "data": {
      "text/plain": [
       "array(['Median', 'High', 'Low'], dtype=object)"
      ]
     },
     "execution_count": 15,
     "metadata": {},
     "output_type": "execute_result"
    }
   ],
   "source": [
    "# Get the unique values in the 'usage_rate_category' column\n",
    "df['usage_rate_category'].unique()"
   ]
  },
  {
   "cell_type": "markdown",
   "id": "b977bce4-5dc7-43e3-82f3-a3f77a3dd9bf",
   "metadata": {},
   "source": [
    "We will convert column 'usage_rate_category' into a numerical one, where 1 represents low usage, 2 represents median usage, and 3 represents high usage."
   ]
  },
  {
   "cell_type": "code",
   "execution_count": 16,
   "id": "626534d2-fce1-47e7-90e7-7f00e0c18693",
   "metadata": {
    "tags": []
   },
   "outputs": [
    {
     "data": {
      "text/html": [
       "<div>\n",
       "<style scoped>\n",
       "    .dataframe tbody tr th:only-of-type {\n",
       "        vertical-align: middle;\n",
       "    }\n",
       "\n",
       "    .dataframe tbody tr th {\n",
       "        vertical-align: top;\n",
       "    }\n",
       "\n",
       "    .dataframe thead th {\n",
       "        text-align: right;\n",
       "    }\n",
       "</style>\n",
       "<table border=\"1\" class=\"dataframe\">\n",
       "  <thead>\n",
       "    <tr style=\"text-align: right;\">\n",
       "      <th></th>\n",
       "      <th>time</th>\n",
       "      <th>station_id</th>\n",
       "      <th>dock_count</th>\n",
       "      <th>mean_dew_point_f</th>\n",
       "      <th>mean_humidity</th>\n",
       "      <th>mean_sea_level_pressure_inches</th>\n",
       "      <th>mean_visibility_miles</th>\n",
       "      <th>mean_wind_speed_mph</th>\n",
       "      <th>precipitation_inches</th>\n",
       "      <th>cloud_cover</th>\n",
       "      <th>zip_code</th>\n",
       "      <th>usage_rate_category</th>\n",
       "      <th>weekend</th>\n",
       "      <th>holiday</th>\n",
       "      <th>hour</th>\n",
       "    </tr>\n",
       "  </thead>\n",
       "  <tbody>\n",
       "    <tr>\n",
       "      <th>946560</th>\n",
       "      <td>2014-11-23 11:00:00</td>\n",
       "      <td>5</td>\n",
       "      <td>19</td>\n",
       "      <td>42.0</td>\n",
       "      <td>64.0</td>\n",
       "      <td>30.29</td>\n",
       "      <td>10.0</td>\n",
       "      <td>5.0</td>\n",
       "      <td>0</td>\n",
       "      <td>2.0</td>\n",
       "      <td>95113</td>\n",
       "      <td>1</td>\n",
       "      <td>1</td>\n",
       "      <td>0</td>\n",
       "      <td>11</td>\n",
       "    </tr>\n",
       "    <tr>\n",
       "      <th>4471036</th>\n",
       "      <td>2014-07-19 02:45:00</td>\n",
       "      <td>67</td>\n",
       "      <td>27</td>\n",
       "      <td>56.0</td>\n",
       "      <td>71.0</td>\n",
       "      <td>29.96</td>\n",
       "      <td>10.0</td>\n",
       "      <td>10.0</td>\n",
       "      <td>0</td>\n",
       "      <td>6.0</td>\n",
       "      <td>94107</td>\n",
       "      <td>1</td>\n",
       "      <td>1</td>\n",
       "      <td>0</td>\n",
       "      <td>2</td>\n",
       "    </tr>\n",
       "    <tr>\n",
       "      <th>221670</th>\n",
       "      <td>2014-06-18 18:30:00</td>\n",
       "      <td>3</td>\n",
       "      <td>15</td>\n",
       "      <td>42.0</td>\n",
       "      <td>43.0</td>\n",
       "      <td>29.93</td>\n",
       "      <td>10.0</td>\n",
       "      <td>7.0</td>\n",
       "      <td>0</td>\n",
       "      <td>0.0</td>\n",
       "      <td>95113</td>\n",
       "      <td>1</td>\n",
       "      <td>0</td>\n",
       "      <td>0</td>\n",
       "      <td>18</td>\n",
       "    </tr>\n",
       "    <tr>\n",
       "      <th>2135692</th>\n",
       "      <td>2014-12-14 23:40:00</td>\n",
       "      <td>83</td>\n",
       "      <td>15</td>\n",
       "      <td>47.0</td>\n",
       "      <td>86.0</td>\n",
       "      <td>30.08</td>\n",
       "      <td>9.0</td>\n",
       "      <td>1.0</td>\n",
       "      <td>1</td>\n",
       "      <td>6.0</td>\n",
       "      <td>94063</td>\n",
       "      <td>1</td>\n",
       "      <td>1</td>\n",
       "      <td>0</td>\n",
       "      <td>23</td>\n",
       "    </tr>\n",
       "    <tr>\n",
       "      <th>6736460</th>\n",
       "      <td>2015-03-02 00:25:00</td>\n",
       "      <td>50</td>\n",
       "      <td>23</td>\n",
       "      <td>44.0</td>\n",
       "      <td>69.0</td>\n",
       "      <td>29.86</td>\n",
       "      <td>10.0</td>\n",
       "      <td>5.0</td>\n",
       "      <td>1</td>\n",
       "      <td>5.0</td>\n",
       "      <td>94107</td>\n",
       "      <td>0</td>\n",
       "      <td>0</td>\n",
       "      <td>0</td>\n",
       "      <td>0</td>\n",
       "    </tr>\n",
       "    <tr>\n",
       "      <th>4451629</th>\n",
       "      <td>2014-07-17 17:30:00</td>\n",
       "      <td>69</td>\n",
       "      <td>23</td>\n",
       "      <td>56.0</td>\n",
       "      <td>68.0</td>\n",
       "      <td>29.99</td>\n",
       "      <td>10.0</td>\n",
       "      <td>13.0</td>\n",
       "      <td>0</td>\n",
       "      <td>4.0</td>\n",
       "      <td>94107</td>\n",
       "      <td>2</td>\n",
       "      <td>0</td>\n",
       "      <td>0</td>\n",
       "      <td>17</td>\n",
       "    </tr>\n",
       "    <tr>\n",
       "      <th>6535898</th>\n",
       "      <td>2015-02-10 14:55:00</td>\n",
       "      <td>55</td>\n",
       "      <td>23</td>\n",
       "      <td>45.0</td>\n",
       "      <td>71.0</td>\n",
       "      <td>30.17</td>\n",
       "      <td>10.0</td>\n",
       "      <td>4.0</td>\n",
       "      <td>0</td>\n",
       "      <td>3.0</td>\n",
       "      <td>94107</td>\n",
       "      <td>2</td>\n",
       "      <td>0</td>\n",
       "      <td>0</td>\n",
       "      <td>14</td>\n",
       "    </tr>\n",
       "    <tr>\n",
       "      <th>2145187</th>\n",
       "      <td>2014-12-19 22:55:00</td>\n",
       "      <td>25</td>\n",
       "      <td>15</td>\n",
       "      <td>52.0</td>\n",
       "      <td>89.0</td>\n",
       "      <td>30.15</td>\n",
       "      <td>9.0</td>\n",
       "      <td>6.0</td>\n",
       "      <td>0</td>\n",
       "      <td>8.0</td>\n",
       "      <td>94063</td>\n",
       "      <td>2</td>\n",
       "      <td>0</td>\n",
       "      <td>0</td>\n",
       "      <td>22</td>\n",
       "    </tr>\n",
       "    <tr>\n",
       "      <th>3072108</th>\n",
       "      <td>2015-03-25 01:35:00</td>\n",
       "      <td>30</td>\n",
       "      <td>15</td>\n",
       "      <td>50.0</td>\n",
       "      <td>65.0</td>\n",
       "      <td>30.22</td>\n",
       "      <td>10.0</td>\n",
       "      <td>5.0</td>\n",
       "      <td>0</td>\n",
       "      <td>0.0</td>\n",
       "      <td>94041</td>\n",
       "      <td>0</td>\n",
       "      <td>0</td>\n",
       "      <td>0</td>\n",
       "      <td>1</td>\n",
       "    </tr>\n",
       "    <tr>\n",
       "      <th>7146661</th>\n",
       "      <td>2015-04-11 06:30:00</td>\n",
       "      <td>82</td>\n",
       "      <td>15</td>\n",
       "      <td>48.0</td>\n",
       "      <td>70.0</td>\n",
       "      <td>30.05</td>\n",
       "      <td>10.0</td>\n",
       "      <td>7.0</td>\n",
       "      <td>0</td>\n",
       "      <td>4.0</td>\n",
       "      <td>94107</td>\n",
       "      <td>2</td>\n",
       "      <td>1</td>\n",
       "      <td>0</td>\n",
       "      <td>6</td>\n",
       "    </tr>\n",
       "  </tbody>\n",
       "</table>\n",
       "</div>"
      ],
      "text/plain": [
       "                       time  station_id  dock_count  mean_dew_point_f  \\\n",
       "946560  2014-11-23 11:00:00           5          19              42.0   \n",
       "4471036 2014-07-19 02:45:00          67          27              56.0   \n",
       "221670  2014-06-18 18:30:00           3          15              42.0   \n",
       "2135692 2014-12-14 23:40:00          83          15              47.0   \n",
       "6736460 2015-03-02 00:25:00          50          23              44.0   \n",
       "4451629 2014-07-17 17:30:00          69          23              56.0   \n",
       "6535898 2015-02-10 14:55:00          55          23              45.0   \n",
       "2145187 2014-12-19 22:55:00          25          15              52.0   \n",
       "3072108 2015-03-25 01:35:00          30          15              50.0   \n",
       "7146661 2015-04-11 06:30:00          82          15              48.0   \n",
       "\n",
       "         mean_humidity  mean_sea_level_pressure_inches  mean_visibility_miles  \\\n",
       "946560            64.0                           30.29                   10.0   \n",
       "4471036           71.0                           29.96                   10.0   \n",
       "221670            43.0                           29.93                   10.0   \n",
       "2135692           86.0                           30.08                    9.0   \n",
       "6736460           69.0                           29.86                   10.0   \n",
       "4451629           68.0                           29.99                   10.0   \n",
       "6535898           71.0                           30.17                   10.0   \n",
       "2145187           89.0                           30.15                    9.0   \n",
       "3072108           65.0                           30.22                   10.0   \n",
       "7146661           70.0                           30.05                   10.0   \n",
       "\n",
       "         mean_wind_speed_mph  precipitation_inches  cloud_cover  zip_code  \\\n",
       "946560                   5.0                     0          2.0     95113   \n",
       "4471036                 10.0                     0          6.0     94107   \n",
       "221670                   7.0                     0          0.0     95113   \n",
       "2135692                  1.0                     1          6.0     94063   \n",
       "6736460                  5.0                     1          5.0     94107   \n",
       "4451629                 13.0                     0          4.0     94107   \n",
       "6535898                  4.0                     0          3.0     94107   \n",
       "2145187                  6.0                     0          8.0     94063   \n",
       "3072108                  5.0                     0          0.0     94041   \n",
       "7146661                  7.0                     0          4.0     94107   \n",
       "\n",
       "         usage_rate_category  weekend  holiday  hour  \n",
       "946560                     1        1        0    11  \n",
       "4471036                    1        1        0     2  \n",
       "221670                     1        0        0    18  \n",
       "2135692                    1        1        0    23  \n",
       "6736460                    0        0        0     0  \n",
       "4451629                    2        0        0    17  \n",
       "6535898                    2        0        0    14  \n",
       "2145187                    2        0        0    22  \n",
       "3072108                    0        0        0     1  \n",
       "7146661                    2        1        0     6  "
      ]
     },
     "execution_count": 16,
     "metadata": {},
     "output_type": "execute_result"
    }
   ],
   "source": [
    "# Convert the 'usage_rate_category' column to a numerical one\n",
    "df['usage_rate_category'] = df['usage_rate_category'].replace({'Low': 0, 'Median': 1, 'High': 2}).astype(int)\n",
    "\n",
    "# Verify the conversion\n",
    "df.sample(10)"
   ]
  },
  {
   "cell_type": "code",
   "execution_count": 17,
   "id": "7e5987d9-6fc0-4de8-9c68-2cb872454684",
   "metadata": {
    "tags": []
   },
   "outputs": [
    {
     "data": {
      "text/plain": [
       "Index([], dtype='object')"
      ]
     },
     "execution_count": 17,
     "metadata": {},
     "output_type": "execute_result"
    }
   ],
   "source": [
    "# Verify if there is any remaining categorical columns in the dataset\n",
    "df.select_dtypes(['object']).columns"
   ]
  },
  {
   "cell_type": "markdown",
   "id": "9b68ea94-1f8f-4c49-bd47-fad157a71f08",
   "metadata": {},
   "source": [
    "## Datetime Variables"
   ]
  },
  {
   "cell_type": "markdown",
   "id": "bcbe8613-342f-4c7f-96fb-2d8d7a78ac81",
   "metadata": {},
   "source": [
    "#### Extracting datetime variables"
   ]
  },
  {
   "cell_type": "markdown",
   "id": "569e386a-1b8a-4815-8a7f-6650d0248193",
   "metadata": {},
   "source": [
    "We have one datetime variable. Let's extract useful date/time components such as year, month, day, and minute. Since we already have the 'hour' column, we will drop it first to ensure the date/time information is organized in the following order in our dataframe: year, month, day, hour, minute."
   ]
  },
  {
   "cell_type": "code",
   "execution_count": 18,
   "id": "b8a5681c-0167-40b4-8749-c915d21f5206",
   "metadata": {
    "tags": []
   },
   "outputs": [
    {
     "data": {
      "text/html": [
       "<div>\n",
       "<style scoped>\n",
       "    .dataframe tbody tr th:only-of-type {\n",
       "        vertical-align: middle;\n",
       "    }\n",
       "\n",
       "    .dataframe tbody tr th {\n",
       "        vertical-align: top;\n",
       "    }\n",
       "\n",
       "    .dataframe thead th {\n",
       "        text-align: right;\n",
       "    }\n",
       "</style>\n",
       "<table border=\"1\" class=\"dataframe\">\n",
       "  <thead>\n",
       "    <tr style=\"text-align: right;\">\n",
       "      <th></th>\n",
       "      <th>time</th>\n",
       "      <th>station_id</th>\n",
       "      <th>dock_count</th>\n",
       "      <th>mean_dew_point_f</th>\n",
       "      <th>mean_humidity</th>\n",
       "      <th>mean_sea_level_pressure_inches</th>\n",
       "      <th>mean_visibility_miles</th>\n",
       "      <th>mean_wind_speed_mph</th>\n",
       "      <th>precipitation_inches</th>\n",
       "      <th>cloud_cover</th>\n",
       "      <th>zip_code</th>\n",
       "      <th>usage_rate_category</th>\n",
       "      <th>weekend</th>\n",
       "      <th>holiday</th>\n",
       "      <th>month</th>\n",
       "      <th>day</th>\n",
       "      <th>hour</th>\n",
       "      <th>minute</th>\n",
       "    </tr>\n",
       "  </thead>\n",
       "  <tbody>\n",
       "    <tr>\n",
       "      <th>4031862</th>\n",
       "      <td>2014-06-05 16:50:00</td>\n",
       "      <td>82</td>\n",
       "      <td>15</td>\n",
       "      <td>51.0</td>\n",
       "      <td>74.0</td>\n",
       "      <td>29.85</td>\n",
       "      <td>9.0</td>\n",
       "      <td>11.0</td>\n",
       "      <td>0</td>\n",
       "      <td>3.0</td>\n",
       "      <td>94107</td>\n",
       "      <td>2</td>\n",
       "      <td>0</td>\n",
       "      <td>0</td>\n",
       "      <td>6</td>\n",
       "      <td>5</td>\n",
       "      <td>16</td>\n",
       "      <td>50</td>\n",
       "    </tr>\n",
       "    <tr>\n",
       "      <th>3884337</th>\n",
       "      <td>2014-05-22 11:05:00</td>\n",
       "      <td>56</td>\n",
       "      <td>19</td>\n",
       "      <td>50.0</td>\n",
       "      <td>72.0</td>\n",
       "      <td>29.98</td>\n",
       "      <td>10.0</td>\n",
       "      <td>11.0</td>\n",
       "      <td>0</td>\n",
       "      <td>6.0</td>\n",
       "      <td>94107</td>\n",
       "      <td>1</td>\n",
       "      <td>0</td>\n",
       "      <td>0</td>\n",
       "      <td>5</td>\n",
       "      <td>22</td>\n",
       "      <td>11</td>\n",
       "      <td>5</td>\n",
       "    </tr>\n",
       "    <tr>\n",
       "      <th>6843893</th>\n",
       "      <td>2015-03-12 12:10:00</td>\n",
       "      <td>76</td>\n",
       "      <td>19</td>\n",
       "      <td>51.0</td>\n",
       "      <td>72.0</td>\n",
       "      <td>30.22</td>\n",
       "      <td>10.0</td>\n",
       "      <td>5.0</td>\n",
       "      <td>0</td>\n",
       "      <td>3.0</td>\n",
       "      <td>94107</td>\n",
       "      <td>1</td>\n",
       "      <td>0</td>\n",
       "      <td>0</td>\n",
       "      <td>3</td>\n",
       "      <td>12</td>\n",
       "      <td>12</td>\n",
       "      <td>10</td>\n",
       "    </tr>\n",
       "    <tr>\n",
       "      <th>682392</th>\n",
       "      <td>2014-09-26 20:35:00</td>\n",
       "      <td>16</td>\n",
       "      <td>15</td>\n",
       "      <td>53.0</td>\n",
       "      <td>67.0</td>\n",
       "      <td>29.97</td>\n",
       "      <td>10.0</td>\n",
       "      <td>7.0</td>\n",
       "      <td>1</td>\n",
       "      <td>4.0</td>\n",
       "      <td>95113</td>\n",
       "      <td>1</td>\n",
       "      <td>0</td>\n",
       "      <td>0</td>\n",
       "      <td>9</td>\n",
       "      <td>26</td>\n",
       "      <td>20</td>\n",
       "      <td>35</td>\n",
       "    </tr>\n",
       "    <tr>\n",
       "      <th>5633318</th>\n",
       "      <td>2014-11-12 15:55:00</td>\n",
       "      <td>71</td>\n",
       "      <td>19</td>\n",
       "      <td>46.0</td>\n",
       "      <td>56.0</td>\n",
       "      <td>29.99</td>\n",
       "      <td>10.0</td>\n",
       "      <td>4.0</td>\n",
       "      <td>1</td>\n",
       "      <td>7.0</td>\n",
       "      <td>94107</td>\n",
       "      <td>1</td>\n",
       "      <td>0</td>\n",
       "      <td>0</td>\n",
       "      <td>11</td>\n",
       "      <td>12</td>\n",
       "      <td>15</td>\n",
       "      <td>55</td>\n",
       "    </tr>\n",
       "    <tr>\n",
       "      <th>2528686</th>\n",
       "      <td>2014-06-28 12:30:00</td>\n",
       "      <td>27</td>\n",
       "      <td>15</td>\n",
       "      <td>53.0</td>\n",
       "      <td>56.0</td>\n",
       "      <td>29.96</td>\n",
       "      <td>10.0</td>\n",
       "      <td>8.0</td>\n",
       "      <td>0</td>\n",
       "      <td>0.0</td>\n",
       "      <td>94041</td>\n",
       "      <td>1</td>\n",
       "      <td>1</td>\n",
       "      <td>0</td>\n",
       "      <td>6</td>\n",
       "      <td>28</td>\n",
       "      <td>12</td>\n",
       "      <td>30</td>\n",
       "    </tr>\n",
       "    <tr>\n",
       "      <th>6549190</th>\n",
       "      <td>2015-02-11 18:35:00</td>\n",
       "      <td>66</td>\n",
       "      <td>19</td>\n",
       "      <td>46.0</td>\n",
       "      <td>78.0</td>\n",
       "      <td>30.15</td>\n",
       "      <td>10.0</td>\n",
       "      <td>3.0</td>\n",
       "      <td>0</td>\n",
       "      <td>4.0</td>\n",
       "      <td>94107</td>\n",
       "      <td>2</td>\n",
       "      <td>0</td>\n",
       "      <td>0</td>\n",
       "      <td>2</td>\n",
       "      <td>11</td>\n",
       "      <td>18</td>\n",
       "      <td>35</td>\n",
       "    </tr>\n",
       "    <tr>\n",
       "      <th>786179</th>\n",
       "      <td>2014-10-19 06:25:00</td>\n",
       "      <td>8</td>\n",
       "      <td>15</td>\n",
       "      <td>56.0</td>\n",
       "      <td>77.0</td>\n",
       "      <td>29.90</td>\n",
       "      <td>8.0</td>\n",
       "      <td>5.0</td>\n",
       "      <td>0</td>\n",
       "      <td>4.0</td>\n",
       "      <td>95113</td>\n",
       "      <td>1</td>\n",
       "      <td>1</td>\n",
       "      <td>0</td>\n",
       "      <td>10</td>\n",
       "      <td>19</td>\n",
       "      <td>6</td>\n",
       "      <td>25</td>\n",
       "    </tr>\n",
       "    <tr>\n",
       "      <th>5576401</th>\n",
       "      <td>2014-11-07 00:50:00</td>\n",
       "      <td>47</td>\n",
       "      <td>19</td>\n",
       "      <td>54.0</td>\n",
       "      <td>81.0</td>\n",
       "      <td>30.18</td>\n",
       "      <td>5.0</td>\n",
       "      <td>4.0</td>\n",
       "      <td>1</td>\n",
       "      <td>3.0</td>\n",
       "      <td>94107</td>\n",
       "      <td>2</td>\n",
       "      <td>0</td>\n",
       "      <td>0</td>\n",
       "      <td>11</td>\n",
       "      <td>7</td>\n",
       "      <td>0</td>\n",
       "      <td>50</td>\n",
       "    </tr>\n",
       "    <tr>\n",
       "      <th>2824104</th>\n",
       "      <td>2014-11-22 15:35:00</td>\n",
       "      <td>29</td>\n",
       "      <td>23</td>\n",
       "      <td>54.0</td>\n",
       "      <td>77.0</td>\n",
       "      <td>30.14</td>\n",
       "      <td>10.0</td>\n",
       "      <td>7.0</td>\n",
       "      <td>1</td>\n",
       "      <td>5.0</td>\n",
       "      <td>94041</td>\n",
       "      <td>1</td>\n",
       "      <td>1</td>\n",
       "      <td>0</td>\n",
       "      <td>11</td>\n",
       "      <td>22</td>\n",
       "      <td>15</td>\n",
       "      <td>35</td>\n",
       "    </tr>\n",
       "    <tr>\n",
       "      <th>6933400</th>\n",
       "      <td>2015-03-21 07:05:00</td>\n",
       "      <td>72</td>\n",
       "      <td>23</td>\n",
       "      <td>53.0</td>\n",
       "      <td>70.0</td>\n",
       "      <td>30.15</td>\n",
       "      <td>10.0</td>\n",
       "      <td>6.0</td>\n",
       "      <td>0</td>\n",
       "      <td>7.0</td>\n",
       "      <td>94107</td>\n",
       "      <td>1</td>\n",
       "      <td>1</td>\n",
       "      <td>0</td>\n",
       "      <td>3</td>\n",
       "      <td>21</td>\n",
       "      <td>7</td>\n",
       "      <td>5</td>\n",
       "    </tr>\n",
       "    <tr>\n",
       "      <th>6821336</th>\n",
       "      <td>2015-03-10 04:25:00</td>\n",
       "      <td>68</td>\n",
       "      <td>19</td>\n",
       "      <td>50.0</td>\n",
       "      <td>86.0</td>\n",
       "      <td>29.96</td>\n",
       "      <td>5.0</td>\n",
       "      <td>5.0</td>\n",
       "      <td>0</td>\n",
       "      <td>8.0</td>\n",
       "      <td>94107</td>\n",
       "      <td>2</td>\n",
       "      <td>0</td>\n",
       "      <td>0</td>\n",
       "      <td>3</td>\n",
       "      <td>10</td>\n",
       "      <td>4</td>\n",
       "      <td>25</td>\n",
       "    </tr>\n",
       "    <tr>\n",
       "      <th>4178367</th>\n",
       "      <td>2014-06-20 11:10:00</td>\n",
       "      <td>64</td>\n",
       "      <td>15</td>\n",
       "      <td>52.0</td>\n",
       "      <td>66.0</td>\n",
       "      <td>29.97</td>\n",
       "      <td>10.0</td>\n",
       "      <td>10.0</td>\n",
       "      <td>0</td>\n",
       "      <td>4.0</td>\n",
       "      <td>94107</td>\n",
       "      <td>0</td>\n",
       "      <td>0</td>\n",
       "      <td>0</td>\n",
       "      <td>6</td>\n",
       "      <td>20</td>\n",
       "      <td>11</td>\n",
       "      <td>10</td>\n",
       "    </tr>\n",
       "    <tr>\n",
       "      <th>3416358</th>\n",
       "      <td>2014-11-05 21:30:00</td>\n",
       "      <td>37</td>\n",
       "      <td>11</td>\n",
       "      <td>50.0</td>\n",
       "      <td>58.0</td>\n",
       "      <td>30.12</td>\n",
       "      <td>11.0</td>\n",
       "      <td>4.0</td>\n",
       "      <td>0</td>\n",
       "      <td>1.0</td>\n",
       "      <td>94301</td>\n",
       "      <td>1</td>\n",
       "      <td>0</td>\n",
       "      <td>0</td>\n",
       "      <td>11</td>\n",
       "      <td>5</td>\n",
       "      <td>21</td>\n",
       "      <td>30</td>\n",
       "    </tr>\n",
       "    <tr>\n",
       "      <th>3093100</th>\n",
       "      <td>2015-04-04 22:55:00</td>\n",
       "      <td>32</td>\n",
       "      <td>11</td>\n",
       "      <td>37.0</td>\n",
       "      <td>51.0</td>\n",
       "      <td>30.07</td>\n",
       "      <td>10.0</td>\n",
       "      <td>7.0</td>\n",
       "      <td>0</td>\n",
       "      <td>0.0</td>\n",
       "      <td>94041</td>\n",
       "      <td>0</td>\n",
       "      <td>1</td>\n",
       "      <td>0</td>\n",
       "      <td>4</td>\n",
       "      <td>4</td>\n",
       "      <td>22</td>\n",
       "      <td>55</td>\n",
       "    </tr>\n",
       "  </tbody>\n",
       "</table>\n",
       "</div>"
      ],
      "text/plain": [
       "                       time  station_id  dock_count  mean_dew_point_f  \\\n",
       "4031862 2014-06-05 16:50:00          82          15              51.0   \n",
       "3884337 2014-05-22 11:05:00          56          19              50.0   \n",
       "6843893 2015-03-12 12:10:00          76          19              51.0   \n",
       "682392  2014-09-26 20:35:00          16          15              53.0   \n",
       "5633318 2014-11-12 15:55:00          71          19              46.0   \n",
       "2528686 2014-06-28 12:30:00          27          15              53.0   \n",
       "6549190 2015-02-11 18:35:00          66          19              46.0   \n",
       "786179  2014-10-19 06:25:00           8          15              56.0   \n",
       "5576401 2014-11-07 00:50:00          47          19              54.0   \n",
       "2824104 2014-11-22 15:35:00          29          23              54.0   \n",
       "6933400 2015-03-21 07:05:00          72          23              53.0   \n",
       "6821336 2015-03-10 04:25:00          68          19              50.0   \n",
       "4178367 2014-06-20 11:10:00          64          15              52.0   \n",
       "3416358 2014-11-05 21:30:00          37          11              50.0   \n",
       "3093100 2015-04-04 22:55:00          32          11              37.0   \n",
       "\n",
       "         mean_humidity  mean_sea_level_pressure_inches  mean_visibility_miles  \\\n",
       "4031862           74.0                           29.85                    9.0   \n",
       "3884337           72.0                           29.98                   10.0   \n",
       "6843893           72.0                           30.22                   10.0   \n",
       "682392            67.0                           29.97                   10.0   \n",
       "5633318           56.0                           29.99                   10.0   \n",
       "2528686           56.0                           29.96                   10.0   \n",
       "6549190           78.0                           30.15                   10.0   \n",
       "786179            77.0                           29.90                    8.0   \n",
       "5576401           81.0                           30.18                    5.0   \n",
       "2824104           77.0                           30.14                   10.0   \n",
       "6933400           70.0                           30.15                   10.0   \n",
       "6821336           86.0                           29.96                    5.0   \n",
       "4178367           66.0                           29.97                   10.0   \n",
       "3416358           58.0                           30.12                   11.0   \n",
       "3093100           51.0                           30.07                   10.0   \n",
       "\n",
       "         mean_wind_speed_mph  precipitation_inches  cloud_cover  zip_code  \\\n",
       "4031862                 11.0                     0          3.0     94107   \n",
       "3884337                 11.0                     0          6.0     94107   \n",
       "6843893                  5.0                     0          3.0     94107   \n",
       "682392                   7.0                     1          4.0     95113   \n",
       "5633318                  4.0                     1          7.0     94107   \n",
       "2528686                  8.0                     0          0.0     94041   \n",
       "6549190                  3.0                     0          4.0     94107   \n",
       "786179                   5.0                     0          4.0     95113   \n",
       "5576401                  4.0                     1          3.0     94107   \n",
       "2824104                  7.0                     1          5.0     94041   \n",
       "6933400                  6.0                     0          7.0     94107   \n",
       "6821336                  5.0                     0          8.0     94107   \n",
       "4178367                 10.0                     0          4.0     94107   \n",
       "3416358                  4.0                     0          1.0     94301   \n",
       "3093100                  7.0                     0          0.0     94041   \n",
       "\n",
       "         usage_rate_category  weekend  holiday  month  day  hour  minute  \n",
       "4031862                    2        0        0      6    5    16      50  \n",
       "3884337                    1        0        0      5   22    11       5  \n",
       "6843893                    1        0        0      3   12    12      10  \n",
       "682392                     1        0        0      9   26    20      35  \n",
       "5633318                    1        0        0     11   12    15      55  \n",
       "2528686                    1        1        0      6   28    12      30  \n",
       "6549190                    2        0        0      2   11    18      35  \n",
       "786179                     1        1        0     10   19     6      25  \n",
       "5576401                    2        0        0     11    7     0      50  \n",
       "2824104                    1        1        0     11   22    15      35  \n",
       "6933400                    1        1        0      3   21     7       5  \n",
       "6821336                    2        0        0      3   10     4      25  \n",
       "4178367                    0        0        0      6   20    11      10  \n",
       "3416358                    1        0        0     11    5    21      30  \n",
       "3093100                    0        1        0      4    4    22      55  "
      ]
     },
     "execution_count": 18,
     "metadata": {},
     "output_type": "execute_result"
    }
   ],
   "source": [
    "# Drop the column 'hour'\n",
    "df = df.drop('hour', axis=1)\n",
    "\n",
    "# Extract datetime components and create new columns\n",
    "df['month'] = df['time'].dt.month\n",
    "df['day'] = df['time'].dt.day\n",
    "df['hour'] = df['time'].dt.hour\n",
    "df['minute'] = df['time'].dt.minute\n",
    "\n",
    "# Verify the conversion\n",
    "df.sample(15)"
   ]
  },
  {
   "cell_type": "code",
   "execution_count": 19,
   "id": "343fbcdb-cd0e-45b2-8fe8-fe66b34d0dab",
   "metadata": {
    "tags": []
   },
   "outputs": [],
   "source": [
    "# Drop the column 'time'\n",
    "df = df.drop('time', axis=1)"
   ]
  },
  {
   "cell_type": "code",
   "execution_count": 20,
   "id": "1ce697dc-09a5-4fba-a4ea-03bb74eb24b6",
   "metadata": {
    "tags": []
   },
   "outputs": [
    {
     "data": {
      "text/html": [
       "<div>\n",
       "<style scoped>\n",
       "    .dataframe tbody tr th:only-of-type {\n",
       "        vertical-align: middle;\n",
       "    }\n",
       "\n",
       "    .dataframe tbody tr th {\n",
       "        vertical-align: top;\n",
       "    }\n",
       "\n",
       "    .dataframe thead th {\n",
       "        text-align: right;\n",
       "    }\n",
       "</style>\n",
       "<table border=\"1\" class=\"dataframe\">\n",
       "  <thead>\n",
       "    <tr style=\"text-align: right;\">\n",
       "      <th></th>\n",
       "      <th>station_id</th>\n",
       "      <th>dock_count</th>\n",
       "      <th>mean_dew_point_f</th>\n",
       "      <th>mean_humidity</th>\n",
       "      <th>mean_sea_level_pressure_inches</th>\n",
       "      <th>mean_visibility_miles</th>\n",
       "      <th>mean_wind_speed_mph</th>\n",
       "      <th>precipitation_inches</th>\n",
       "      <th>cloud_cover</th>\n",
       "      <th>zip_code</th>\n",
       "      <th>usage_rate_category</th>\n",
       "      <th>weekend</th>\n",
       "      <th>holiday</th>\n",
       "      <th>month</th>\n",
       "      <th>day</th>\n",
       "      <th>hour</th>\n",
       "      <th>minute</th>\n",
       "    </tr>\n",
       "  </thead>\n",
       "  <tbody>\n",
       "    <tr>\n",
       "      <th>0</th>\n",
       "      <td>2</td>\n",
       "      <td>27</td>\n",
       "      <td>45.0</td>\n",
       "      <td>41.0</td>\n",
       "      <td>30.06</td>\n",
       "      <td>10.0</td>\n",
       "      <td>6.0</td>\n",
       "      <td>0</td>\n",
       "      <td>3.0</td>\n",
       "      <td>95113</td>\n",
       "      <td>1</td>\n",
       "      <td>0</td>\n",
       "      <td>0</td>\n",
       "      <td>5</td>\n",
       "      <td>1</td>\n",
       "      <td>0</td>\n",
       "      <td>0</td>\n",
       "    </tr>\n",
       "    <tr>\n",
       "      <th>1</th>\n",
       "      <td>2</td>\n",
       "      <td>27</td>\n",
       "      <td>45.0</td>\n",
       "      <td>41.0</td>\n",
       "      <td>30.06</td>\n",
       "      <td>10.0</td>\n",
       "      <td>6.0</td>\n",
       "      <td>0</td>\n",
       "      <td>3.0</td>\n",
       "      <td>95113</td>\n",
       "      <td>1</td>\n",
       "      <td>0</td>\n",
       "      <td>0</td>\n",
       "      <td>5</td>\n",
       "      <td>1</td>\n",
       "      <td>0</td>\n",
       "      <td>5</td>\n",
       "    </tr>\n",
       "    <tr>\n",
       "      <th>2</th>\n",
       "      <td>2</td>\n",
       "      <td>27</td>\n",
       "      <td>45.0</td>\n",
       "      <td>41.0</td>\n",
       "      <td>30.06</td>\n",
       "      <td>10.0</td>\n",
       "      <td>6.0</td>\n",
       "      <td>0</td>\n",
       "      <td>3.0</td>\n",
       "      <td>95113</td>\n",
       "      <td>1</td>\n",
       "      <td>0</td>\n",
       "      <td>0</td>\n",
       "      <td>5</td>\n",
       "      <td>1</td>\n",
       "      <td>0</td>\n",
       "      <td>10</td>\n",
       "    </tr>\n",
       "    <tr>\n",
       "      <th>3</th>\n",
       "      <td>2</td>\n",
       "      <td>27</td>\n",
       "      <td>45.0</td>\n",
       "      <td>41.0</td>\n",
       "      <td>30.06</td>\n",
       "      <td>10.0</td>\n",
       "      <td>6.0</td>\n",
       "      <td>0</td>\n",
       "      <td>3.0</td>\n",
       "      <td>95113</td>\n",
       "      <td>1</td>\n",
       "      <td>0</td>\n",
       "      <td>0</td>\n",
       "      <td>5</td>\n",
       "      <td>1</td>\n",
       "      <td>0</td>\n",
       "      <td>15</td>\n",
       "    </tr>\n",
       "    <tr>\n",
       "      <th>4</th>\n",
       "      <td>2</td>\n",
       "      <td>27</td>\n",
       "      <td>45.0</td>\n",
       "      <td>41.0</td>\n",
       "      <td>30.06</td>\n",
       "      <td>10.0</td>\n",
       "      <td>6.0</td>\n",
       "      <td>0</td>\n",
       "      <td>3.0</td>\n",
       "      <td>95113</td>\n",
       "      <td>1</td>\n",
       "      <td>0</td>\n",
       "      <td>0</td>\n",
       "      <td>5</td>\n",
       "      <td>1</td>\n",
       "      <td>0</td>\n",
       "      <td>20</td>\n",
       "    </tr>\n",
       "  </tbody>\n",
       "</table>\n",
       "</div>"
      ],
      "text/plain": [
       "   station_id  dock_count  mean_dew_point_f  mean_humidity  \\\n",
       "0           2          27              45.0           41.0   \n",
       "1           2          27              45.0           41.0   \n",
       "2           2          27              45.0           41.0   \n",
       "3           2          27              45.0           41.0   \n",
       "4           2          27              45.0           41.0   \n",
       "\n",
       "   mean_sea_level_pressure_inches  mean_visibility_miles  mean_wind_speed_mph  \\\n",
       "0                           30.06                   10.0                  6.0   \n",
       "1                           30.06                   10.0                  6.0   \n",
       "2                           30.06                   10.0                  6.0   \n",
       "3                           30.06                   10.0                  6.0   \n",
       "4                           30.06                   10.0                  6.0   \n",
       "\n",
       "   precipitation_inches  cloud_cover  zip_code  usage_rate_category  weekend  \\\n",
       "0                     0          3.0     95113                    1        0   \n",
       "1                     0          3.0     95113                    1        0   \n",
       "2                     0          3.0     95113                    1        0   \n",
       "3                     0          3.0     95113                    1        0   \n",
       "4                     0          3.0     95113                    1        0   \n",
       "\n",
       "   holiday  month  day  hour  minute  \n",
       "0        0      5    1     0       0  \n",
       "1        0      5    1     0       5  \n",
       "2        0      5    1     0      10  \n",
       "3        0      5    1     0      15  \n",
       "4        0      5    1     0      20  "
      ]
     },
     "execution_count": 20,
     "metadata": {},
     "output_type": "execute_result"
    }
   ],
   "source": [
    "# Look at the first 5 rows\n",
    "df.head()"
   ]
  },
  {
   "cell_type": "code",
   "execution_count": 21,
   "id": "88f134e9-e4a3-4e30-a43c-68cda36f9c49",
   "metadata": {
    "tags": []
   },
   "outputs": [
    {
     "data": {
      "text/plain": [
       "Index([], dtype='object')"
      ]
     },
     "execution_count": 21,
     "metadata": {},
     "output_type": "execute_result"
    }
   ],
   "source": [
    "# Verify if there is any remaining datetime columns in the dataset\n",
    "df.select_dtypes(['datetime']).columns"
   ]
  },
  {
   "cell_type": "code",
   "execution_count": 22,
   "id": "747d722a-a169-458b-8dc6-f780ebdcc76f",
   "metadata": {
    "tags": []
   },
   "outputs": [
    {
     "data": {
      "text/plain": [
       "(7337194, 17)"
      ]
     },
     "execution_count": 22,
     "metadata": {},
     "output_type": "execute_result"
    }
   ],
   "source": [
    "# Double check the shape of the dataset before train/test split\n",
    "df.shape"
   ]
  },
  {
   "cell_type": "code",
   "execution_count": 23,
   "id": "382aca59-c9c3-41fe-ad53-e2a533f24bb0",
   "metadata": {
    "tags": []
   },
   "outputs": [
    {
     "name": "stdout",
     "output_type": "stream",
     "text": [
      "<class 'pandas.core.frame.DataFrame'>\n",
      "RangeIndex: 7337194 entries, 0 to 7337193\n",
      "Data columns (total 17 columns):\n",
      " #   Column                          Dtype  \n",
      "---  ------                          -----  \n",
      " 0   station_id                      int64  \n",
      " 1   dock_count                      int64  \n",
      " 2   mean_dew_point_f                float64\n",
      " 3   mean_humidity                   float64\n",
      " 4   mean_sea_level_pressure_inches  float64\n",
      " 5   mean_visibility_miles           float64\n",
      " 6   mean_wind_speed_mph             float64\n",
      " 7   precipitation_inches            int64  \n",
      " 8   cloud_cover                     float64\n",
      " 9   zip_code                        int64  \n",
      " 10  usage_rate_category             int64  \n",
      " 11  weekend                         int64  \n",
      " 12  holiday                         int64  \n",
      " 13  month                           int32  \n",
      " 14  day                             int32  \n",
      " 15  hour                            int32  \n",
      " 16  minute                          int32  \n",
      "dtypes: float64(6), int32(4), int64(7)\n",
      "memory usage: 839.7 MB\n"
     ]
    }
   ],
   "source": [
    "# Get a quick overview of dataset variables\n",
    "df.info()"
   ]
  },
  {
   "cell_type": "markdown",
   "id": "9e976ba5-3ee7-4811-8ac2-c45e9673827d",
   "metadata": {},
   "source": [
    "## Train/Test Split and Scaling"
   ]
  },
  {
   "cell_type": "markdown",
   "id": "23175c69-76f9-4f02-9579-b66770f5cdee",
   "metadata": {},
   "source": [
    "#### Train/Test Split"
   ]
  },
  {
   "cell_type": "markdown",
   "id": "ace2d23f-654b-4bbb-bd25-93fc45ce395d",
   "metadata": {},
   "source": [
    "First, let's split the data into train and test sets by using the train_test_split function."
   ]
  },
  {
   "cell_type": "code",
   "execution_count": 24,
   "id": "0a543b4b-2a9c-4168-baae-6477c0b34cc5",
   "metadata": {
    "tags": []
   },
   "outputs": [],
   "source": [
    "# Define the features and target variable\n",
    "X = df.drop(columns='usage_rate_category')\n",
    "y = df['usage_rate_category']\n",
    "\n",
    "# Split the data so the test set contains 20% of the points, \n",
    "# (the training set will contain the rest of the points)\n",
    "X_train, X_test, y_train, y_test = train_test_split(X, y, test_size=0.2, random_state=42)"
   ]
  },
  {
   "cell_type": "code",
   "execution_count": 25,
   "id": "5dd89bf8-c3bb-4672-80b7-a98111954167",
   "metadata": {
    "tags": []
   },
   "outputs": [
    {
     "name": "stdout",
     "output_type": "stream",
     "text": [
      "(5869755, 16) (1467439, 16) (5869755,) (1467439,)\n"
     ]
    }
   ],
   "source": [
    "# Show the shape of train and test sets\n",
    "print(X_train.shape, X_test.shape, y_train.shape, y_test.shape)"
   ]
  },
  {
   "cell_type": "markdown",
   "id": "90a33c9a-82bd-4815-9a10-4b8377dfa5cf",
   "metadata": {},
   "source": [
    "#### Scaling Data"
   ]
  },
  {
   "cell_type": "code",
   "execution_count": 26,
   "id": "ecc8d96e-564f-4a04-87b4-2d2e44c0a155",
   "metadata": {
    "tags": []
   },
   "outputs": [],
   "source": [
    "# Initialize a scaler\n",
    "my_standard_scaler = StandardScaler()\n",
    "\n",
    "# Fit the scaler on train data and then transform the train data\n",
    "X_scaled_train = my_standard_scaler.fit_transform(X_train)\n",
    "\n",
    "# Transform test data using the same scaler\n",
    "X_scaled_test = my_standard_scaler.transform(X_test)"
   ]
  },
  {
   "cell_type": "markdown",
   "id": "20974fd9-dfb3-447d-9af4-f3efcf8f3a42",
   "metadata": {},
   "source": [
    "#### Handling Imbalanced Datasets"
   ]
  },
  {
   "cell_type": "markdown",
   "id": "a506d9ad-1eda-4236-98d2-9abde211959b",
   "metadata": {},
   "source": [
    "Let's take a look at our traget variables. "
   ]
  },
  {
   "cell_type": "code",
   "execution_count": 27,
   "id": "7960a4c7-abcd-4a22-a7bd-0bbb496afdf5",
   "metadata": {},
   "outputs": [
    {
     "data": {
      "text/plain": [
       "usage_rate_category\n",
       "1    67.176239\n",
       "2    19.979613\n",
       "0    12.844147\n",
       "Name: count, dtype: float64"
      ]
     },
     "execution_count": 27,
     "metadata": {},
     "output_type": "execute_result"
    }
   ],
   "source": [
    "# Get the percentage of each unique value in 'usage_rate_category' column\n",
    "df['usage_rate_category'].value_counts() / len(df) * 100"
   ]
  },
  {
   "cell_type": "markdown",
   "id": "874406ec-5bd1-40b2-a305-4ff78f31ed69",
   "metadata": {},
   "source": [
    "The data is imbalanced, with the majority of the usage rate category falling in class 2 (67%), followed by class 3 (20%), and class 1 (13%). \n",
    "\n",
    "We will apply SMOTE to the training set to address this issue since SMOTE can generate synthetic samples for the minority class."
   ]
  },
  {
   "cell_type": "code",
   "execution_count": 28,
   "id": "ddb15d10-619f-4c98-8463-67f59f623b11",
   "metadata": {
    "tags": []
   },
   "outputs": [],
   "source": [
    "# Initialize SMOTE\n",
    "smote = SMOTE(random_state=42)\n",
    "\n",
    "# Apply SMOTE to the X_scaled_train set\n",
    "X_sm_train, y_sm_train = smote.fit_resample(X_scaled_train, y_train)"
   ]
  },
  {
   "cell_type": "code",
   "execution_count": 29,
   "id": "eedf7d37-56f0-491a-83ba-254b57ceb954",
   "metadata": {
    "tags": []
   },
   "outputs": [
    {
     "name": "stdout",
     "output_type": "stream",
     "text": [
      "(11831433, 16)\n"
     ]
    }
   ],
   "source": [
    "# Print the shape of the new X_train dataset\n",
    "print(X_sm_train.shape)"
   ]
  },
  {
   "cell_type": "code",
   "execution_count": 30,
   "id": "b74dc9e9-f0bd-45e2-842a-1a5831cbfaac",
   "metadata": {
    "tags": []
   },
   "outputs": [
    {
     "name": "stdout",
     "output_type": "stream",
     "text": [
      "(11831433,)\n"
     ]
    }
   ],
   "source": [
    "# Print the shape of the new y_train dataset\n",
    "print(y_sm_train.shape)"
   ]
  },
  {
   "cell_type": "code",
   "execution_count": 31,
   "id": "ceaf0b57-bed0-4a81-96af-4821e231d818",
   "metadata": {
    "tags": []
   },
   "outputs": [
    {
     "name": "stdout",
     "output_type": "stream",
     "text": [
      "Original Class Distribution:\n"
     ]
    },
    {
     "data": {
      "text/plain": [
       "usage_rate_category\n",
       "0     753475\n",
       "1    3943811\n",
       "2    1172469\n",
       "Name: count, dtype: int64"
      ]
     },
     "metadata": {},
     "output_type": "display_data"
    },
    {
     "name": "stdout",
     "output_type": "stream",
     "text": [
      "\n",
      "Resampled Class Distribution:\n"
     ]
    },
    {
     "data": {
      "text/plain": [
       "usage_rate_category\n",
       "0    3943811\n",
       "1    3943811\n",
       "2    3943811\n",
       "Name: count, dtype: int64"
      ]
     },
     "metadata": {},
     "output_type": "display_data"
    }
   ],
   "source": [
    "# Compare the original class distribution with resampled class distribution\n",
    "print('Original Class Distribution:')\n",
    "display(pd.Series(y_train).value_counts().sort_index())\n",
    "\n",
    "print('\\nResampled Class Distribution:')\n",
    "display(pd.Series(y_sm_train).value_counts().sort_index())"
   ]
  },
  {
   "cell_type": "markdown",
   "id": "07828db3-582e-4ec6-8636-3d1da799daa2",
   "metadata": {},
   "source": [
    "#### Converting the Data into DataFrames"
   ]
  },
  {
   "cell_type": "markdown",
   "id": "63a13d4d-3921-4801-a168-8cdb4ae51a29",
   "metadata": {},
   "source": [
    "Since we have scaled and resampled our training and testing datasets, we can now proceed to convert them into training and testing DataFrames."
   ]
  },
  {
   "cell_type": "code",
   "execution_count": 32,
   "id": "495bf862-4b8b-4ae3-bb92-390c8e7255be",
   "metadata": {
    "tags": []
   },
   "outputs": [],
   "source": [
    "# Convert the resampled data (X_train_resampled and y_train_resampled) into a DataFrame\n",
    "train_df = pd.DataFrame(np.column_stack((X_sm_train, y_sm_train)), columns=df.drop('usage_rate_category', axis=1).columns.tolist() + ['usage_rate_category'])\n",
    "\n",
    "# Convert the test data (X_test and y_test) into a DataFrame\n",
    "test_df = pd.DataFrame(np.column_stack((X_scaled_test, y_test)), columns=df.drop('usage_rate_category', axis=1).columns.tolist() + ['usage_rate_category'])"
   ]
  },
  {
   "cell_type": "markdown",
   "id": "7766a4ac-4a20-40e4-a65a-88b594aaf544",
   "metadata": {},
   "source": [
    "#### Train Data"
   ]
  },
  {
   "cell_type": "code",
   "execution_count": 33,
   "id": "eb8ec2bf-cc5a-4036-b631-99931d017429",
   "metadata": {
    "tags": []
   },
   "outputs": [
    {
     "data": {
      "text/html": [
       "<div>\n",
       "<style scoped>\n",
       "    .dataframe tbody tr th:only-of-type {\n",
       "        vertical-align: middle;\n",
       "    }\n",
       "\n",
       "    .dataframe tbody tr th {\n",
       "        vertical-align: top;\n",
       "    }\n",
       "\n",
       "    .dataframe thead th {\n",
       "        text-align: right;\n",
       "    }\n",
       "</style>\n",
       "<table border=\"1\" class=\"dataframe\">\n",
       "  <thead>\n",
       "    <tr style=\"text-align: right;\">\n",
       "      <th></th>\n",
       "      <th>station_id</th>\n",
       "      <th>dock_count</th>\n",
       "      <th>mean_dew_point_f</th>\n",
       "      <th>mean_humidity</th>\n",
       "      <th>mean_sea_level_pressure_inches</th>\n",
       "      <th>mean_visibility_miles</th>\n",
       "      <th>mean_wind_speed_mph</th>\n",
       "      <th>precipitation_inches</th>\n",
       "      <th>cloud_cover</th>\n",
       "      <th>zip_code</th>\n",
       "      <th>weekend</th>\n",
       "      <th>holiday</th>\n",
       "      <th>month</th>\n",
       "      <th>day</th>\n",
       "      <th>hour</th>\n",
       "      <th>minute</th>\n",
       "      <th>usage_rate_category</th>\n",
       "    </tr>\n",
       "  </thead>\n",
       "  <tbody>\n",
       "    <tr>\n",
       "      <th>0</th>\n",
       "      <td>-1.375345</td>\n",
       "      <td>-0.667162</td>\n",
       "      <td>-0.099799</td>\n",
       "      <td>-0.428081</td>\n",
       "      <td>0.388370</td>\n",
       "      <td>0.306077</td>\n",
       "      <td>-1.406683</td>\n",
       "      <td>-0.436337</td>\n",
       "      <td>-1.014580</td>\n",
       "      <td>1.820021</td>\n",
       "      <td>1.582616</td>\n",
       "      <td>-0.168116</td>\n",
       "      <td>-1.310568</td>\n",
       "      <td>-0.195224</td>\n",
       "      <td>1.228122</td>\n",
       "      <td>-1.303354</td>\n",
       "      <td>1.0</td>\n",
       "    </tr>\n",
       "    <tr>\n",
       "      <th>1</th>\n",
       "      <td>1.125367</td>\n",
       "      <td>0.336991</td>\n",
       "      <td>0.776477</td>\n",
       "      <td>0.410568</td>\n",
       "      <td>-0.153740</td>\n",
       "      <td>0.306077</td>\n",
       "      <td>1.015281</td>\n",
       "      <td>-0.436337</td>\n",
       "      <td>0.779536</td>\n",
       "      <td>-0.548136</td>\n",
       "      <td>1.582616</td>\n",
       "      <td>-0.168116</td>\n",
       "      <td>0.428313</td>\n",
       "      <td>0.145410</td>\n",
       "      <td>0.216731</td>\n",
       "      <td>-0.434267</td>\n",
       "      <td>1.0</td>\n",
       "    </tr>\n",
       "    <tr>\n",
       "      <th>2</th>\n",
       "      <td>1.125367</td>\n",
       "      <td>0.336991</td>\n",
       "      <td>-1.122121</td>\n",
       "      <td>0.410568</td>\n",
       "      <td>2.014700</td>\n",
       "      <td>-0.455251</td>\n",
       "      <td>-0.195701</td>\n",
       "      <td>-0.436337</td>\n",
       "      <td>-0.566051</td>\n",
       "      <td>-0.548136</td>\n",
       "      <td>-0.631865</td>\n",
       "      <td>-0.168116</td>\n",
       "      <td>-1.600382</td>\n",
       "      <td>0.713132</td>\n",
       "      <td>-1.372598</td>\n",
       "      <td>-0.723963</td>\n",
       "      <td>0.0</td>\n",
       "    </tr>\n",
       "    <tr>\n",
       "      <th>3</th>\n",
       "      <td>0.083403</td>\n",
       "      <td>-0.667162</td>\n",
       "      <td>-0.537937</td>\n",
       "      <td>1.715132</td>\n",
       "      <td>0.543259</td>\n",
       "      <td>-2.739235</td>\n",
       "      <td>-1.103938</td>\n",
       "      <td>-0.436337</td>\n",
       "      <td>0.779536</td>\n",
       "      <td>-0.548136</td>\n",
       "      <td>1.582616</td>\n",
       "      <td>-0.168116</td>\n",
       "      <td>-1.600382</td>\n",
       "      <td>-0.535857</td>\n",
       "      <td>0.939153</td>\n",
       "      <td>-0.434267</td>\n",
       "      <td>1.0</td>\n",
       "    </tr>\n",
       "    <tr>\n",
       "      <th>4</th>\n",
       "      <td>0.125082</td>\n",
       "      <td>-0.667162</td>\n",
       "      <td>0.776477</td>\n",
       "      <td>1.062850</td>\n",
       "      <td>-0.463517</td>\n",
       "      <td>0.306077</td>\n",
       "      <td>0.712536</td>\n",
       "      <td>-0.436337</td>\n",
       "      <td>0.331007</td>\n",
       "      <td>-0.548136</td>\n",
       "      <td>-0.631865</td>\n",
       "      <td>-0.168116</td>\n",
       "      <td>1.007940</td>\n",
       "      <td>-0.762946</td>\n",
       "      <td>0.650184</td>\n",
       "      <td>1.593602</td>\n",
       "      <td>1.0</td>\n",
       "    </tr>\n",
       "  </tbody>\n",
       "</table>\n",
       "</div>"
      ],
      "text/plain": [
       "   station_id  dock_count  mean_dew_point_f  mean_humidity  \\\n",
       "0   -1.375345   -0.667162         -0.099799      -0.428081   \n",
       "1    1.125367    0.336991          0.776477       0.410568   \n",
       "2    1.125367    0.336991         -1.122121       0.410568   \n",
       "3    0.083403   -0.667162         -0.537937       1.715132   \n",
       "4    0.125082   -0.667162          0.776477       1.062850   \n",
       "\n",
       "   mean_sea_level_pressure_inches  mean_visibility_miles  mean_wind_speed_mph  \\\n",
       "0                        0.388370               0.306077            -1.406683   \n",
       "1                       -0.153740               0.306077             1.015281   \n",
       "2                        2.014700              -0.455251            -0.195701   \n",
       "3                        0.543259              -2.739235            -1.103938   \n",
       "4                       -0.463517               0.306077             0.712536   \n",
       "\n",
       "   precipitation_inches  cloud_cover  zip_code   weekend   holiday     month  \\\n",
       "0             -0.436337    -1.014580  1.820021  1.582616 -0.168116 -1.310568   \n",
       "1             -0.436337     0.779536 -0.548136  1.582616 -0.168116  0.428313   \n",
       "2             -0.436337    -0.566051 -0.548136 -0.631865 -0.168116 -1.600382   \n",
       "3             -0.436337     0.779536 -0.548136  1.582616 -0.168116 -1.600382   \n",
       "4             -0.436337     0.331007 -0.548136 -0.631865 -0.168116  1.007940   \n",
       "\n",
       "        day      hour    minute  usage_rate_category  \n",
       "0 -0.195224  1.228122 -1.303354                  1.0  \n",
       "1  0.145410  0.216731 -0.434267                  1.0  \n",
       "2  0.713132 -1.372598 -0.723963                  0.0  \n",
       "3 -0.535857  0.939153 -0.434267                  1.0  \n",
       "4 -0.762946  0.650184  1.593602                  1.0  "
      ]
     },
     "execution_count": 33,
     "metadata": {},
     "output_type": "execute_result"
    }
   ],
   "source": [
    "# Look at the first 5 rows of the final train dataset\n",
    "train_df.head()"
   ]
  },
  {
   "cell_type": "code",
   "execution_count": 34,
   "id": "d663416c-b5fb-47a4-b936-aa535ef74f2a",
   "metadata": {
    "tags": []
   },
   "outputs": [
    {
     "data": {
      "text/plain": [
       "(11831433, 17)"
      ]
     },
     "execution_count": 34,
     "metadata": {},
     "output_type": "execute_result"
    }
   ],
   "source": [
    "# Print the shape of the train data\n",
    "train_df.shape"
   ]
  },
  {
   "cell_type": "code",
   "execution_count": 35,
   "id": "51faaebb-5ed7-4b0a-ae81-29348ae3e06e",
   "metadata": {
    "tags": []
   },
   "outputs": [
    {
     "data": {
      "text/plain": [
       "station_id                        0\n",
       "dock_count                        0\n",
       "mean_dew_point_f                  0\n",
       "mean_humidity                     0\n",
       "mean_sea_level_pressure_inches    0\n",
       "mean_visibility_miles             0\n",
       "mean_wind_speed_mph               0\n",
       "precipitation_inches              0\n",
       "cloud_cover                       0\n",
       "zip_code                          0\n",
       "weekend                           0\n",
       "holiday                           0\n",
       "month                             0\n",
       "day                               0\n",
       "hour                              0\n",
       "minute                            0\n",
       "usage_rate_category               0\n",
       "dtype: int64"
      ]
     },
     "execution_count": 35,
     "metadata": {},
     "output_type": "execute_result"
    }
   ],
   "source": [
    "# Sanity check to make sure we don't have any NAs\n",
    "train_df.isna().sum()"
   ]
  },
  {
   "cell_type": "markdown",
   "id": "820b4d0b-c672-4045-8af3-a66f62586727",
   "metadata": {},
   "source": [
    "#### Test Data"
   ]
  },
  {
   "cell_type": "code",
   "execution_count": 36,
   "id": "2f330acd-aee7-4a6e-b6cb-3e561d21ac1b",
   "metadata": {
    "tags": []
   },
   "outputs": [
    {
     "data": {
      "text/html": [
       "<div>\n",
       "<style scoped>\n",
       "    .dataframe tbody tr th:only-of-type {\n",
       "        vertical-align: middle;\n",
       "    }\n",
       "\n",
       "    .dataframe tbody tr th {\n",
       "        vertical-align: top;\n",
       "    }\n",
       "\n",
       "    .dataframe thead th {\n",
       "        text-align: right;\n",
       "    }\n",
       "</style>\n",
       "<table border=\"1\" class=\"dataframe\">\n",
       "  <thead>\n",
       "    <tr style=\"text-align: right;\">\n",
       "      <th></th>\n",
       "      <th>station_id</th>\n",
       "      <th>dock_count</th>\n",
       "      <th>mean_dew_point_f</th>\n",
       "      <th>mean_humidity</th>\n",
       "      <th>mean_sea_level_pressure_inches</th>\n",
       "      <th>mean_visibility_miles</th>\n",
       "      <th>mean_wind_speed_mph</th>\n",
       "      <th>precipitation_inches</th>\n",
       "      <th>cloud_cover</th>\n",
       "      <th>zip_code</th>\n",
       "      <th>weekend</th>\n",
       "      <th>holiday</th>\n",
       "      <th>month</th>\n",
       "      <th>day</th>\n",
       "      <th>hour</th>\n",
       "      <th>minute</th>\n",
       "      <th>usage_rate_category</th>\n",
       "    </tr>\n",
       "  </thead>\n",
       "  <tbody>\n",
       "    <tr>\n",
       "      <th>0</th>\n",
       "      <td>0.750260</td>\n",
       "      <td>2.345298</td>\n",
       "      <td>0.922523</td>\n",
       "      <td>0.596934</td>\n",
       "      <td>0.001149</td>\n",
       "      <td>0.306077</td>\n",
       "      <td>-0.801192</td>\n",
       "      <td>2.291809</td>\n",
       "      <td>0.779536</td>\n",
       "      <td>-0.548136</td>\n",
       "      <td>-0.631865</td>\n",
       "      <td>-0.168116</td>\n",
       "      <td>1.007940</td>\n",
       "      <td>0.826677</td>\n",
       "      <td>-1.083629</td>\n",
       "      <td>0.724515</td>\n",
       "      <td>2.0</td>\n",
       "    </tr>\n",
       "    <tr>\n",
       "      <th>1</th>\n",
       "      <td>-0.416739</td>\n",
       "      <td>-0.667162</td>\n",
       "      <td>0.776477</td>\n",
       "      <td>1.249216</td>\n",
       "      <td>-0.540961</td>\n",
       "      <td>-0.455251</td>\n",
       "      <td>0.107045</td>\n",
       "      <td>2.291809</td>\n",
       "      <td>-0.117522</td>\n",
       "      <td>-0.703502</td>\n",
       "      <td>-0.631865</td>\n",
       "      <td>-0.168116</td>\n",
       "      <td>1.587567</td>\n",
       "      <td>-0.649401</td>\n",
       "      <td>-1.661567</td>\n",
       "      <td>-0.434267</td>\n",
       "      <td>1.0</td>\n",
       "    </tr>\n",
       "    <tr>\n",
       "      <th>2</th>\n",
       "      <td>-0.375060</td>\n",
       "      <td>1.341144</td>\n",
       "      <td>0.192293</td>\n",
       "      <td>-0.800813</td>\n",
       "      <td>0.853036</td>\n",
       "      <td>0.306077</td>\n",
       "      <td>0.409790</td>\n",
       "      <td>-0.436337</td>\n",
       "      <td>-0.117522</td>\n",
       "      <td>-0.091454</td>\n",
       "      <td>1.582616</td>\n",
       "      <td>-0.168116</td>\n",
       "      <td>-1.020755</td>\n",
       "      <td>1.394399</td>\n",
       "      <td>-0.216723</td>\n",
       "      <td>-1.303354</td>\n",
       "      <td>2.0</td>\n",
       "    </tr>\n",
       "    <tr>\n",
       "      <th>3</th>\n",
       "      <td>1.333760</td>\n",
       "      <td>0.336991</td>\n",
       "      <td>0.922523</td>\n",
       "      <td>0.317385</td>\n",
       "      <td>-0.540961</td>\n",
       "      <td>0.306077</td>\n",
       "      <td>0.712536</td>\n",
       "      <td>-0.436337</td>\n",
       "      <td>0.779536</td>\n",
       "      <td>-0.548136</td>\n",
       "      <td>-0.631865</td>\n",
       "      <td>-0.168116</td>\n",
       "      <td>0.138499</td>\n",
       "      <td>1.735032</td>\n",
       "      <td>1.661576</td>\n",
       "      <td>0.724515</td>\n",
       "      <td>1.0</td>\n",
       "    </tr>\n",
       "    <tr>\n",
       "      <th>4</th>\n",
       "      <td>-1.667095</td>\n",
       "      <td>-0.667162</td>\n",
       "      <td>-0.537937</td>\n",
       "      <td>-0.893996</td>\n",
       "      <td>-0.463517</td>\n",
       "      <td>0.306077</td>\n",
       "      <td>0.712536</td>\n",
       "      <td>-0.436337</td>\n",
       "      <td>0.779536</td>\n",
       "      <td>1.820021</td>\n",
       "      <td>-0.631865</td>\n",
       "      <td>-0.168116</td>\n",
       "      <td>-0.441128</td>\n",
       "      <td>0.372499</td>\n",
       "      <td>-0.361207</td>\n",
       "      <td>0.145124</td>\n",
       "      <td>1.0</td>\n",
       "    </tr>\n",
       "  </tbody>\n",
       "</table>\n",
       "</div>"
      ],
      "text/plain": [
       "   station_id  dock_count  mean_dew_point_f  mean_humidity  \\\n",
       "0    0.750260    2.345298          0.922523       0.596934   \n",
       "1   -0.416739   -0.667162          0.776477       1.249216   \n",
       "2   -0.375060    1.341144          0.192293      -0.800813   \n",
       "3    1.333760    0.336991          0.922523       0.317385   \n",
       "4   -1.667095   -0.667162         -0.537937      -0.893996   \n",
       "\n",
       "   mean_sea_level_pressure_inches  mean_visibility_miles  mean_wind_speed_mph  \\\n",
       "0                        0.001149               0.306077            -0.801192   \n",
       "1                       -0.540961              -0.455251             0.107045   \n",
       "2                        0.853036               0.306077             0.409790   \n",
       "3                       -0.540961               0.306077             0.712536   \n",
       "4                       -0.463517               0.306077             0.712536   \n",
       "\n",
       "   precipitation_inches  cloud_cover  zip_code   weekend   holiday     month  \\\n",
       "0              2.291809     0.779536 -0.548136 -0.631865 -0.168116  1.007940   \n",
       "1              2.291809    -0.117522 -0.703502 -0.631865 -0.168116  1.587567   \n",
       "2             -0.436337    -0.117522 -0.091454  1.582616 -0.168116 -1.020755   \n",
       "3             -0.436337     0.779536 -0.548136 -0.631865 -0.168116  0.138499   \n",
       "4             -0.436337     0.779536  1.820021 -0.631865 -0.168116 -0.441128   \n",
       "\n",
       "        day      hour    minute  usage_rate_category  \n",
       "0  0.826677 -1.083629  0.724515                  2.0  \n",
       "1 -0.649401 -1.661567 -0.434267                  1.0  \n",
       "2  1.394399 -0.216723 -1.303354                  2.0  \n",
       "3  1.735032  1.661576  0.724515                  1.0  \n",
       "4  0.372499 -0.361207  0.145124                  1.0  "
      ]
     },
     "execution_count": 36,
     "metadata": {},
     "output_type": "execute_result"
    }
   ],
   "source": [
    "# Look at the first 5 rows of the final test dataset\n",
    "test_df.head()"
   ]
  },
  {
   "cell_type": "code",
   "execution_count": 37,
   "id": "8892f45d-2488-4727-8000-88eebb8e40b8",
   "metadata": {
    "tags": []
   },
   "outputs": [
    {
     "data": {
      "text/plain": [
       "(1467439, 17)"
      ]
     },
     "execution_count": 37,
     "metadata": {},
     "output_type": "execute_result"
    }
   ],
   "source": [
    "# Print the shape of the test data\n",
    "test_df.shape"
   ]
  },
  {
   "cell_type": "code",
   "execution_count": 38,
   "id": "60ecca34-622f-4df2-b8dc-1322d327e786",
   "metadata": {
    "tags": []
   },
   "outputs": [
    {
     "data": {
      "text/plain": [
       "station_id                        0\n",
       "dock_count                        0\n",
       "mean_dew_point_f                  0\n",
       "mean_humidity                     0\n",
       "mean_sea_level_pressure_inches    0\n",
       "mean_visibility_miles             0\n",
       "mean_wind_speed_mph               0\n",
       "precipitation_inches              0\n",
       "cloud_cover                       0\n",
       "zip_code                          0\n",
       "weekend                           0\n",
       "holiday                           0\n",
       "month                             0\n",
       "day                               0\n",
       "hour                              0\n",
       "minute                            0\n",
       "usage_rate_category               0\n",
       "dtype: int64"
      ]
     },
     "execution_count": 38,
     "metadata": {},
     "output_type": "execute_result"
    }
   ],
   "source": [
    "# Sanity check to make sure we don't have any NAs\n",
    "test_df.isna().sum()"
   ]
  },
  {
   "cell_type": "code",
   "execution_count": 39,
   "id": "a90bb782-8007-491b-8d44-5bad4e3279b9",
   "metadata": {
    "tags": []
   },
   "outputs": [],
   "source": [
    "# Save the final train and test datasets to Parquet format\n",
    "train_df.to_parquet('data/train_dataset.parquet', index=False)\n",
    "test_df.to_parquet('data/test_dataset.parquet', index=False)"
   ]
  }
 ],
 "metadata": {
  "kernelspec": {
   "display_name": "Python 3 (ipykernel)",
   "language": "python",
   "name": "python3"
  },
  "language_info": {
   "codemirror_mode": {
    "name": "ipython",
    "version": 3
   },
   "file_extension": ".py",
   "mimetype": "text/x-python",
   "name": "python",
   "nbconvert_exporter": "python",
   "pygments_lexer": "ipython3",
   "version": "3.11.5"
  }
 },
 "nbformat": 4,
 "nbformat_minor": 5
}
