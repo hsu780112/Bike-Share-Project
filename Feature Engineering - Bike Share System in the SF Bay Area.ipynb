{
 "cells": [
  {
   "cell_type": "markdown",
   "id": "8fe7c5eb-f1fe-4f10-925f-172a267fac2f",
   "metadata": {},
   "source": [
    "# Feature Engineering - Bike Share System in the SF Bay Area"
   ]
  },
  {
   "cell_type": "markdown",
   "id": "d1a56392-7140-494d-9d80-4d1f1c795ee6",
   "metadata": {},
   "source": [
    "Author: Owen Hsu"
   ]
  },
  {
   "cell_type": "markdown",
   "id": "d01755aa-666c-43f5-85b9-8f675b7db8ce",
   "metadata": {},
   "source": [
    "## Table of content"
   ]
  },
  {
   "cell_type": "markdown",
   "id": "6d7a2f3f-fab2-4510-94fb-7aea456b8fe8",
   "metadata": {},
   "source": [
    "1. Feature Overview\n",
    "2. Loading and Setup\n",
    "3. Assessment\n",
    "4. Categorical Variables\n",
    "5. Scaling and Train/Test Split"
   ]
  },
  {
   "cell_type": "markdown",
   "id": "3bc155ce-a2c9-4e64-bb7c-1d8d00f6714d",
   "metadata": {},
   "source": [
    "## Feature Overview"
   ]
  },
  {
   "cell_type": "markdown",
   "id": "08f3b5c2-173e-44e2-b466-14bc74281239",
   "metadata": {},
   "source": [
    "\n",
    "\n",
    " Columns                    | Description \n",
    "|:---------:                |:-----------:                                                              |\n",
    "|  Time                     |  Recorded Date and Time                                                   |\n",
    "|  Station ID               |  Station ID                                                               |\n",
    "|  Bikes Available          |  The number of bikes available at the station                             | \n",
    "|  Dock Number              |  The number of docks at the station                                       | \n",
    "|  Mean Dew Point           |  The average dew point of the date                                        | \n",
    "|  Mean Humidity            |  The average humidity of the date                                         | \n",
    "|  Mean Sea Level Pressure  |  The average sea level pressure of the date                               | \n",
    "|  Mean Visibility          |  The average visibility of the date                                       | \n",
    "|  Mean Wind Speed          |  The average wind speed of the date                                       | \n",
    "|  precipitation_inches     |  Determine whether the date of each record has precipitation              | \n",
    "|  Cloud Cover              |  The fraction of the sky covered by clouds on given date                  | \n",
    "|  Zip Code                 |  The zip code for the weather record                                      |\n",
    "|  Usage Rate Category      |  Usage Rate Category of the station                                       |\n",
    "|  Holiday                  |  Determine whether the date of each record is a holiday or not            |\n",
    "|  Is Weekend or Holiday    |  Determine whether the date of each record is a holiday/weekend or not    |\n",
    "|  Hour                     |  Recorded Time (Hour)                                                     |\n"
   ]
  },
  {
   "cell_type": "markdown",
   "id": "a4288420-586b-45ea-a7a0-cb26dad5d6d2",
   "metadata": {},
   "source": [
    "## Loading and Setup"
   ]
  },
  {
   "cell_type": "code",
   "execution_count": 28,
   "id": "e801bbfe-b97c-43a9-ac9c-e38f55512384",
   "metadata": {
    "tags": []
   },
   "outputs": [],
   "source": [
    "# Import necessary libraries\n",
    "import pandas as pd\n",
    "import numpy as np\n",
    "import matplotlib.pyplot as plt\n",
    "import seaborn as sns\n",
    "import scipy.stats as stats\n",
    "from sklearn.model_selection import train_test_split\n",
    "from sklearn.feature_selection import SelectKBest, chi2, f_classif\n",
    "from sklearn.preprocessing import OneHotEncoder, MinMaxScaler\n",
    "from sklearn.linear_model import LogisticRegression\n",
    "from sklearn.model_selection import cross_val_score, StratifiedKFold\n",
    "from sklearn.metrics import accuracy_score, confusion_matrix, classification_report\n",
    "from sklearn.svm import SVC\n",
    "from sklearn.ensemble import RandomForestClassifier\n",
    "from imblearn.over_sampling import SMOTE\n",
    "from sklearn.preprocessing import StandardScaler \n",
    "# Filter warnings\n",
    "from warnings import filterwarnings\n",
    "filterwarnings('ignore')"
   ]
  },
  {
   "cell_type": "code",
   "execution_count": 101,
   "id": "0bc51233-efc1-4b39-8a27-b80fd3b36230",
   "metadata": {
    "tags": []
   },
   "outputs": [],
   "source": [
    "# Load the dataset\n",
    "df = pd.read_parquet('data/BikeData_after_EDA.parquet')"
   ]
  },
  {
   "cell_type": "markdown",
   "id": "3ff4a72b-98d3-44a2-980e-6753a44da137",
   "metadata": {},
   "source": [
    "## Assessment"
   ]
  },
  {
   "cell_type": "code",
   "execution_count": 102,
   "id": "ba13733b-2f17-47a6-a89f-4edfaba49e07",
   "metadata": {
    "tags": []
   },
   "outputs": [],
   "source": [
    "# Set display options to show all columns and rows\n",
    "pd.set_option('display.max_columns', None)\n",
    "pd.set_option('display.max_rows', None)"
   ]
  },
  {
   "cell_type": "code",
   "execution_count": 103,
   "id": "71dcdeec-4b68-43d9-b8fa-1c6162978344",
   "metadata": {
    "tags": []
   },
   "outputs": [
    {
     "data": {
      "text/plain": [
       "(7337194, 16)"
      ]
     },
     "execution_count": 103,
     "metadata": {},
     "output_type": "execute_result"
    }
   ],
   "source": [
    "# Print the shape of the data\n",
    "df.shape"
   ]
  },
  {
   "cell_type": "code",
   "execution_count": 104,
   "id": "2886c845-2c43-4bd5-bd1d-10ccd67d8902",
   "metadata": {
    "tags": []
   },
   "outputs": [
    {
     "data": {
      "text/html": [
       "<div>\n",
       "<style scoped>\n",
       "    .dataframe tbody tr th:only-of-type {\n",
       "        vertical-align: middle;\n",
       "    }\n",
       "\n",
       "    .dataframe tbody tr th {\n",
       "        vertical-align: top;\n",
       "    }\n",
       "\n",
       "    .dataframe thead th {\n",
       "        text-align: right;\n",
       "    }\n",
       "</style>\n",
       "<table border=\"1\" class=\"dataframe\">\n",
       "  <thead>\n",
       "    <tr style=\"text-align: right;\">\n",
       "      <th></th>\n",
       "      <th>time</th>\n",
       "      <th>station_id</th>\n",
       "      <th>bikes_available</th>\n",
       "      <th>dock_count</th>\n",
       "      <th>mean_dew_point_f</th>\n",
       "      <th>mean_humidity</th>\n",
       "      <th>mean_sea_level_pressure_inches</th>\n",
       "      <th>mean_visibility_miles</th>\n",
       "      <th>mean_wind_speed_mph</th>\n",
       "      <th>precipitation_inches</th>\n",
       "      <th>cloud_cover</th>\n",
       "      <th>zip_code</th>\n",
       "      <th>usage_rate_category</th>\n",
       "      <th>holiday</th>\n",
       "      <th>is_weekend_or_holiday</th>\n",
       "      <th>hour</th>\n",
       "    </tr>\n",
       "  </thead>\n",
       "  <tbody>\n",
       "    <tr>\n",
       "      <th>0</th>\n",
       "      <td>2014-05-01 00:00:00</td>\n",
       "      <td>2</td>\n",
       "      <td>12</td>\n",
       "      <td>27</td>\n",
       "      <td>45.0</td>\n",
       "      <td>41.0</td>\n",
       "      <td>30.06</td>\n",
       "      <td>10.0</td>\n",
       "      <td>6.0</td>\n",
       "      <td>0</td>\n",
       "      <td>3.0</td>\n",
       "      <td>95113</td>\n",
       "      <td>Median</td>\n",
       "      <td>0</td>\n",
       "      <td>0</td>\n",
       "      <td>0</td>\n",
       "    </tr>\n",
       "    <tr>\n",
       "      <th>1</th>\n",
       "      <td>2014-05-01 00:05:00</td>\n",
       "      <td>2</td>\n",
       "      <td>12</td>\n",
       "      <td>27</td>\n",
       "      <td>45.0</td>\n",
       "      <td>41.0</td>\n",
       "      <td>30.06</td>\n",
       "      <td>10.0</td>\n",
       "      <td>6.0</td>\n",
       "      <td>0</td>\n",
       "      <td>3.0</td>\n",
       "      <td>95113</td>\n",
       "      <td>Median</td>\n",
       "      <td>0</td>\n",
       "      <td>0</td>\n",
       "      <td>0</td>\n",
       "    </tr>\n",
       "    <tr>\n",
       "      <th>2</th>\n",
       "      <td>2014-05-01 00:10:00</td>\n",
       "      <td>2</td>\n",
       "      <td>12</td>\n",
       "      <td>27</td>\n",
       "      <td>45.0</td>\n",
       "      <td>41.0</td>\n",
       "      <td>30.06</td>\n",
       "      <td>10.0</td>\n",
       "      <td>6.0</td>\n",
       "      <td>0</td>\n",
       "      <td>3.0</td>\n",
       "      <td>95113</td>\n",
       "      <td>Median</td>\n",
       "      <td>0</td>\n",
       "      <td>0</td>\n",
       "      <td>0</td>\n",
       "    </tr>\n",
       "    <tr>\n",
       "      <th>3</th>\n",
       "      <td>2014-05-01 00:15:00</td>\n",
       "      <td>2</td>\n",
       "      <td>12</td>\n",
       "      <td>27</td>\n",
       "      <td>45.0</td>\n",
       "      <td>41.0</td>\n",
       "      <td>30.06</td>\n",
       "      <td>10.0</td>\n",
       "      <td>6.0</td>\n",
       "      <td>0</td>\n",
       "      <td>3.0</td>\n",
       "      <td>95113</td>\n",
       "      <td>Median</td>\n",
       "      <td>0</td>\n",
       "      <td>0</td>\n",
       "      <td>0</td>\n",
       "    </tr>\n",
       "    <tr>\n",
       "      <th>4</th>\n",
       "      <td>2014-05-01 00:20:00</td>\n",
       "      <td>2</td>\n",
       "      <td>12</td>\n",
       "      <td>27</td>\n",
       "      <td>45.0</td>\n",
       "      <td>41.0</td>\n",
       "      <td>30.06</td>\n",
       "      <td>10.0</td>\n",
       "      <td>6.0</td>\n",
       "      <td>0</td>\n",
       "      <td>3.0</td>\n",
       "      <td>95113</td>\n",
       "      <td>Median</td>\n",
       "      <td>0</td>\n",
       "      <td>0</td>\n",
       "      <td>0</td>\n",
       "    </tr>\n",
       "  </tbody>\n",
       "</table>\n",
       "</div>"
      ],
      "text/plain": [
       "                 time  station_id  bikes_available  dock_count  \\\n",
       "0 2014-05-01 00:00:00           2               12          27   \n",
       "1 2014-05-01 00:05:00           2               12          27   \n",
       "2 2014-05-01 00:10:00           2               12          27   \n",
       "3 2014-05-01 00:15:00           2               12          27   \n",
       "4 2014-05-01 00:20:00           2               12          27   \n",
       "\n",
       "   mean_dew_point_f  mean_humidity  mean_sea_level_pressure_inches  \\\n",
       "0              45.0           41.0                           30.06   \n",
       "1              45.0           41.0                           30.06   \n",
       "2              45.0           41.0                           30.06   \n",
       "3              45.0           41.0                           30.06   \n",
       "4              45.0           41.0                           30.06   \n",
       "\n",
       "   mean_visibility_miles  mean_wind_speed_mph  precipitation_inches  \\\n",
       "0                   10.0                  6.0                     0   \n",
       "1                   10.0                  6.0                     0   \n",
       "2                   10.0                  6.0                     0   \n",
       "3                   10.0                  6.0                     0   \n",
       "4                   10.0                  6.0                     0   \n",
       "\n",
       "   cloud_cover  zip_code usage_rate_category  holiday  is_weekend_or_holiday  \\\n",
       "0          3.0     95113              Median        0                      0   \n",
       "1          3.0     95113              Median        0                      0   \n",
       "2          3.0     95113              Median        0                      0   \n",
       "3          3.0     95113              Median        0                      0   \n",
       "4          3.0     95113              Median        0                      0   \n",
       "\n",
       "   hour  \n",
       "0     0  \n",
       "1     0  \n",
       "2     0  \n",
       "3     0  \n",
       "4     0  "
      ]
     },
     "execution_count": 104,
     "metadata": {},
     "output_type": "execute_result"
    }
   ],
   "source": [
    "# Look at the first 5 rows\n",
    "df.head()"
   ]
  },
  {
   "cell_type": "code",
   "execution_count": 105,
   "id": "2c5a9009-ff14-4987-9e38-89a538abe359",
   "metadata": {
    "tags": []
   },
   "outputs": [
    {
     "name": "stdout",
     "output_type": "stream",
     "text": [
      "<class 'pandas.core.frame.DataFrame'>\n",
      "RangeIndex: 7337194 entries, 0 to 7337193\n",
      "Data columns (total 16 columns):\n",
      " #   Column                          Dtype         \n",
      "---  ------                          -----         \n",
      " 0   time                            datetime64[ns]\n",
      " 1   station_id                      int64         \n",
      " 2   bikes_available                 int64         \n",
      " 3   dock_count                      int64         \n",
      " 4   mean_dew_point_f                float64       \n",
      " 5   mean_humidity                   float64       \n",
      " 6   mean_sea_level_pressure_inches  float64       \n",
      " 7   mean_visibility_miles           float64       \n",
      " 8   mean_wind_speed_mph             float64       \n",
      " 9   precipitation_inches            int64         \n",
      " 10  cloud_cover                     float64       \n",
      " 11  zip_code                        int64         \n",
      " 12  usage_rate_category             object        \n",
      " 13  holiday                         int64         \n",
      " 14  is_weekend_or_holiday           int64         \n",
      " 15  hour                            int32         \n",
      "dtypes: datetime64[ns](1), float64(6), int32(1), int64(7), object(1)\n",
      "memory usage: 867.7+ MB\n"
     ]
    }
   ],
   "source": [
    "# Get a quick overview of dataset variables\n",
    "df.info()"
   ]
  },
  {
   "cell_type": "code",
   "execution_count": 106,
   "id": "d545488d-8485-4b5d-a747-5c475de10887",
   "metadata": {
    "tags": []
   },
   "outputs": [
    {
     "data": {
      "text/plain": [
       "time                              0\n",
       "station_id                        0\n",
       "bikes_available                   0\n",
       "dock_count                        0\n",
       "mean_dew_point_f                  0\n",
       "mean_humidity                     0\n",
       "mean_sea_level_pressure_inches    0\n",
       "mean_visibility_miles             0\n",
       "mean_wind_speed_mph               0\n",
       "precipitation_inches              0\n",
       "cloud_cover                       0\n",
       "zip_code                          0\n",
       "usage_rate_category               0\n",
       "holiday                           0\n",
       "is_weekend_or_holiday             0\n",
       "hour                              0\n",
       "dtype: int64"
      ]
     },
     "execution_count": 106,
     "metadata": {},
     "output_type": "execute_result"
    }
   ],
   "source": [
    "# Sanity check to make sure we don't have any NAs\n",
    "df.isna().sum()"
   ]
  },
  {
   "cell_type": "code",
   "execution_count": 107,
   "id": "c902c840-d080-45b9-ad47-9f14878e92bb",
   "metadata": {
    "tags": []
   },
   "outputs": [
    {
     "data": {
      "text/html": [
       "<div>\n",
       "<style scoped>\n",
       "    .dataframe tbody tr th:only-of-type {\n",
       "        vertical-align: middle;\n",
       "    }\n",
       "\n",
       "    .dataframe tbody tr th {\n",
       "        vertical-align: top;\n",
       "    }\n",
       "\n",
       "    .dataframe thead th {\n",
       "        text-align: right;\n",
       "    }\n",
       "</style>\n",
       "<table border=\"1\" class=\"dataframe\">\n",
       "  <thead>\n",
       "    <tr style=\"text-align: right;\">\n",
       "      <th></th>\n",
       "      <th>time</th>\n",
       "      <th>station_id</th>\n",
       "      <th>bikes_available</th>\n",
       "      <th>dock_count</th>\n",
       "      <th>mean_dew_point_f</th>\n",
       "      <th>mean_humidity</th>\n",
       "      <th>mean_sea_level_pressure_inches</th>\n",
       "      <th>mean_visibility_miles</th>\n",
       "      <th>mean_wind_speed_mph</th>\n",
       "      <th>precipitation_inches</th>\n",
       "      <th>cloud_cover</th>\n",
       "      <th>zip_code</th>\n",
       "      <th>holiday</th>\n",
       "      <th>is_weekend_or_holiday</th>\n",
       "      <th>hour</th>\n",
       "    </tr>\n",
       "  </thead>\n",
       "  <tbody>\n",
       "    <tr>\n",
       "      <th>count</th>\n",
       "      <td>7337194</td>\n",
       "      <td>7.337194e+06</td>\n",
       "      <td>7.337194e+06</td>\n",
       "      <td>7.337194e+06</td>\n",
       "      <td>7.337194e+06</td>\n",
       "      <td>7.337194e+06</td>\n",
       "      <td>7.337194e+06</td>\n",
       "      <td>7.337194e+06</td>\n",
       "      <td>7.337194e+06</td>\n",
       "      <td>7.337194e+06</td>\n",
       "      <td>7.337194e+06</td>\n",
       "      <td>7.337194e+06</td>\n",
       "      <td>7.337194e+06</td>\n",
       "      <td>7.337194e+06</td>\n",
       "      <td>7.337194e+06</td>\n",
       "    </tr>\n",
       "    <tr>\n",
       "      <th>mean</th>\n",
       "      <td>2014-10-30 13:33:29.071412224</td>\n",
       "      <td>4.299356e+01</td>\n",
       "      <td>8.296316e+00</td>\n",
       "      <td>1.765689e+01</td>\n",
       "      <td>4.968303e+01</td>\n",
       "      <td>6.859634e+01</td>\n",
       "      <td>3.001985e+01</td>\n",
       "      <td>9.598144e+00</td>\n",
       "      <td>6.647163e+00</td>\n",
       "      <td>1.599805e-01</td>\n",
       "      <td>3.262926e+00</td>\n",
       "      <td>9.433987e+04</td>\n",
       "      <td>2.747494e-02</td>\n",
       "      <td>3.128430e-01</td>\n",
       "      <td>1.150000e+01</td>\n",
       "    </tr>\n",
       "    <tr>\n",
       "      <th>min</th>\n",
       "      <td>2014-05-01 00:00:00</td>\n",
       "      <td>2.000000e+00</td>\n",
       "      <td>0.000000e+00</td>\n",
       "      <td>1.100000e+01</td>\n",
       "      <td>1.300000e+01</td>\n",
       "      <td>2.400000e+01</td>\n",
       "      <td>2.963000e+01</td>\n",
       "      <td>4.000000e+00</td>\n",
       "      <td>0.000000e+00</td>\n",
       "      <td>0.000000e+00</td>\n",
       "      <td>0.000000e+00</td>\n",
       "      <td>9.404100e+04</td>\n",
       "      <td>0.000000e+00</td>\n",
       "      <td>0.000000e+00</td>\n",
       "      <td>0.000000e+00</td>\n",
       "    </tr>\n",
       "    <tr>\n",
       "      <th>25%</th>\n",
       "      <td>2014-07-31 01:55:00</td>\n",
       "      <td>2.400000e+01</td>\n",
       "      <td>5.000000e+00</td>\n",
       "      <td>1.500000e+01</td>\n",
       "      <td>4.600000e+01</td>\n",
       "      <td>6.300000e+01</td>\n",
       "      <td>2.993000e+01</td>\n",
       "      <td>1.000000e+01</td>\n",
       "      <td>4.000000e+00</td>\n",
       "      <td>0.000000e+00</td>\n",
       "      <td>1.000000e+00</td>\n",
       "      <td>9.410700e+04</td>\n",
       "      <td>0.000000e+00</td>\n",
       "      <td>0.000000e+00</td>\n",
       "      <td>6.000000e+00</td>\n",
       "    </tr>\n",
       "    <tr>\n",
       "      <th>50%</th>\n",
       "      <td>2014-10-30 20:45:00</td>\n",
       "      <td>4.200000e+01</td>\n",
       "      <td>8.000000e+00</td>\n",
       "      <td>1.500000e+01</td>\n",
       "      <td>5.000000e+01</td>\n",
       "      <td>6.900000e+01</td>\n",
       "      <td>3.000000e+01</td>\n",
       "      <td>1.000000e+01</td>\n",
       "      <td>6.000000e+00</td>\n",
       "      <td>0.000000e+00</td>\n",
       "      <td>3.000000e+00</td>\n",
       "      <td>9.410700e+04</td>\n",
       "      <td>0.000000e+00</td>\n",
       "      <td>0.000000e+00</td>\n",
       "      <td>1.100000e+01</td>\n",
       "    </tr>\n",
       "    <tr>\n",
       "      <th>75%</th>\n",
       "      <td>2015-01-29 20:30:00</td>\n",
       "      <td>6.400000e+01</td>\n",
       "      <td>1.100000e+01</td>\n",
       "      <td>1.900000e+01</td>\n",
       "      <td>5.500000e+01</td>\n",
       "      <td>7.500000e+01</td>\n",
       "      <td>3.011000e+01</td>\n",
       "      <td>1.000000e+01</td>\n",
       "      <td>9.000000e+00</td>\n",
       "      <td>0.000000e+00</td>\n",
       "      <td>5.000000e+00</td>\n",
       "      <td>9.430100e+04</td>\n",
       "      <td>0.000000e+00</td>\n",
       "      <td>1.000000e+00</td>\n",
       "      <td>1.700000e+01</td>\n",
       "    </tr>\n",
       "    <tr>\n",
       "      <th>max</th>\n",
       "      <td>2015-04-30 23:55:00</td>\n",
       "      <td>8.400000e+01</td>\n",
       "      <td>2.700000e+01</td>\n",
       "      <td>2.700000e+01</td>\n",
       "      <td>6.500000e+01</td>\n",
       "      <td>9.600000e+01</td>\n",
       "      <td>3.041000e+01</td>\n",
       "      <td>2.000000e+01</td>\n",
       "      <td>2.300000e+01</td>\n",
       "      <td>1.000000e+00</td>\n",
       "      <td>8.000000e+00</td>\n",
       "      <td>9.511300e+04</td>\n",
       "      <td>1.000000e+00</td>\n",
       "      <td>1.000000e+00</td>\n",
       "      <td>2.300000e+01</td>\n",
       "    </tr>\n",
       "    <tr>\n",
       "      <th>std</th>\n",
       "      <td>NaN</td>\n",
       "      <td>2.399402e+01</td>\n",
       "      <td>4.173161e+00</td>\n",
       "      <td>3.982221e+00</td>\n",
       "      <td>6.848807e+00</td>\n",
       "      <td>1.073235e+01</td>\n",
       "      <td>1.291384e-01</td>\n",
       "      <td>1.313508e+00</td>\n",
       "      <td>3.303102e+00</td>\n",
       "      <td>3.665880e-01</td>\n",
       "      <td>2.229327e+00</td>\n",
       "      <td>4.248337e+02</td>\n",
       "      <td>1.634628e-01</td>\n",
       "      <td>4.636511e-01</td>\n",
       "      <td>6.920271e+00</td>\n",
       "    </tr>\n",
       "  </tbody>\n",
       "</table>\n",
       "</div>"
      ],
      "text/plain": [
       "                                time    station_id  bikes_available  \\\n",
       "count                        7337194  7.337194e+06     7.337194e+06   \n",
       "mean   2014-10-30 13:33:29.071412224  4.299356e+01     8.296316e+00   \n",
       "min              2014-05-01 00:00:00  2.000000e+00     0.000000e+00   \n",
       "25%              2014-07-31 01:55:00  2.400000e+01     5.000000e+00   \n",
       "50%              2014-10-30 20:45:00  4.200000e+01     8.000000e+00   \n",
       "75%              2015-01-29 20:30:00  6.400000e+01     1.100000e+01   \n",
       "max              2015-04-30 23:55:00  8.400000e+01     2.700000e+01   \n",
       "std                              NaN  2.399402e+01     4.173161e+00   \n",
       "\n",
       "         dock_count  mean_dew_point_f  mean_humidity  \\\n",
       "count  7.337194e+06      7.337194e+06   7.337194e+06   \n",
       "mean   1.765689e+01      4.968303e+01   6.859634e+01   \n",
       "min    1.100000e+01      1.300000e+01   2.400000e+01   \n",
       "25%    1.500000e+01      4.600000e+01   6.300000e+01   \n",
       "50%    1.500000e+01      5.000000e+01   6.900000e+01   \n",
       "75%    1.900000e+01      5.500000e+01   7.500000e+01   \n",
       "max    2.700000e+01      6.500000e+01   9.600000e+01   \n",
       "std    3.982221e+00      6.848807e+00   1.073235e+01   \n",
       "\n",
       "       mean_sea_level_pressure_inches  mean_visibility_miles  \\\n",
       "count                    7.337194e+06           7.337194e+06   \n",
       "mean                     3.001985e+01           9.598144e+00   \n",
       "min                      2.963000e+01           4.000000e+00   \n",
       "25%                      2.993000e+01           1.000000e+01   \n",
       "50%                      3.000000e+01           1.000000e+01   \n",
       "75%                      3.011000e+01           1.000000e+01   \n",
       "max                      3.041000e+01           2.000000e+01   \n",
       "std                      1.291384e-01           1.313508e+00   \n",
       "\n",
       "       mean_wind_speed_mph  precipitation_inches   cloud_cover      zip_code  \\\n",
       "count         7.337194e+06          7.337194e+06  7.337194e+06  7.337194e+06   \n",
       "mean          6.647163e+00          1.599805e-01  3.262926e+00  9.433987e+04   \n",
       "min           0.000000e+00          0.000000e+00  0.000000e+00  9.404100e+04   \n",
       "25%           4.000000e+00          0.000000e+00  1.000000e+00  9.410700e+04   \n",
       "50%           6.000000e+00          0.000000e+00  3.000000e+00  9.410700e+04   \n",
       "75%           9.000000e+00          0.000000e+00  5.000000e+00  9.430100e+04   \n",
       "max           2.300000e+01          1.000000e+00  8.000000e+00  9.511300e+04   \n",
       "std           3.303102e+00          3.665880e-01  2.229327e+00  4.248337e+02   \n",
       "\n",
       "            holiday  is_weekend_or_holiday          hour  \n",
       "count  7.337194e+06           7.337194e+06  7.337194e+06  \n",
       "mean   2.747494e-02           3.128430e-01  1.150000e+01  \n",
       "min    0.000000e+00           0.000000e+00  0.000000e+00  \n",
       "25%    0.000000e+00           0.000000e+00  6.000000e+00  \n",
       "50%    0.000000e+00           0.000000e+00  1.100000e+01  \n",
       "75%    0.000000e+00           1.000000e+00  1.700000e+01  \n",
       "max    1.000000e+00           1.000000e+00  2.300000e+01  \n",
       "std    1.634628e-01           4.636511e-01  6.920271e+00  "
      ]
     },
     "execution_count": 107,
     "metadata": {},
     "output_type": "execute_result"
    }
   ],
   "source": [
    "# Get a statistical summary of the dataset\n",
    "df.describe()"
   ]
  },
  {
   "cell_type": "markdown",
   "id": "88470cad-6b48-4398-a5c7-dae679389093",
   "metadata": {},
   "source": [
    "#### Numerical Features"
   ]
  },
  {
   "cell_type": "code",
   "execution_count": 108,
   "id": "03876153-9a15-4ecc-a6c4-d02a67fec03d",
   "metadata": {
    "tags": []
   },
   "outputs": [
    {
     "data": {
      "text/plain": [
       "['station_id',\n",
       " 'bikes_available',\n",
       " 'dock_count',\n",
       " 'mean_dew_point_f',\n",
       " 'mean_humidity',\n",
       " 'mean_sea_level_pressure_inches',\n",
       " 'mean_visibility_miles',\n",
       " 'mean_wind_speed_mph',\n",
       " 'precipitation_inches',\n",
       " 'cloud_cover',\n",
       " 'zip_code',\n",
       " 'holiday',\n",
       " 'is_weekend_or_holiday',\n",
       " 'hour']"
      ]
     },
     "execution_count": 108,
     "metadata": {},
     "output_type": "execute_result"
    }
   ],
   "source": [
    "# Identify the numerical columns\n",
    "num_cols = df.select_dtypes(include=['number']).columns.tolist()\n",
    "\n",
    "# Show the list of numerical columns\n",
    "num_cols"
   ]
  },
  {
   "cell_type": "code",
   "execution_count": 109,
   "id": "78a6941a-ef93-4b42-89f7-59d739988937",
   "metadata": {
    "tags": []
   },
   "outputs": [
    {
     "name": "stdout",
     "output_type": "stream",
     "text": [
      "Number of numerical columns: 14\n"
     ]
    }
   ],
   "source": [
    "# Count the number of numerical columns\n",
    "print(f'Number of numerical columns: {len(num_cols)}')"
   ]
  },
  {
   "cell_type": "markdown",
   "id": "9d46f862-cbcd-4748-96c2-dacd2f30886c",
   "metadata": {},
   "source": [
    "#### Categorical Features"
   ]
  },
  {
   "cell_type": "code",
   "execution_count": 110,
   "id": "3373b57d-5f2c-453f-b97e-f4078d305639",
   "metadata": {
    "tags": []
   },
   "outputs": [
    {
     "data": {
      "text/plain": [
       "['usage_rate_category']"
      ]
     },
     "execution_count": 110,
     "metadata": {},
     "output_type": "execute_result"
    }
   ],
   "source": [
    "# Identify the categorical columns\n",
    "cate_cols = df.select_dtypes(include='object').columns.tolist()\n",
    "\n",
    "# Show the list of categorical columns\n",
    "cate_cols"
   ]
  },
  {
   "cell_type": "code",
   "execution_count": 111,
   "id": "14cfe273-5c75-4365-ac4a-7bdf8110c641",
   "metadata": {
    "tags": []
   },
   "outputs": [
    {
     "name": "stdout",
     "output_type": "stream",
     "text": [
      "Number of numerical columns: 1\n"
     ]
    }
   ],
   "source": [
    "# Count the number of categorical columns\n",
    "print(f'Number of numerical columns: {len(cate_cols)}')"
   ]
  },
  {
   "cell_type": "markdown",
   "id": "f60dadc1-8479-4613-9731-b47d338dc909",
   "metadata": {},
   "source": [
    "#### Datetime Features"
   ]
  },
  {
   "cell_type": "code",
   "execution_count": 112,
   "id": "061eaa0b-3abe-4dff-a0e7-3ea3d7c80475",
   "metadata": {
    "tags": []
   },
   "outputs": [
    {
     "data": {
      "text/plain": [
       "['time']"
      ]
     },
     "execution_count": 112,
     "metadata": {},
     "output_type": "execute_result"
    }
   ],
   "source": [
    "# Identify the datetime columns\n",
    "dat_cols = df.select_dtypes(include=['datetime']).columns.tolist()\n",
    "\n",
    "# Show the list of numerical columns\n",
    "dat_cols"
   ]
  },
  {
   "cell_type": "code",
   "execution_count": 113,
   "id": "7c9e843d-751d-45bb-8e61-74efa97cef2f",
   "metadata": {
    "tags": []
   },
   "outputs": [
    {
     "name": "stdout",
     "output_type": "stream",
     "text": [
      "Number of datetime columns: 1\n"
     ]
    }
   ],
   "source": [
    "# Count the number of datetime columns\n",
    "print(f'Number of datetime columns: {len(dat_cols)}')"
   ]
  },
  {
   "cell_type": "markdown",
   "id": "d39b0f4a-89f5-4ed5-9fdc-2212790f3709",
   "metadata": {},
   "source": [
    "## Categorical Variables"
   ]
  },
  {
   "cell_type": "markdown",
   "id": "86d7d863-dbc2-4ad8-8347-09d18ec0ca9c",
   "metadata": {},
   "source": [
    "#### Mapping the target variable to numerical values"
   ]
  },
  {
   "cell_type": "markdown",
   "id": "72f82f0b-951d-4c6d-8d90-3b85d0a7ce9b",
   "metadata": {},
   "source": [
    "We only have one categorical variable in our dataset. Let's proceed with manually encoding this variable."
   ]
  },
  {
   "cell_type": "code",
   "execution_count": 114,
   "id": "faa81622-7ad7-4fb2-b8ad-497824a0c626",
   "metadata": {
    "tags": []
   },
   "outputs": [
    {
     "data": {
      "text/plain": [
       "array(['Median', 'High', 'Low'], dtype=object)"
      ]
     },
     "execution_count": 114,
     "metadata": {},
     "output_type": "execute_result"
    }
   ],
   "source": [
    "# Get the unique values in the 'usage_rate_category' column\n",
    "df['usage_rate_category'].unique()"
   ]
  },
  {
   "cell_type": "markdown",
   "id": "b977bce4-5dc7-43e3-82f3-a3f77a3dd9bf",
   "metadata": {},
   "source": [
    "We will convert column 'usage_rate_category' into a numerical one, where 1 represents low usage, 2 represents median usage, and 3 represents high usage."
   ]
  },
  {
   "cell_type": "code",
   "execution_count": 115,
   "id": "626534d2-fce1-47e7-90e7-7f00e0c18693",
   "metadata": {
    "tags": []
   },
   "outputs": [
    {
     "data": {
      "text/html": [
       "<div>\n",
       "<style scoped>\n",
       "    .dataframe tbody tr th:only-of-type {\n",
       "        vertical-align: middle;\n",
       "    }\n",
       "\n",
       "    .dataframe tbody tr th {\n",
       "        vertical-align: top;\n",
       "    }\n",
       "\n",
       "    .dataframe thead th {\n",
       "        text-align: right;\n",
       "    }\n",
       "</style>\n",
       "<table border=\"1\" class=\"dataframe\">\n",
       "  <thead>\n",
       "    <tr style=\"text-align: right;\">\n",
       "      <th></th>\n",
       "      <th>time</th>\n",
       "      <th>station_id</th>\n",
       "      <th>bikes_available</th>\n",
       "      <th>dock_count</th>\n",
       "      <th>mean_dew_point_f</th>\n",
       "      <th>mean_humidity</th>\n",
       "      <th>mean_sea_level_pressure_inches</th>\n",
       "      <th>mean_visibility_miles</th>\n",
       "      <th>mean_wind_speed_mph</th>\n",
       "      <th>precipitation_inches</th>\n",
       "      <th>cloud_cover</th>\n",
       "      <th>zip_code</th>\n",
       "      <th>usage_rate_category</th>\n",
       "      <th>holiday</th>\n",
       "      <th>is_weekend_or_holiday</th>\n",
       "      <th>hour</th>\n",
       "    </tr>\n",
       "  </thead>\n",
       "  <tbody>\n",
       "    <tr>\n",
       "      <th>2409346</th>\n",
       "      <td>2015-04-29 03:30:00</td>\n",
       "      <td>83</td>\n",
       "      <td>6</td>\n",
       "      <td>15</td>\n",
       "      <td>47.0</td>\n",
       "      <td>69.0</td>\n",
       "      <td>30.00</td>\n",
       "      <td>10.0</td>\n",
       "      <td>4.0</td>\n",
       "      <td>0</td>\n",
       "      <td>1.0</td>\n",
       "      <td>94063</td>\n",
       "      <td>2</td>\n",
       "      <td>0</td>\n",
       "      <td>0</td>\n",
       "      <td>3</td>\n",
       "    </tr>\n",
       "    <tr>\n",
       "      <th>5088548</th>\n",
       "      <td>2014-09-19 02:25:00</td>\n",
       "      <td>70</td>\n",
       "      <td>17</td>\n",
       "      <td>19</td>\n",
       "      <td>60.0</td>\n",
       "      <td>79.0</td>\n",
       "      <td>29.90</td>\n",
       "      <td>10.0</td>\n",
       "      <td>7.0</td>\n",
       "      <td>0</td>\n",
       "      <td>5.0</td>\n",
       "      <td>94107</td>\n",
       "      <td>1</td>\n",
       "      <td>0</td>\n",
       "      <td>0</td>\n",
       "      <td>2</td>\n",
       "    </tr>\n",
       "    <tr>\n",
       "      <th>5243084</th>\n",
       "      <td>2014-10-05 16:25:00</td>\n",
       "      <td>42</td>\n",
       "      <td>8</td>\n",
       "      <td>15</td>\n",
       "      <td>52.0</td>\n",
       "      <td>55.0</td>\n",
       "      <td>29.92</td>\n",
       "      <td>10.0</td>\n",
       "      <td>5.0</td>\n",
       "      <td>0</td>\n",
       "      <td>1.0</td>\n",
       "      <td>94107</td>\n",
       "      <td>2</td>\n",
       "      <td>0</td>\n",
       "      <td>1</td>\n",
       "      <td>16</td>\n",
       "    </tr>\n",
       "    <tr>\n",
       "      <th>870877</th>\n",
       "      <td>2014-11-06 08:35:00</td>\n",
       "      <td>14</td>\n",
       "      <td>9</td>\n",
       "      <td>19</td>\n",
       "      <td>50.0</td>\n",
       "      <td>62.0</td>\n",
       "      <td>30.19</td>\n",
       "      <td>10.0</td>\n",
       "      <td>3.0</td>\n",
       "      <td>0</td>\n",
       "      <td>3.0</td>\n",
       "      <td>95113</td>\n",
       "      <td>2</td>\n",
       "      <td>0</td>\n",
       "      <td>0</td>\n",
       "      <td>8</td>\n",
       "    </tr>\n",
       "    <tr>\n",
       "      <th>1532761</th>\n",
       "      <td>2015-03-30 13:05:00</td>\n",
       "      <td>9</td>\n",
       "      <td>6</td>\n",
       "      <td>15</td>\n",
       "      <td>48.0</td>\n",
       "      <td>70.0</td>\n",
       "      <td>30.05</td>\n",
       "      <td>10.0</td>\n",
       "      <td>6.0</td>\n",
       "      <td>0</td>\n",
       "      <td>3.0</td>\n",
       "      <td>95113</td>\n",
       "      <td>2</td>\n",
       "      <td>0</td>\n",
       "      <td>0</td>\n",
       "      <td>13</td>\n",
       "    </tr>\n",
       "    <tr>\n",
       "      <th>4818838</th>\n",
       "      <td>2014-08-23 18:00:00</td>\n",
       "      <td>49</td>\n",
       "      <td>7</td>\n",
       "      <td>19</td>\n",
       "      <td>55.0</td>\n",
       "      <td>64.0</td>\n",
       "      <td>29.91</td>\n",
       "      <td>10.0</td>\n",
       "      <td>9.0</td>\n",
       "      <td>0</td>\n",
       "      <td>3.0</td>\n",
       "      <td>94107</td>\n",
       "      <td>2</td>\n",
       "      <td>0</td>\n",
       "      <td>1</td>\n",
       "      <td>18</td>\n",
       "    </tr>\n",
       "    <tr>\n",
       "      <th>5118443</th>\n",
       "      <td>2014-09-22 21:40:00</td>\n",
       "      <td>68</td>\n",
       "      <td>5</td>\n",
       "      <td>19</td>\n",
       "      <td>57.0</td>\n",
       "      <td>66.0</td>\n",
       "      <td>30.00</td>\n",
       "      <td>10.0</td>\n",
       "      <td>9.0</td>\n",
       "      <td>0</td>\n",
       "      <td>4.0</td>\n",
       "      <td>94107</td>\n",
       "      <td>3</td>\n",
       "      <td>0</td>\n",
       "      <td>0</td>\n",
       "      <td>21</td>\n",
       "    </tr>\n",
       "    <tr>\n",
       "      <th>6645002</th>\n",
       "      <td>2015-02-21 10:55:00</td>\n",
       "      <td>47</td>\n",
       "      <td>1</td>\n",
       "      <td>19</td>\n",
       "      <td>47.0</td>\n",
       "      <td>67.0</td>\n",
       "      <td>29.91</td>\n",
       "      <td>10.0</td>\n",
       "      <td>5.0</td>\n",
       "      <td>0</td>\n",
       "      <td>2.0</td>\n",
       "      <td>94107</td>\n",
       "      <td>3</td>\n",
       "      <td>0</td>\n",
       "      <td>1</td>\n",
       "      <td>10</td>\n",
       "    </tr>\n",
       "    <tr>\n",
       "      <th>2592294</th>\n",
       "      <td>2014-07-29 09:10:00</td>\n",
       "      <td>31</td>\n",
       "      <td>8</td>\n",
       "      <td>15</td>\n",
       "      <td>59.0</td>\n",
       "      <td>69.0</td>\n",
       "      <td>30.04</td>\n",
       "      <td>10.0</td>\n",
       "      <td>7.0</td>\n",
       "      <td>0</td>\n",
       "      <td>2.0</td>\n",
       "      <td>94041</td>\n",
       "      <td>2</td>\n",
       "      <td>0</td>\n",
       "      <td>0</td>\n",
       "      <td>9</td>\n",
       "    </tr>\n",
       "    <tr>\n",
       "      <th>2911844</th>\n",
       "      <td>2015-01-04 07:15:00</td>\n",
       "      <td>33</td>\n",
       "      <td>7</td>\n",
       "      <td>15</td>\n",
       "      <td>36.0</td>\n",
       "      <td>70.0</td>\n",
       "      <td>30.39</td>\n",
       "      <td>8.0</td>\n",
       "      <td>2.0</td>\n",
       "      <td>1</td>\n",
       "      <td>0.0</td>\n",
       "      <td>94041</td>\n",
       "      <td>2</td>\n",
       "      <td>0</td>\n",
       "      <td>1</td>\n",
       "      <td>7</td>\n",
       "    </tr>\n",
       "  </tbody>\n",
       "</table>\n",
       "</div>"
      ],
      "text/plain": [
       "                       time  station_id  bikes_available  dock_count  \\\n",
       "2409346 2015-04-29 03:30:00          83                6          15   \n",
       "5088548 2014-09-19 02:25:00          70               17          19   \n",
       "5243084 2014-10-05 16:25:00          42                8          15   \n",
       "870877  2014-11-06 08:35:00          14                9          19   \n",
       "1532761 2015-03-30 13:05:00           9                6          15   \n",
       "4818838 2014-08-23 18:00:00          49                7          19   \n",
       "5118443 2014-09-22 21:40:00          68                5          19   \n",
       "6645002 2015-02-21 10:55:00          47                1          19   \n",
       "2592294 2014-07-29 09:10:00          31                8          15   \n",
       "2911844 2015-01-04 07:15:00          33                7          15   \n",
       "\n",
       "         mean_dew_point_f  mean_humidity  mean_sea_level_pressure_inches  \\\n",
       "2409346              47.0           69.0                           30.00   \n",
       "5088548              60.0           79.0                           29.90   \n",
       "5243084              52.0           55.0                           29.92   \n",
       "870877               50.0           62.0                           30.19   \n",
       "1532761              48.0           70.0                           30.05   \n",
       "4818838              55.0           64.0                           29.91   \n",
       "5118443              57.0           66.0                           30.00   \n",
       "6645002              47.0           67.0                           29.91   \n",
       "2592294              59.0           69.0                           30.04   \n",
       "2911844              36.0           70.0                           30.39   \n",
       "\n",
       "         mean_visibility_miles  mean_wind_speed_mph  precipitation_inches  \\\n",
       "2409346                   10.0                  4.0                     0   \n",
       "5088548                   10.0                  7.0                     0   \n",
       "5243084                   10.0                  5.0                     0   \n",
       "870877                    10.0                  3.0                     0   \n",
       "1532761                   10.0                  6.0                     0   \n",
       "4818838                   10.0                  9.0                     0   \n",
       "5118443                   10.0                  9.0                     0   \n",
       "6645002                   10.0                  5.0                     0   \n",
       "2592294                   10.0                  7.0                     0   \n",
       "2911844                    8.0                  2.0                     1   \n",
       "\n",
       "         cloud_cover  zip_code  usage_rate_category  holiday  \\\n",
       "2409346          1.0     94063                    2        0   \n",
       "5088548          5.0     94107                    1        0   \n",
       "5243084          1.0     94107                    2        0   \n",
       "870877           3.0     95113                    2        0   \n",
       "1532761          3.0     95113                    2        0   \n",
       "4818838          3.0     94107                    2        0   \n",
       "5118443          4.0     94107                    3        0   \n",
       "6645002          2.0     94107                    3        0   \n",
       "2592294          2.0     94041                    2        0   \n",
       "2911844          0.0     94041                    2        0   \n",
       "\n",
       "         is_weekend_or_holiday  hour  \n",
       "2409346                      0     3  \n",
       "5088548                      0     2  \n",
       "5243084                      1    16  \n",
       "870877                       0     8  \n",
       "1532761                      0    13  \n",
       "4818838                      1    18  \n",
       "5118443                      0    21  \n",
       "6645002                      1    10  \n",
       "2592294                      0     9  \n",
       "2911844                      1     7  "
      ]
     },
     "execution_count": 115,
     "metadata": {},
     "output_type": "execute_result"
    }
   ],
   "source": [
    "# Convert the 'usage_rate_category' column to a numerical one\n",
    "df['usage_rate_category'] = df['usage_rate_category'].replace({'Low': 1, 'Median': 2, 'High': 3}).astype(int)\n",
    "\n",
    "# Verify the conversion\n",
    "df.sample(10)"
   ]
  },
  {
   "cell_type": "code",
   "execution_count": 116,
   "id": "7e5987d9-6fc0-4de8-9c68-2cb872454684",
   "metadata": {
    "tags": []
   },
   "outputs": [
    {
     "data": {
      "text/plain": [
       "Index([], dtype='object')"
      ]
     },
     "execution_count": 116,
     "metadata": {},
     "output_type": "execute_result"
    }
   ],
   "source": [
    "# Verify if there is any remaining categorical columns in the dataset\n",
    "df.select_dtypes(['object']).columns"
   ]
  },
  {
   "cell_type": "markdown",
   "id": "9b68ea94-1f8f-4c49-bd47-fad157a71f08",
   "metadata": {},
   "source": [
    "## Datetime Variables"
   ]
  },
  {
   "cell_type": "markdown",
   "id": "bcbe8613-342f-4c7f-96fb-2d8d7a78ac81",
   "metadata": {},
   "source": [
    "#### Extracting datetime variables"
   ]
  },
  {
   "cell_type": "markdown",
   "id": "569e386a-1b8a-4815-8a7f-6650d0248193",
   "metadata": {},
   "source": [
    "We have one datetime variable. Let's extract useful date/time components such as year, month, day, and minute. Since we already have the 'hour' column, we will drop it first to ensure the date/time information is organized in the following order in our dataframe: year, month, day, hour, minute."
   ]
  },
  {
   "cell_type": "code",
   "execution_count": 117,
   "id": "b8a5681c-0167-40b4-8749-c915d21f5206",
   "metadata": {
    "tags": []
   },
   "outputs": [
    {
     "data": {
      "text/html": [
       "<div>\n",
       "<style scoped>\n",
       "    .dataframe tbody tr th:only-of-type {\n",
       "        vertical-align: middle;\n",
       "    }\n",
       "\n",
       "    .dataframe tbody tr th {\n",
       "        vertical-align: top;\n",
       "    }\n",
       "\n",
       "    .dataframe thead th {\n",
       "        text-align: right;\n",
       "    }\n",
       "</style>\n",
       "<table border=\"1\" class=\"dataframe\">\n",
       "  <thead>\n",
       "    <tr style=\"text-align: right;\">\n",
       "      <th></th>\n",
       "      <th>time</th>\n",
       "      <th>station_id</th>\n",
       "      <th>bikes_available</th>\n",
       "      <th>dock_count</th>\n",
       "      <th>mean_dew_point_f</th>\n",
       "      <th>mean_humidity</th>\n",
       "      <th>mean_sea_level_pressure_inches</th>\n",
       "      <th>mean_visibility_miles</th>\n",
       "      <th>mean_wind_speed_mph</th>\n",
       "      <th>precipitation_inches</th>\n",
       "      <th>cloud_cover</th>\n",
       "      <th>zip_code</th>\n",
       "      <th>usage_rate_category</th>\n",
       "      <th>holiday</th>\n",
       "      <th>is_weekend_or_holiday</th>\n",
       "      <th>year</th>\n",
       "      <th>month</th>\n",
       "      <th>day</th>\n",
       "      <th>hour</th>\n",
       "      <th>minute</th>\n",
       "    </tr>\n",
       "  </thead>\n",
       "  <tbody>\n",
       "    <tr>\n",
       "      <th>1794124</th>\n",
       "      <td>2014-06-27 14:45:00</td>\n",
       "      <td>26</td>\n",
       "      <td>8</td>\n",
       "      <td>15</td>\n",
       "      <td>55.0</td>\n",
       "      <td>77.0</td>\n",
       "      <td>29.98</td>\n",
       "      <td>10.0</td>\n",
       "      <td>6.0</td>\n",
       "      <td>0</td>\n",
       "      <td>1.0</td>\n",
       "      <td>94063</td>\n",
       "      <td>2</td>\n",
       "      <td>0</td>\n",
       "      <td>0</td>\n",
       "      <td>2014</td>\n",
       "      <td>6</td>\n",
       "      <td>27</td>\n",
       "      <td>14</td>\n",
       "      <td>45</td>\n",
       "    </tr>\n",
       "    <tr>\n",
       "      <th>2145942</th>\n",
       "      <td>2014-12-20 13:50:00</td>\n",
       "      <td>21</td>\n",
       "      <td>6</td>\n",
       "      <td>15</td>\n",
       "      <td>55.0</td>\n",
       "      <td>93.0</td>\n",
       "      <td>30.19</td>\n",
       "      <td>8.0</td>\n",
       "      <td>1.0</td>\n",
       "      <td>0</td>\n",
       "      <td>8.0</td>\n",
       "      <td>94063</td>\n",
       "      <td>2</td>\n",
       "      <td>0</td>\n",
       "      <td>1</td>\n",
       "      <td>2014</td>\n",
       "      <td>12</td>\n",
       "      <td>20</td>\n",
       "      <td>13</td>\n",
       "      <td>50</td>\n",
       "    </tr>\n",
       "    <tr>\n",
       "      <th>1930362</th>\n",
       "      <td>2014-09-03 15:55:00</td>\n",
       "      <td>23</td>\n",
       "      <td>7</td>\n",
       "      <td>15</td>\n",
       "      <td>56.0</td>\n",
       "      <td>74.0</td>\n",
       "      <td>29.76</td>\n",
       "      <td>10.0</td>\n",
       "      <td>4.0</td>\n",
       "      <td>0</td>\n",
       "      <td>5.0</td>\n",
       "      <td>94063</td>\n",
       "      <td>2</td>\n",
       "      <td>0</td>\n",
       "      <td>0</td>\n",
       "      <td>2014</td>\n",
       "      <td>9</td>\n",
       "      <td>3</td>\n",
       "      <td>15</td>\n",
       "      <td>55</td>\n",
       "    </tr>\n",
       "    <tr>\n",
       "      <th>7276524</th>\n",
       "      <td>2015-04-24 02:25:00</td>\n",
       "      <td>77</td>\n",
       "      <td>7</td>\n",
       "      <td>27</td>\n",
       "      <td>47.0</td>\n",
       "      <td>69.0</td>\n",
       "      <td>29.99</td>\n",
       "      <td>10.0</td>\n",
       "      <td>19.0</td>\n",
       "      <td>1</td>\n",
       "      <td>5.0</td>\n",
       "      <td>94107</td>\n",
       "      <td>3</td>\n",
       "      <td>0</td>\n",
       "      <td>0</td>\n",
       "      <td>2015</td>\n",
       "      <td>4</td>\n",
       "      <td>24</td>\n",
       "      <td>2</td>\n",
       "      <td>25</td>\n",
       "    </tr>\n",
       "    <tr>\n",
       "      <th>3750079</th>\n",
       "      <td>2014-05-08 21:15:00</td>\n",
       "      <td>82</td>\n",
       "      <td>2</td>\n",
       "      <td>15</td>\n",
       "      <td>50.0</td>\n",
       "      <td>73.0</td>\n",
       "      <td>30.06</td>\n",
       "      <td>10.0</td>\n",
       "      <td>10.0</td>\n",
       "      <td>1</td>\n",
       "      <td>7.0</td>\n",
       "      <td>94107</td>\n",
       "      <td>3</td>\n",
       "      <td>0</td>\n",
       "      <td>0</td>\n",
       "      <td>2014</td>\n",
       "      <td>5</td>\n",
       "      <td>8</td>\n",
       "      <td>21</td>\n",
       "      <td>15</td>\n",
       "    </tr>\n",
       "    <tr>\n",
       "      <th>6113487</th>\n",
       "      <td>2014-12-30 22:00:00</td>\n",
       "      <td>58</td>\n",
       "      <td>9</td>\n",
       "      <td>19</td>\n",
       "      <td>23.0</td>\n",
       "      <td>53.0</td>\n",
       "      <td>30.16</td>\n",
       "      <td>10.0</td>\n",
       "      <td>17.0</td>\n",
       "      <td>0</td>\n",
       "      <td>0.0</td>\n",
       "      <td>94107</td>\n",
       "      <td>2</td>\n",
       "      <td>0</td>\n",
       "      <td>0</td>\n",
       "      <td>2014</td>\n",
       "      <td>12</td>\n",
       "      <td>30</td>\n",
       "      <td>22</td>\n",
       "      <td>0</td>\n",
       "    </tr>\n",
       "    <tr>\n",
       "      <th>6955274</th>\n",
       "      <td>2015-03-23 05:55:00</td>\n",
       "      <td>82</td>\n",
       "      <td>3</td>\n",
       "      <td>15</td>\n",
       "      <td>49.0</td>\n",
       "      <td>71.0</td>\n",
       "      <td>30.25</td>\n",
       "      <td>10.0</td>\n",
       "      <td>10.0</td>\n",
       "      <td>1</td>\n",
       "      <td>6.0</td>\n",
       "      <td>94107</td>\n",
       "      <td>3</td>\n",
       "      <td>0</td>\n",
       "      <td>0</td>\n",
       "      <td>2015</td>\n",
       "      <td>3</td>\n",
       "      <td>23</td>\n",
       "      <td>5</td>\n",
       "      <td>55</td>\n",
       "    </tr>\n",
       "    <tr>\n",
       "      <th>1894258</th>\n",
       "      <td>2014-08-16 07:15:00</td>\n",
       "      <td>24</td>\n",
       "      <td>10</td>\n",
       "      <td>15</td>\n",
       "      <td>57.0</td>\n",
       "      <td>78.0</td>\n",
       "      <td>30.01</td>\n",
       "      <td>10.0</td>\n",
       "      <td>4.0</td>\n",
       "      <td>0</td>\n",
       "      <td>4.0</td>\n",
       "      <td>94063</td>\n",
       "      <td>2</td>\n",
       "      <td>0</td>\n",
       "      <td>1</td>\n",
       "      <td>2014</td>\n",
       "      <td>8</td>\n",
       "      <td>16</td>\n",
       "      <td>7</td>\n",
       "      <td>15</td>\n",
       "    </tr>\n",
       "    <tr>\n",
       "      <th>6173292</th>\n",
       "      <td>2015-01-05 13:45:00</td>\n",
       "      <td>56</td>\n",
       "      <td>12</td>\n",
       "      <td>19</td>\n",
       "      <td>38.0</td>\n",
       "      <td>68.0</td>\n",
       "      <td>30.32</td>\n",
       "      <td>9.0</td>\n",
       "      <td>3.0</td>\n",
       "      <td>0</td>\n",
       "      <td>4.0</td>\n",
       "      <td>94107</td>\n",
       "      <td>2</td>\n",
       "      <td>0</td>\n",
       "      <td>0</td>\n",
       "      <td>2015</td>\n",
       "      <td>1</td>\n",
       "      <td>5</td>\n",
       "      <td>13</td>\n",
       "      <td>45</td>\n",
       "    </tr>\n",
       "    <tr>\n",
       "      <th>4227846</th>\n",
       "      <td>2014-06-25 06:25:00</td>\n",
       "      <td>61</td>\n",
       "      <td>14</td>\n",
       "      <td>27</td>\n",
       "      <td>55.0</td>\n",
       "      <td>79.0</td>\n",
       "      <td>29.99</td>\n",
       "      <td>10.0</td>\n",
       "      <td>13.0</td>\n",
       "      <td>1</td>\n",
       "      <td>7.0</td>\n",
       "      <td>94107</td>\n",
       "      <td>2</td>\n",
       "      <td>0</td>\n",
       "      <td>0</td>\n",
       "      <td>2014</td>\n",
       "      <td>6</td>\n",
       "      <td>25</td>\n",
       "      <td>6</td>\n",
       "      <td>25</td>\n",
       "    </tr>\n",
       "    <tr>\n",
       "      <th>3728004</th>\n",
       "      <td>2014-05-06 05:40:00</td>\n",
       "      <td>72</td>\n",
       "      <td>15</td>\n",
       "      <td>23</td>\n",
       "      <td>45.0</td>\n",
       "      <td>58.0</td>\n",
       "      <td>29.92</td>\n",
       "      <td>10.0</td>\n",
       "      <td>11.0</td>\n",
       "      <td>0</td>\n",
       "      <td>1.0</td>\n",
       "      <td>94107</td>\n",
       "      <td>2</td>\n",
       "      <td>0</td>\n",
       "      <td>0</td>\n",
       "      <td>2014</td>\n",
       "      <td>5</td>\n",
       "      <td>6</td>\n",
       "      <td>5</td>\n",
       "      <td>40</td>\n",
       "    </tr>\n",
       "    <tr>\n",
       "      <th>336066</th>\n",
       "      <td>2014-07-12 01:25:00</td>\n",
       "      <td>84</td>\n",
       "      <td>10</td>\n",
       "      <td>15</td>\n",
       "      <td>54.0</td>\n",
       "      <td>69.0</td>\n",
       "      <td>30.06</td>\n",
       "      <td>10.0</td>\n",
       "      <td>8.0</td>\n",
       "      <td>0</td>\n",
       "      <td>4.0</td>\n",
       "      <td>95113</td>\n",
       "      <td>2</td>\n",
       "      <td>0</td>\n",
       "      <td>1</td>\n",
       "      <td>2014</td>\n",
       "      <td>7</td>\n",
       "      <td>12</td>\n",
       "      <td>1</td>\n",
       "      <td>25</td>\n",
       "    </tr>\n",
       "    <tr>\n",
       "      <th>1054342</th>\n",
       "      <td>2014-12-16 16:50:00</td>\n",
       "      <td>11</td>\n",
       "      <td>9</td>\n",
       "      <td>19</td>\n",
       "      <td>49.0</td>\n",
       "      <td>76.0</td>\n",
       "      <td>29.91</td>\n",
       "      <td>8.0</td>\n",
       "      <td>8.0</td>\n",
       "      <td>1</td>\n",
       "      <td>6.0</td>\n",
       "      <td>95113</td>\n",
       "      <td>2</td>\n",
       "      <td>0</td>\n",
       "      <td>0</td>\n",
       "      <td>2014</td>\n",
       "      <td>12</td>\n",
       "      <td>16</td>\n",
       "      <td>16</td>\n",
       "      <td>50</td>\n",
       "    </tr>\n",
       "    <tr>\n",
       "      <th>6984755</th>\n",
       "      <td>2015-03-26 14:40:00</td>\n",
       "      <td>75</td>\n",
       "      <td>9</td>\n",
       "      <td>19</td>\n",
       "      <td>52.0</td>\n",
       "      <td>68.0</td>\n",
       "      <td>30.12</td>\n",
       "      <td>10.0</td>\n",
       "      <td>5.0</td>\n",
       "      <td>0</td>\n",
       "      <td>0.0</td>\n",
       "      <td>94107</td>\n",
       "      <td>2</td>\n",
       "      <td>0</td>\n",
       "      <td>0</td>\n",
       "      <td>2015</td>\n",
       "      <td>3</td>\n",
       "      <td>26</td>\n",
       "      <td>14</td>\n",
       "      <td>40</td>\n",
       "    </tr>\n",
       "    <tr>\n",
       "      <th>6778086</th>\n",
       "      <td>2015-03-06 13:15:00</td>\n",
       "      <td>56</td>\n",
       "      <td>16</td>\n",
       "      <td>19</td>\n",
       "      <td>43.0</td>\n",
       "      <td>60.0</td>\n",
       "      <td>30.23</td>\n",
       "      <td>10.0</td>\n",
       "      <td>4.0</td>\n",
       "      <td>0</td>\n",
       "      <td>0.0</td>\n",
       "      <td>94107</td>\n",
       "      <td>1</td>\n",
       "      <td>0</td>\n",
       "      <td>0</td>\n",
       "      <td>2015</td>\n",
       "      <td>3</td>\n",
       "      <td>6</td>\n",
       "      <td>13</td>\n",
       "      <td>15</td>\n",
       "    </tr>\n",
       "  </tbody>\n",
       "</table>\n",
       "</div>"
      ],
      "text/plain": [
       "                       time  station_id  bikes_available  dock_count  \\\n",
       "1794124 2014-06-27 14:45:00          26                8          15   \n",
       "2145942 2014-12-20 13:50:00          21                6          15   \n",
       "1930362 2014-09-03 15:55:00          23                7          15   \n",
       "7276524 2015-04-24 02:25:00          77                7          27   \n",
       "3750079 2014-05-08 21:15:00          82                2          15   \n",
       "6113487 2014-12-30 22:00:00          58                9          19   \n",
       "6955274 2015-03-23 05:55:00          82                3          15   \n",
       "1894258 2014-08-16 07:15:00          24               10          15   \n",
       "6173292 2015-01-05 13:45:00          56               12          19   \n",
       "4227846 2014-06-25 06:25:00          61               14          27   \n",
       "3728004 2014-05-06 05:40:00          72               15          23   \n",
       "336066  2014-07-12 01:25:00          84               10          15   \n",
       "1054342 2014-12-16 16:50:00          11                9          19   \n",
       "6984755 2015-03-26 14:40:00          75                9          19   \n",
       "6778086 2015-03-06 13:15:00          56               16          19   \n",
       "\n",
       "         mean_dew_point_f  mean_humidity  mean_sea_level_pressure_inches  \\\n",
       "1794124              55.0           77.0                           29.98   \n",
       "2145942              55.0           93.0                           30.19   \n",
       "1930362              56.0           74.0                           29.76   \n",
       "7276524              47.0           69.0                           29.99   \n",
       "3750079              50.0           73.0                           30.06   \n",
       "6113487              23.0           53.0                           30.16   \n",
       "6955274              49.0           71.0                           30.25   \n",
       "1894258              57.0           78.0                           30.01   \n",
       "6173292              38.0           68.0                           30.32   \n",
       "4227846              55.0           79.0                           29.99   \n",
       "3728004              45.0           58.0                           29.92   \n",
       "336066               54.0           69.0                           30.06   \n",
       "1054342              49.0           76.0                           29.91   \n",
       "6984755              52.0           68.0                           30.12   \n",
       "6778086              43.0           60.0                           30.23   \n",
       "\n",
       "         mean_visibility_miles  mean_wind_speed_mph  precipitation_inches  \\\n",
       "1794124                   10.0                  6.0                     0   \n",
       "2145942                    8.0                  1.0                     0   \n",
       "1930362                   10.0                  4.0                     0   \n",
       "7276524                   10.0                 19.0                     1   \n",
       "3750079                   10.0                 10.0                     1   \n",
       "6113487                   10.0                 17.0                     0   \n",
       "6955274                   10.0                 10.0                     1   \n",
       "1894258                   10.0                  4.0                     0   \n",
       "6173292                    9.0                  3.0                     0   \n",
       "4227846                   10.0                 13.0                     1   \n",
       "3728004                   10.0                 11.0                     0   \n",
       "336066                    10.0                  8.0                     0   \n",
       "1054342                    8.0                  8.0                     1   \n",
       "6984755                   10.0                  5.0                     0   \n",
       "6778086                   10.0                  4.0                     0   \n",
       "\n",
       "         cloud_cover  zip_code  usage_rate_category  holiday  \\\n",
       "1794124          1.0     94063                    2        0   \n",
       "2145942          8.0     94063                    2        0   \n",
       "1930362          5.0     94063                    2        0   \n",
       "7276524          5.0     94107                    3        0   \n",
       "3750079          7.0     94107                    3        0   \n",
       "6113487          0.0     94107                    2        0   \n",
       "6955274          6.0     94107                    3        0   \n",
       "1894258          4.0     94063                    2        0   \n",
       "6173292          4.0     94107                    2        0   \n",
       "4227846          7.0     94107                    2        0   \n",
       "3728004          1.0     94107                    2        0   \n",
       "336066           4.0     95113                    2        0   \n",
       "1054342          6.0     95113                    2        0   \n",
       "6984755          0.0     94107                    2        0   \n",
       "6778086          0.0     94107                    1        0   \n",
       "\n",
       "         is_weekend_or_holiday  year  month  day  hour  minute  \n",
       "1794124                      0  2014      6   27    14      45  \n",
       "2145942                      1  2014     12   20    13      50  \n",
       "1930362                      0  2014      9    3    15      55  \n",
       "7276524                      0  2015      4   24     2      25  \n",
       "3750079                      0  2014      5    8    21      15  \n",
       "6113487                      0  2014     12   30    22       0  \n",
       "6955274                      0  2015      3   23     5      55  \n",
       "1894258                      1  2014      8   16     7      15  \n",
       "6173292                      0  2015      1    5    13      45  \n",
       "4227846                      0  2014      6   25     6      25  \n",
       "3728004                      0  2014      5    6     5      40  \n",
       "336066                       1  2014      7   12     1      25  \n",
       "1054342                      0  2014     12   16    16      50  \n",
       "6984755                      0  2015      3   26    14      40  \n",
       "6778086                      0  2015      3    6    13      15  "
      ]
     },
     "execution_count": 117,
     "metadata": {},
     "output_type": "execute_result"
    }
   ],
   "source": [
    "# Drop the column 'hour'\n",
    "df = df.drop('hour', axis=1)\n",
    "\n",
    "# Extract datetime components and create new columns\n",
    "df['year'] = df['time'].dt.year\n",
    "df['month'] = df['time'].dt.month\n",
    "df['day'] = df['time'].dt.day\n",
    "df['hour'] = df['time'].dt.hour\n",
    "df['minute'] = df['time'].dt.minute\n",
    "\n",
    "# Verify the conversion\n",
    "df.sample(15)"
   ]
  },
  {
   "cell_type": "code",
   "execution_count": 118,
   "id": "343fbcdb-cd0e-45b2-8fe8-fe66b34d0dab",
   "metadata": {
    "tags": []
   },
   "outputs": [],
   "source": [
    "# Drop the column 'time'\n",
    "df = df.drop('time', axis=1)"
   ]
  },
  {
   "cell_type": "code",
   "execution_count": 119,
   "id": "1ce697dc-09a5-4fba-a4ea-03bb74eb24b6",
   "metadata": {
    "tags": []
   },
   "outputs": [
    {
     "data": {
      "text/html": [
       "<div>\n",
       "<style scoped>\n",
       "    .dataframe tbody tr th:only-of-type {\n",
       "        vertical-align: middle;\n",
       "    }\n",
       "\n",
       "    .dataframe tbody tr th {\n",
       "        vertical-align: top;\n",
       "    }\n",
       "\n",
       "    .dataframe thead th {\n",
       "        text-align: right;\n",
       "    }\n",
       "</style>\n",
       "<table border=\"1\" class=\"dataframe\">\n",
       "  <thead>\n",
       "    <tr style=\"text-align: right;\">\n",
       "      <th></th>\n",
       "      <th>station_id</th>\n",
       "      <th>bikes_available</th>\n",
       "      <th>dock_count</th>\n",
       "      <th>mean_dew_point_f</th>\n",
       "      <th>mean_humidity</th>\n",
       "      <th>mean_sea_level_pressure_inches</th>\n",
       "      <th>mean_visibility_miles</th>\n",
       "      <th>mean_wind_speed_mph</th>\n",
       "      <th>precipitation_inches</th>\n",
       "      <th>cloud_cover</th>\n",
       "      <th>zip_code</th>\n",
       "      <th>usage_rate_category</th>\n",
       "      <th>holiday</th>\n",
       "      <th>is_weekend_or_holiday</th>\n",
       "      <th>year</th>\n",
       "      <th>month</th>\n",
       "      <th>day</th>\n",
       "      <th>hour</th>\n",
       "      <th>minute</th>\n",
       "    </tr>\n",
       "  </thead>\n",
       "  <tbody>\n",
       "    <tr>\n",
       "      <th>0</th>\n",
       "      <td>2</td>\n",
       "      <td>12</td>\n",
       "      <td>27</td>\n",
       "      <td>45.0</td>\n",
       "      <td>41.0</td>\n",
       "      <td>30.06</td>\n",
       "      <td>10.0</td>\n",
       "      <td>6.0</td>\n",
       "      <td>0</td>\n",
       "      <td>3.0</td>\n",
       "      <td>95113</td>\n",
       "      <td>2</td>\n",
       "      <td>0</td>\n",
       "      <td>0</td>\n",
       "      <td>2014</td>\n",
       "      <td>5</td>\n",
       "      <td>1</td>\n",
       "      <td>0</td>\n",
       "      <td>0</td>\n",
       "    </tr>\n",
       "    <tr>\n",
       "      <th>1</th>\n",
       "      <td>2</td>\n",
       "      <td>12</td>\n",
       "      <td>27</td>\n",
       "      <td>45.0</td>\n",
       "      <td>41.0</td>\n",
       "      <td>30.06</td>\n",
       "      <td>10.0</td>\n",
       "      <td>6.0</td>\n",
       "      <td>0</td>\n",
       "      <td>3.0</td>\n",
       "      <td>95113</td>\n",
       "      <td>2</td>\n",
       "      <td>0</td>\n",
       "      <td>0</td>\n",
       "      <td>2014</td>\n",
       "      <td>5</td>\n",
       "      <td>1</td>\n",
       "      <td>0</td>\n",
       "      <td>5</td>\n",
       "    </tr>\n",
       "    <tr>\n",
       "      <th>2</th>\n",
       "      <td>2</td>\n",
       "      <td>12</td>\n",
       "      <td>27</td>\n",
       "      <td>45.0</td>\n",
       "      <td>41.0</td>\n",
       "      <td>30.06</td>\n",
       "      <td>10.0</td>\n",
       "      <td>6.0</td>\n",
       "      <td>0</td>\n",
       "      <td>3.0</td>\n",
       "      <td>95113</td>\n",
       "      <td>2</td>\n",
       "      <td>0</td>\n",
       "      <td>0</td>\n",
       "      <td>2014</td>\n",
       "      <td>5</td>\n",
       "      <td>1</td>\n",
       "      <td>0</td>\n",
       "      <td>10</td>\n",
       "    </tr>\n",
       "    <tr>\n",
       "      <th>3</th>\n",
       "      <td>2</td>\n",
       "      <td>12</td>\n",
       "      <td>27</td>\n",
       "      <td>45.0</td>\n",
       "      <td>41.0</td>\n",
       "      <td>30.06</td>\n",
       "      <td>10.0</td>\n",
       "      <td>6.0</td>\n",
       "      <td>0</td>\n",
       "      <td>3.0</td>\n",
       "      <td>95113</td>\n",
       "      <td>2</td>\n",
       "      <td>0</td>\n",
       "      <td>0</td>\n",
       "      <td>2014</td>\n",
       "      <td>5</td>\n",
       "      <td>1</td>\n",
       "      <td>0</td>\n",
       "      <td>15</td>\n",
       "    </tr>\n",
       "    <tr>\n",
       "      <th>4</th>\n",
       "      <td>2</td>\n",
       "      <td>12</td>\n",
       "      <td>27</td>\n",
       "      <td>45.0</td>\n",
       "      <td>41.0</td>\n",
       "      <td>30.06</td>\n",
       "      <td>10.0</td>\n",
       "      <td>6.0</td>\n",
       "      <td>0</td>\n",
       "      <td>3.0</td>\n",
       "      <td>95113</td>\n",
       "      <td>2</td>\n",
       "      <td>0</td>\n",
       "      <td>0</td>\n",
       "      <td>2014</td>\n",
       "      <td>5</td>\n",
       "      <td>1</td>\n",
       "      <td>0</td>\n",
       "      <td>20</td>\n",
       "    </tr>\n",
       "  </tbody>\n",
       "</table>\n",
       "</div>"
      ],
      "text/plain": [
       "   station_id  bikes_available  dock_count  mean_dew_point_f  mean_humidity  \\\n",
       "0           2               12          27              45.0           41.0   \n",
       "1           2               12          27              45.0           41.0   \n",
       "2           2               12          27              45.0           41.0   \n",
       "3           2               12          27              45.0           41.0   \n",
       "4           2               12          27              45.0           41.0   \n",
       "\n",
       "   mean_sea_level_pressure_inches  mean_visibility_miles  mean_wind_speed_mph  \\\n",
       "0                           30.06                   10.0                  6.0   \n",
       "1                           30.06                   10.0                  6.0   \n",
       "2                           30.06                   10.0                  6.0   \n",
       "3                           30.06                   10.0                  6.0   \n",
       "4                           30.06                   10.0                  6.0   \n",
       "\n",
       "   precipitation_inches  cloud_cover  zip_code  usage_rate_category  holiday  \\\n",
       "0                     0          3.0     95113                    2        0   \n",
       "1                     0          3.0     95113                    2        0   \n",
       "2                     0          3.0     95113                    2        0   \n",
       "3                     0          3.0     95113                    2        0   \n",
       "4                     0          3.0     95113                    2        0   \n",
       "\n",
       "   is_weekend_or_holiday  year  month  day  hour  minute  \n",
       "0                      0  2014      5    1     0       0  \n",
       "1                      0  2014      5    1     0       5  \n",
       "2                      0  2014      5    1     0      10  \n",
       "3                      0  2014      5    1     0      15  \n",
       "4                      0  2014      5    1     0      20  "
      ]
     },
     "execution_count": 119,
     "metadata": {},
     "output_type": "execute_result"
    }
   ],
   "source": [
    "# Look at the first 5 rows\n",
    "df.head()"
   ]
  },
  {
   "cell_type": "code",
   "execution_count": 120,
   "id": "88f134e9-e4a3-4e30-a43c-68cda36f9c49",
   "metadata": {
    "tags": []
   },
   "outputs": [
    {
     "data": {
      "text/plain": [
       "Index([], dtype='object')"
      ]
     },
     "execution_count": 120,
     "metadata": {},
     "output_type": "execute_result"
    }
   ],
   "source": [
    "# Verify if there is any remaining datetime columns in the dataset\n",
    "df.select_dtypes(['datetime']).columns"
   ]
  },
  {
   "cell_type": "code",
   "execution_count": 121,
   "id": "747d722a-a169-458b-8dc6-f780ebdcc76f",
   "metadata": {
    "tags": []
   },
   "outputs": [
    {
     "data": {
      "text/plain": [
       "(7337194, 19)"
      ]
     },
     "execution_count": 121,
     "metadata": {},
     "output_type": "execute_result"
    }
   ],
   "source": [
    "# Double check the shape of the dataset before train/test split\n",
    "df.shape"
   ]
  },
  {
   "cell_type": "code",
   "execution_count": 122,
   "id": "382aca59-c9c3-41fe-ad53-e2a533f24bb0",
   "metadata": {
    "tags": []
   },
   "outputs": [
    {
     "name": "stdout",
     "output_type": "stream",
     "text": [
      "<class 'pandas.core.frame.DataFrame'>\n",
      "RangeIndex: 7337194 entries, 0 to 7337193\n",
      "Data columns (total 19 columns):\n",
      " #   Column                          Dtype  \n",
      "---  ------                          -----  \n",
      " 0   station_id                      int64  \n",
      " 1   bikes_available                 int64  \n",
      " 2   dock_count                      int64  \n",
      " 3   mean_dew_point_f                float64\n",
      " 4   mean_humidity                   float64\n",
      " 5   mean_sea_level_pressure_inches  float64\n",
      " 6   mean_visibility_miles           float64\n",
      " 7   mean_wind_speed_mph             float64\n",
      " 8   precipitation_inches            int64  \n",
      " 9   cloud_cover                     float64\n",
      " 10  zip_code                        int64  \n",
      " 11  usage_rate_category             int64  \n",
      " 12  holiday                         int64  \n",
      " 13  is_weekend_or_holiday           int64  \n",
      " 14  year                            int32  \n",
      " 15  month                           int32  \n",
      " 16  day                             int32  \n",
      " 17  hour                            int32  \n",
      " 18  minute                          int32  \n",
      "dtypes: float64(6), int32(5), int64(8)\n",
      "memory usage: 923.6 MB\n"
     ]
    }
   ],
   "source": [
    "# Get a quick overview of dataset variables\n",
    "df.info()"
   ]
  },
  {
   "cell_type": "markdown",
   "id": "9e976ba5-3ee7-4811-8ac2-c45e9673827d",
   "metadata": {},
   "source": [
    "## Train/Test Split and Scaling"
   ]
  },
  {
   "cell_type": "markdown",
   "id": "23175c69-76f9-4f02-9579-b66770f5cdee",
   "metadata": {},
   "source": [
    "#### Train/Test Split"
   ]
  },
  {
   "cell_type": "markdown",
   "id": "ace2d23f-654b-4bbb-bd25-93fc45ce395d",
   "metadata": {},
   "source": [
    "First, let's split the data into train and test sets by using the train_test_split function."
   ]
  },
  {
   "cell_type": "code",
   "execution_count": 123,
   "id": "0a543b4b-2a9c-4168-baae-6477c0b34cc5",
   "metadata": {
    "tags": []
   },
   "outputs": [],
   "source": [
    "# Define the features and target variable\n",
    "X = df.drop(columns='usage_rate_category')\n",
    "y = df['usage_rate_category']\n",
    "\n",
    "# Split the data so the test set contains 20% of the points, \n",
    "# (the training set will contain the rest of the points)\n",
    "X_train, X_test, y_train, y_test = train_test_split(X, y, test_size=0.2, random_state=42)"
   ]
  },
  {
   "cell_type": "code",
   "execution_count": 124,
   "id": "5dd89bf8-c3bb-4672-80b7-a98111954167",
   "metadata": {
    "tags": []
   },
   "outputs": [
    {
     "name": "stdout",
     "output_type": "stream",
     "text": [
      "(5869755, 18) (1467439, 18) (5869755,) (1467439,)\n"
     ]
    }
   ],
   "source": [
    "# Show the shape of train and test sets\n",
    "print(X_train.shape, X_test.shape, y_train.shape, y_test.shape)"
   ]
  },
  {
   "cell_type": "markdown",
   "id": "90a33c9a-82bd-4815-9a10-4b8377dfa5cf",
   "metadata": {},
   "source": [
    "#### Scaling Data"
   ]
  },
  {
   "cell_type": "code",
   "execution_count": 125,
   "id": "ecc8d96e-564f-4a04-87b4-2d2e44c0a155",
   "metadata": {
    "tags": []
   },
   "outputs": [],
   "source": [
    "# Initialize a scaler\n",
    "my_standard_scaler = StandardScaler()\n",
    "\n",
    "# Fit the scaler on train data and then transform the train data\n",
    "X_scaled_train = my_standard_scaler.fit_transform(X_train)\n",
    "\n",
    "# Transform test data using the same scaler\n",
    "X_scaled_test = my_standard_scaler.transform(X_test)"
   ]
  },
  {
   "cell_type": "markdown",
   "id": "20974fd9-dfb3-447d-9af4-f3efcf8f3a42",
   "metadata": {},
   "source": [
    "#### Handling Imbalanced Datasets"
   ]
  },
  {
   "cell_type": "markdown",
   "id": "a506d9ad-1eda-4236-98d2-9abde211959b",
   "metadata": {},
   "source": [
    "Let's take a look at our traget variables. "
   ]
  },
  {
   "cell_type": "code",
   "execution_count": 126,
   "id": "7960a4c7-abcd-4a22-a7bd-0bbb496afdf5",
   "metadata": {},
   "outputs": [
    {
     "data": {
      "text/plain": [
       "usage_rate_category\n",
       "2    67.176239\n",
       "3    19.979613\n",
       "1    12.844147\n",
       "Name: count, dtype: float64"
      ]
     },
     "execution_count": 126,
     "metadata": {},
     "output_type": "execute_result"
    }
   ],
   "source": [
    "# Get the percentage of each unique value in 'usage_rate_category' column\n",
    "df['usage_rate_category'].value_counts() / len(df) * 100"
   ]
  },
  {
   "cell_type": "markdown",
   "id": "874406ec-5bd1-40b2-a305-4ff78f31ed69",
   "metadata": {},
   "source": [
    "The data is imbalanced, with the majority of the usage rate category falling in class 2 (67%), followed by class 3 (20%), and class 1 (13%). \n",
    "\n",
    "We will apply SMOTE to the training set to address this issue since SMOTE can generate synthetic samples for the minority class."
   ]
  },
  {
   "cell_type": "code",
   "execution_count": 127,
   "id": "ddb15d10-619f-4c98-8463-67f59f623b11",
   "metadata": {
    "tags": []
   },
   "outputs": [],
   "source": [
    "# Initialize SMOTE\n",
    "smote = SMOTE(random_state=42)\n",
    "\n",
    "# Apply SMOTE to the X_scaled_train set\n",
    "X_sm_train, y_sm_train = smote.fit_resample(X_scaled_train, y_train)"
   ]
  },
  {
   "cell_type": "code",
   "execution_count": 128,
   "id": "eedf7d37-56f0-491a-83ba-254b57ceb954",
   "metadata": {
    "tags": []
   },
   "outputs": [
    {
     "name": "stdout",
     "output_type": "stream",
     "text": [
      "(11831433, 18)\n"
     ]
    }
   ],
   "source": [
    "# Print the shape of the new X_train dataset\n",
    "print(X_sm_train.shape)"
   ]
  },
  {
   "cell_type": "code",
   "execution_count": 129,
   "id": "b74dc9e9-f0bd-45e2-842a-1a5831cbfaac",
   "metadata": {
    "tags": []
   },
   "outputs": [
    {
     "name": "stdout",
     "output_type": "stream",
     "text": [
      "(11831433,)\n"
     ]
    }
   ],
   "source": [
    "# Print the shape of the new y_train dataset\n",
    "print(y_sm_train.shape)"
   ]
  },
  {
   "cell_type": "code",
   "execution_count": 130,
   "id": "ceaf0b57-bed0-4a81-96af-4821e231d818",
   "metadata": {
    "tags": []
   },
   "outputs": [
    {
     "name": "stdout",
     "output_type": "stream",
     "text": [
      "Original Class Distribution:\n"
     ]
    },
    {
     "data": {
      "text/plain": [
       "usage_rate_category\n",
       "1     753475\n",
       "2    3943811\n",
       "3    1172469\n",
       "Name: count, dtype: int64"
      ]
     },
     "metadata": {},
     "output_type": "display_data"
    },
    {
     "name": "stdout",
     "output_type": "stream",
     "text": [
      "\n",
      "Resampled Class Distribution:\n"
     ]
    },
    {
     "data": {
      "text/plain": [
       "usage_rate_category\n",
       "1    3943811\n",
       "2    3943811\n",
       "3    3943811\n",
       "Name: count, dtype: int64"
      ]
     },
     "metadata": {},
     "output_type": "display_data"
    }
   ],
   "source": [
    "# Compare the original class distribution with resampled class distribution\n",
    "print('Original Class Distribution:')\n",
    "display(pd.Series(y_train).value_counts().sort_index())\n",
    "\n",
    "print('\\nResampled Class Distribution:')\n",
    "display(pd.Series(y_sm_train).value_counts().sort_index())"
   ]
  },
  {
   "cell_type": "markdown",
   "id": "07828db3-582e-4ec6-8636-3d1da799daa2",
   "metadata": {},
   "source": [
    "#### Converting the Data into DataFrames"
   ]
  },
  {
   "cell_type": "markdown",
   "id": "63a13d4d-3921-4801-a168-8cdb4ae51a29",
   "metadata": {},
   "source": [
    "Since we have scaled and resampled our training and testing datasets, we can now proceed to convert them into training and testing DataFrames."
   ]
  },
  {
   "cell_type": "code",
   "execution_count": 131,
   "id": "495bf862-4b8b-4ae3-bb92-390c8e7255be",
   "metadata": {
    "tags": []
   },
   "outputs": [],
   "source": [
    "# Convert the resampled data (X_train_resampled and y_train_resampled) into a DataFrame\n",
    "train_df = pd.DataFrame(np.column_stack((X_sm_train, y_sm_train)), columns=df.drop('usage_rate_category', axis=1).columns.tolist() + ['usage_rate_category'])\n",
    "\n",
    "# Convert the test data (X_test and y_test) into a DataFrame\n",
    "test_df = pd.DataFrame(np.column_stack((X_scaled_test, y_test)), columns=df.drop('usage_rate_category', axis=1).columns.tolist() + ['usage_rate_category'])"
   ]
  },
  {
   "cell_type": "markdown",
   "id": "7766a4ac-4a20-40e4-a65a-88b594aaf544",
   "metadata": {},
   "source": [
    "#### Train Data"
   ]
  },
  {
   "cell_type": "code",
   "execution_count": 132,
   "id": "eb8ec2bf-cc5a-4036-b631-99931d017429",
   "metadata": {
    "tags": []
   },
   "outputs": [
    {
     "data": {
      "text/html": [
       "<div>\n",
       "<style scoped>\n",
       "    .dataframe tbody tr th:only-of-type {\n",
       "        vertical-align: middle;\n",
       "    }\n",
       "\n",
       "    .dataframe tbody tr th {\n",
       "        vertical-align: top;\n",
       "    }\n",
       "\n",
       "    .dataframe thead th {\n",
       "        text-align: right;\n",
       "    }\n",
       "</style>\n",
       "<table border=\"1\" class=\"dataframe\">\n",
       "  <thead>\n",
       "    <tr style=\"text-align: right;\">\n",
       "      <th></th>\n",
       "      <th>station_id</th>\n",
       "      <th>bikes_available</th>\n",
       "      <th>dock_count</th>\n",
       "      <th>mean_dew_point_f</th>\n",
       "      <th>mean_humidity</th>\n",
       "      <th>mean_sea_level_pressure_inches</th>\n",
       "      <th>mean_visibility_miles</th>\n",
       "      <th>mean_wind_speed_mph</th>\n",
       "      <th>precipitation_inches</th>\n",
       "      <th>cloud_cover</th>\n",
       "      <th>zip_code</th>\n",
       "      <th>holiday</th>\n",
       "      <th>is_weekend_or_holiday</th>\n",
       "      <th>year</th>\n",
       "      <th>month</th>\n",
       "      <th>day</th>\n",
       "      <th>hour</th>\n",
       "      <th>minute</th>\n",
       "      <th>usage_rate_category</th>\n",
       "    </tr>\n",
       "  </thead>\n",
       "  <tbody>\n",
       "    <tr>\n",
       "      <th>0</th>\n",
       "      <td>-1.375345</td>\n",
       "      <td>-0.789945</td>\n",
       "      <td>-0.667162</td>\n",
       "      <td>-0.099799</td>\n",
       "      <td>-0.428081</td>\n",
       "      <td>0.388370</td>\n",
       "      <td>0.306077</td>\n",
       "      <td>-1.406683</td>\n",
       "      <td>-0.436337</td>\n",
       "      <td>-1.014580</td>\n",
       "      <td>1.820021</td>\n",
       "      <td>-0.168116</td>\n",
       "      <td>1.482137</td>\n",
       "      <td>1.427242</td>\n",
       "      <td>-1.310568</td>\n",
       "      <td>-0.195224</td>\n",
       "      <td>1.228122</td>\n",
       "      <td>-1.303354</td>\n",
       "      <td>2.0</td>\n",
       "    </tr>\n",
       "    <tr>\n",
       "      <th>1</th>\n",
       "      <td>1.125367</td>\n",
       "      <td>0.647661</td>\n",
       "      <td>0.336991</td>\n",
       "      <td>0.776477</td>\n",
       "      <td>0.410568</td>\n",
       "      <td>-0.153740</td>\n",
       "      <td>0.306077</td>\n",
       "      <td>1.015281</td>\n",
       "      <td>-0.436337</td>\n",
       "      <td>0.779536</td>\n",
       "      <td>-0.548136</td>\n",
       "      <td>-0.168116</td>\n",
       "      <td>1.482137</td>\n",
       "      <td>-0.700652</td>\n",
       "      <td>0.428313</td>\n",
       "      <td>0.145410</td>\n",
       "      <td>0.216731</td>\n",
       "      <td>-0.434267</td>\n",
       "      <td>2.0</td>\n",
       "    </tr>\n",
       "    <tr>\n",
       "      <th>2</th>\n",
       "      <td>1.125367</td>\n",
       "      <td>1.366463</td>\n",
       "      <td>0.336991</td>\n",
       "      <td>-1.122121</td>\n",
       "      <td>0.410568</td>\n",
       "      <td>2.014700</td>\n",
       "      <td>-0.455251</td>\n",
       "      <td>-0.195701</td>\n",
       "      <td>-0.436337</td>\n",
       "      <td>-0.566051</td>\n",
       "      <td>-0.548136</td>\n",
       "      <td>-0.168116</td>\n",
       "      <td>-0.674701</td>\n",
       "      <td>1.427242</td>\n",
       "      <td>-1.600382</td>\n",
       "      <td>0.713132</td>\n",
       "      <td>-1.372598</td>\n",
       "      <td>-0.723963</td>\n",
       "      <td>1.0</td>\n",
       "    </tr>\n",
       "    <tr>\n",
       "      <th>3</th>\n",
       "      <td>0.083403</td>\n",
       "      <td>0.168459</td>\n",
       "      <td>-0.667162</td>\n",
       "      <td>-0.537937</td>\n",
       "      <td>1.715132</td>\n",
       "      <td>0.543259</td>\n",
       "      <td>-2.739235</td>\n",
       "      <td>-1.103938</td>\n",
       "      <td>-0.436337</td>\n",
       "      <td>0.779536</td>\n",
       "      <td>-0.548136</td>\n",
       "      <td>-0.168116</td>\n",
       "      <td>1.482137</td>\n",
       "      <td>1.427242</td>\n",
       "      <td>-1.600382</td>\n",
       "      <td>-0.535857</td>\n",
       "      <td>0.939153</td>\n",
       "      <td>-0.434267</td>\n",
       "      <td>2.0</td>\n",
       "    </tr>\n",
       "    <tr>\n",
       "      <th>4</th>\n",
       "      <td>0.125082</td>\n",
       "      <td>-0.310743</td>\n",
       "      <td>-0.667162</td>\n",
       "      <td>0.776477</td>\n",
       "      <td>1.062850</td>\n",
       "      <td>-0.463517</td>\n",
       "      <td>0.306077</td>\n",
       "      <td>0.712536</td>\n",
       "      <td>-0.436337</td>\n",
       "      <td>0.331007</td>\n",
       "      <td>-0.548136</td>\n",
       "      <td>-0.168116</td>\n",
       "      <td>-0.674701</td>\n",
       "      <td>-0.700652</td>\n",
       "      <td>1.007940</td>\n",
       "      <td>-0.762946</td>\n",
       "      <td>0.650184</td>\n",
       "      <td>1.593602</td>\n",
       "      <td>2.0</td>\n",
       "    </tr>\n",
       "  </tbody>\n",
       "</table>\n",
       "</div>"
      ],
      "text/plain": [
       "   station_id  bikes_available  dock_count  mean_dew_point_f  mean_humidity  \\\n",
       "0   -1.375345        -0.789945   -0.667162         -0.099799      -0.428081   \n",
       "1    1.125367         0.647661    0.336991          0.776477       0.410568   \n",
       "2    1.125367         1.366463    0.336991         -1.122121       0.410568   \n",
       "3    0.083403         0.168459   -0.667162         -0.537937       1.715132   \n",
       "4    0.125082        -0.310743   -0.667162          0.776477       1.062850   \n",
       "\n",
       "   mean_sea_level_pressure_inches  mean_visibility_miles  mean_wind_speed_mph  \\\n",
       "0                        0.388370               0.306077            -1.406683   \n",
       "1                       -0.153740               0.306077             1.015281   \n",
       "2                        2.014700              -0.455251            -0.195701   \n",
       "3                        0.543259              -2.739235            -1.103938   \n",
       "4                       -0.463517               0.306077             0.712536   \n",
       "\n",
       "   precipitation_inches  cloud_cover  zip_code   holiday  \\\n",
       "0             -0.436337    -1.014580  1.820021 -0.168116   \n",
       "1             -0.436337     0.779536 -0.548136 -0.168116   \n",
       "2             -0.436337    -0.566051 -0.548136 -0.168116   \n",
       "3             -0.436337     0.779536 -0.548136 -0.168116   \n",
       "4             -0.436337     0.331007 -0.548136 -0.168116   \n",
       "\n",
       "   is_weekend_or_holiday      year     month       day      hour    minute  \\\n",
       "0               1.482137  1.427242 -1.310568 -0.195224  1.228122 -1.303354   \n",
       "1               1.482137 -0.700652  0.428313  0.145410  0.216731 -0.434267   \n",
       "2              -0.674701  1.427242 -1.600382  0.713132 -1.372598 -0.723963   \n",
       "3               1.482137  1.427242 -1.600382 -0.535857  0.939153 -0.434267   \n",
       "4              -0.674701 -0.700652  1.007940 -0.762946  0.650184  1.593602   \n",
       "\n",
       "   usage_rate_category  \n",
       "0                  2.0  \n",
       "1                  2.0  \n",
       "2                  1.0  \n",
       "3                  2.0  \n",
       "4                  2.0  "
      ]
     },
     "execution_count": 132,
     "metadata": {},
     "output_type": "execute_result"
    }
   ],
   "source": [
    "# Look at the first 5 rows of the final train dataset\n",
    "train_df.head()"
   ]
  },
  {
   "cell_type": "code",
   "execution_count": 133,
   "id": "d663416c-b5fb-47a4-b936-aa535ef74f2a",
   "metadata": {
    "tags": []
   },
   "outputs": [
    {
     "data": {
      "text/plain": [
       "(11831433, 19)"
      ]
     },
     "execution_count": 133,
     "metadata": {},
     "output_type": "execute_result"
    }
   ],
   "source": [
    "# Print the shape of the train data\n",
    "train_df.shape"
   ]
  },
  {
   "cell_type": "code",
   "execution_count": 134,
   "id": "51faaebb-5ed7-4b0a-ae81-29348ae3e06e",
   "metadata": {
    "tags": []
   },
   "outputs": [
    {
     "data": {
      "text/plain": [
       "station_id                        0\n",
       "bikes_available                   0\n",
       "dock_count                        0\n",
       "mean_dew_point_f                  0\n",
       "mean_humidity                     0\n",
       "mean_sea_level_pressure_inches    0\n",
       "mean_visibility_miles             0\n",
       "mean_wind_speed_mph               0\n",
       "precipitation_inches              0\n",
       "cloud_cover                       0\n",
       "zip_code                          0\n",
       "holiday                           0\n",
       "is_weekend_or_holiday             0\n",
       "year                              0\n",
       "month                             0\n",
       "day                               0\n",
       "hour                              0\n",
       "minute                            0\n",
       "usage_rate_category               0\n",
       "dtype: int64"
      ]
     },
     "execution_count": 134,
     "metadata": {},
     "output_type": "execute_result"
    }
   ],
   "source": [
    "# Sanity check to make sure we don't have any NAs\n",
    "train_df.isna().sum()"
   ]
  },
  {
   "cell_type": "markdown",
   "id": "820b4d0b-c672-4045-8af3-a66f62586727",
   "metadata": {},
   "source": [
    "#### Test Data"
   ]
  },
  {
   "cell_type": "code",
   "execution_count": 135,
   "id": "2f330acd-aee7-4a6e-b6cb-3e561d21ac1b",
   "metadata": {
    "tags": []
   },
   "outputs": [
    {
     "data": {
      "text/html": [
       "<div>\n",
       "<style scoped>\n",
       "    .dataframe tbody tr th:only-of-type {\n",
       "        vertical-align: middle;\n",
       "    }\n",
       "\n",
       "    .dataframe tbody tr th {\n",
       "        vertical-align: top;\n",
       "    }\n",
       "\n",
       "    .dataframe thead th {\n",
       "        text-align: right;\n",
       "    }\n",
       "</style>\n",
       "<table border=\"1\" class=\"dataframe\">\n",
       "  <thead>\n",
       "    <tr style=\"text-align: right;\">\n",
       "      <th></th>\n",
       "      <th>station_id</th>\n",
       "      <th>bikes_available</th>\n",
       "      <th>dock_count</th>\n",
       "      <th>mean_dew_point_f</th>\n",
       "      <th>mean_humidity</th>\n",
       "      <th>mean_sea_level_pressure_inches</th>\n",
       "      <th>mean_visibility_miles</th>\n",
       "      <th>mean_wind_speed_mph</th>\n",
       "      <th>precipitation_inches</th>\n",
       "      <th>cloud_cover</th>\n",
       "      <th>zip_code</th>\n",
       "      <th>holiday</th>\n",
       "      <th>is_weekend_or_holiday</th>\n",
       "      <th>year</th>\n",
       "      <th>month</th>\n",
       "      <th>day</th>\n",
       "      <th>hour</th>\n",
       "      <th>minute</th>\n",
       "      <th>usage_rate_category</th>\n",
       "    </tr>\n",
       "  </thead>\n",
       "  <tbody>\n",
       "    <tr>\n",
       "      <th>0</th>\n",
       "      <td>0.750260</td>\n",
       "      <td>-1.029546</td>\n",
       "      <td>2.345298</td>\n",
       "      <td>0.922523</td>\n",
       "      <td>0.596934</td>\n",
       "      <td>0.001149</td>\n",
       "      <td>0.306077</td>\n",
       "      <td>-0.801192</td>\n",
       "      <td>2.291809</td>\n",
       "      <td>0.779536</td>\n",
       "      <td>-0.548136</td>\n",
       "      <td>-0.168116</td>\n",
       "      <td>-0.674701</td>\n",
       "      <td>-0.700652</td>\n",
       "      <td>1.007940</td>\n",
       "      <td>0.826677</td>\n",
       "      <td>-1.083629</td>\n",
       "      <td>0.724515</td>\n",
       "      <td>3.0</td>\n",
       "    </tr>\n",
       "    <tr>\n",
       "      <th>1</th>\n",
       "      <td>-0.416739</td>\n",
       "      <td>-0.071142</td>\n",
       "      <td>-0.667162</td>\n",
       "      <td>0.776477</td>\n",
       "      <td>1.249216</td>\n",
       "      <td>-0.540961</td>\n",
       "      <td>-0.455251</td>\n",
       "      <td>0.107045</td>\n",
       "      <td>2.291809</td>\n",
       "      <td>-0.117522</td>\n",
       "      <td>-0.703502</td>\n",
       "      <td>-0.168116</td>\n",
       "      <td>-0.674701</td>\n",
       "      <td>-0.700652</td>\n",
       "      <td>1.587567</td>\n",
       "      <td>-0.649401</td>\n",
       "      <td>-1.661567</td>\n",
       "      <td>-0.434267</td>\n",
       "      <td>2.0</td>\n",
       "    </tr>\n",
       "    <tr>\n",
       "      <th>2</th>\n",
       "      <td>-0.375060</td>\n",
       "      <td>-1.269147</td>\n",
       "      <td>1.341144</td>\n",
       "      <td>0.192293</td>\n",
       "      <td>-0.800813</td>\n",
       "      <td>0.853036</td>\n",
       "      <td>0.306077</td>\n",
       "      <td>0.409790</td>\n",
       "      <td>-0.436337</td>\n",
       "      <td>-0.117522</td>\n",
       "      <td>-0.091454</td>\n",
       "      <td>-0.168116</td>\n",
       "      <td>1.482137</td>\n",
       "      <td>1.427242</td>\n",
       "      <td>-1.020755</td>\n",
       "      <td>1.394399</td>\n",
       "      <td>-0.216723</td>\n",
       "      <td>-1.303354</td>\n",
       "      <td>3.0</td>\n",
       "    </tr>\n",
       "    <tr>\n",
       "      <th>3</th>\n",
       "      <td>1.333760</td>\n",
       "      <td>-0.550344</td>\n",
       "      <td>0.336991</td>\n",
       "      <td>0.922523</td>\n",
       "      <td>0.317385</td>\n",
       "      <td>-0.540961</td>\n",
       "      <td>0.306077</td>\n",
       "      <td>0.712536</td>\n",
       "      <td>-0.436337</td>\n",
       "      <td>0.779536</td>\n",
       "      <td>-0.548136</td>\n",
       "      <td>-0.168116</td>\n",
       "      <td>-0.674701</td>\n",
       "      <td>-0.700652</td>\n",
       "      <td>0.138499</td>\n",
       "      <td>1.735032</td>\n",
       "      <td>1.661576</td>\n",
       "      <td>0.724515</td>\n",
       "      <td>2.0</td>\n",
       "    </tr>\n",
       "    <tr>\n",
       "      <th>4</th>\n",
       "      <td>-1.667095</td>\n",
       "      <td>-0.550344</td>\n",
       "      <td>-0.667162</td>\n",
       "      <td>-0.537937</td>\n",
       "      <td>-0.893996</td>\n",
       "      <td>-0.463517</td>\n",
       "      <td>0.306077</td>\n",
       "      <td>0.712536</td>\n",
       "      <td>-0.436337</td>\n",
       "      <td>0.779536</td>\n",
       "      <td>1.820021</td>\n",
       "      <td>-0.168116</td>\n",
       "      <td>-0.674701</td>\n",
       "      <td>-0.700652</td>\n",
       "      <td>-0.441128</td>\n",
       "      <td>0.372499</td>\n",
       "      <td>-0.361207</td>\n",
       "      <td>0.145124</td>\n",
       "      <td>2.0</td>\n",
       "    </tr>\n",
       "  </tbody>\n",
       "</table>\n",
       "</div>"
      ],
      "text/plain": [
       "   station_id  bikes_available  dock_count  mean_dew_point_f  mean_humidity  \\\n",
       "0    0.750260        -1.029546    2.345298          0.922523       0.596934   \n",
       "1   -0.416739        -0.071142   -0.667162          0.776477       1.249216   \n",
       "2   -0.375060        -1.269147    1.341144          0.192293      -0.800813   \n",
       "3    1.333760        -0.550344    0.336991          0.922523       0.317385   \n",
       "4   -1.667095        -0.550344   -0.667162         -0.537937      -0.893996   \n",
       "\n",
       "   mean_sea_level_pressure_inches  mean_visibility_miles  mean_wind_speed_mph  \\\n",
       "0                        0.001149               0.306077            -0.801192   \n",
       "1                       -0.540961              -0.455251             0.107045   \n",
       "2                        0.853036               0.306077             0.409790   \n",
       "3                       -0.540961               0.306077             0.712536   \n",
       "4                       -0.463517               0.306077             0.712536   \n",
       "\n",
       "   precipitation_inches  cloud_cover  zip_code   holiday  \\\n",
       "0              2.291809     0.779536 -0.548136 -0.168116   \n",
       "1              2.291809    -0.117522 -0.703502 -0.168116   \n",
       "2             -0.436337    -0.117522 -0.091454 -0.168116   \n",
       "3             -0.436337     0.779536 -0.548136 -0.168116   \n",
       "4             -0.436337     0.779536  1.820021 -0.168116   \n",
       "\n",
       "   is_weekend_or_holiday      year     month       day      hour    minute  \\\n",
       "0              -0.674701 -0.700652  1.007940  0.826677 -1.083629  0.724515   \n",
       "1              -0.674701 -0.700652  1.587567 -0.649401 -1.661567 -0.434267   \n",
       "2               1.482137  1.427242 -1.020755  1.394399 -0.216723 -1.303354   \n",
       "3              -0.674701 -0.700652  0.138499  1.735032  1.661576  0.724515   \n",
       "4              -0.674701 -0.700652 -0.441128  0.372499 -0.361207  0.145124   \n",
       "\n",
       "   usage_rate_category  \n",
       "0                  3.0  \n",
       "1                  2.0  \n",
       "2                  3.0  \n",
       "3                  2.0  \n",
       "4                  2.0  "
      ]
     },
     "execution_count": 135,
     "metadata": {},
     "output_type": "execute_result"
    }
   ],
   "source": [
    "# Look at the first 5 rows of the final test dataset\n",
    "test_df.head()"
   ]
  },
  {
   "cell_type": "code",
   "execution_count": 136,
   "id": "8892f45d-2488-4727-8000-88eebb8e40b8",
   "metadata": {
    "tags": []
   },
   "outputs": [
    {
     "data": {
      "text/plain": [
       "(1467439, 19)"
      ]
     },
     "execution_count": 136,
     "metadata": {},
     "output_type": "execute_result"
    }
   ],
   "source": [
    "# Print the shape of the test data\n",
    "test_df.shape"
   ]
  },
  {
   "cell_type": "code",
   "execution_count": 137,
   "id": "60ecca34-622f-4df2-b8dc-1322d327e786",
   "metadata": {
    "tags": []
   },
   "outputs": [
    {
     "data": {
      "text/plain": [
       "station_id                        0\n",
       "bikes_available                   0\n",
       "dock_count                        0\n",
       "mean_dew_point_f                  0\n",
       "mean_humidity                     0\n",
       "mean_sea_level_pressure_inches    0\n",
       "mean_visibility_miles             0\n",
       "mean_wind_speed_mph               0\n",
       "precipitation_inches              0\n",
       "cloud_cover                       0\n",
       "zip_code                          0\n",
       "holiday                           0\n",
       "is_weekend_or_holiday             0\n",
       "year                              0\n",
       "month                             0\n",
       "day                               0\n",
       "hour                              0\n",
       "minute                            0\n",
       "usage_rate_category               0\n",
       "dtype: int64"
      ]
     },
     "execution_count": 137,
     "metadata": {},
     "output_type": "execute_result"
    }
   ],
   "source": [
    "# Sanity check to make sure we don't have any NAs\n",
    "test_df.isna().sum()"
   ]
  },
  {
   "cell_type": "code",
   "execution_count": 138,
   "id": "a90bb782-8007-491b-8d44-5bad4e3279b9",
   "metadata": {
    "tags": []
   },
   "outputs": [],
   "source": [
    "# Save the final train and test datasets to Parquet format\n",
    "train_df.to_parquet('data/train_dataset.parquet', index=False)\n",
    "test_df.to_parquet('data/test_dataset.parquet', index=False)"
   ]
  }
 ],
 "metadata": {
  "kernelspec": {
   "display_name": "Python 3 (ipykernel)",
   "language": "python",
   "name": "python3"
  },
  "language_info": {
   "codemirror_mode": {
    "name": "ipython",
    "version": 3
   },
   "file_extension": ".py",
   "mimetype": "text/x-python",
   "name": "python",
   "nbconvert_exporter": "python",
   "pygments_lexer": "ipython3",
   "version": "3.11.5"
  }
 },
 "nbformat": 4,
 "nbformat_minor": 5
}
