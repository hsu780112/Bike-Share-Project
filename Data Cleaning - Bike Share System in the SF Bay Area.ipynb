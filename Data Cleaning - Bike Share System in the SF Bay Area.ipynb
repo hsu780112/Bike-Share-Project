{
 "cells": [
  {
   "cell_type": "markdown",
   "id": "38b02a18-6a0a-49e7-8ead-165dcb8f1f3f",
   "metadata": {},
   "source": [
    "# Data Cleaning - Bike Share System in the SF Bay Area"
   ]
  },
  {
   "cell_type": "markdown",
   "id": "8daca326-5473-470d-90fe-699e4981cfe9",
   "metadata": {},
   "source": [
    "Author: Owen Hsu "
   ]
  },
  {
   "cell_type": "markdown",
   "id": "47d9e19e-6af6-488b-92c9-7493d44ad910",
   "metadata": {},
   "source": [
    "## Table of content"
   ]
  },
  {
   "cell_type": "markdown",
   "id": "e8a7fec8-333f-4e1d-a725-0ef51bfd69f1",
   "metadata": {},
   "source": [
    "1. Introduction\n",
    "2. Question of interest\n",
    "3. Methods\n",
    "4. Data Dictionary\n",
    "5. Data Loading and Setup\n",
    "6. Assessment\n",
    "7. Handling Missing Values\n",
    "8. Handing Features"
   ]
  },
  {
   "cell_type": "markdown",
   "id": "f0f9ee49-ff30-4db3-ac22-2435eea89e59",
   "metadata": {},
   "source": [
    "## Introduction"
   ]
  },
  {
   "cell_type": "markdown",
   "id": "91d039aa-3ab2-43fb-91ee-0586da83ee68",
   "metadata": {},
   "source": [
    "This project aims to build a machine learning model to predict usage patterns, we can optimize bike availability through strategic redistribution, ensuring they are accessible where and when they are most needed. This approach aims to improve the user experience and promote increased bike share usage."
   ]
  },
  {
   "cell_type": "markdown",
   "id": "84782d9e-11bf-4013-b655-8e69f33ca816",
   "metadata": {},
   "source": [
    "## Question of interest"
   ]
  },
  {
   "cell_type": "markdown",
   "id": "ca7ca0c0-ba04-4183-a1e0-9150f07c9aee",
   "metadata": {},
   "source": [
    "**The analysis aims to answer this one question:** <br />\n",
    "How can we leverage machine learning to accurately predict the future status of bike usage rates, thereby improving the efficiency and accessibility of the bike share system in the SF Bay Area?\n",
    "\n",
    "This question serves as the foundational basis for our analysis, providing a framework to explore the relationships and insights within the SF Bay Area bike share dataset obtained from Kaggle: https://www.kaggle.com/datasets/benhamner/sf-bay-area-bike-share/code. "
   ]
  },
  {
   "cell_type": "markdown",
   "id": "6684c529-45f5-43a6-94f1-3e78cd60eab7",
   "metadata": {},
   "source": [
    "## Methods"
   ]
  },
  {
   "cell_type": "markdown",
   "id": "bff2a890-d458-4816-9421-14b753315b4b",
   "metadata": {},
   "source": [
    "For this analysis, we utilized the Python programming language along with its libraries, including pandas for data manipulation, matplotlib for data visualization, and sklearn for machine learning and data preprocessing tasks. Additionally, we employed Jupyter Notebook as our integrated development environment (IDE) to facilitate interactive programming and visualization, enhancing the efficiency and effectiveness of our workflow."
   ]
  },
  {
   "cell_type": "markdown",
   "id": "f3cc35a1-4b5e-4073-bdb9-35a0d8e6e58e",
   "metadata": {},
   "source": [
    "## Data Dictionary"
   ]
  },
  {
   "cell_type": "code",
   "execution_count": 38,
   "id": "54879710-f52b-4237-86a8-3c0436dc63e5",
   "metadata": {
    "tags": []
   },
   "outputs": [
    {
     "data": {
      "text/html": [
       "<style>table {align:left;display:block} </style>"
      ],
      "text/plain": [
       "<IPython.core.display.HTML object>"
      ]
     },
     "execution_count": 38,
     "metadata": {},
     "output_type": "execute_result"
    }
   ],
   "source": [
    "from IPython.core.display import HTML\n",
    "table_css = 'table {align:left;display:block} '\n",
    "HTML('<style>{}</style>'.format(table_css))"
   ]
  },
  {
   "cell_type": "markdown",
   "id": "a4207a66-ce1b-409e-9c51-9903199d44db",
   "metadata": {},
   "source": [
    "station.csv : Contains data that represents a station where users can pickup or return bikes.\n",
    "\n",
    "| Columns          | Description                       |\n",
    "|------------------|-----------------------------------|\n",
    "| ID               | Station ID                        |\n",
    "| Latitude         | The latitude of the Station       |\n",
    "| Longitude        | The longitude of the Station      |\n",
    "| Dock Number      | The number of docks at the station|\n",
    "| City             | The city where the station is located |\n",
    "| Installation Date| The installation date of the station |\n",
    "\n",
    "\n",
    "<br />\n",
    "\n",
    "status.csv : data about the number of bikes and docks available for given station and minute.\n",
    "\n",
    "| Columns                   | Description                              |\n",
    "|---------------------------|------------------------------------------|\n",
    "| ID                        | Station ID                               |\n",
    "| Number of Available Bikes | The number of available bikes at the station |\n",
    "| Number of Available Docks | The number of available docks at the station |\n",
    "| Recorded Time             | Recorded Time                            |\n",
    "\n",
    "<br />\n",
    "\n",
    "weather.csv : Data about the weather on a specific day for the area\n",
    "\n",
    "| Columns                  | Description                                              |\n",
    "|--------------------------|----------------------------------------------------------|\n",
    "| Date                     | Recorded Date                                            |\n",
    "| Max Temperature          | The highest temperature of the date                      |\n",
    "| Mean Temperature         | The average temperature of the date                      |\n",
    "| Min Temperature          | The lowest temperature of the date                       |\n",
    "| Max Dew Point            | The highest dew point of the date                        |\n",
    "| Mean Dew Point           | The average dew point of the date                        |\n",
    "| Min Dew Point            | The lowest dew point of the date                         |\n",
    "| Max Humidity             | The highest humidity of the date                         |\n",
    "| Mean Humidity            | The average humidity of the date                         |\n",
    "| Min Humidity             | The lowest humidity of the date                          |\n",
    "| Max Sea Level Pressure   | The highest sea level pressure of the date               |\n",
    "| Mean Sea Level Pressure  | The average sea level pressure of the date               |\n",
    "| Min Sea Level Pressure   | The lowest sea level pressure of the date                |\n",
    "| Max Visibility           | The maximum visibility on the date                       |\n",
    "| Mean Visibility          | The average visibility of the date                       |\n",
    "| Min Visibility           | The minimum visibility of the date                       |\n",
    "| Max Wind Speed           | The maximum wind speed of the date                       |\n",
    "| Mean Wind Speed          | The average wind speed of the date                       |\n",
    "| Max Gust Speed           | The maximum gust speed of the date                       |\n",
    "| Precipitation            | The precipitation of the date                            |\n",
    "| Cloud Cover              | The fraction of the sky covered by clouds on given date  |\n",
    "| Event                    | Description of the weather                               |\n",
    "| Wind Direction           | Wind direction                                           |\n",
    "| Zip Code                 | The zip code for the weather record                      |\n"
   ]
  },
  {
   "cell_type": "markdown",
   "id": "d9e1299e-d446-4f73-baba-1028a3f32cd8",
   "metadata": {},
   "source": [
    "## Data Loading and Setup"
   ]
  },
  {
   "cell_type": "code",
   "execution_count": 2,
   "id": "c89f4a6d-256f-404f-9b2c-98e4cb8d5264",
   "metadata": {},
   "outputs": [
    {
     "name": "stderr",
     "output_type": "stream",
     "text": [
      "/Users/chih-kanghsu/anaconda3/lib/python3.11/site-packages/pandas/core/arrays/masked.py:60: UserWarning: Pandas requires version '1.3.6' or newer of 'bottleneck' (version '1.3.5' currently installed).\n",
      "  from pandas.core import (\n"
     ]
    }
   ],
   "source": [
    "# Import necessary libraries\n",
    "import seaborn as sns\n",
    "import numpy as np\n",
    "import matplotlib.pyplot as plt\n",
    "import pandas as pd\n",
    "from scipy import stats"
   ]
  },
  {
   "cell_type": "code",
   "execution_count": 4,
   "id": "14988b09-676a-4a6e-8e53-096615a64fbd",
   "metadata": {},
   "outputs": [],
   "source": [
    "# Read in the data from status.csv\n",
    "df_status = pd.read_csv('data/status.csv')"
   ]
  },
  {
   "cell_type": "code",
   "execution_count": 41,
   "id": "492e23e9-cc00-40de-9f75-e8e00ed8b084",
   "metadata": {
    "tags": []
   },
   "outputs": [],
   "source": [
    "# Read in the data from station.csv\n",
    "df_station = pd.read_csv('data/station.csv')"
   ]
  },
  {
   "cell_type": "code",
   "execution_count": 3,
   "id": "497b34d0-21ec-4dfe-bac0-059c2f902c59",
   "metadata": {
    "tags": []
   },
   "outputs": [],
   "source": [
    "# Read in the data from weather.csv \n",
    "df_weather = pd.read_csv('data/weather.csv')"
   ]
  },
  {
   "cell_type": "markdown",
   "id": "07b230a0-65ef-4813-b1ce-c3460f280741",
   "metadata": {},
   "source": [
    "## Assessment"
   ]
  },
  {
   "cell_type": "markdown",
   "id": "632c9f9f-87ab-4ffb-bb25-731a004b0f84",
   "metadata": {},
   "source": [
    "#### Assessment of Status Dataset"
   ]
  },
  {
   "cell_type": "code",
   "execution_count": 43,
   "id": "b97574e8-9a6f-4488-9d40-583e208e5d8f",
   "metadata": {
    "tags": []
   },
   "outputs": [
    {
     "data": {
      "text/plain": [
       "(71984434, 4)"
      ]
     },
     "execution_count": 43,
     "metadata": {},
     "output_type": "execute_result"
    }
   ],
   "source": [
    "# Show the shape of the status dataframe\n",
    "df_status.shape"
   ]
  },
  {
   "cell_type": "code",
   "execution_count": 44,
   "id": "1ab343b1-508b-4bc1-8f18-c4d1a571df81",
   "metadata": {
    "tags": []
   },
   "outputs": [
    {
     "data": {
      "text/html": [
       "<div>\n",
       "<style scoped>\n",
       "    .dataframe tbody tr th:only-of-type {\n",
       "        vertical-align: middle;\n",
       "    }\n",
       "\n",
       "    .dataframe tbody tr th {\n",
       "        vertical-align: top;\n",
       "    }\n",
       "\n",
       "    .dataframe thead th {\n",
       "        text-align: right;\n",
       "    }\n",
       "</style>\n",
       "<table border=\"1\" class=\"dataframe\">\n",
       "  <thead>\n",
       "    <tr style=\"text-align: right;\">\n",
       "      <th></th>\n",
       "      <th>station_id</th>\n",
       "      <th>bikes_available</th>\n",
       "      <th>docks_available</th>\n",
       "      <th>time</th>\n",
       "    </tr>\n",
       "  </thead>\n",
       "  <tbody>\n",
       "    <tr>\n",
       "      <th>0</th>\n",
       "      <td>2</td>\n",
       "      <td>2</td>\n",
       "      <td>25</td>\n",
       "      <td>2013/08/29 12:06:01</td>\n",
       "    </tr>\n",
       "    <tr>\n",
       "      <th>1</th>\n",
       "      <td>2</td>\n",
       "      <td>2</td>\n",
       "      <td>25</td>\n",
       "      <td>2013/08/29 12:07:01</td>\n",
       "    </tr>\n",
       "    <tr>\n",
       "      <th>2</th>\n",
       "      <td>2</td>\n",
       "      <td>2</td>\n",
       "      <td>25</td>\n",
       "      <td>2013/08/29 12:08:01</td>\n",
       "    </tr>\n",
       "    <tr>\n",
       "      <th>3</th>\n",
       "      <td>2</td>\n",
       "      <td>2</td>\n",
       "      <td>25</td>\n",
       "      <td>2013/08/29 12:09:01</td>\n",
       "    </tr>\n",
       "    <tr>\n",
       "      <th>4</th>\n",
       "      <td>2</td>\n",
       "      <td>2</td>\n",
       "      <td>25</td>\n",
       "      <td>2013/08/29 12:10:01</td>\n",
       "    </tr>\n",
       "  </tbody>\n",
       "</table>\n",
       "</div>"
      ],
      "text/plain": [
       "   station_id  bikes_available  docks_available                 time\n",
       "0           2                2               25  2013/08/29 12:06:01\n",
       "1           2                2               25  2013/08/29 12:07:01\n",
       "2           2                2               25  2013/08/29 12:08:01\n",
       "3           2                2               25  2013/08/29 12:09:01\n",
       "4           2                2               25  2013/08/29 12:10:01"
      ]
     },
     "execution_count": 44,
     "metadata": {},
     "output_type": "execute_result"
    }
   ],
   "source": [
    "# Look at the first 5 rows\n",
    "df_status.head(5)"
   ]
  },
  {
   "cell_type": "code",
   "execution_count": 45,
   "id": "78a95a07-7101-4861-acbc-61e16d0ab329",
   "metadata": {
    "tags": []
   },
   "outputs": [
    {
     "name": "stdout",
     "output_type": "stream",
     "text": [
      "<class 'pandas.core.frame.DataFrame'>\n",
      "RangeIndex: 71984434 entries, 0 to 71984433\n",
      "Data columns (total 4 columns):\n",
      " #   Column           Dtype \n",
      "---  ------           ----- \n",
      " 0   station_id       int64 \n",
      " 1   bikes_available  int64 \n",
      " 2   docks_available  int64 \n",
      " 3   time             object\n",
      "dtypes: int64(3), object(1)\n",
      "memory usage: 2.1+ GB\n"
     ]
    }
   ],
   "source": [
    "# Get a quick overview of dataset variables\n",
    "df_status.info()"
   ]
  },
  {
   "cell_type": "code",
   "execution_count": 46,
   "id": "e3f317e4-c206-48d5-9d76-aec0627ce8ea",
   "metadata": {
    "tags": []
   },
   "outputs": [
    {
     "data": {
      "text/plain": [
       "station_id          int64\n",
       "bikes_available     int64\n",
       "docks_available     int64\n",
       "time               object\n",
       "dtype: object"
      ]
     },
     "execution_count": 46,
     "metadata": {},
     "output_type": "execute_result"
    }
   ],
   "source": [
    "# Display the data types of the dataset\n",
    "df_status.dtypes"
   ]
  },
  {
   "cell_type": "code",
   "execution_count": 47,
   "id": "914f5cab-9ca1-48c8-8623-efd110f8c4ff",
   "metadata": {
    "tags": []
   },
   "outputs": [
    {
     "data": {
      "text/plain": [
       "station_id              70\n",
       "bikes_available         28\n",
       "docks_available         28\n",
       "time               1047143\n",
       "dtype: int64"
      ]
     },
     "execution_count": 47,
     "metadata": {},
     "output_type": "execute_result"
    }
   ],
   "source": [
    "# Check the number of unique values in each column\n",
    "df_status.nunique()"
   ]
  },
  {
   "cell_type": "code",
   "execution_count": 48,
   "id": "d6d5f562-0c4a-4e8c-96c7-b9b0e7797a64",
   "metadata": {
    "tags": []
   },
   "outputs": [
    {
     "data": {
      "text/html": [
       "<div>\n",
       "<style scoped>\n",
       "    .dataframe tbody tr th:only-of-type {\n",
       "        vertical-align: middle;\n",
       "    }\n",
       "\n",
       "    .dataframe tbody tr th {\n",
       "        vertical-align: top;\n",
       "    }\n",
       "\n",
       "    .dataframe thead th {\n",
       "        text-align: right;\n",
       "    }\n",
       "</style>\n",
       "<table border=\"1\" class=\"dataframe\">\n",
       "  <thead>\n",
       "    <tr style=\"text-align: right;\">\n",
       "      <th></th>\n",
       "      <th>station_id</th>\n",
       "      <th>bikes_available</th>\n",
       "      <th>docks_available</th>\n",
       "    </tr>\n",
       "  </thead>\n",
       "  <tbody>\n",
       "    <tr>\n",
       "      <th>count</th>\n",
       "      <td>7.198443e+07</td>\n",
       "      <td>7.198443e+07</td>\n",
       "      <td>7.198443e+07</td>\n",
       "    </tr>\n",
       "    <tr>\n",
       "      <th>mean</th>\n",
       "      <td>4.253149e+01</td>\n",
       "      <td>8.394812e+00</td>\n",
       "      <td>9.284729e+00</td>\n",
       "    </tr>\n",
       "    <tr>\n",
       "      <th>std</th>\n",
       "      <td>2.376117e+01</td>\n",
       "      <td>3.993586e+00</td>\n",
       "      <td>4.175442e+00</td>\n",
       "    </tr>\n",
       "    <tr>\n",
       "      <th>min</th>\n",
       "      <td>2.000000e+00</td>\n",
       "      <td>0.000000e+00</td>\n",
       "      <td>0.000000e+00</td>\n",
       "    </tr>\n",
       "    <tr>\n",
       "      <th>25%</th>\n",
       "      <td>2.400000e+01</td>\n",
       "      <td>6.000000e+00</td>\n",
       "      <td>6.000000e+00</td>\n",
       "    </tr>\n",
       "    <tr>\n",
       "      <th>50%</th>\n",
       "      <td>4.200000e+01</td>\n",
       "      <td>8.000000e+00</td>\n",
       "      <td>9.000000e+00</td>\n",
       "    </tr>\n",
       "    <tr>\n",
       "      <th>75%</th>\n",
       "      <td>6.300000e+01</td>\n",
       "      <td>1.100000e+01</td>\n",
       "      <td>1.200000e+01</td>\n",
       "    </tr>\n",
       "    <tr>\n",
       "      <th>max</th>\n",
       "      <td>8.400000e+01</td>\n",
       "      <td>2.700000e+01</td>\n",
       "      <td>2.700000e+01</td>\n",
       "    </tr>\n",
       "  </tbody>\n",
       "</table>\n",
       "</div>"
      ],
      "text/plain": [
       "         station_id  bikes_available  docks_available\n",
       "count  7.198443e+07     7.198443e+07     7.198443e+07\n",
       "mean   4.253149e+01     8.394812e+00     9.284729e+00\n",
       "std    2.376117e+01     3.993586e+00     4.175442e+00\n",
       "min    2.000000e+00     0.000000e+00     0.000000e+00\n",
       "25%    2.400000e+01     6.000000e+00     6.000000e+00\n",
       "50%    4.200000e+01     8.000000e+00     9.000000e+00\n",
       "75%    6.300000e+01     1.100000e+01     1.200000e+01\n",
       "max    8.400000e+01     2.700000e+01     2.700000e+01"
      ]
     },
     "execution_count": 48,
     "metadata": {},
     "output_type": "execute_result"
    }
   ],
   "source": [
    "# Get a statistical summary of the dataset\n",
    "df_status.describe()"
   ]
  },
  {
   "cell_type": "code",
   "execution_count": 49,
   "id": "6ab298c0-69ac-406d-985e-f9ba859f1421",
   "metadata": {},
   "outputs": [
    {
     "data": {
      "text/plain": [
       "station_id         0\n",
       "bikes_available    0\n",
       "docks_available    0\n",
       "time               0\n",
       "dtype: int64"
      ]
     },
     "execution_count": 49,
     "metadata": {},
     "output_type": "execute_result"
    }
   ],
   "source": [
    "# Sanity check to make sure we don't have any NAs\n",
    "df_status.isna().sum()"
   ]
  },
  {
   "cell_type": "code",
   "execution_count": 50,
   "id": "614a7cb6-afd2-4ab0-9992-0f3a053170a0",
   "metadata": {
    "tags": []
   },
   "outputs": [
    {
     "data": {
      "text/plain": [
       "0"
      ]
     },
     "execution_count": 50,
     "metadata": {},
     "output_type": "execute_result"
    }
   ],
   "source": [
    "# Check for duplicate rows\n",
    "df_status.duplicated().sum()"
   ]
  },
  {
   "cell_type": "markdown",
   "id": "dc15f638-a233-4192-bdc7-38e825f4ea80",
   "metadata": {},
   "source": [
    "Status Dataset is clean. <br />\n",
    "We will need to convert time column to datetime format so that we can apply statistical modeling."
   ]
  },
  {
   "cell_type": "markdown",
   "id": "ca5f7664-6ef6-4018-bb57-c3429a7255d3",
   "metadata": {},
   "source": [
    "#### Assessment of Station Dataset"
   ]
  },
  {
   "cell_type": "code",
   "execution_count": 51,
   "id": "39fbf89b-e397-48ef-bdd7-a9c8eb97cd95",
   "metadata": {
    "tags": []
   },
   "outputs": [
    {
     "data": {
      "text/plain": [
       "(70, 7)"
      ]
     },
     "execution_count": 51,
     "metadata": {},
     "output_type": "execute_result"
    }
   ],
   "source": [
    "# Show the shape of the station dataframe\n",
    "df_station.shape"
   ]
  },
  {
   "cell_type": "code",
   "execution_count": 52,
   "id": "57d7eb2c-7f3b-494f-bb50-72fceab2efff",
   "metadata": {
    "tags": []
   },
   "outputs": [
    {
     "data": {
      "text/html": [
       "<div>\n",
       "<style scoped>\n",
       "    .dataframe tbody tr th:only-of-type {\n",
       "        vertical-align: middle;\n",
       "    }\n",
       "\n",
       "    .dataframe tbody tr th {\n",
       "        vertical-align: top;\n",
       "    }\n",
       "\n",
       "    .dataframe thead th {\n",
       "        text-align: right;\n",
       "    }\n",
       "</style>\n",
       "<table border=\"1\" class=\"dataframe\">\n",
       "  <thead>\n",
       "    <tr style=\"text-align: right;\">\n",
       "      <th></th>\n",
       "      <th>id</th>\n",
       "      <th>name</th>\n",
       "      <th>lat</th>\n",
       "      <th>long</th>\n",
       "      <th>dock_count</th>\n",
       "      <th>city</th>\n",
       "      <th>installation_date</th>\n",
       "    </tr>\n",
       "  </thead>\n",
       "  <tbody>\n",
       "    <tr>\n",
       "      <th>0</th>\n",
       "      <td>2</td>\n",
       "      <td>San Jose Diridon Caltrain Station</td>\n",
       "      <td>37.329732</td>\n",
       "      <td>-121.901782</td>\n",
       "      <td>27</td>\n",
       "      <td>San Jose</td>\n",
       "      <td>8/6/2013</td>\n",
       "    </tr>\n",
       "    <tr>\n",
       "      <th>1</th>\n",
       "      <td>3</td>\n",
       "      <td>San Jose Civic Center</td>\n",
       "      <td>37.330698</td>\n",
       "      <td>-121.888979</td>\n",
       "      <td>15</td>\n",
       "      <td>San Jose</td>\n",
       "      <td>8/5/2013</td>\n",
       "    </tr>\n",
       "    <tr>\n",
       "      <th>2</th>\n",
       "      <td>4</td>\n",
       "      <td>Santa Clara at Almaden</td>\n",
       "      <td>37.333988</td>\n",
       "      <td>-121.894902</td>\n",
       "      <td>11</td>\n",
       "      <td>San Jose</td>\n",
       "      <td>8/6/2013</td>\n",
       "    </tr>\n",
       "    <tr>\n",
       "      <th>3</th>\n",
       "      <td>5</td>\n",
       "      <td>Adobe on Almaden</td>\n",
       "      <td>37.331415</td>\n",
       "      <td>-121.893200</td>\n",
       "      <td>19</td>\n",
       "      <td>San Jose</td>\n",
       "      <td>8/5/2013</td>\n",
       "    </tr>\n",
       "    <tr>\n",
       "      <th>4</th>\n",
       "      <td>6</td>\n",
       "      <td>San Pedro Square</td>\n",
       "      <td>37.336721</td>\n",
       "      <td>-121.894074</td>\n",
       "      <td>15</td>\n",
       "      <td>San Jose</td>\n",
       "      <td>8/7/2013</td>\n",
       "    </tr>\n",
       "  </tbody>\n",
       "</table>\n",
       "</div>"
      ],
      "text/plain": [
       "   id                               name        lat        long  dock_count   \n",
       "0   2  San Jose Diridon Caltrain Station  37.329732 -121.901782          27  \\\n",
       "1   3              San Jose Civic Center  37.330698 -121.888979          15   \n",
       "2   4             Santa Clara at Almaden  37.333988 -121.894902          11   \n",
       "3   5                   Adobe on Almaden  37.331415 -121.893200          19   \n",
       "4   6                   San Pedro Square  37.336721 -121.894074          15   \n",
       "\n",
       "       city installation_date  \n",
       "0  San Jose          8/6/2013  \n",
       "1  San Jose          8/5/2013  \n",
       "2  San Jose          8/6/2013  \n",
       "3  San Jose          8/5/2013  \n",
       "4  San Jose          8/7/2013  "
      ]
     },
     "execution_count": 52,
     "metadata": {},
     "output_type": "execute_result"
    }
   ],
   "source": [
    "# Look at the first 5 rows\n",
    "df_station.head(5)"
   ]
  },
  {
   "cell_type": "code",
   "execution_count": 53,
   "id": "b1a3bf8a-2449-4778-89a7-af93252b6cdb",
   "metadata": {
    "tags": []
   },
   "outputs": [
    {
     "name": "stdout",
     "output_type": "stream",
     "text": [
      "<class 'pandas.core.frame.DataFrame'>\n",
      "RangeIndex: 70 entries, 0 to 69\n",
      "Data columns (total 7 columns):\n",
      " #   Column             Non-Null Count  Dtype  \n",
      "---  ------             --------------  -----  \n",
      " 0   id                 70 non-null     int64  \n",
      " 1   name               70 non-null     object \n",
      " 2   lat                70 non-null     float64\n",
      " 3   long               70 non-null     float64\n",
      " 4   dock_count         70 non-null     int64  \n",
      " 5   city               70 non-null     object \n",
      " 6   installation_date  70 non-null     object \n",
      "dtypes: float64(2), int64(2), object(3)\n",
      "memory usage: 4.0+ KB\n"
     ]
    }
   ],
   "source": [
    "# Get a quick overview of dataset variables\n",
    "df_station.info()"
   ]
  },
  {
   "cell_type": "code",
   "execution_count": 54,
   "id": "883e1da8-4bba-4304-b18a-38805609d5b0",
   "metadata": {
    "tags": []
   },
   "outputs": [
    {
     "data": {
      "text/plain": [
       "id                     int64\n",
       "name                  object\n",
       "lat                  float64\n",
       "long                 float64\n",
       "dock_count             int64\n",
       "city                  object\n",
       "installation_date     object\n",
       "dtype: object"
      ]
     },
     "execution_count": 54,
     "metadata": {},
     "output_type": "execute_result"
    }
   ],
   "source": [
    "# Display the data types of the dataset\n",
    "df_station.dtypes"
   ]
  },
  {
   "cell_type": "code",
   "execution_count": 55,
   "id": "c9e58e2e-e35e-432a-9a6e-7f4d5b23513a",
   "metadata": {
    "tags": []
   },
   "outputs": [
    {
     "data": {
      "text/plain": [
       "id                   70\n",
       "name                 70\n",
       "lat                  70\n",
       "long                 70\n",
       "dock_count            6\n",
       "city                  5\n",
       "installation_date    17\n",
       "dtype: int64"
      ]
     },
     "execution_count": 55,
     "metadata": {},
     "output_type": "execute_result"
    }
   ],
   "source": [
    "# Check the number of unique values in each column\n",
    "df_station.nunique()"
   ]
  },
  {
   "cell_type": "code",
   "execution_count": 56,
   "id": "012210c0-4729-4365-b249-1fbe43a4e5d1",
   "metadata": {
    "tags": []
   },
   "outputs": [
    {
     "data": {
      "text/html": [
       "<div>\n",
       "<style scoped>\n",
       "    .dataframe tbody tr th:only-of-type {\n",
       "        vertical-align: middle;\n",
       "    }\n",
       "\n",
       "    .dataframe tbody tr th {\n",
       "        vertical-align: top;\n",
       "    }\n",
       "\n",
       "    .dataframe thead th {\n",
       "        text-align: right;\n",
       "    }\n",
       "</style>\n",
       "<table border=\"1\" class=\"dataframe\">\n",
       "  <thead>\n",
       "    <tr style=\"text-align: right;\">\n",
       "      <th></th>\n",
       "      <th>id</th>\n",
       "      <th>lat</th>\n",
       "      <th>long</th>\n",
       "      <th>dock_count</th>\n",
       "    </tr>\n",
       "  </thead>\n",
       "  <tbody>\n",
       "    <tr>\n",
       "      <th>count</th>\n",
       "      <td>70.000000</td>\n",
       "      <td>70.000000</td>\n",
       "      <td>70.000000</td>\n",
       "      <td>70.000000</td>\n",
       "    </tr>\n",
       "    <tr>\n",
       "      <th>mean</th>\n",
       "      <td>43.000000</td>\n",
       "      <td>37.590243</td>\n",
       "      <td>-122.218416</td>\n",
       "      <td>17.657143</td>\n",
       "    </tr>\n",
       "    <tr>\n",
       "      <th>std</th>\n",
       "      <td>24.166092</td>\n",
       "      <td>0.203473</td>\n",
       "      <td>0.209446</td>\n",
       "      <td>4.010442</td>\n",
       "    </tr>\n",
       "    <tr>\n",
       "      <th>min</th>\n",
       "      <td>2.000000</td>\n",
       "      <td>37.329732</td>\n",
       "      <td>-122.418954</td>\n",
       "      <td>11.000000</td>\n",
       "    </tr>\n",
       "    <tr>\n",
       "      <th>25%</th>\n",
       "      <td>24.250000</td>\n",
       "      <td>37.389483</td>\n",
       "      <td>-122.400601</td>\n",
       "      <td>15.000000</td>\n",
       "    </tr>\n",
       "    <tr>\n",
       "      <th>50%</th>\n",
       "      <td>43.500000</td>\n",
       "      <td>37.631163</td>\n",
       "      <td>-122.312123</td>\n",
       "      <td>15.000000</td>\n",
       "    </tr>\n",
       "    <tr>\n",
       "      <th>75%</th>\n",
       "      <td>63.750000</td>\n",
       "      <td>37.788123</td>\n",
       "      <td>-122.078009</td>\n",
       "      <td>19.000000</td>\n",
       "    </tr>\n",
       "    <tr>\n",
       "      <th>max</th>\n",
       "      <td>84.000000</td>\n",
       "      <td>37.804770</td>\n",
       "      <td>-121.877349</td>\n",
       "      <td>27.000000</td>\n",
       "    </tr>\n",
       "  </tbody>\n",
       "</table>\n",
       "</div>"
      ],
      "text/plain": [
       "              id        lat        long  dock_count\n",
       "count  70.000000  70.000000   70.000000   70.000000\n",
       "mean   43.000000  37.590243 -122.218416   17.657143\n",
       "std    24.166092   0.203473    0.209446    4.010442\n",
       "min     2.000000  37.329732 -122.418954   11.000000\n",
       "25%    24.250000  37.389483 -122.400601   15.000000\n",
       "50%    43.500000  37.631163 -122.312123   15.000000\n",
       "75%    63.750000  37.788123 -122.078009   19.000000\n",
       "max    84.000000  37.804770 -121.877349   27.000000"
      ]
     },
     "execution_count": 56,
     "metadata": {},
     "output_type": "execute_result"
    }
   ],
   "source": [
    "# Get a statistical summary of the dataset\n",
    "df_station.describe()"
   ]
  },
  {
   "cell_type": "code",
   "execution_count": 57,
   "id": "d8fe9b01-8553-4ab7-9b88-cd1eddee17f2",
   "metadata": {
    "tags": []
   },
   "outputs": [
    {
     "data": {
      "text/plain": [
       "id                   0\n",
       "name                 0\n",
       "lat                  0\n",
       "long                 0\n",
       "dock_count           0\n",
       "city                 0\n",
       "installation_date    0\n",
       "dtype: int64"
      ]
     },
     "execution_count": 57,
     "metadata": {},
     "output_type": "execute_result"
    }
   ],
   "source": [
    "# Sanity check to make sure we don't have any NAs\n",
    "df_station.isna().sum()"
   ]
  },
  {
   "cell_type": "code",
   "execution_count": 58,
   "id": "6af005a1-a51a-46e3-b2d9-372268522f5b",
   "metadata": {
    "tags": []
   },
   "outputs": [
    {
     "data": {
      "text/plain": [
       "0"
      ]
     },
     "execution_count": 58,
     "metadata": {},
     "output_type": "execute_result"
    }
   ],
   "source": [
    "# Check for duplicate rows\n",
    "df_station.duplicated().sum()"
   ]
  },
  {
   "cell_type": "markdown",
   "id": "c17448e7-a2a3-4200-9d60-d33651b261b3",
   "metadata": {},
   "source": [
    "Station Dataset is clean. <br />\n",
    "We are dealing with some categorical variables (stored as object as dtype). We will need to convert these to their numerical representations (aka dummy variables) so that we can apply statistical modeling."
   ]
  },
  {
   "cell_type": "markdown",
   "id": "cb1df731-b4dd-4faf-8a17-f0da3c93da63",
   "metadata": {},
   "source": [
    "#### Assessment of Weather Dataset"
   ]
  },
  {
   "cell_type": "code",
   "execution_count": 59,
   "id": "51ed174c-bbb3-48ce-ba5e-09e1dd162c34",
   "metadata": {
    "tags": []
   },
   "outputs": [
    {
     "data": {
      "text/plain": [
       "(3665, 24)"
      ]
     },
     "execution_count": 59,
     "metadata": {},
     "output_type": "execute_result"
    }
   ],
   "source": [
    "# Show the shape of the weather dataframe\n",
    "df_weather.shape"
   ]
  },
  {
   "cell_type": "code",
   "execution_count": 60,
   "id": "747fd5d7-67fe-45e4-9e43-b0976f681bc9",
   "metadata": {
    "tags": []
   },
   "outputs": [
    {
     "data": {
      "text/html": [
       "<div>\n",
       "<style scoped>\n",
       "    .dataframe tbody tr th:only-of-type {\n",
       "        vertical-align: middle;\n",
       "    }\n",
       "\n",
       "    .dataframe tbody tr th {\n",
       "        vertical-align: top;\n",
       "    }\n",
       "\n",
       "    .dataframe thead th {\n",
       "        text-align: right;\n",
       "    }\n",
       "</style>\n",
       "<table border=\"1\" class=\"dataframe\">\n",
       "  <thead>\n",
       "    <tr style=\"text-align: right;\">\n",
       "      <th></th>\n",
       "      <th>date</th>\n",
       "      <th>max_temperature_f</th>\n",
       "      <th>mean_temperature_f</th>\n",
       "      <th>min_temperature_f</th>\n",
       "      <th>max_dew_point_f</th>\n",
       "      <th>mean_dew_point_f</th>\n",
       "      <th>min_dew_point_f</th>\n",
       "      <th>max_humidity</th>\n",
       "      <th>mean_humidity</th>\n",
       "      <th>min_humidity</th>\n",
       "      <th>...</th>\n",
       "      <th>mean_visibility_miles</th>\n",
       "      <th>min_visibility_miles</th>\n",
       "      <th>max_wind_Speed_mph</th>\n",
       "      <th>mean_wind_speed_mph</th>\n",
       "      <th>max_gust_speed_mph</th>\n",
       "      <th>precipitation_inches</th>\n",
       "      <th>cloud_cover</th>\n",
       "      <th>events</th>\n",
       "      <th>wind_dir_degrees</th>\n",
       "      <th>zip_code</th>\n",
       "    </tr>\n",
       "  </thead>\n",
       "  <tbody>\n",
       "    <tr>\n",
       "      <th>0</th>\n",
       "      <td>8/29/2013</td>\n",
       "      <td>74.0</td>\n",
       "      <td>68.0</td>\n",
       "      <td>61.0</td>\n",
       "      <td>61.0</td>\n",
       "      <td>58.0</td>\n",
       "      <td>56.0</td>\n",
       "      <td>93.0</td>\n",
       "      <td>75.0</td>\n",
       "      <td>57.0</td>\n",
       "      <td>...</td>\n",
       "      <td>10.0</td>\n",
       "      <td>10.0</td>\n",
       "      <td>23.0</td>\n",
       "      <td>11.0</td>\n",
       "      <td>28.0</td>\n",
       "      <td>0</td>\n",
       "      <td>4.0</td>\n",
       "      <td>NaN</td>\n",
       "      <td>286.0</td>\n",
       "      <td>94107</td>\n",
       "    </tr>\n",
       "    <tr>\n",
       "      <th>1</th>\n",
       "      <td>8/30/2013</td>\n",
       "      <td>78.0</td>\n",
       "      <td>69.0</td>\n",
       "      <td>60.0</td>\n",
       "      <td>61.0</td>\n",
       "      <td>58.0</td>\n",
       "      <td>56.0</td>\n",
       "      <td>90.0</td>\n",
       "      <td>70.0</td>\n",
       "      <td>50.0</td>\n",
       "      <td>...</td>\n",
       "      <td>10.0</td>\n",
       "      <td>7.0</td>\n",
       "      <td>29.0</td>\n",
       "      <td>13.0</td>\n",
       "      <td>35.0</td>\n",
       "      <td>0</td>\n",
       "      <td>2.0</td>\n",
       "      <td>NaN</td>\n",
       "      <td>291.0</td>\n",
       "      <td>94107</td>\n",
       "    </tr>\n",
       "    <tr>\n",
       "      <th>2</th>\n",
       "      <td>8/31/2013</td>\n",
       "      <td>71.0</td>\n",
       "      <td>64.0</td>\n",
       "      <td>57.0</td>\n",
       "      <td>57.0</td>\n",
       "      <td>56.0</td>\n",
       "      <td>54.0</td>\n",
       "      <td>93.0</td>\n",
       "      <td>75.0</td>\n",
       "      <td>57.0</td>\n",
       "      <td>...</td>\n",
       "      <td>10.0</td>\n",
       "      <td>10.0</td>\n",
       "      <td>26.0</td>\n",
       "      <td>15.0</td>\n",
       "      <td>31.0</td>\n",
       "      <td>0</td>\n",
       "      <td>4.0</td>\n",
       "      <td>NaN</td>\n",
       "      <td>284.0</td>\n",
       "      <td>94107</td>\n",
       "    </tr>\n",
       "    <tr>\n",
       "      <th>3</th>\n",
       "      <td>9/1/2013</td>\n",
       "      <td>74.0</td>\n",
       "      <td>66.0</td>\n",
       "      <td>58.0</td>\n",
       "      <td>60.0</td>\n",
       "      <td>56.0</td>\n",
       "      <td>53.0</td>\n",
       "      <td>87.0</td>\n",
       "      <td>68.0</td>\n",
       "      <td>49.0</td>\n",
       "      <td>...</td>\n",
       "      <td>10.0</td>\n",
       "      <td>10.0</td>\n",
       "      <td>25.0</td>\n",
       "      <td>13.0</td>\n",
       "      <td>29.0</td>\n",
       "      <td>0</td>\n",
       "      <td>4.0</td>\n",
       "      <td>NaN</td>\n",
       "      <td>284.0</td>\n",
       "      <td>94107</td>\n",
       "    </tr>\n",
       "    <tr>\n",
       "      <th>4</th>\n",
       "      <td>9/2/2013</td>\n",
       "      <td>75.0</td>\n",
       "      <td>69.0</td>\n",
       "      <td>62.0</td>\n",
       "      <td>61.0</td>\n",
       "      <td>60.0</td>\n",
       "      <td>58.0</td>\n",
       "      <td>93.0</td>\n",
       "      <td>77.0</td>\n",
       "      <td>61.0</td>\n",
       "      <td>...</td>\n",
       "      <td>10.0</td>\n",
       "      <td>6.0</td>\n",
       "      <td>23.0</td>\n",
       "      <td>12.0</td>\n",
       "      <td>30.0</td>\n",
       "      <td>0</td>\n",
       "      <td>6.0</td>\n",
       "      <td>NaN</td>\n",
       "      <td>277.0</td>\n",
       "      <td>94107</td>\n",
       "    </tr>\n",
       "  </tbody>\n",
       "</table>\n",
       "<p>5 rows × 24 columns</p>\n",
       "</div>"
      ],
      "text/plain": [
       "        date  max_temperature_f  mean_temperature_f  min_temperature_f   \n",
       "0  8/29/2013               74.0                68.0               61.0  \\\n",
       "1  8/30/2013               78.0                69.0               60.0   \n",
       "2  8/31/2013               71.0                64.0               57.0   \n",
       "3   9/1/2013               74.0                66.0               58.0   \n",
       "4   9/2/2013               75.0                69.0               62.0   \n",
       "\n",
       "   max_dew_point_f  mean_dew_point_f  min_dew_point_f  max_humidity   \n",
       "0             61.0              58.0             56.0          93.0  \\\n",
       "1             61.0              58.0             56.0          90.0   \n",
       "2             57.0              56.0             54.0          93.0   \n",
       "3             60.0              56.0             53.0          87.0   \n",
       "4             61.0              60.0             58.0          93.0   \n",
       "\n",
       "   mean_humidity  min_humidity  ...  mean_visibility_miles   \n",
       "0           75.0          57.0  ...                   10.0  \\\n",
       "1           70.0          50.0  ...                   10.0   \n",
       "2           75.0          57.0  ...                   10.0   \n",
       "3           68.0          49.0  ...                   10.0   \n",
       "4           77.0          61.0  ...                   10.0   \n",
       "\n",
       "   min_visibility_miles  max_wind_Speed_mph  mean_wind_speed_mph   \n",
       "0                  10.0                23.0                 11.0  \\\n",
       "1                   7.0                29.0                 13.0   \n",
       "2                  10.0                26.0                 15.0   \n",
       "3                  10.0                25.0                 13.0   \n",
       "4                   6.0                23.0                 12.0   \n",
       "\n",
       "   max_gust_speed_mph  precipitation_inches  cloud_cover  events   \n",
       "0                28.0                     0          4.0     NaN  \\\n",
       "1                35.0                     0          2.0     NaN   \n",
       "2                31.0                     0          4.0     NaN   \n",
       "3                29.0                     0          4.0     NaN   \n",
       "4                30.0                     0          6.0     NaN   \n",
       "\n",
       "   wind_dir_degrees zip_code  \n",
       "0             286.0    94107  \n",
       "1             291.0    94107  \n",
       "2             284.0    94107  \n",
       "3             284.0    94107  \n",
       "4             277.0    94107  \n",
       "\n",
       "[5 rows x 24 columns]"
      ]
     },
     "execution_count": 60,
     "metadata": {},
     "output_type": "execute_result"
    }
   ],
   "source": [
    "# Look at the first 5 rows\n",
    "df_weather.head(5)"
   ]
  },
  {
   "cell_type": "code",
   "execution_count": 61,
   "id": "475e2a65-5ca1-41da-90da-a51116ed383a",
   "metadata": {
    "tags": []
   },
   "outputs": [
    {
     "name": "stdout",
     "output_type": "stream",
     "text": [
      "<class 'pandas.core.frame.DataFrame'>\n",
      "RangeIndex: 3665 entries, 0 to 3664\n",
      "Data columns (total 24 columns):\n",
      " #   Column                          Non-Null Count  Dtype  \n",
      "---  ------                          --------------  -----  \n",
      " 0   date                            3665 non-null   object \n",
      " 1   max_temperature_f               3661 non-null   float64\n",
      " 2   mean_temperature_f              3661 non-null   float64\n",
      " 3   min_temperature_f               3661 non-null   float64\n",
      " 4   max_dew_point_f                 3611 non-null   float64\n",
      " 5   mean_dew_point_f                3611 non-null   float64\n",
      " 6   min_dew_point_f                 3611 non-null   float64\n",
      " 7   max_humidity                    3611 non-null   float64\n",
      " 8   mean_humidity                   3611 non-null   float64\n",
      " 9   min_humidity                    3611 non-null   float64\n",
      " 10  max_sea_level_pressure_inches   3664 non-null   float64\n",
      " 11  mean_sea_level_pressure_inches  3664 non-null   float64\n",
      " 12  min_sea_level_pressure_inches   3664 non-null   float64\n",
      " 13  max_visibility_miles            3652 non-null   float64\n",
      " 14  mean_visibility_miles           3652 non-null   float64\n",
      " 15  min_visibility_miles            3652 non-null   float64\n",
      " 16  max_wind_Speed_mph              3664 non-null   float64\n",
      " 17  mean_wind_speed_mph             3664 non-null   float64\n",
      " 18  max_gust_speed_mph              2766 non-null   float64\n",
      " 19  precipitation_inches            3664 non-null   object \n",
      " 20  cloud_cover                     3664 non-null   float64\n",
      " 21  events                          522 non-null    object \n",
      " 22  wind_dir_degrees                3664 non-null   float64\n",
      " 23  zip_code                        3665 non-null   int64  \n",
      "dtypes: float64(20), int64(1), object(3)\n",
      "memory usage: 687.3+ KB\n"
     ]
    }
   ],
   "source": [
    "# Get a quick overview of dataset variables\n",
    "df_weather.info()"
   ]
  },
  {
   "cell_type": "code",
   "execution_count": 62,
   "id": "7f413bf2-329d-4ad4-b67d-c739574993ca",
   "metadata": {
    "tags": []
   },
   "outputs": [
    {
     "data": {
      "text/plain": [
       "date                               object\n",
       "max_temperature_f                 float64\n",
       "mean_temperature_f                float64\n",
       "min_temperature_f                 float64\n",
       "max_dew_point_f                   float64\n",
       "mean_dew_point_f                  float64\n",
       "min_dew_point_f                   float64\n",
       "max_humidity                      float64\n",
       "mean_humidity                     float64\n",
       "min_humidity                      float64\n",
       "max_sea_level_pressure_inches     float64\n",
       "mean_sea_level_pressure_inches    float64\n",
       "min_sea_level_pressure_inches     float64\n",
       "max_visibility_miles              float64\n",
       "mean_visibility_miles             float64\n",
       "min_visibility_miles              float64\n",
       "max_wind_Speed_mph                float64\n",
       "mean_wind_speed_mph               float64\n",
       "max_gust_speed_mph                float64\n",
       "precipitation_inches               object\n",
       "cloud_cover                       float64\n",
       "events                             object\n",
       "wind_dir_degrees                  float64\n",
       "zip_code                            int64\n",
       "dtype: object"
      ]
     },
     "execution_count": 62,
     "metadata": {},
     "output_type": "execute_result"
    }
   ],
   "source": [
    "# Display the data types of the dataset\n",
    "df_weather.dtypes"
   ]
  },
  {
   "cell_type": "code",
   "execution_count": 63,
   "id": "f3d8486a-5935-4a94-9755-363a04bbe6cf",
   "metadata": {
    "tags": []
   },
   "outputs": [
    {
     "data": {
      "text/plain": [
       "date                              733\n",
       "max_temperature_f                  55\n",
       "mean_temperature_f                 46\n",
       "min_temperature_f                  45\n",
       "max_dew_point_f                    45\n",
       "mean_dew_point_f                   51\n",
       "min_dew_point_f                    56\n",
       "max_humidity                       60\n",
       "mean_humidity                      72\n",
       "min_humidity                       77\n",
       "max_sea_level_pressure_inches      82\n",
       "mean_sea_level_pressure_inches     80\n",
       "min_sea_level_pressure_inches      89\n",
       "max_visibility_miles               11\n",
       "mean_visibility_miles              17\n",
       "min_visibility_miles               13\n",
       "max_wind_Speed_mph                 49\n",
       "mean_wind_speed_mph                24\n",
       "max_gust_speed_mph                 45\n",
       "precipitation_inches               85\n",
       "cloud_cover                         9\n",
       "events                              5\n",
       "wind_dir_degrees                  330\n",
       "zip_code                            5\n",
       "dtype: int64"
      ]
     },
     "execution_count": 63,
     "metadata": {},
     "output_type": "execute_result"
    }
   ],
   "source": [
    "# Check the number of unique values in each column\n",
    "df_weather.nunique()"
   ]
  },
  {
   "cell_type": "code",
   "execution_count": 64,
   "id": "57f2eb07-e1a1-4def-9edb-cf0337a9fc75",
   "metadata": {
    "tags": []
   },
   "outputs": [
    {
     "data": {
      "text/html": [
       "<div>\n",
       "<style scoped>\n",
       "    .dataframe tbody tr th:only-of-type {\n",
       "        vertical-align: middle;\n",
       "    }\n",
       "\n",
       "    .dataframe tbody tr th {\n",
       "        vertical-align: top;\n",
       "    }\n",
       "\n",
       "    .dataframe thead th {\n",
       "        text-align: right;\n",
       "    }\n",
       "</style>\n",
       "<table border=\"1\" class=\"dataframe\">\n",
       "  <thead>\n",
       "    <tr style=\"text-align: right;\">\n",
       "      <th></th>\n",
       "      <th>max_temperature_f</th>\n",
       "      <th>mean_temperature_f</th>\n",
       "      <th>min_temperature_f</th>\n",
       "      <th>max_dew_point_f</th>\n",
       "      <th>mean_dew_point_f</th>\n",
       "      <th>min_dew_point_f</th>\n",
       "      <th>max_humidity</th>\n",
       "      <th>mean_humidity</th>\n",
       "      <th>min_humidity</th>\n",
       "      <th>max_sea_level_pressure_inches</th>\n",
       "      <th>...</th>\n",
       "      <th>min_sea_level_pressure_inches</th>\n",
       "      <th>max_visibility_miles</th>\n",
       "      <th>mean_visibility_miles</th>\n",
       "      <th>min_visibility_miles</th>\n",
       "      <th>max_wind_Speed_mph</th>\n",
       "      <th>mean_wind_speed_mph</th>\n",
       "      <th>max_gust_speed_mph</th>\n",
       "      <th>cloud_cover</th>\n",
       "      <th>wind_dir_degrees</th>\n",
       "      <th>zip_code</th>\n",
       "    </tr>\n",
       "  </thead>\n",
       "  <tbody>\n",
       "    <tr>\n",
       "      <th>count</th>\n",
       "      <td>3661.000000</td>\n",
       "      <td>3661.000000</td>\n",
       "      <td>3661.000000</td>\n",
       "      <td>3611.000000</td>\n",
       "      <td>3611.000000</td>\n",
       "      <td>3611.000000</td>\n",
       "      <td>3611.000000</td>\n",
       "      <td>3611.000000</td>\n",
       "      <td>3611.000000</td>\n",
       "      <td>3664.000000</td>\n",
       "      <td>...</td>\n",
       "      <td>3664.000000</td>\n",
       "      <td>3652.000000</td>\n",
       "      <td>3652.000000</td>\n",
       "      <td>3652.000000</td>\n",
       "      <td>3664.000000</td>\n",
       "      <td>3664.000000</td>\n",
       "      <td>2766.000000</td>\n",
       "      <td>3664.000000</td>\n",
       "      <td>3664.000000</td>\n",
       "      <td>3665.000000</td>\n",
       "    </tr>\n",
       "    <tr>\n",
       "      <th>mean</th>\n",
       "      <td>70.580989</td>\n",
       "      <td>61.348812</td>\n",
       "      <td>51.947282</td>\n",
       "      <td>53.149820</td>\n",
       "      <td>48.794794</td>\n",
       "      <td>44.306840</td>\n",
       "      <td>85.446968</td>\n",
       "      <td>67.256993</td>\n",
       "      <td>46.458045</td>\n",
       "      <td>30.074997</td>\n",
       "      <td>...</td>\n",
       "      <td>29.965835</td>\n",
       "      <td>10.555312</td>\n",
       "      <td>9.822015</td>\n",
       "      <td>8.229737</td>\n",
       "      <td>16.398472</td>\n",
       "      <td>5.962063</td>\n",
       "      <td>22.299349</td>\n",
       "      <td>2.784389</td>\n",
       "      <td>266.605895</td>\n",
       "      <td>94325.000000</td>\n",
       "    </tr>\n",
       "    <tr>\n",
       "      <th>std</th>\n",
       "      <td>8.385572</td>\n",
       "      <td>7.234397</td>\n",
       "      <td>7.441444</td>\n",
       "      <td>6.885449</td>\n",
       "      <td>7.822281</td>\n",
       "      <td>9.355432</td>\n",
       "      <td>9.226972</td>\n",
       "      <td>10.945591</td>\n",
       "      <td>14.434784</td>\n",
       "      <td>0.134492</td>\n",
       "      <td>...</td>\n",
       "      <td>0.133476</td>\n",
       "      <td>2.193828</td>\n",
       "      <td>1.469894</td>\n",
       "      <td>2.862132</td>\n",
       "      <td>7.787588</td>\n",
       "      <td>3.340603</td>\n",
       "      <td>9.618813</td>\n",
       "      <td>2.276401</td>\n",
       "      <td>102.047645</td>\n",
       "      <td>404.615212</td>\n",
       "    </tr>\n",
       "    <tr>\n",
       "      <th>min</th>\n",
       "      <td>44.000000</td>\n",
       "      <td>38.000000</td>\n",
       "      <td>25.000000</td>\n",
       "      <td>20.000000</td>\n",
       "      <td>13.000000</td>\n",
       "      <td>2.000000</td>\n",
       "      <td>24.000000</td>\n",
       "      <td>24.000000</td>\n",
       "      <td>4.000000</td>\n",
       "      <td>29.500000</td>\n",
       "      <td>...</td>\n",
       "      <td>28.980000</td>\n",
       "      <td>5.000000</td>\n",
       "      <td>4.000000</td>\n",
       "      <td>0.000000</td>\n",
       "      <td>0.000000</td>\n",
       "      <td>0.000000</td>\n",
       "      <td>6.000000</td>\n",
       "      <td>0.000000</td>\n",
       "      <td>0.000000</td>\n",
       "      <td>94041.000000</td>\n",
       "    </tr>\n",
       "    <tr>\n",
       "      <th>25%</th>\n",
       "      <td>64.000000</td>\n",
       "      <td>56.000000</td>\n",
       "      <td>47.000000</td>\n",
       "      <td>49.000000</td>\n",
       "      <td>44.000000</td>\n",
       "      <td>39.000000</td>\n",
       "      <td>82.000000</td>\n",
       "      <td>62.000000</td>\n",
       "      <td>37.000000</td>\n",
       "      <td>29.980000</td>\n",
       "      <td>...</td>\n",
       "      <td>29.880000</td>\n",
       "      <td>10.000000</td>\n",
       "      <td>10.000000</td>\n",
       "      <td>7.000000</td>\n",
       "      <td>13.000000</td>\n",
       "      <td>3.000000</td>\n",
       "      <td>17.000000</td>\n",
       "      <td>1.000000</td>\n",
       "      <td>254.000000</td>\n",
       "      <td>94063.000000</td>\n",
       "    </tr>\n",
       "    <tr>\n",
       "      <th>50%</th>\n",
       "      <td>70.000000</td>\n",
       "      <td>61.000000</td>\n",
       "      <td>53.000000</td>\n",
       "      <td>54.000000</td>\n",
       "      <td>49.000000</td>\n",
       "      <td>46.000000</td>\n",
       "      <td>86.000000</td>\n",
       "      <td>68.000000</td>\n",
       "      <td>48.000000</td>\n",
       "      <td>30.060000</td>\n",
       "      <td>...</td>\n",
       "      <td>29.950000</td>\n",
       "      <td>10.000000</td>\n",
       "      <td>10.000000</td>\n",
       "      <td>10.000000</td>\n",
       "      <td>16.000000</td>\n",
       "      <td>6.000000</td>\n",
       "      <td>22.000000</td>\n",
       "      <td>3.000000</td>\n",
       "      <td>297.000000</td>\n",
       "      <td>94107.000000</td>\n",
       "    </tr>\n",
       "    <tr>\n",
       "      <th>75%</th>\n",
       "      <td>77.000000</td>\n",
       "      <td>67.000000</td>\n",
       "      <td>58.000000</td>\n",
       "      <td>58.000000</td>\n",
       "      <td>55.000000</td>\n",
       "      <td>52.000000</td>\n",
       "      <td>93.000000</td>\n",
       "      <td>74.000000</td>\n",
       "      <td>56.000000</td>\n",
       "      <td>30.170000</td>\n",
       "      <td>...</td>\n",
       "      <td>30.050000</td>\n",
       "      <td>10.000000</td>\n",
       "      <td>10.000000</td>\n",
       "      <td>10.000000</td>\n",
       "      <td>20.000000</td>\n",
       "      <td>8.000000</td>\n",
       "      <td>25.000000</td>\n",
       "      <td>5.000000</td>\n",
       "      <td>330.000000</td>\n",
       "      <td>94301.000000</td>\n",
       "    </tr>\n",
       "    <tr>\n",
       "      <th>max</th>\n",
       "      <td>102.000000</td>\n",
       "      <td>84.000000</td>\n",
       "      <td>75.000000</td>\n",
       "      <td>68.000000</td>\n",
       "      <td>65.000000</td>\n",
       "      <td>63.000000</td>\n",
       "      <td>100.000000</td>\n",
       "      <td>96.000000</td>\n",
       "      <td>93.000000</td>\n",
       "      <td>30.650000</td>\n",
       "      <td>...</td>\n",
       "      <td>30.370000</td>\n",
       "      <td>20.000000</td>\n",
       "      <td>20.000000</td>\n",
       "      <td>20.000000</td>\n",
       "      <td>128.000000</td>\n",
       "      <td>23.000000</td>\n",
       "      <td>114.000000</td>\n",
       "      <td>8.000000</td>\n",
       "      <td>2772.000000</td>\n",
       "      <td>95113.000000</td>\n",
       "    </tr>\n",
       "  </tbody>\n",
       "</table>\n",
       "<p>8 rows × 21 columns</p>\n",
       "</div>"
      ],
      "text/plain": [
       "       max_temperature_f  mean_temperature_f  min_temperature_f   \n",
       "count        3661.000000         3661.000000        3661.000000  \\\n",
       "mean           70.580989           61.348812          51.947282   \n",
       "std             8.385572            7.234397           7.441444   \n",
       "min            44.000000           38.000000          25.000000   \n",
       "25%            64.000000           56.000000          47.000000   \n",
       "50%            70.000000           61.000000          53.000000   \n",
       "75%            77.000000           67.000000          58.000000   \n",
       "max           102.000000           84.000000          75.000000   \n",
       "\n",
       "       max_dew_point_f  mean_dew_point_f  min_dew_point_f  max_humidity   \n",
       "count      3611.000000       3611.000000      3611.000000   3611.000000  \\\n",
       "mean         53.149820         48.794794        44.306840     85.446968   \n",
       "std           6.885449          7.822281         9.355432      9.226972   \n",
       "min          20.000000         13.000000         2.000000     24.000000   \n",
       "25%          49.000000         44.000000        39.000000     82.000000   \n",
       "50%          54.000000         49.000000        46.000000     86.000000   \n",
       "75%          58.000000         55.000000        52.000000     93.000000   \n",
       "max          68.000000         65.000000        63.000000    100.000000   \n",
       "\n",
       "       mean_humidity  min_humidity  max_sea_level_pressure_inches  ...   \n",
       "count    3611.000000   3611.000000                    3664.000000  ...  \\\n",
       "mean       67.256993     46.458045                      30.074997  ...   \n",
       "std        10.945591     14.434784                       0.134492  ...   \n",
       "min        24.000000      4.000000                      29.500000  ...   \n",
       "25%        62.000000     37.000000                      29.980000  ...   \n",
       "50%        68.000000     48.000000                      30.060000  ...   \n",
       "75%        74.000000     56.000000                      30.170000  ...   \n",
       "max        96.000000     93.000000                      30.650000  ...   \n",
       "\n",
       "       min_sea_level_pressure_inches  max_visibility_miles   \n",
       "count                    3664.000000           3652.000000  \\\n",
       "mean                       29.965835             10.555312   \n",
       "std                         0.133476              2.193828   \n",
       "min                        28.980000              5.000000   \n",
       "25%                        29.880000             10.000000   \n",
       "50%                        29.950000             10.000000   \n",
       "75%                        30.050000             10.000000   \n",
       "max                        30.370000             20.000000   \n",
       "\n",
       "       mean_visibility_miles  min_visibility_miles  max_wind_Speed_mph   \n",
       "count            3652.000000           3652.000000         3664.000000  \\\n",
       "mean                9.822015              8.229737           16.398472   \n",
       "std                 1.469894              2.862132            7.787588   \n",
       "min                 4.000000              0.000000            0.000000   \n",
       "25%                10.000000              7.000000           13.000000   \n",
       "50%                10.000000             10.000000           16.000000   \n",
       "75%                10.000000             10.000000           20.000000   \n",
       "max                20.000000             20.000000          128.000000   \n",
       "\n",
       "       mean_wind_speed_mph  max_gust_speed_mph  cloud_cover  wind_dir_degrees   \n",
       "count          3664.000000         2766.000000  3664.000000       3664.000000  \\\n",
       "mean              5.962063           22.299349     2.784389        266.605895   \n",
       "std               3.340603            9.618813     2.276401        102.047645   \n",
       "min               0.000000            6.000000     0.000000          0.000000   \n",
       "25%               3.000000           17.000000     1.000000        254.000000   \n",
       "50%               6.000000           22.000000     3.000000        297.000000   \n",
       "75%               8.000000           25.000000     5.000000        330.000000   \n",
       "max              23.000000          114.000000     8.000000       2772.000000   \n",
       "\n",
       "           zip_code  \n",
       "count   3665.000000  \n",
       "mean   94325.000000  \n",
       "std      404.615212  \n",
       "min    94041.000000  \n",
       "25%    94063.000000  \n",
       "50%    94107.000000  \n",
       "75%    94301.000000  \n",
       "max    95113.000000  \n",
       "\n",
       "[8 rows x 21 columns]"
      ]
     },
     "execution_count": 64,
     "metadata": {},
     "output_type": "execute_result"
    }
   ],
   "source": [
    "# Get a statistical summary of the dataset\n",
    "df_weather.describe()"
   ]
  },
  {
   "cell_type": "code",
   "execution_count": 65,
   "id": "07edd274-24a6-46e3-80bf-bd346ba8d6f0",
   "metadata": {
    "tags": []
   },
   "outputs": [
    {
     "data": {
      "text/plain": [
       "date                                 0\n",
       "max_temperature_f                    4\n",
       "mean_temperature_f                   4\n",
       "min_temperature_f                    4\n",
       "max_dew_point_f                     54\n",
       "mean_dew_point_f                    54\n",
       "min_dew_point_f                     54\n",
       "max_humidity                        54\n",
       "mean_humidity                       54\n",
       "min_humidity                        54\n",
       "max_sea_level_pressure_inches        1\n",
       "mean_sea_level_pressure_inches       1\n",
       "min_sea_level_pressure_inches        1\n",
       "max_visibility_miles                13\n",
       "mean_visibility_miles               13\n",
       "min_visibility_miles                13\n",
       "max_wind_Speed_mph                   1\n",
       "mean_wind_speed_mph                  1\n",
       "max_gust_speed_mph                 899\n",
       "precipitation_inches                 1\n",
       "cloud_cover                          1\n",
       "events                            3143\n",
       "wind_dir_degrees                     1\n",
       "zip_code                             0\n",
       "dtype: int64"
      ]
     },
     "execution_count": 65,
     "metadata": {},
     "output_type": "execute_result"
    }
   ],
   "source": [
    "# Sanity check to make sure we don't have any NAs\n",
    "df_weather.isna().sum()"
   ]
  },
  {
   "cell_type": "code",
   "execution_count": 66,
   "id": "a5f6180c-43f9-4299-a8e5-4d2d4aa75012",
   "metadata": {
    "tags": []
   },
   "outputs": [
    {
     "data": {
      "text/plain": [
       "0"
      ]
     },
     "execution_count": 66,
     "metadata": {},
     "output_type": "execute_result"
    }
   ],
   "source": [
    "# Check for duplicate rows\n",
    "df_weather.duplicated().sum()"
   ]
  },
  {
   "cell_type": "markdown",
   "id": "93dd465d-d886-4b0c-be2f-7e8082706c40",
   "metadata": {},
   "source": [
    "Weather Dataset has a lot of missing data. <br />\n",
    "We will need to convert time column to datetime format. In addition, we will need to convert some categorical variablesto their numerical representations (aka dummy variables) so that we can apply statistical modeling."
   ]
  },
  {
   "cell_type": "markdown",
   "id": "939f7e49-59e1-4565-b2cb-6f9191463520",
   "metadata": {},
   "source": [
    "## Handling Missing Values"
   ]
  },
  {
   "cell_type": "markdown",
   "id": "588198d6-b404-4fbc-9c9f-87c788af012a",
   "metadata": {},
   "source": [
    "Only the weather dataset has missing values, so we will only handle the weather dataset in this step. <br />\n",
    "Additionlly, since there are a lot of columns have missing values, we could first decide what feature that we need for our analysis and modeling and drop the columns that we don't need. and then start working on data cleaning. "
   ]
  },
  {
   "cell_type": "code",
   "execution_count": 67,
   "id": "157137f3-f3cc-4b9a-b84f-7eecdc153425",
   "metadata": {
    "tags": []
   },
   "outputs": [
    {
     "data": {
      "text/plain": [
       "date                               0.000000\n",
       "max_temperature_f                  0.109141\n",
       "mean_temperature_f                 0.109141\n",
       "min_temperature_f                  0.109141\n",
       "max_dew_point_f                    1.473397\n",
       "mean_dew_point_f                   1.473397\n",
       "min_dew_point_f                    1.473397\n",
       "max_humidity                       1.473397\n",
       "mean_humidity                      1.473397\n",
       "min_humidity                       1.473397\n",
       "max_sea_level_pressure_inches      0.027285\n",
       "mean_sea_level_pressure_inches     0.027285\n",
       "min_sea_level_pressure_inches      0.027285\n",
       "max_visibility_miles               0.354707\n",
       "mean_visibility_miles              0.354707\n",
       "min_visibility_miles               0.354707\n",
       "max_wind_Speed_mph                 0.027285\n",
       "mean_wind_speed_mph                0.027285\n",
       "max_gust_speed_mph                24.529332\n",
       "precipitation_inches               0.027285\n",
       "cloud_cover                        0.027285\n",
       "events                            85.757162\n",
       "wind_dir_degrees                   0.027285\n",
       "zip_code                           0.000000\n",
       "dtype: float64"
      ]
     },
     "execution_count": 67,
     "metadata": {},
     "output_type": "execute_result"
    }
   ],
   "source": [
    "# Check the percentage of missing values in each column\n",
    "df_weather.isnull().sum() / len(df_weather) * 100"
   ]
  },
  {
   "cell_type": "code",
   "execution_count": 68,
   "id": "2bd41c08-2261-4bb2-8927-a9d99a496e33",
   "metadata": {
    "tags": []
   },
   "outputs": [],
   "source": [
    "# Create a copy of the original dataframe\n",
    "df_weather_clean = df_weather.copy()\n",
    "\n",
    "# Get the columns with more than 20% missing values\n",
    "cols_to_drop = df_weather_clean.columns[df_weather_clean.isnull().sum() / len(df_weather_clean) * 100 > 20]\n",
    "\n",
    "# Drop the columns with more than 20% missing values\n",
    "df_weather_clean.drop(cols_to_drop, axis=1, inplace=True)"
   ]
  },
  {
   "cell_type": "code",
   "execution_count": 69,
   "id": "838de7d0-6f3b-483c-8e9e-9e6c5760f29f",
   "metadata": {
    "tags": []
   },
   "outputs": [
    {
     "data": {
      "text/plain": [
       "(3665, 22)"
      ]
     },
     "execution_count": 69,
     "metadata": {},
     "output_type": "execute_result"
    }
   ],
   "source": [
    "df_weather_clean.shape"
   ]
  },
  {
   "cell_type": "markdown",
   "id": "a0f832a3-4496-4fd9-9d96-57e830fe7183",
   "metadata": {},
   "source": [
    "**Methodology:**\n",
    "\n",
    "1. Calculate the percentage of missing values in each column - This code begins by computing the percentage of missing values in each column of the original weather dataset (df_weather). It employs the isnull() method to generate a boolean DataFrame in which True denotes missing values. It then totals the number of missing values for each column and divides this by the total number of rows in the DataFrame to determine the percentage of missing values for each column.\n",
    "2. Make a duplicate of the original weather dataset. Next, the code duplicates the original weather dataset (df_weather) and assigns it to a new DataFrame named df_weather_clean. This action guarantees that the original DataFrame remains unaltered, and any adjustments are applied to the new copy.\n",
    "3. Identify columns with over 20% missing values - This code identifies the columns in the df_weather_clean DataFrame that have more than 20% missing values. It utilizes boolean indexing and comparison to filter the column names that meet the condition.\n",
    "4. Drop tcolumns with over 20% missing values - This code removes the identified columns with more than 20% missing values from  df_weather_clean using the drop() method, with the cols_to_drop variable containing the column names to be dropped.\n",
    "5. Look up the df_weather_clean's shape - Following dropping columns with over 20% missing values, the code shows the shape of the cleaned dataset. \n",
    "\n",
    "<br />\n",
    "\n",
    "**Findings:**\n",
    "\n",
    "1. The original weather dataset (df_weather) had 3,665 rows and a total of 24 columns.\n",
    "\n",
    "2. The cleaned dataset (df_weather_clean) has 3,665 rows and 22 columns after data cleaning and dropping the columns with more than 20% missing values."
   ]
  },
  {
   "cell_type": "code",
   "execution_count": 70,
   "id": "2e4c948e-1475-4cfa-8ffb-215ab1be98c2",
   "metadata": {
    "tags": []
   },
   "outputs": [
    {
     "data": {
      "text/plain": [
       "date                              0.000000\n",
       "max_temperature_f                 0.109141\n",
       "mean_temperature_f                0.109141\n",
       "min_temperature_f                 0.109141\n",
       "max_dew_point_f                   1.473397\n",
       "mean_dew_point_f                  1.473397\n",
       "min_dew_point_f                   1.473397\n",
       "max_humidity                      1.473397\n",
       "mean_humidity                     1.473397\n",
       "min_humidity                      1.473397\n",
       "max_sea_level_pressure_inches     0.027285\n",
       "mean_sea_level_pressure_inches    0.027285\n",
       "min_sea_level_pressure_inches     0.027285\n",
       "max_visibility_miles              0.354707\n",
       "mean_visibility_miles             0.354707\n",
       "min_visibility_miles              0.354707\n",
       "max_wind_Speed_mph                0.027285\n",
       "mean_wind_speed_mph               0.027285\n",
       "precipitation_inches              0.027285\n",
       "cloud_cover                       0.027285\n",
       "wind_dir_degrees                  0.027285\n",
       "zip_code                          0.000000\n",
       "dtype: float64"
      ]
     },
     "execution_count": 70,
     "metadata": {},
     "output_type": "execute_result"
    }
   ],
   "source": [
    "# Check the percentage of missing values in each column\n",
    "df_weather_clean.isnull().sum() / len(df_weather_clean) * 100"
   ]
  },
  {
   "cell_type": "markdown",
   "id": "a3bc5f39-d233-41bf-bbc2-b821d2f0aaed",
   "metadata": {},
   "source": [
    "We start investigating the columns with relatively high missing values comparing to the rest of the dataset:\n",
    "\n",
    "1. max_dew_point_f   (~1.47% of the rows are missing)\n",
    "2. mean_dew_point_f  (~1.47% of the rows are missing)\n",
    "3. min_dew_point_f   (~1.47% of the rows are missing)\n",
    "4. max_humidity      (~1.47% of the rows are missing)\n",
    "5. mean_humidity     (~1.47% of the rows are missing)\n",
    "6. min_humidity      (~1.47% of the rows are missing)"
   ]
  },
  {
   "cell_type": "markdown",
   "id": "0551d984-e3d8-4b5c-985e-9983c7a80cc5",
   "metadata": {},
   "source": [
    "**Interpretation of the column:**<br /><br />\n",
    "The columns of max_dew_point_f, mean_dew_point_f, and min_dew_point_f refer to the highest, average, and the lowest dew point of the date. \n",
    "<br />\n",
    "The columns of max_humidity, mean_humidity, and min_humidity refer to the highest, average, and the lowest humidity of the date.\n",
    "\n",
    "**Decision on data handling:** <br /><br />\n",
    "Due to the absence of recorded time in the weather dataset, it is impossible to ascertain the specific time of day when the maximum or minimum dew point and humidity values were recorded. Therefore, these columns are not useful for bike station usage rate analysis. <br />\n",
    "On the other hand, we can use the average dew point and humidity of the date for our analysis.\n",
    "We have decided to keep the columns mean_dew_point_f and mean_humidity and drop the following columns: max_dew_point_f, min_dew_point_f, max_humidity, and min_humidity."
   ]
  },
  {
   "cell_type": "code",
   "execution_count": 71,
   "id": "fd653bc9-fa82-4e94-bbcc-ceb73f4590a6",
   "metadata": {
    "tags": []
   },
   "outputs": [],
   "source": [
    "# drop the columns max_dew_point_f, min_dew_point_f, max_humidity, and min_humidity\n",
    "df_weather_clean.drop(['max_dew_point_f', 'min_dew_point_f', 'max_humidity', 'min_humidity'], axis=1, inplace=True)"
   ]
  },
  {
   "cell_type": "markdown",
   "id": "b8b94668-0e86-4f0c-9e34-db734109d1c6",
   "metadata": {},
   "source": [
    "We apply the same concept and approach to handle the following columns:\n",
    "- Temperature columns (max_temperature_f, mean_temperature_f, and min_temperature_f)\n",
    "- Sea level pressure columns (max_sea_level_pressure_inches, mean_sea_level_pressure_inches, and min_sea_level_pressure_inches)\n",
    "- Visibility columns (max_visibility_miles, mean_visibility_miles, and min_visibility_miles)\n",
    "- Wind speed columns (max_wind_Speed_mph and mean_wind_speed_mph)\n",
    "\n",
    "Columns that need to be dropped are: max_temperature_f, min_temperature_f, max_sea_level_pressure_inches, min_sea_level_pressure_inches, max_visibility_miles, min_visibility_miles, and max_wind_Speed_mph."
   ]
  },
  {
   "cell_type": "code",
   "execution_count": 72,
   "id": "d0443fae-390b-42d3-9e2e-f21c9ff4f034",
   "metadata": {
    "tags": []
   },
   "outputs": [],
   "source": [
    "# drop the columns max_temperature_f and min_temperature_f\n",
    "df_weather_clean.drop(['max_temperature_f', 'min_temperature_f', 'max_sea_level_pressure_inches', \n",
    "                       'min_sea_level_pressure_inches', 'max_visibility_miles', 'min_visibility_miles', 'max_wind_Speed_mph'],\n",
    "                      axis=1, inplace=True)"
   ]
  },
  {
   "cell_type": "code",
   "execution_count": 73,
   "id": "a881836f-afd2-4383-8fa4-0c0a99414635",
   "metadata": {
    "tags": []
   },
   "outputs": [
    {
     "data": {
      "text/plain": [
       "date                              0.000000\n",
       "mean_temperature_f                0.000000\n",
       "mean_dew_point_f                  0.000000\n",
       "mean_humidity                     0.000000\n",
       "mean_sea_level_pressure_inches    0.000000\n",
       "mean_visibility_miles             0.000000\n",
       "mean_wind_speed_mph               0.000000\n",
       "precipitation_inches              0.027285\n",
       "cloud_cover                       0.000000\n",
       "wind_dir_degrees                  0.000000\n",
       "zip_code                          0.000000\n",
       "dtype: float64"
      ]
     },
     "execution_count": 73,
     "metadata": {},
     "output_type": "execute_result"
    }
   ],
   "source": [
    "# Get the columns with less than 20% missing values\n",
    "cols_to_fill = df_weather_clean.columns[df_weather_clean.isnull().sum() / len(df_weather_clean) * 100 < 20]\n",
    "\n",
    "# Fill the missing values with the mean of the respective columns for float columns\n",
    "for col in cols_to_fill:\n",
    "    if df_weather_clean[col].dtype == 'float64':\n",
    "        df_weather_clean[col].fillna(df_weather_clean[col].mean(), inplace=True)\n",
    "\n",
    "# Check the percentage of missing values in each column \n",
    "df_weather_clean.isnull().sum() / len(df_weather_clean) * 100"
   ]
  },
  {
   "cell_type": "markdown",
   "id": "f8d869e8-c581-4b17-ad20-dfc6bbc89378",
   "metadata": {},
   "source": [
    "Let's investigate the precipitation column, which is currently the only column with missing values in the dataset."
   ]
  },
  {
   "cell_type": "code",
   "execution_count": 74,
   "id": "de34a6e9-de1a-4146-8a1d-81d67b54f93b",
   "metadata": {
    "tags": []
   },
   "outputs": [
    {
     "data": {
      "text/plain": [
       "date                               object\n",
       "mean_temperature_f                float64\n",
       "mean_dew_point_f                  float64\n",
       "mean_humidity                     float64\n",
       "mean_sea_level_pressure_inches    float64\n",
       "mean_visibility_miles             float64\n",
       "mean_wind_speed_mph               float64\n",
       "precipitation_inches               object\n",
       "cloud_cover                       float64\n",
       "wind_dir_degrees                  float64\n",
       "zip_code                            int64\n",
       "dtype: object"
      ]
     },
     "execution_count": 74,
     "metadata": {},
     "output_type": "execute_result"
    }
   ],
   "source": [
    "# Display the data types of the dataset\n",
    "df_weather_clean.dtypes"
   ]
  },
  {
   "cell_type": "markdown",
   "id": "85fa7062-9873-4a8e-8be7-6751bdd8a594",
   "metadata": {},
   "source": [
    "We notice that the precipitation column is in object format, and we will have to check the value of it."
   ]
  },
  {
   "cell_type": "code",
   "execution_count": 75,
   "id": "2480d502-a481-45c7-891a-d30c05d1aa5f",
   "metadata": {
    "tags": []
   },
   "outputs": [
    {
     "data": {
      "text/plain": [
       "precipitation_inches\n",
       "0       3231\n",
       "T        143\n",
       "0.01      65\n",
       "0.02      29\n",
       "0.03      13\n",
       "        ... \n",
       "0.74       1\n",
       "1.18       1\n",
       "1.43       1\n",
       "3.12       1\n",
       "0.39       1\n",
       "Name: count, Length: 85, dtype: int64"
      ]
     },
     "execution_count": 75,
     "metadata": {},
     "output_type": "execute_result"
    }
   ],
   "source": [
    "# Check all distinct values in the precipitation_inches column \n",
    "df_weather_clean['precipitation_inches'].value_counts()"
   ]
  },
  {
   "cell_type": "code",
   "execution_count": 76,
   "id": "28a37d99-b703-4928-9efe-59677f0d2917",
   "metadata": {
    "tags": []
   },
   "outputs": [
    {
     "name": "stdout",
     "output_type": "stream",
     "text": [
      "precipitation_inches\n",
      "0       0.881823\n",
      "T       0.039028\n",
      "0.01    0.017740\n",
      "0.02    0.007915\n",
      "0.03    0.003548\n",
      "          ...   \n",
      "0.74    0.000273\n",
      "1.18    0.000273\n",
      "1.43    0.000273\n",
      "3.12    0.000273\n",
      "0.39    0.000273\n",
      "Name: count, Length: 85, dtype: float64\n"
     ]
    }
   ],
   "source": [
    "# Calculate the percentage of distinct values in the precipitation_inches column\n",
    "print(df_weather_clean['precipitation_inches'].value_counts() / df_weather_clean['precipitation_inches'].count())"
   ]
  },
  {
   "cell_type": "code",
   "execution_count": 77,
   "id": "d13df76c-697f-4152-8792-230a94e030bc",
   "metadata": {
    "tags": []
   },
   "outputs": [
    {
     "data": {
      "text/html": [
       "<div>\n",
       "<style scoped>\n",
       "    .dataframe tbody tr th:only-of-type {\n",
       "        vertical-align: middle;\n",
       "    }\n",
       "\n",
       "    .dataframe tbody tr th {\n",
       "        vertical-align: top;\n",
       "    }\n",
       "\n",
       "    .dataframe thead th {\n",
       "        text-align: right;\n",
       "    }\n",
       "</style>\n",
       "<table border=\"1\" class=\"dataframe\">\n",
       "  <thead>\n",
       "    <tr style=\"text-align: right;\">\n",
       "      <th></th>\n",
       "      <th>date</th>\n",
       "      <th>mean_temperature_f</th>\n",
       "      <th>mean_dew_point_f</th>\n",
       "      <th>mean_humidity</th>\n",
       "      <th>mean_sea_level_pressure_inches</th>\n",
       "      <th>mean_visibility_miles</th>\n",
       "      <th>mean_wind_speed_mph</th>\n",
       "      <th>precipitation_inches</th>\n",
       "      <th>cloud_cover</th>\n",
       "      <th>wind_dir_degrees</th>\n",
       "      <th>zip_code</th>\n",
       "    </tr>\n",
       "  </thead>\n",
       "  <tbody>\n",
       "    <tr>\n",
       "      <th>32</th>\n",
       "      <td>9/30/2013</td>\n",
       "      <td>66.0</td>\n",
       "      <td>57.0</td>\n",
       "      <td>69.0</td>\n",
       "      <td>30.03</td>\n",
       "      <td>10.0</td>\n",
       "      <td>10.0</td>\n",
       "      <td>T</td>\n",
       "      <td>4.0</td>\n",
       "      <td>264.0</td>\n",
       "      <td>94107</td>\n",
       "    </tr>\n",
       "    <tr>\n",
       "      <th>59</th>\n",
       "      <td>10/27/2013</td>\n",
       "      <td>55.0</td>\n",
       "      <td>47.0</td>\n",
       "      <td>76.0</td>\n",
       "      <td>29.90</td>\n",
       "      <td>10.0</td>\n",
       "      <td>18.0</td>\n",
       "      <td>T</td>\n",
       "      <td>6.0</td>\n",
       "      <td>267.0</td>\n",
       "      <td>94107</td>\n",
       "    </tr>\n",
       "    <tr>\n",
       "      <th>75</th>\n",
       "      <td>11/12/2013</td>\n",
       "      <td>64.0</td>\n",
       "      <td>50.0</td>\n",
       "      <td>62.0</td>\n",
       "      <td>30.23</td>\n",
       "      <td>10.0</td>\n",
       "      <td>7.0</td>\n",
       "      <td>T</td>\n",
       "      <td>4.0</td>\n",
       "      <td>312.0</td>\n",
       "      <td>94107</td>\n",
       "    </tr>\n",
       "    <tr>\n",
       "      <th>84</th>\n",
       "      <td>11/21/2013</td>\n",
       "      <td>56.0</td>\n",
       "      <td>42.0</td>\n",
       "      <td>64.0</td>\n",
       "      <td>29.94</td>\n",
       "      <td>10.0</td>\n",
       "      <td>11.0</td>\n",
       "      <td>T</td>\n",
       "      <td>5.0</td>\n",
       "      <td>349.0</td>\n",
       "      <td>94107</td>\n",
       "    </tr>\n",
       "    <tr>\n",
       "      <th>95</th>\n",
       "      <td>12/2/2013</td>\n",
       "      <td>54.0</td>\n",
       "      <td>49.0</td>\n",
       "      <td>80.0</td>\n",
       "      <td>30.10</td>\n",
       "      <td>8.0</td>\n",
       "      <td>14.0</td>\n",
       "      <td>T</td>\n",
       "      <td>5.0</td>\n",
       "      <td>277.0</td>\n",
       "      <td>94107</td>\n",
       "    </tr>\n",
       "    <tr>\n",
       "      <th>...</th>\n",
       "      <td>...</td>\n",
       "      <td>...</td>\n",
       "      <td>...</td>\n",
       "      <td>...</td>\n",
       "      <td>...</td>\n",
       "      <td>...</td>\n",
       "      <td>...</td>\n",
       "      <td>...</td>\n",
       "      <td>...</td>\n",
       "      <td>...</td>\n",
       "      <td>...</td>\n",
       "    </tr>\n",
       "    <tr>\n",
       "      <th>3611</th>\n",
       "      <td>7/9/2015</td>\n",
       "      <td>68.0</td>\n",
       "      <td>54.0</td>\n",
       "      <td>66.0</td>\n",
       "      <td>29.87</td>\n",
       "      <td>10.0</td>\n",
       "      <td>8.0</td>\n",
       "      <td>T</td>\n",
       "      <td>7.0</td>\n",
       "      <td>281.0</td>\n",
       "      <td>95113</td>\n",
       "    </tr>\n",
       "    <tr>\n",
       "      <th>3612</th>\n",
       "      <td>7/10/2015</td>\n",
       "      <td>67.0</td>\n",
       "      <td>55.0</td>\n",
       "      <td>68.0</td>\n",
       "      <td>29.92</td>\n",
       "      <td>10.0</td>\n",
       "      <td>7.0</td>\n",
       "      <td>T</td>\n",
       "      <td>6.0</td>\n",
       "      <td>308.0</td>\n",
       "      <td>95113</td>\n",
       "    </tr>\n",
       "    <tr>\n",
       "      <th>3621</th>\n",
       "      <td>7/19/2015</td>\n",
       "      <td>77.0</td>\n",
       "      <td>57.0</td>\n",
       "      <td>56.0</td>\n",
       "      <td>30.03</td>\n",
       "      <td>10.0</td>\n",
       "      <td>6.0</td>\n",
       "      <td>T</td>\n",
       "      <td>5.0</td>\n",
       "      <td>291.0</td>\n",
       "      <td>95113</td>\n",
       "    </tr>\n",
       "    <tr>\n",
       "      <th>3633</th>\n",
       "      <td>7/31/2015</td>\n",
       "      <td>71.0</td>\n",
       "      <td>59.0</td>\n",
       "      <td>69.0</td>\n",
       "      <td>30.00</td>\n",
       "      <td>10.0</td>\n",
       "      <td>7.0</td>\n",
       "      <td>T</td>\n",
       "      <td>4.0</td>\n",
       "      <td>312.0</td>\n",
       "      <td>95113</td>\n",
       "    </tr>\n",
       "    <tr>\n",
       "      <th>3652</th>\n",
       "      <td>8/19/2015</td>\n",
       "      <td>69.0</td>\n",
       "      <td>57.0</td>\n",
       "      <td>67.0</td>\n",
       "      <td>29.92</td>\n",
       "      <td>9.0</td>\n",
       "      <td>7.0</td>\n",
       "      <td>T</td>\n",
       "      <td>4.0</td>\n",
       "      <td>341.0</td>\n",
       "      <td>95113</td>\n",
       "    </tr>\n",
       "  </tbody>\n",
       "</table>\n",
       "<p>143 rows × 11 columns</p>\n",
       "</div>"
      ],
      "text/plain": [
       "            date  mean_temperature_f  mean_dew_point_f  mean_humidity   \n",
       "32     9/30/2013                66.0              57.0           69.0  \\\n",
       "59    10/27/2013                55.0              47.0           76.0   \n",
       "75    11/12/2013                64.0              50.0           62.0   \n",
       "84    11/21/2013                56.0              42.0           64.0   \n",
       "95     12/2/2013                54.0              49.0           80.0   \n",
       "...          ...                 ...               ...            ...   \n",
       "3611    7/9/2015                68.0              54.0           66.0   \n",
       "3612   7/10/2015                67.0              55.0           68.0   \n",
       "3621   7/19/2015                77.0              57.0           56.0   \n",
       "3633   7/31/2015                71.0              59.0           69.0   \n",
       "3652   8/19/2015                69.0              57.0           67.0   \n",
       "\n",
       "      mean_sea_level_pressure_inches  mean_visibility_miles   \n",
       "32                             30.03                   10.0  \\\n",
       "59                             29.90                   10.0   \n",
       "75                             30.23                   10.0   \n",
       "84                             29.94                   10.0   \n",
       "95                             30.10                    8.0   \n",
       "...                              ...                    ...   \n",
       "3611                           29.87                   10.0   \n",
       "3612                           29.92                   10.0   \n",
       "3621                           30.03                   10.0   \n",
       "3633                           30.00                   10.0   \n",
       "3652                           29.92                    9.0   \n",
       "\n",
       "      mean_wind_speed_mph precipitation_inches  cloud_cover  wind_dir_degrees   \n",
       "32                   10.0                    T          4.0             264.0  \\\n",
       "59                   18.0                    T          6.0             267.0   \n",
       "75                    7.0                    T          4.0             312.0   \n",
       "84                   11.0                    T          5.0             349.0   \n",
       "95                   14.0                    T          5.0             277.0   \n",
       "...                   ...                  ...          ...               ...   \n",
       "3611                  8.0                    T          7.0             281.0   \n",
       "3612                  7.0                    T          6.0             308.0   \n",
       "3621                  6.0                    T          5.0             291.0   \n",
       "3633                  7.0                    T          4.0             312.0   \n",
       "3652                  7.0                    T          4.0             341.0   \n",
       "\n",
       "      zip_code  \n",
       "32       94107  \n",
       "59       94107  \n",
       "75       94107  \n",
       "84       94107  \n",
       "95       94107  \n",
       "...        ...  \n",
       "3611     95113  \n",
       "3612     95113  \n",
       "3621     95113  \n",
       "3633     95113  \n",
       "3652     95113  \n",
       "\n",
       "[143 rows x 11 columns]"
      ]
     },
     "execution_count": 77,
     "metadata": {},
     "output_type": "execute_result"
    }
   ],
   "source": [
    "# Filter rows in df_weather_clean where the 'precipitation_inches' column has a value of 'T'.  \n",
    "df_weather_clean.loc[df_weather_clean['precipitation_inches']== \"T\"]"
   ]
  },
  {
   "cell_type": "markdown",
   "id": "fca58c0d-2efb-4316-8d4d-5ce60c6abdf6",
   "metadata": {
    "tags": []
   },
   "source": [
    "**Interpretation of the column:**<br /><br />\n",
    "The columns of precipitation_inches refer to the precipitation of the date. <br />\n",
    "We noticed that there are around 4% of data shows \"T\" in the 'precipitation_inches' column. In weather data, \"T\" typically represents a trace amount of precipitation. This means that there was some precipitation, but it was so small that it is not measurable in inches. It is used to indicate that there was some moisture in the air or a few drops of rain, but not enough to register as a measurable amount.\n",
    "\n",
    "**Decision on data handling:** <br /><br />\n",
    "We will convert this column into a binary one, where 1 represents there are precipitation and 0 represents there are not.\n"
   ]
  },
  {
   "cell_type": "code",
   "execution_count": 78,
   "id": "fd42356b-cd7b-401e-af54-7750d922dfa2",
   "metadata": {
    "tags": []
   },
   "outputs": [],
   "source": [
    "# Convert the 'precipitation_inches' column to a binary indicator\n",
    "df_weather_clean['precipitation_inches'] = np.where(df_weather_clean['precipitation_inches'] == '0', 0, 1)"
   ]
  },
  {
   "cell_type": "code",
   "execution_count": 79,
   "id": "56dd056d-994f-45bb-8793-e50d0dfadb27",
   "metadata": {
    "tags": []
   },
   "outputs": [
    {
     "data": {
      "text/plain": [
       "precipitation_inches\n",
       "0    3231\n",
       "1     434\n",
       "Name: count, dtype: int64"
      ]
     },
     "execution_count": 79,
     "metadata": {},
     "output_type": "execute_result"
    }
   ],
   "source": [
    "# Check all distinct values in the precipitation_inches column \n",
    "df_weather_clean['precipitation_inches'].value_counts()"
   ]
  },
  {
   "cell_type": "code",
   "execution_count": 80,
   "id": "8e04e448-2601-4ea0-9128-de870be53fcc",
   "metadata": {
    "tags": []
   },
   "outputs": [
    {
     "name": "stdout",
     "output_type": "stream",
     "text": [
      "precipitation_inches\n",
      "0    0.881583\n",
      "1    0.118417\n",
      "Name: count, dtype: float64\n"
     ]
    }
   ],
   "source": [
    "# Calculate the percentage of distinct values in the precipitation_inches column\n",
    "print(df_weather_clean['precipitation_inches'].value_counts() / df_weather_clean['precipitation_inches'].count())"
   ]
  },
  {
   "cell_type": "code",
   "execution_count": 81,
   "id": "7ecbe345-5e61-4790-8cf5-d350516a380e",
   "metadata": {
    "tags": []
   },
   "outputs": [
    {
     "data": {
      "text/plain": [
       "date                              0.0\n",
       "mean_temperature_f                0.0\n",
       "mean_dew_point_f                  0.0\n",
       "mean_humidity                     0.0\n",
       "mean_sea_level_pressure_inches    0.0\n",
       "mean_visibility_miles             0.0\n",
       "mean_wind_speed_mph               0.0\n",
       "precipitation_inches              0.0\n",
       "cloud_cover                       0.0\n",
       "wind_dir_degrees                  0.0\n",
       "zip_code                          0.0\n",
       "dtype: float64"
      ]
     },
     "execution_count": 81,
     "metadata": {},
     "output_type": "execute_result"
    }
   ],
   "source": [
    "# Check the percentage of missing values in each column \n",
    "df_weather_clean.isnull().sum() / len(df_weather_clean) * 100"
   ]
  },
  {
   "cell_type": "markdown",
   "id": "bc0a7ced-b4fe-4fd3-923d-0eca1defd75a",
   "metadata": {},
   "source": [
    "All missing values in the dataset have been addressed. The datasets are now cleaned and ready to be merged and for use in EDA."
   ]
  },
  {
   "cell_type": "markdown",
   "id": "f2603831-e361-4fe1-99d1-d2ce7e80a3d5",
   "metadata": {},
   "source": [
    "## Handing Features"
   ]
  },
  {
   "cell_type": "markdown",
   "id": "637f4d6d-b922-41d6-a5a2-9a5c87a87d2f",
   "metadata": {},
   "source": [
    "#### Fearures - Status Dataset"
   ]
  },
  {
   "cell_type": "code",
   "execution_count": 5,
   "id": "4d0ccf09-8dd7-4c65-b6b7-131afd5a76f0",
   "metadata": {
    "tags": []
   },
   "outputs": [],
   "source": [
    "# Convert time column to datetime format\n",
    "df_status['time'] = pd.to_datetime(df_status['time'], format='%Y-%m-%d %H:%M:%S', errors='coerce').fillna(pd.to_datetime(df_status['time'], format='%Y/%m/%d %H:%M:%S', errors='coerce'))"
   ]
  },
  {
   "cell_type": "code",
   "execution_count": 6,
   "id": "33635f0c-0576-41c1-bf50-90ffc31ea95a",
   "metadata": {
    "tags": []
   },
   "outputs": [
    {
     "name": "stdout",
     "output_type": "stream",
     "text": [
      "<class 'pandas.core.frame.DataFrame'>\n",
      "RangeIndex: 71984434 entries, 0 to 71984433\n",
      "Data columns (total 4 columns):\n",
      " #   Column           Dtype         \n",
      "---  ------           -----         \n",
      " 0   station_id       int64         \n",
      " 1   bikes_available  int64         \n",
      " 2   docks_available  int64         \n",
      " 3   time             datetime64[ns]\n",
      "dtypes: datetime64[ns](1), int64(3)\n",
      "memory usage: 2.1 GB\n"
     ]
    }
   ],
   "source": [
    "# Get a overview of dataset variables to confirm time column is in datetime format\n",
    "df_status.info()"
   ]
  },
  {
   "cell_type": "code",
   "execution_count": 7,
   "id": "85fb1132-6f4c-4a79-a093-b473c82673ee",
   "metadata": {
    "tags": []
   },
   "outputs": [
    {
     "data": {
      "image/png": "[encoded data removed]",
      "text/plain": [
       "<Figure size 1000x800 with 1 Axes>"
      ]
     },
     "metadata": {},
     "output_type": "display_data"
    }
   ],
   "source": [
    "# Plot number of bike share records per time in dataset\n",
    "plt.figure(figsize=(10,8))\n",
    "df_status['time'].value_counts().sort_index().plot()\n",
    "plt.show()"
   ]
  },
  {
   "cell_type": "markdown",
   "id": "2c29f803-a8fb-4f05-8a7b-c07b0d909410",
   "metadata": {},
   "source": [
    "We need one year of data. As we can see, not all times are equally represented in the original dataset. Because of this, we will filter the dataset to only include data between 5/1/2014 and 4/30/2015."
   ]
  },
  {
   "cell_type": "code",
   "execution_count": 8,
   "id": "693c6acd-9873-4394-8c26-d02d11d03ba9",
   "metadata": {
    "tags": []
   },
   "outputs": [],
   "source": [
    "# Filter the data to keep only rows between 5/1/2014 and 4/30/2015\n",
    "filtered_df_status = df_status[(df_status['time'] >= '2014-05-01') & (df_status['time'] < '2015-05-01')].copy()"
   ]
  },
  {
   "cell_type": "code",
   "execution_count": 9,
   "id": "3f4d5c16-79bb-4c6d-ada3-7952ca567377",
   "metadata": {
    "tags": []
   },
   "outputs": [],
   "source": [
    "# Drop the index\n",
    "filtered_df_status.reset_index(drop=True, inplace=True)"
   ]
  },
  {
   "cell_type": "code",
   "execution_count": 10,
   "id": "7331854c-af0d-423a-91d2-309f2aa9111f",
   "metadata": {
    "tags": []
   },
   "outputs": [
    {
     "name": "stdout",
     "output_type": "stream",
     "text": [
      "<class 'pandas.core.frame.DataFrame'>\n",
      "RangeIndex: 36673878 entries, 0 to 36673877\n",
      "Data columns (total 4 columns):\n",
      " #   Column           Dtype         \n",
      "---  ------           -----         \n",
      " 0   station_id       int64         \n",
      " 1   bikes_available  int64         \n",
      " 2   docks_available  int64         \n",
      " 3   time             datetime64[ns]\n",
      "dtypes: datetime64[ns](1), int64(3)\n",
      "memory usage: 1.1 GB\n"
     ]
    }
   ],
   "source": [
    "# Get a quick overview of filtered dataset variables\n",
    "filtered_df_status.info()"
   ]
  },
  {
   "cell_type": "code",
   "execution_count": 11,
   "id": "334f659e-dd77-42f0-af92-f3048d58567c",
   "metadata": {
    "tags": []
   },
   "outputs": [
    {
     "data": {
      "text/html": [
       "<div>\n",
       "<style scoped>\n",
       "    .dataframe tbody tr th:only-of-type {\n",
       "        vertical-align: middle;\n",
       "    }\n",
       "\n",
       "    .dataframe tbody tr th {\n",
       "        vertical-align: top;\n",
       "    }\n",
       "\n",
       "    .dataframe thead th {\n",
       "        text-align: right;\n",
       "    }\n",
       "</style>\n",
       "<table border=\"1\" class=\"dataframe\">\n",
       "  <thead>\n",
       "    <tr style=\"text-align: right;\">\n",
       "      <th></th>\n",
       "      <th>station_id</th>\n",
       "      <th>bikes_available</th>\n",
       "      <th>docks_available</th>\n",
       "      <th>time</th>\n",
       "    </tr>\n",
       "  </thead>\n",
       "  <tbody>\n",
       "    <tr>\n",
       "      <th>0</th>\n",
       "      <td>2</td>\n",
       "      <td>12</td>\n",
       "      <td>15</td>\n",
       "      <td>2014-05-01 00:00:04</td>\n",
       "    </tr>\n",
       "    <tr>\n",
       "      <th>1</th>\n",
       "      <td>2</td>\n",
       "      <td>12</td>\n",
       "      <td>15</td>\n",
       "      <td>2014-05-01 00:01:01</td>\n",
       "    </tr>\n",
       "    <tr>\n",
       "      <th>2</th>\n",
       "      <td>2</td>\n",
       "      <td>12</td>\n",
       "      <td>15</td>\n",
       "      <td>2014-05-01 00:02:03</td>\n",
       "    </tr>\n",
       "    <tr>\n",
       "      <th>3</th>\n",
       "      <td>2</td>\n",
       "      <td>12</td>\n",
       "      <td>15</td>\n",
       "      <td>2014-05-01 00:03:03</td>\n",
       "    </tr>\n",
       "    <tr>\n",
       "      <th>4</th>\n",
       "      <td>2</td>\n",
       "      <td>12</td>\n",
       "      <td>15</td>\n",
       "      <td>2014-05-01 00:04:02</td>\n",
       "    </tr>\n",
       "  </tbody>\n",
       "</table>\n",
       "</div>"
      ],
      "text/plain": [
       "   station_id  bikes_available  docks_available                time\n",
       "0           2               12               15 2014-05-01 00:00:04\n",
       "1           2               12               15 2014-05-01 00:01:01\n",
       "2           2               12               15 2014-05-01 00:02:03\n",
       "3           2               12               15 2014-05-01 00:03:03\n",
       "4           2               12               15 2014-05-01 00:04:02"
      ]
     },
     "execution_count": 11,
     "metadata": {},
     "output_type": "execute_result"
    }
   ],
   "source": [
    "# Look at the first 5 rows to confirm the date/time range\n",
    "filtered_df_status.head()"
   ]
  },
  {
   "cell_type": "code",
   "execution_count": 12,
   "id": "cf1044da-8c68-44ed-af81-462ec0f26321",
   "metadata": {
    "tags": []
   },
   "outputs": [
    {
     "data": {
      "text/html": [
       "<div>\n",
       "<style scoped>\n",
       "    .dataframe tbody tr th:only-of-type {\n",
       "        vertical-align: middle;\n",
       "    }\n",
       "\n",
       "    .dataframe tbody tr th {\n",
       "        vertical-align: top;\n",
       "    }\n",
       "\n",
       "    .dataframe thead th {\n",
       "        text-align: right;\n",
       "    }\n",
       "</style>\n",
       "<table border=\"1\" class=\"dataframe\">\n",
       "  <thead>\n",
       "    <tr style=\"text-align: right;\">\n",
       "      <th></th>\n",
       "      <th>station_id</th>\n",
       "      <th>bikes_available</th>\n",
       "      <th>docks_available</th>\n",
       "      <th>time</th>\n",
       "    </tr>\n",
       "  </thead>\n",
       "  <tbody>\n",
       "    <tr>\n",
       "      <th>36673873</th>\n",
       "      <td>84</td>\n",
       "      <td>9</td>\n",
       "      <td>6</td>\n",
       "      <td>2015-04-30 23:55:02</td>\n",
       "    </tr>\n",
       "    <tr>\n",
       "      <th>36673874</th>\n",
       "      <td>84</td>\n",
       "      <td>9</td>\n",
       "      <td>6</td>\n",
       "      <td>2015-04-30 23:56:03</td>\n",
       "    </tr>\n",
       "    <tr>\n",
       "      <th>36673875</th>\n",
       "      <td>84</td>\n",
       "      <td>9</td>\n",
       "      <td>6</td>\n",
       "      <td>2015-04-30 23:57:02</td>\n",
       "    </tr>\n",
       "    <tr>\n",
       "      <th>36673876</th>\n",
       "      <td>84</td>\n",
       "      <td>9</td>\n",
       "      <td>6</td>\n",
       "      <td>2015-04-30 23:58:02</td>\n",
       "    </tr>\n",
       "    <tr>\n",
       "      <th>36673877</th>\n",
       "      <td>84</td>\n",
       "      <td>9</td>\n",
       "      <td>6</td>\n",
       "      <td>2015-04-30 23:59:02</td>\n",
       "    </tr>\n",
       "  </tbody>\n",
       "</table>\n",
       "</div>"
      ],
      "text/plain": [
       "          station_id  bikes_available  docks_available                time\n",
       "36673873          84                9                6 2015-04-30 23:55:02\n",
       "36673874          84                9                6 2015-04-30 23:56:03\n",
       "36673875          84                9                6 2015-04-30 23:57:02\n",
       "36673876          84                9                6 2015-04-30 23:58:02\n",
       "36673877          84                9                6 2015-04-30 23:59:02"
      ]
     },
     "execution_count": 12,
     "metadata": {},
     "output_type": "execute_result"
    }
   ],
   "source": [
    "# Look at the last 5 rows to confirm the date/time range\n",
    "filtered_df_status.tail()"
   ]
  },
  {
   "cell_type": "code",
   "execution_count": 13,
   "id": "4d32b79a-4823-4014-ac10-f6f255c34d64",
   "metadata": {
    "tags": []
   },
   "outputs": [
    {
     "data": {
      "text/plain": [
       "(36673878, 4)"
      ]
     },
     "execution_count": 13,
     "metadata": {},
     "output_type": "execute_result"
    }
   ],
   "source": [
    "# Show the shape of filtered_df_status\n",
    "filtered_df_status.shape"
   ]
  },
  {
   "cell_type": "code",
   "execution_count": 14,
   "id": "8c8b2ab0-55f1-438a-9d34-ce517e2b4e96",
   "metadata": {
    "tags": []
   },
   "outputs": [],
   "source": [
    "# Set time column as the index\n",
    "filtered_df_status.set_index('time', inplace=True)"
   ]
  },
  {
   "cell_type": "code",
   "execution_count": 15,
   "id": "e8e6c736-ee28-4818-bb99-e7af27b47868",
   "metadata": {
    "tags": []
   },
   "outputs": [
    {
     "name": "stderr",
     "output_type": "stream",
     "text": [
      "/var/folders/ct/6pbvl36n32d1x96vhqy1v4c80000gn/T/ipykernel_57913/3100819530.py:2: FutureWarning: 'T' is deprecated and will be removed in a future version, please use 'min' instead.\n",
      "  resampled_df_status = filtered_df_status.groupby('station_id', as_index=False).resample('5T').mean()\n"
     ]
    }
   ],
   "source": [
    "# Resample the filtered_df_status by every 5 minutes and calculate the means\n",
    "resampled_df_status = filtered_df_status.groupby('station_id', as_index=False).resample('5T').mean()"
   ]
  },
  {
   "cell_type": "code",
   "execution_count": 16,
   "id": "70007408-8296-40c9-913f-cceabf032322",
   "metadata": {
    "tags": []
   },
   "outputs": [
    {
     "data": {
      "text/html": [
       "<div>\n",
       "<style scoped>\n",
       "    .dataframe tbody tr th:only-of-type {\n",
       "        vertical-align: middle;\n",
       "    }\n",
       "\n",
       "    .dataframe tbody tr th {\n",
       "        vertical-align: top;\n",
       "    }\n",
       "\n",
       "    .dataframe thead th {\n",
       "        text-align: right;\n",
       "    }\n",
       "</style>\n",
       "<table border=\"1\" class=\"dataframe\">\n",
       "  <thead>\n",
       "    <tr style=\"text-align: right;\">\n",
       "      <th></th>\n",
       "      <th></th>\n",
       "      <th>station_id</th>\n",
       "      <th>bikes_available</th>\n",
       "      <th>docks_available</th>\n",
       "    </tr>\n",
       "    <tr>\n",
       "      <th></th>\n",
       "      <th>time</th>\n",
       "      <th></th>\n",
       "      <th></th>\n",
       "      <th></th>\n",
       "    </tr>\n",
       "  </thead>\n",
       "  <tbody>\n",
       "    <tr>\n",
       "      <th rowspan=\"5\" valign=\"top\">0</th>\n",
       "      <th>2014-05-01 00:00:00</th>\n",
       "      <td>2.0</td>\n",
       "      <td>12.0</td>\n",
       "      <td>15.0</td>\n",
       "    </tr>\n",
       "    <tr>\n",
       "      <th>2014-05-01 00:05:00</th>\n",
       "      <td>2.0</td>\n",
       "      <td>12.0</td>\n",
       "      <td>15.0</td>\n",
       "    </tr>\n",
       "    <tr>\n",
       "      <th>2014-05-01 00:10:00</th>\n",
       "      <td>2.0</td>\n",
       "      <td>12.0</td>\n",
       "      <td>15.0</td>\n",
       "    </tr>\n",
       "    <tr>\n",
       "      <th>2014-05-01 00:15:00</th>\n",
       "      <td>2.0</td>\n",
       "      <td>12.0</td>\n",
       "      <td>15.0</td>\n",
       "    </tr>\n",
       "    <tr>\n",
       "      <th>2014-05-01 00:20:00</th>\n",
       "      <td>2.0</td>\n",
       "      <td>12.0</td>\n",
       "      <td>15.0</td>\n",
       "    </tr>\n",
       "  </tbody>\n",
       "</table>\n",
       "</div>"
      ],
      "text/plain": [
       "                       station_id  bikes_available  docks_available\n",
       "  time                                                             \n",
       "0 2014-05-01 00:00:00         2.0             12.0             15.0\n",
       "  2014-05-01 00:05:00         2.0             12.0             15.0\n",
       "  2014-05-01 00:10:00         2.0             12.0             15.0\n",
       "  2014-05-01 00:15:00         2.0             12.0             15.0\n",
       "  2014-05-01 00:20:00         2.0             12.0             15.0"
      ]
     },
     "execution_count": 16,
     "metadata": {},
     "output_type": "execute_result"
    }
   ],
   "source": [
    "# Look at the first 5 rows\n",
    "resampled_df_status.head()"
   ]
  },
  {
   "cell_type": "code",
   "execution_count": 17,
   "id": "8ff92ce1-6797-4f7f-8e6b-dd4e59c27224",
   "metadata": {
    "tags": []
   },
   "outputs": [],
   "source": [
    "# Drop rows with missing values in 'station_id'\n",
    "resampled_df_status.dropna(subset=['station_id'], inplace=True)"
   ]
  },
  {
   "cell_type": "code",
   "execution_count": 18,
   "id": "92121fc7-822e-4c21-86c5-932dd4416d95",
   "metadata": {
    "tags": []
   },
   "outputs": [],
   "source": [
    "# Reset the index\n",
    "resampled_df_status.reset_index(inplace=True)"
   ]
  },
  {
   "cell_type": "code",
   "execution_count": 19,
   "id": "11fac282-4e2b-4714-aaaa-72e4a291f745",
   "metadata": {
    "tags": []
   },
   "outputs": [
    {
     "data": {
      "text/html": [
       "<div>\n",
       "<style scoped>\n",
       "    .dataframe tbody tr th:only-of-type {\n",
       "        vertical-align: middle;\n",
       "    }\n",
       "\n",
       "    .dataframe tbody tr th {\n",
       "        vertical-align: top;\n",
       "    }\n",
       "\n",
       "    .dataframe thead th {\n",
       "        text-align: right;\n",
       "    }\n",
       "</style>\n",
       "<table border=\"1\" class=\"dataframe\">\n",
       "  <thead>\n",
       "    <tr style=\"text-align: right;\">\n",
       "      <th></th>\n",
       "      <th>level_0</th>\n",
       "      <th>time</th>\n",
       "      <th>station_id</th>\n",
       "      <th>bikes_available</th>\n",
       "      <th>docks_available</th>\n",
       "    </tr>\n",
       "  </thead>\n",
       "  <tbody>\n",
       "    <tr>\n",
       "      <th>0</th>\n",
       "      <td>0</td>\n",
       "      <td>2014-05-01 00:00:00</td>\n",
       "      <td>2.0</td>\n",
       "      <td>12.0</td>\n",
       "      <td>15.0</td>\n",
       "    </tr>\n",
       "    <tr>\n",
       "      <th>1</th>\n",
       "      <td>0</td>\n",
       "      <td>2014-05-01 00:05:00</td>\n",
       "      <td>2.0</td>\n",
       "      <td>12.0</td>\n",
       "      <td>15.0</td>\n",
       "    </tr>\n",
       "    <tr>\n",
       "      <th>2</th>\n",
       "      <td>0</td>\n",
       "      <td>2014-05-01 00:10:00</td>\n",
       "      <td>2.0</td>\n",
       "      <td>12.0</td>\n",
       "      <td>15.0</td>\n",
       "    </tr>\n",
       "    <tr>\n",
       "      <th>3</th>\n",
       "      <td>0</td>\n",
       "      <td>2014-05-01 00:15:00</td>\n",
       "      <td>2.0</td>\n",
       "      <td>12.0</td>\n",
       "      <td>15.0</td>\n",
       "    </tr>\n",
       "    <tr>\n",
       "      <th>4</th>\n",
       "      <td>0</td>\n",
       "      <td>2014-05-01 00:20:00</td>\n",
       "      <td>2.0</td>\n",
       "      <td>12.0</td>\n",
       "      <td>15.0</td>\n",
       "    </tr>\n",
       "  </tbody>\n",
       "</table>\n",
       "</div>"
      ],
      "text/plain": [
       "   level_0                time  station_id  bikes_available  docks_available\n",
       "0        0 2014-05-01 00:00:00         2.0             12.0             15.0\n",
       "1        0 2014-05-01 00:05:00         2.0             12.0             15.0\n",
       "2        0 2014-05-01 00:10:00         2.0             12.0             15.0\n",
       "3        0 2014-05-01 00:15:00         2.0             12.0             15.0\n",
       "4        0 2014-05-01 00:20:00         2.0             12.0             15.0"
      ]
     },
     "execution_count": 19,
     "metadata": {},
     "output_type": "execute_result"
    }
   ],
   "source": [
    "# Look at the first 5 rows\n",
    "resampled_df_status.head()"
   ]
  },
  {
   "cell_type": "code",
   "execution_count": 20,
   "id": "ad729923-e8b9-4fe1-9306-313943cd9008",
   "metadata": {
    "tags": []
   },
   "outputs": [],
   "source": [
    "# Drop the level_0 column\n",
    "resampled_df_status.drop(columns=['level_0'], inplace=True)\n",
    "# Convert station_id back to integer\n",
    "resampled_df_status['station_id'] = resampled_df_status['station_id'].astype(int)\n",
    "# Convert bikes_available to integers and round the numbers\n",
    "resampled_df_status['bikes_available'] = resampled_df_status['bikes_available'].round().astype(int)\n",
    "# Convert docks_available to integers and round the numbers\n",
    "resampled_df_status['docks_available'] = resampled_df_status['docks_available'].round().astype(int)"
   ]
  },
  {
   "cell_type": "code",
   "execution_count": 21,
   "id": "438fcf7d-0187-4bb7-be87-e8d88b14bd0a",
   "metadata": {
    "tags": []
   },
   "outputs": [
    {
     "data": {
      "text/html": [
       "<div>\n",
       "<style scoped>\n",
       "    .dataframe tbody tr th:only-of-type {\n",
       "        vertical-align: middle;\n",
       "    }\n",
       "\n",
       "    .dataframe tbody tr th {\n",
       "        vertical-align: top;\n",
       "    }\n",
       "\n",
       "    .dataframe thead th {\n",
       "        text-align: right;\n",
       "    }\n",
       "</style>\n",
       "<table border=\"1\" class=\"dataframe\">\n",
       "  <thead>\n",
       "    <tr style=\"text-align: right;\">\n",
       "      <th></th>\n",
       "      <th>time</th>\n",
       "      <th>station_id</th>\n",
       "      <th>bikes_available</th>\n",
       "      <th>docks_available</th>\n",
       "    </tr>\n",
       "  </thead>\n",
       "  <tbody>\n",
       "    <tr>\n",
       "      <th>0</th>\n",
       "      <td>2014-05-01 00:00:00</td>\n",
       "      <td>2</td>\n",
       "      <td>12</td>\n",
       "      <td>15</td>\n",
       "    </tr>\n",
       "    <tr>\n",
       "      <th>1</th>\n",
       "      <td>2014-05-01 00:05:00</td>\n",
       "      <td>2</td>\n",
       "      <td>12</td>\n",
       "      <td>15</td>\n",
       "    </tr>\n",
       "    <tr>\n",
       "      <th>2</th>\n",
       "      <td>2014-05-01 00:10:00</td>\n",
       "      <td>2</td>\n",
       "      <td>12</td>\n",
       "      <td>15</td>\n",
       "    </tr>\n",
       "    <tr>\n",
       "      <th>3</th>\n",
       "      <td>2014-05-01 00:15:00</td>\n",
       "      <td>2</td>\n",
       "      <td>12</td>\n",
       "      <td>15</td>\n",
       "    </tr>\n",
       "    <tr>\n",
       "      <th>4</th>\n",
       "      <td>2014-05-01 00:20:00</td>\n",
       "      <td>2</td>\n",
       "      <td>12</td>\n",
       "      <td>15</td>\n",
       "    </tr>\n",
       "  </tbody>\n",
       "</table>\n",
       "</div>"
      ],
      "text/plain": [
       "                 time  station_id  bikes_available  docks_available\n",
       "0 2014-05-01 00:00:00           2               12               15\n",
       "1 2014-05-01 00:05:00           2               12               15\n",
       "2 2014-05-01 00:10:00           2               12               15\n",
       "3 2014-05-01 00:15:00           2               12               15\n",
       "4 2014-05-01 00:20:00           2               12               15"
      ]
     },
     "execution_count": 21,
     "metadata": {},
     "output_type": "execute_result"
    }
   ],
   "source": [
    "# Look at the first 5 rows\n",
    "resampled_df_status.head()"
   ]
  },
  {
   "cell_type": "code",
   "execution_count": 22,
   "id": "8f4f5637-61ed-4948-9d52-2c4377535dee",
   "metadata": {
    "tags": []
   },
   "outputs": [
    {
     "data": {
      "text/plain": [
       "(7337194, 4)"
      ]
     },
     "execution_count": 22,
     "metadata": {},
     "output_type": "execute_result"
    }
   ],
   "source": [
    "# Show the shape of resampled_df_status\n",
    "resampled_df_status.shape"
   ]
  },
  {
   "cell_type": "code",
   "execution_count": 23,
   "id": "47570ffc-66f3-4bf0-a91a-bac25422b86d",
   "metadata": {
    "tags": []
   },
   "outputs": [
    {
     "data": {
      "text/plain": [
       "time               0\n",
       "station_id         0\n",
       "bikes_available    0\n",
       "docks_available    0\n",
       "dtype: int64"
      ]
     },
     "execution_count": 23,
     "metadata": {},
     "output_type": "execute_result"
    }
   ],
   "source": [
    "# Sanity check to make sure we don't have any NAs\n",
    "resampled_df_status.isna().sum()"
   ]
  },
  {
   "cell_type": "code",
   "execution_count": 24,
   "id": "21a9d5b5-dc3d-4eda-a629-0d8c0f7acf72",
   "metadata": {
    "tags": []
   },
   "outputs": [
    {
     "name": "stdout",
     "output_type": "stream",
     "text": [
      "<class 'pandas.core.frame.DataFrame'>\n",
      "RangeIndex: 7337194 entries, 0 to 7337193\n",
      "Data columns (total 4 columns):\n",
      " #   Column           Dtype         \n",
      "---  ------           -----         \n",
      " 0   time             datetime64[ns]\n",
      " 1   station_id       int64         \n",
      " 2   bikes_available  int64         \n",
      " 3   docks_available  int64         \n",
      "dtypes: datetime64[ns](1), int64(3)\n",
      "memory usage: 223.9 MB\n"
     ]
    }
   ],
   "source": [
    "# Get a quick overview of dataset variables\n",
    "resampled_df_status.info()"
   ]
  },
  {
   "cell_type": "markdown",
   "id": "6a18f735-1de9-4457-856b-4ce0a75e1b68",
   "metadata": {},
   "source": [
    "#### Features - Station Dataset"
   ]
  },
  {
   "cell_type": "markdown",
   "id": "5d997e23-82e2-45e2-b20d-fa6944088e3c",
   "metadata": {},
   "source": [
    "After carefulling examining the columns in station dataset, we make the argument that our model can use station ID to represent geographical differences. Therefore, we discard the following columns: \n",
    "- name\n",
    "- lat\n",
    "- long\n",
    "- installation_date"
   ]
  },
  {
   "cell_type": "code",
   "execution_count": 105,
   "id": "49293f91-fb69-4d56-a565-43aa735b91e7",
   "metadata": {
    "tags": []
   },
   "outputs": [],
   "source": [
    "# Drop the name column\n",
    "df_station.drop('name', axis=1, inplace=True)"
   ]
  },
  {
   "cell_type": "code",
   "execution_count": 106,
   "id": "66957b4d-d2e4-4aab-8887-6fd16c20c047",
   "metadata": {
    "tags": []
   },
   "outputs": [],
   "source": [
    "# Drop the lat column\n",
    "df_station.drop('lat', axis=1, inplace=True)"
   ]
  },
  {
   "cell_type": "code",
   "execution_count": 107,
   "id": "83826a7d-04ca-4feb-bb8b-ce7491d67ec0",
   "metadata": {
    "tags": []
   },
   "outputs": [],
   "source": [
    "# Drop the long column\n",
    "df_station.drop('long', axis=1, inplace=True)"
   ]
  },
  {
   "cell_type": "code",
   "execution_count": 108,
   "id": "9ab5a959-120f-4466-8405-71dda2f4c72e",
   "metadata": {
    "tags": []
   },
   "outputs": [],
   "source": [
    "# Drop the installation_date column\n",
    "df_station.drop('installation_date', axis=1, inplace=True)"
   ]
  },
  {
   "cell_type": "code",
   "execution_count": 109,
   "id": "dcfa0ab7-3d91-4c9e-9b35-f842038e629f",
   "metadata": {
    "tags": []
   },
   "outputs": [
    {
     "data": {
      "text/html": [
       "<div>\n",
       "<style scoped>\n",
       "    .dataframe tbody tr th:only-of-type {\n",
       "        vertical-align: middle;\n",
       "    }\n",
       "\n",
       "    .dataframe tbody tr th {\n",
       "        vertical-align: top;\n",
       "    }\n",
       "\n",
       "    .dataframe thead th {\n",
       "        text-align: right;\n",
       "    }\n",
       "</style>\n",
       "<table border=\"1\" class=\"dataframe\">\n",
       "  <thead>\n",
       "    <tr style=\"text-align: right;\">\n",
       "      <th></th>\n",
       "      <th>id</th>\n",
       "      <th>dock_count</th>\n",
       "      <th>city</th>\n",
       "    </tr>\n",
       "  </thead>\n",
       "  <tbody>\n",
       "    <tr>\n",
       "      <th>0</th>\n",
       "      <td>2</td>\n",
       "      <td>27</td>\n",
       "      <td>San Jose</td>\n",
       "    </tr>\n",
       "    <tr>\n",
       "      <th>1</th>\n",
       "      <td>3</td>\n",
       "      <td>15</td>\n",
       "      <td>San Jose</td>\n",
       "    </tr>\n",
       "    <tr>\n",
       "      <th>2</th>\n",
       "      <td>4</td>\n",
       "      <td>11</td>\n",
       "      <td>San Jose</td>\n",
       "    </tr>\n",
       "    <tr>\n",
       "      <th>3</th>\n",
       "      <td>5</td>\n",
       "      <td>19</td>\n",
       "      <td>San Jose</td>\n",
       "    </tr>\n",
       "    <tr>\n",
       "      <th>4</th>\n",
       "      <td>6</td>\n",
       "      <td>15</td>\n",
       "      <td>San Jose</td>\n",
       "    </tr>\n",
       "  </tbody>\n",
       "</table>\n",
       "</div>"
      ],
      "text/plain": [
       "   id  dock_count      city\n",
       "0   2          27  San Jose\n",
       "1   3          15  San Jose\n",
       "2   4          11  San Jose\n",
       "3   5          19  San Jose\n",
       "4   6          15  San Jose"
      ]
     },
     "execution_count": 109,
     "metadata": {},
     "output_type": "execute_result"
    }
   ],
   "source": [
    "# Look at the first 5 rows\n",
    "df_station.head(5)"
   ]
  },
  {
   "cell_type": "code",
   "execution_count": 110,
   "id": "e598d706-6756-44ba-a3b1-a4d9f3809679",
   "metadata": {
    "tags": []
   },
   "outputs": [
    {
     "data": {
      "text/plain": [
       "city\n",
       "San Francisco    35\n",
       "San Jose         16\n",
       "Redwood City      7\n",
       "Mountain View     7\n",
       "Palo Alto         5\n",
       "Name: count, dtype: int64"
      ]
     },
     "execution_count": 110,
     "metadata": {},
     "output_type": "execute_result"
    }
   ],
   "source": [
    "df_station['city'].value_counts()"
   ]
  },
  {
   "cell_type": "markdown",
   "id": "2126a1d8-8e23-41b3-932f-8375f7186129",
   "metadata": {},
   "source": [
    "#### Features - Weather Dataset"
   ]
  },
  {
   "cell_type": "markdown",
   "id": "c60cc817-4235-45a6-87fd-6ec97f7c638f",
   "metadata": {},
   "source": [
    "We need to convert date column to datetime format."
   ]
  },
  {
   "cell_type": "code",
   "execution_count": 111,
   "id": "00f1e81f-cbd9-4b51-ae91-5700460c3051",
   "metadata": {},
   "outputs": [],
   "source": [
    "# Convert date column to datetime format\n",
    "df_weather_clean['date'] = pd.to_datetime(df_weather_clean['date'])"
   ]
  },
  {
   "cell_type": "code",
   "execution_count": 112,
   "id": "3bf07674-f86b-47de-b3a3-e8b84233851f",
   "metadata": {
    "tags": []
   },
   "outputs": [
    {
     "name": "stdout",
     "output_type": "stream",
     "text": [
      "<class 'pandas.core.frame.DataFrame'>\n",
      "RangeIndex: 3665 entries, 0 to 3664\n",
      "Data columns (total 11 columns):\n",
      " #   Column                          Non-Null Count  Dtype         \n",
      "---  ------                          --------------  -----         \n",
      " 0   date                            3665 non-null   datetime64[ns]\n",
      " 1   mean_temperature_f              3665 non-null   float64       \n",
      " 2   mean_dew_point_f                3665 non-null   float64       \n",
      " 3   mean_humidity                   3665 non-null   float64       \n",
      " 4   mean_sea_level_pressure_inches  3665 non-null   float64       \n",
      " 5   mean_visibility_miles           3665 non-null   float64       \n",
      " 6   mean_wind_speed_mph             3665 non-null   float64       \n",
      " 7   precipitation_inches            3665 non-null   int64         \n",
      " 8   cloud_cover                     3665 non-null   float64       \n",
      " 9   wind_dir_degrees                3665 non-null   float64       \n",
      " 10  zip_code                        3665 non-null   int64         \n",
      "dtypes: datetime64[ns](1), float64(8), int64(2)\n",
      "memory usage: 315.1 KB\n"
     ]
    }
   ],
   "source": [
    "df_weather_clean.info()"
   ]
  },
  {
   "cell_type": "markdown",
   "id": "dc014112-d7a4-4461-ad8d-9a98975da8d8",
   "metadata": {},
   "source": [
    "After examining the columns in the weather dataset, we argue that our model will not incorporate differences in wind direction in bike station usage. Thus, we will discard the wind_dir_degrees column."
   ]
  },
  {
   "cell_type": "code",
   "execution_count": 113,
   "id": "bd1678c5-ba89-4de1-b3a2-6123d2c90e08",
   "metadata": {
    "tags": []
   },
   "outputs": [],
   "source": [
    "# Drop the wind_dir_degrees column\n",
    "df_weather_clean.drop('wind_dir_degrees', axis=1, inplace=True)"
   ]
  },
  {
   "cell_type": "markdown",
   "id": "c35be7df-50d3-4972-8769-eeb7c6455b6f",
   "metadata": {},
   "source": [
    "We will create a new column called 'city' in df_weather_clean so that we can look up the weather information for a certain date after merging all three datasets."
   ]
  },
  {
   "cell_type": "code",
   "execution_count": 114,
   "id": "fee3ffe0-1200-47ec-8735-9a900432644b",
   "metadata": {
    "tags": []
   },
   "outputs": [
    {
     "data": {
      "text/plain": [
       "zip_code\n",
       "94107    733\n",
       "94063    733\n",
       "94301    733\n",
       "94041    733\n",
       "95113    733\n",
       "Name: count, dtype: int64"
      ]
     },
     "execution_count": 114,
     "metadata": {},
     "output_type": "execute_result"
    }
   ],
   "source": [
    "df_weather_clean['zip_code'].value_counts()"
   ]
  },
  {
   "cell_type": "code",
   "execution_count": 115,
   "id": "059c91d3-6c78-4a21-958b-ea3e938e196c",
   "metadata": {
    "tags": []
   },
   "outputs": [],
   "source": [
    "# Define the conditions and corresponding values\n",
    "conditions = [\n",
    "    (df_weather_clean['zip_code'] == 94107),\n",
    "    (df_weather_clean['zip_code'] == 94063),\n",
    "    (df_weather_clean['zip_code'] == 94301),\n",
    "    (df_weather_clean['zip_code'] == 94041),\n",
    "    (df_weather_clean['zip_code'] == 95113)\n",
    "]\n",
    "values = ['San Francisco', 'Redwood City', 'Palo Alto', 'Mountain View', 'San Jose']\n",
    "\n",
    "# Create the new 'city' column based on the conditions\n",
    "df_weather_clean['city'] = np.select(conditions, values, default=None)"
   ]
  },
  {
   "cell_type": "code",
   "execution_count": 116,
   "id": "5ccf661b-ebb7-44e8-b346-e59b137b205b",
   "metadata": {
    "tags": []
   },
   "outputs": [
    {
     "data": {
      "text/plain": [
       "zip_code  city         \n",
       "94041     Mountain View    733\n",
       "94063     Redwood City     733\n",
       "94107     San Francisco    733\n",
       "94301     Palo Alto        733\n",
       "95113     San Jose         733\n",
       "Name: count, dtype: int64"
      ]
     },
     "execution_count": 116,
     "metadata": {},
     "output_type": "execute_result"
    }
   ],
   "source": [
    "# Look up the zip code and corresponding city in the dataset\n",
    "df_weather_clean[['zip_code','city']].value_counts()"
   ]
  },
  {
   "cell_type": "code",
   "execution_count": 117,
   "id": "8a2179a6-0932-444e-bed1-40743ca4c553",
   "metadata": {
    "tags": []
   },
   "outputs": [
    {
     "data": {
      "text/html": [
       "<div>\n",
       "<style scoped>\n",
       "    .dataframe tbody tr th:only-of-type {\n",
       "        vertical-align: middle;\n",
       "    }\n",
       "\n",
       "    .dataframe tbody tr th {\n",
       "        vertical-align: top;\n",
       "    }\n",
       "\n",
       "    .dataframe thead th {\n",
       "        text-align: right;\n",
       "    }\n",
       "</style>\n",
       "<table border=\"1\" class=\"dataframe\">\n",
       "  <thead>\n",
       "    <tr style=\"text-align: right;\">\n",
       "      <th></th>\n",
       "      <th>date</th>\n",
       "      <th>mean_temperature_f</th>\n",
       "      <th>mean_dew_point_f</th>\n",
       "      <th>mean_humidity</th>\n",
       "      <th>mean_sea_level_pressure_inches</th>\n",
       "      <th>mean_visibility_miles</th>\n",
       "      <th>mean_wind_speed_mph</th>\n",
       "      <th>precipitation_inches</th>\n",
       "      <th>cloud_cover</th>\n",
       "      <th>zip_code</th>\n",
       "      <th>city</th>\n",
       "    </tr>\n",
       "  </thead>\n",
       "  <tbody>\n",
       "    <tr>\n",
       "      <th>0</th>\n",
       "      <td>2013-08-29</td>\n",
       "      <td>68.0</td>\n",
       "      <td>58.0</td>\n",
       "      <td>75.0</td>\n",
       "      <td>30.02</td>\n",
       "      <td>10.0</td>\n",
       "      <td>11.0</td>\n",
       "      <td>0</td>\n",
       "      <td>4.0</td>\n",
       "      <td>94107</td>\n",
       "      <td>San Francisco</td>\n",
       "    </tr>\n",
       "    <tr>\n",
       "      <th>1</th>\n",
       "      <td>2013-08-30</td>\n",
       "      <td>69.0</td>\n",
       "      <td>58.0</td>\n",
       "      <td>70.0</td>\n",
       "      <td>30.00</td>\n",
       "      <td>10.0</td>\n",
       "      <td>13.0</td>\n",
       "      <td>0</td>\n",
       "      <td>2.0</td>\n",
       "      <td>94107</td>\n",
       "      <td>San Francisco</td>\n",
       "    </tr>\n",
       "    <tr>\n",
       "      <th>2</th>\n",
       "      <td>2013-08-31</td>\n",
       "      <td>64.0</td>\n",
       "      <td>56.0</td>\n",
       "      <td>75.0</td>\n",
       "      <td>29.96</td>\n",
       "      <td>10.0</td>\n",
       "      <td>15.0</td>\n",
       "      <td>0</td>\n",
       "      <td>4.0</td>\n",
       "      <td>94107</td>\n",
       "      <td>San Francisco</td>\n",
       "    </tr>\n",
       "    <tr>\n",
       "      <th>3</th>\n",
       "      <td>2013-09-01</td>\n",
       "      <td>66.0</td>\n",
       "      <td>56.0</td>\n",
       "      <td>68.0</td>\n",
       "      <td>29.93</td>\n",
       "      <td>10.0</td>\n",
       "      <td>13.0</td>\n",
       "      <td>0</td>\n",
       "      <td>4.0</td>\n",
       "      <td>94107</td>\n",
       "      <td>San Francisco</td>\n",
       "    </tr>\n",
       "    <tr>\n",
       "      <th>4</th>\n",
       "      <td>2013-09-02</td>\n",
       "      <td>69.0</td>\n",
       "      <td>60.0</td>\n",
       "      <td>77.0</td>\n",
       "      <td>29.94</td>\n",
       "      <td>10.0</td>\n",
       "      <td>12.0</td>\n",
       "      <td>0</td>\n",
       "      <td>6.0</td>\n",
       "      <td>94107</td>\n",
       "      <td>San Francisco</td>\n",
       "    </tr>\n",
       "  </tbody>\n",
       "</table>\n",
       "</div>"
      ],
      "text/plain": [
       "        date  mean_temperature_f  mean_dew_point_f  mean_humidity   \n",
       "0 2013-08-29                68.0              58.0           75.0  \\\n",
       "1 2013-08-30                69.0              58.0           70.0   \n",
       "2 2013-08-31                64.0              56.0           75.0   \n",
       "3 2013-09-01                66.0              56.0           68.0   \n",
       "4 2013-09-02                69.0              60.0           77.0   \n",
       "\n",
       "   mean_sea_level_pressure_inches  mean_visibility_miles  mean_wind_speed_mph   \n",
       "0                           30.02                   10.0                 11.0  \\\n",
       "1                           30.00                   10.0                 13.0   \n",
       "2                           29.96                   10.0                 15.0   \n",
       "3                           29.93                   10.0                 13.0   \n",
       "4                           29.94                   10.0                 12.0   \n",
       "\n",
       "   precipitation_inches  cloud_cover  zip_code           city  \n",
       "0                     0          4.0     94107  San Francisco  \n",
       "1                     0          2.0     94107  San Francisco  \n",
       "2                     0          4.0     94107  San Francisco  \n",
       "3                     0          4.0     94107  San Francisco  \n",
       "4                     0          6.0     94107  San Francisco  "
      ]
     },
     "execution_count": 117,
     "metadata": {},
     "output_type": "execute_result"
    }
   ],
   "source": [
    "# Look at the first 5 rows\n",
    "df_weather_clean.head()"
   ]
  },
  {
   "cell_type": "markdown",
   "id": "962af073-f2bc-419c-9dc6-677e37680bab",
   "metadata": {},
   "source": [
    "## Merging Datasets"
   ]
  },
  {
   "cell_type": "markdown",
   "id": "b8918d09-5b9b-4bae-a7cf-e85b258deb99",
   "metadata": {},
   "source": [
    "Let's merge these three datasets. First, we will start by merging the status dataset and the station dataset using the station ID."
   ]
  },
  {
   "cell_type": "code",
   "execution_count": 118,
   "id": "804e31a7-00a0-41c6-a736-e63e9e904da5",
   "metadata": {
    "tags": []
   },
   "outputs": [],
   "source": [
    "# Merge the two dataset on the common column 'station_id' and 'id'\n",
    "merged_df = pd.merge(resampled_df_status, df_station, left_on='station_id', right_on='id', how='inner')"
   ]
  },
  {
   "cell_type": "code",
   "execution_count": 119,
   "id": "dc8f467f-d8c8-4739-8826-416eab957313",
   "metadata": {
    "tags": []
   },
   "outputs": [],
   "source": [
    "# Drop the redundant 'id' column\n",
    "merged_df = merged_df.drop(columns=['id'])"
   ]
  },
  {
   "cell_type": "code",
   "execution_count": 120,
   "id": "40662935-91ee-4a39-88a7-5336548117d6",
   "metadata": {
    "tags": []
   },
   "outputs": [
    {
     "data": {
      "text/html": [
       "<div>\n",
       "<style scoped>\n",
       "    .dataframe tbody tr th:only-of-type {\n",
       "        vertical-align: middle;\n",
       "    }\n",
       "\n",
       "    .dataframe tbody tr th {\n",
       "        vertical-align: top;\n",
       "    }\n",
       "\n",
       "    .dataframe thead th {\n",
       "        text-align: right;\n",
       "    }\n",
       "</style>\n",
       "<table border=\"1\" class=\"dataframe\">\n",
       "  <thead>\n",
       "    <tr style=\"text-align: right;\">\n",
       "      <th></th>\n",
       "      <th>time</th>\n",
       "      <th>station_id</th>\n",
       "      <th>bikes_available</th>\n",
       "      <th>docks_available</th>\n",
       "      <th>dock_count</th>\n",
       "      <th>city</th>\n",
       "    </tr>\n",
       "  </thead>\n",
       "  <tbody>\n",
       "    <tr>\n",
       "      <th>0</th>\n",
       "      <td>2014-05-01 00:00:00</td>\n",
       "      <td>2</td>\n",
       "      <td>12</td>\n",
       "      <td>15</td>\n",
       "      <td>27</td>\n",
       "      <td>San Jose</td>\n",
       "    </tr>\n",
       "    <tr>\n",
       "      <th>1</th>\n",
       "      <td>2014-05-01 00:05:00</td>\n",
       "      <td>2</td>\n",
       "      <td>12</td>\n",
       "      <td>15</td>\n",
       "      <td>27</td>\n",
       "      <td>San Jose</td>\n",
       "    </tr>\n",
       "    <tr>\n",
       "      <th>2</th>\n",
       "      <td>2014-05-01 00:10:00</td>\n",
       "      <td>2</td>\n",
       "      <td>12</td>\n",
       "      <td>15</td>\n",
       "      <td>27</td>\n",
       "      <td>San Jose</td>\n",
       "    </tr>\n",
       "    <tr>\n",
       "      <th>3</th>\n",
       "      <td>2014-05-01 00:15:00</td>\n",
       "      <td>2</td>\n",
       "      <td>12</td>\n",
       "      <td>15</td>\n",
       "      <td>27</td>\n",
       "      <td>San Jose</td>\n",
       "    </tr>\n",
       "    <tr>\n",
       "      <th>4</th>\n",
       "      <td>2014-05-01 00:20:00</td>\n",
       "      <td>2</td>\n",
       "      <td>12</td>\n",
       "      <td>15</td>\n",
       "      <td>27</td>\n",
       "      <td>San Jose</td>\n",
       "    </tr>\n",
       "  </tbody>\n",
       "</table>\n",
       "</div>"
      ],
      "text/plain": [
       "                 time  station_id  bikes_available  docks_available   \n",
       "0 2014-05-01 00:00:00           2               12               15  \\\n",
       "1 2014-05-01 00:05:00           2               12               15   \n",
       "2 2014-05-01 00:10:00           2               12               15   \n",
       "3 2014-05-01 00:15:00           2               12               15   \n",
       "4 2014-05-01 00:20:00           2               12               15   \n",
       "\n",
       "   dock_count      city  \n",
       "0          27  San Jose  \n",
       "1          27  San Jose  \n",
       "2          27  San Jose  \n",
       "3          27  San Jose  \n",
       "4          27  San Jose  "
      ]
     },
     "execution_count": 120,
     "metadata": {},
     "output_type": "execute_result"
    }
   ],
   "source": [
    "# Look at the first 5 rows of the merged dataset\n",
    "merged_df.head()"
   ]
  },
  {
   "cell_type": "markdown",
   "id": "75393c5a-231a-4561-afcf-6bf089d707bd",
   "metadata": {},
   "source": [
    "Next, we merge the weather dataset with the merged dataset using the date/time and city. <br />\n",
    "As we can see that merge_df has only one columne 'time' for date and time. We will need to separate it and create 'date' and 'time' columns from column 'time' so that we can merge it with weather dataset and keep the time information. "
   ]
  },
  {
   "cell_type": "code",
   "execution_count": 121,
   "id": "ec6b9637-6ca8-4a22-a5e0-1a76df14c717",
   "metadata": {
    "tags": []
   },
   "outputs": [],
   "source": [
    "# Create a copy of the original dataframe\n",
    "merged_df_datetime = merged_df.copy()\n",
    "\n",
    "# Create 'date' and 'time' columns in merged_df\n",
    "merged_df_datetime['date'] = merged_df['time'].dt.date\n",
    "\n",
    "# Convert 'date' column to datetime format\n",
    "merged_df_datetime['date'] = pd.to_datetime(merged_df_datetime['date'])"
   ]
  },
  {
   "cell_type": "code",
   "execution_count": 122,
   "id": "7d8e0720-8d72-442f-b797-af5e33a22320",
   "metadata": {
    "tags": []
   },
   "outputs": [
    {
     "data": {
      "text/html": [
       "<div>\n",
       "<style scoped>\n",
       "    .dataframe tbody tr th:only-of-type {\n",
       "        vertical-align: middle;\n",
       "    }\n",
       "\n",
       "    .dataframe tbody tr th {\n",
       "        vertical-align: top;\n",
       "    }\n",
       "\n",
       "    .dataframe thead th {\n",
       "        text-align: right;\n",
       "    }\n",
       "</style>\n",
       "<table border=\"1\" class=\"dataframe\">\n",
       "  <thead>\n",
       "    <tr style=\"text-align: right;\">\n",
       "      <th></th>\n",
       "      <th>time</th>\n",
       "      <th>station_id</th>\n",
       "      <th>bikes_available</th>\n",
       "      <th>docks_available</th>\n",
       "      <th>dock_count</th>\n",
       "      <th>city</th>\n",
       "      <th>date</th>\n",
       "    </tr>\n",
       "  </thead>\n",
       "  <tbody>\n",
       "    <tr>\n",
       "      <th>0</th>\n",
       "      <td>2014-05-01 00:00:00</td>\n",
       "      <td>2</td>\n",
       "      <td>12</td>\n",
       "      <td>15</td>\n",
       "      <td>27</td>\n",
       "      <td>San Jose</td>\n",
       "      <td>2014-05-01</td>\n",
       "    </tr>\n",
       "    <tr>\n",
       "      <th>1</th>\n",
       "      <td>2014-05-01 00:05:00</td>\n",
       "      <td>2</td>\n",
       "      <td>12</td>\n",
       "      <td>15</td>\n",
       "      <td>27</td>\n",
       "      <td>San Jose</td>\n",
       "      <td>2014-05-01</td>\n",
       "    </tr>\n",
       "    <tr>\n",
       "      <th>2</th>\n",
       "      <td>2014-05-01 00:10:00</td>\n",
       "      <td>2</td>\n",
       "      <td>12</td>\n",
       "      <td>15</td>\n",
       "      <td>27</td>\n",
       "      <td>San Jose</td>\n",
       "      <td>2014-05-01</td>\n",
       "    </tr>\n",
       "    <tr>\n",
       "      <th>3</th>\n",
       "      <td>2014-05-01 00:15:00</td>\n",
       "      <td>2</td>\n",
       "      <td>12</td>\n",
       "      <td>15</td>\n",
       "      <td>27</td>\n",
       "      <td>San Jose</td>\n",
       "      <td>2014-05-01</td>\n",
       "    </tr>\n",
       "    <tr>\n",
       "      <th>4</th>\n",
       "      <td>2014-05-01 00:20:00</td>\n",
       "      <td>2</td>\n",
       "      <td>12</td>\n",
       "      <td>15</td>\n",
       "      <td>27</td>\n",
       "      <td>San Jose</td>\n",
       "      <td>2014-05-01</td>\n",
       "    </tr>\n",
       "  </tbody>\n",
       "</table>\n",
       "</div>"
      ],
      "text/plain": [
       "                 time  station_id  bikes_available  docks_available   \n",
       "0 2014-05-01 00:00:00           2               12               15  \\\n",
       "1 2014-05-01 00:05:00           2               12               15   \n",
       "2 2014-05-01 00:10:00           2               12               15   \n",
       "3 2014-05-01 00:15:00           2               12               15   \n",
       "4 2014-05-01 00:20:00           2               12               15   \n",
       "\n",
       "   dock_count      city       date  \n",
       "0          27  San Jose 2014-05-01  \n",
       "1          27  San Jose 2014-05-01  \n",
       "2          27  San Jose 2014-05-01  \n",
       "3          27  San Jose 2014-05-01  \n",
       "4          27  San Jose 2014-05-01  "
      ]
     },
     "execution_count": 122,
     "metadata": {},
     "output_type": "execute_result"
    }
   ],
   "source": [
    "# Look at the first 5 rows of the merged dataset\n",
    "merged_df_datetime.head()"
   ]
  },
  {
   "cell_type": "code",
   "execution_count": 123,
   "id": "2c71aafe-990a-4117-9fb9-9ca2febae7d4",
   "metadata": {
    "tags": []
   },
   "outputs": [
    {
     "data": {
      "text/html": [
       "<div>\n",
       "<style scoped>\n",
       "    .dataframe tbody tr th:only-of-type {\n",
       "        vertical-align: middle;\n",
       "    }\n",
       "\n",
       "    .dataframe tbody tr th {\n",
       "        vertical-align: top;\n",
       "    }\n",
       "\n",
       "    .dataframe thead th {\n",
       "        text-align: right;\n",
       "    }\n",
       "</style>\n",
       "<table border=\"1\" class=\"dataframe\">\n",
       "  <thead>\n",
       "    <tr style=\"text-align: right;\">\n",
       "      <th></th>\n",
       "      <th>time</th>\n",
       "      <th>station_id</th>\n",
       "      <th>bikes_available</th>\n",
       "      <th>docks_available</th>\n",
       "      <th>dock_count</th>\n",
       "      <th>city</th>\n",
       "      <th>date</th>\n",
       "      <th>mean_temperature_f</th>\n",
       "      <th>mean_dew_point_f</th>\n",
       "      <th>mean_humidity</th>\n",
       "      <th>mean_sea_level_pressure_inches</th>\n",
       "      <th>mean_visibility_miles</th>\n",
       "      <th>mean_wind_speed_mph</th>\n",
       "      <th>precipitation_inches</th>\n",
       "      <th>cloud_cover</th>\n",
       "      <th>zip_code</th>\n",
       "    </tr>\n",
       "  </thead>\n",
       "  <tbody>\n",
       "    <tr>\n",
       "      <th>0</th>\n",
       "      <td>2014-05-01 00:00:00</td>\n",
       "      <td>2</td>\n",
       "      <td>12</td>\n",
       "      <td>15</td>\n",
       "      <td>27</td>\n",
       "      <td>San Jose</td>\n",
       "      <td>2014-05-01</td>\n",
       "      <td>75.0</td>\n",
       "      <td>45.0</td>\n",
       "      <td>41.0</td>\n",
       "      <td>30.06</td>\n",
       "      <td>10.0</td>\n",
       "      <td>6.0</td>\n",
       "      <td>0</td>\n",
       "      <td>3.0</td>\n",
       "      <td>95113</td>\n",
       "    </tr>\n",
       "    <tr>\n",
       "      <th>1</th>\n",
       "      <td>2014-05-01 00:05:00</td>\n",
       "      <td>2</td>\n",
       "      <td>12</td>\n",
       "      <td>15</td>\n",
       "      <td>27</td>\n",
       "      <td>San Jose</td>\n",
       "      <td>2014-05-01</td>\n",
       "      <td>75.0</td>\n",
       "      <td>45.0</td>\n",
       "      <td>41.0</td>\n",
       "      <td>30.06</td>\n",
       "      <td>10.0</td>\n",
       "      <td>6.0</td>\n",
       "      <td>0</td>\n",
       "      <td>3.0</td>\n",
       "      <td>95113</td>\n",
       "    </tr>\n",
       "    <tr>\n",
       "      <th>2</th>\n",
       "      <td>2014-05-01 00:10:00</td>\n",
       "      <td>2</td>\n",
       "      <td>12</td>\n",
       "      <td>15</td>\n",
       "      <td>27</td>\n",
       "      <td>San Jose</td>\n",
       "      <td>2014-05-01</td>\n",
       "      <td>75.0</td>\n",
       "      <td>45.0</td>\n",
       "      <td>41.0</td>\n",
       "      <td>30.06</td>\n",
       "      <td>10.0</td>\n",
       "      <td>6.0</td>\n",
       "      <td>0</td>\n",
       "      <td>3.0</td>\n",
       "      <td>95113</td>\n",
       "    </tr>\n",
       "    <tr>\n",
       "      <th>3</th>\n",
       "      <td>2014-05-01 00:15:00</td>\n",
       "      <td>2</td>\n",
       "      <td>12</td>\n",
       "      <td>15</td>\n",
       "      <td>27</td>\n",
       "      <td>San Jose</td>\n",
       "      <td>2014-05-01</td>\n",
       "      <td>75.0</td>\n",
       "      <td>45.0</td>\n",
       "      <td>41.0</td>\n",
       "      <td>30.06</td>\n",
       "      <td>10.0</td>\n",
       "      <td>6.0</td>\n",
       "      <td>0</td>\n",
       "      <td>3.0</td>\n",
       "      <td>95113</td>\n",
       "    </tr>\n",
       "    <tr>\n",
       "      <th>4</th>\n",
       "      <td>2014-05-01 00:20:00</td>\n",
       "      <td>2</td>\n",
       "      <td>12</td>\n",
       "      <td>15</td>\n",
       "      <td>27</td>\n",
       "      <td>San Jose</td>\n",
       "      <td>2014-05-01</td>\n",
       "      <td>75.0</td>\n",
       "      <td>45.0</td>\n",
       "      <td>41.0</td>\n",
       "      <td>30.06</td>\n",
       "      <td>10.0</td>\n",
       "      <td>6.0</td>\n",
       "      <td>0</td>\n",
       "      <td>3.0</td>\n",
       "      <td>95113</td>\n",
       "    </tr>\n",
       "  </tbody>\n",
       "</table>\n",
       "</div>"
      ],
      "text/plain": [
       "                 time  station_id  bikes_available  docks_available   \n",
       "0 2014-05-01 00:00:00           2               12               15  \\\n",
       "1 2014-05-01 00:05:00           2               12               15   \n",
       "2 2014-05-01 00:10:00           2               12               15   \n",
       "3 2014-05-01 00:15:00           2               12               15   \n",
       "4 2014-05-01 00:20:00           2               12               15   \n",
       "\n",
       "   dock_count      city       date  mean_temperature_f  mean_dew_point_f   \n",
       "0          27  San Jose 2014-05-01                75.0              45.0  \\\n",
       "1          27  San Jose 2014-05-01                75.0              45.0   \n",
       "2          27  San Jose 2014-05-01                75.0              45.0   \n",
       "3          27  San Jose 2014-05-01                75.0              45.0   \n",
       "4          27  San Jose 2014-05-01                75.0              45.0   \n",
       "\n",
       "   mean_humidity  mean_sea_level_pressure_inches  mean_visibility_miles   \n",
       "0           41.0                           30.06                   10.0  \\\n",
       "1           41.0                           30.06                   10.0   \n",
       "2           41.0                           30.06                   10.0   \n",
       "3           41.0                           30.06                   10.0   \n",
       "4           41.0                           30.06                   10.0   \n",
       "\n",
       "   mean_wind_speed_mph  precipitation_inches  cloud_cover  zip_code  \n",
       "0                  6.0                     0          3.0     95113  \n",
       "1                  6.0                     0          3.0     95113  \n",
       "2                  6.0                     0          3.0     95113  \n",
       "3                  6.0                     0          3.0     95113  \n",
       "4                  6.0                     0          3.0     95113  "
      ]
     },
     "execution_count": 123,
     "metadata": {},
     "output_type": "execute_result"
    }
   ],
   "source": [
    "# Merge the two datasets on the common columns: 'date' and 'city'\n",
    "final_df = pd.merge(merged_df_datetime, df_weather_clean, on=['date', 'city'], how='inner')\n",
    "\n",
    "# Display the merged dataset\n",
    "final_df.head()"
   ]
  },
  {
   "cell_type": "code",
   "execution_count": 124,
   "id": "59c1625f-612a-4af0-b717-74d95969a60c",
   "metadata": {
    "tags": []
   },
   "outputs": [
    {
     "data": {
      "text/plain": [
       "(7337194, 16)"
      ]
     },
     "execution_count": 124,
     "metadata": {},
     "output_type": "execute_result"
    }
   ],
   "source": [
    "# Show the shape of the dataframe\n",
    "final_df.shape"
   ]
  },
  {
   "cell_type": "code",
   "execution_count": 125,
   "id": "c93ef572-bf67-47eb-923d-466c48bbc32b",
   "metadata": {
    "tags": []
   },
   "outputs": [
    {
     "name": "stdout",
     "output_type": "stream",
     "text": [
      "<class 'pandas.core.frame.DataFrame'>\n",
      "RangeIndex: 7337194 entries, 0 to 7337193\n",
      "Data columns (total 16 columns):\n",
      " #   Column                          Dtype         \n",
      "---  ------                          -----         \n",
      " 0   time                            datetime64[ns]\n",
      " 1   station_id                      int64         \n",
      " 2   bikes_available                 int64         \n",
      " 3   docks_available                 int64         \n",
      " 4   dock_count                      int64         \n",
      " 5   city                            object        \n",
      " 6   date                            datetime64[ns]\n",
      " 7   mean_temperature_f              float64       \n",
      " 8   mean_dew_point_f                float64       \n",
      " 9   mean_humidity                   float64       \n",
      " 10  mean_sea_level_pressure_inches  float64       \n",
      " 11  mean_visibility_miles           float64       \n",
      " 12  mean_wind_speed_mph             float64       \n",
      " 13  precipitation_inches            int64         \n",
      " 14  cloud_cover                     float64       \n",
      " 15  zip_code                        int64         \n",
      "dtypes: datetime64[ns](2), float64(7), int64(6), object(1)\n",
      "memory usage: 895.7+ MB\n"
     ]
    }
   ],
   "source": [
    "# Get a overview of merged dataset variables\n",
    "final_df.info()"
   ]
  },
  {
   "cell_type": "markdown",
   "id": "a4ba8331-9f7c-4abc-9ec2-43593b75cf8c",
   "metadata": {},
   "source": [
    "We can now drop the 'city' column, which has a datatype of object, and just use the zip code to represent each city."
   ]
  },
  {
   "cell_type": "code",
   "execution_count": 126,
   "id": "32254257-dd57-4947-afea-b6d8da6de872",
   "metadata": {
    "tags": []
   },
   "outputs": [],
   "source": [
    "# Drop the city column \n",
    "final_df.drop('city', axis=1, inplace=True)"
   ]
  },
  {
   "cell_type": "code",
   "execution_count": 127,
   "id": "3e9d19bc-5bd5-49d8-8a45-33c63b329224",
   "metadata": {
    "tags": []
   },
   "outputs": [
    {
     "data": {
      "text/plain": [
       "(7337194, 15)"
      ]
     },
     "execution_count": 127,
     "metadata": {},
     "output_type": "execute_result"
    }
   ],
   "source": [
    "# Show the shape of the dataframe\n",
    "final_df.shape"
   ]
  },
  {
   "cell_type": "code",
   "execution_count": 128,
   "id": "5ec51f43-6d2d-4a03-9bc1-fb72f340de55",
   "metadata": {
    "tags": []
   },
   "outputs": [
    {
     "name": "stdout",
     "output_type": "stream",
     "text": [
      "<class 'pandas.core.frame.DataFrame'>\n",
      "RangeIndex: 7337194 entries, 0 to 7337193\n",
      "Data columns (total 15 columns):\n",
      " #   Column                          Dtype         \n",
      "---  ------                          -----         \n",
      " 0   time                            datetime64[ns]\n",
      " 1   station_id                      int64         \n",
      " 2   bikes_available                 int64         \n",
      " 3   docks_available                 int64         \n",
      " 4   dock_count                      int64         \n",
      " 5   date                            datetime64[ns]\n",
      " 6   mean_temperature_f              float64       \n",
      " 7   mean_dew_point_f                float64       \n",
      " 8   mean_humidity                   float64       \n",
      " 9   mean_sea_level_pressure_inches  float64       \n",
      " 10  mean_visibility_miles           float64       \n",
      " 11  mean_wind_speed_mph             float64       \n",
      " 12  precipitation_inches            int64         \n",
      " 13  cloud_cover                     float64       \n",
      " 14  zip_code                        int64         \n",
      "dtypes: datetime64[ns](2), float64(7), int64(6)\n",
      "memory usage: 839.7 MB\n"
     ]
    }
   ],
   "source": [
    "# Get a overview of merged dataset variables\n",
    "final_df.info()"
   ]
  },
  {
   "cell_type": "markdown",
   "id": "1cf58450-5c3e-4422-8031-ae3701e05404",
   "metadata": {},
   "source": [
    "After merging all three datasets, there are 7337194 rows and 15 features left in the final dataset. <br />\n",
    "Let's save this cleaned and merged dataset for later use."
   ]
  },
  {
   "cell_type": "code",
   "execution_count": 129,
   "id": "507b350b-d6a9-4489-9d34-c796ba43df97",
   "metadata": {
    "tags": []
   },
   "outputs": [],
   "source": [
    "# Save the cleaned and merged data to a parquet file\n",
    "final_df.to_parquet('data/BikeData_after_DataCleaning.parquet')"
   ]
  }
 ],
 "metadata": {
  "kernelspec": {
   "display_name": "Python 3 (ipykernel)",
   "language": "python",
   "name": "python3"
  },
  "language_info": {
   "codemirror_mode": {
    "name": "ipython",
    "version": 3
   },
   "file_extension": ".py",
   "mimetype": "text/x-python",
   "name": "python",
   "nbconvert_exporter": "python",
   "pygments_lexer": "ipython3",
   "version": "3.11.5"
  },
  "toc-autonumbering": false
 },
 "nbformat": 4,
 "nbformat_minor": 5
}
